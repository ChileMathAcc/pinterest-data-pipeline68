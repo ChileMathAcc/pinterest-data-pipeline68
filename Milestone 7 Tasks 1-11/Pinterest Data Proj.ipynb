{
 "cells": [
  {
   "cell_type": "code",
   "execution_count": 0,
   "metadata": {
    "application/vnd.databricks.v1+cell": {
     "cellMetadata": {
      "byteLimit": 2048000,
      "rowLimit": 10000
     },
     "inputWidgets": {},
     "nuid": "b306af3e-4a9e-4637-b389-604c4f99e25c",
     "showTitle": false,
     "tableResultSettingsMap": {},
     "title": ""
    }
   },
   "outputs": [],
   "source": [
    "# imports functions like median, max, etc\n",
    "from pyspark.sql.functions import *\n",
    "import urllib"
   ]
  },
  {
   "cell_type": "code",
   "execution_count": 0,
   "metadata": {
    "application/vnd.databricks.v1+cell": {
     "cellMetadata": {
      "byteLimit": 2048000,
      "rowLimit": 10000
     },
     "inputWidgets": {},
     "nuid": "2bba1900-5dd2-4199-8e32-ce22a029dffb",
     "showTitle": false,
     "tableResultSettingsMap": {},
     "title": ""
    }
   },
   "outputs": [],
   "source": [
    "# File path to table with S3 bucket credentails\n",
    "s3_creds_path = \"dbfs:/user/hive/warehouse/authentication_credentials\"\n",
    "\n",
    "# Creates dataframe from the above table\n",
    "creds_df = spark.read.format(\"delta\").load(s3_creds_path)\n",
    "\n",
    "# Stores the values from the table above\n",
    "ACCESS_KEY = creds_df.select(\"ACCESS key ID\").collect()[0][\"ACCESS key ID\"]\n",
    "SECRET_KEY = creds_df.select(\"Secret access key\").collect()[0][\"Secret access key\"]\n",
    "\n",
    "ENCODED_SECRET_KEY = urllib.parse.quote(string = SECRET_KEY, safe = \"\")"
   ]
  },
  {
   "cell_type": "code",
   "execution_count": 0,
   "metadata": {
    "application/vnd.databricks.v1+cell": {
     "cellMetadata": {
      "byteLimit": 2048000,
      "rowLimit": 10000
     },
     "inputWidgets": {},
     "nuid": "d226b750-138f-4236-bcd0-2373fe7f085a",
     "showTitle": false,
     "tableResultSettingsMap": {},
     "title": ""
    }
   },
   "outputs": [
    {
     "output_type": "execute_result",
     "data": {
      "text/plain": [
       "True"
      ]
     },
     "execution_count": 228,
     "metadata": {},
     "output_type": "execute_result"
    }
   ],
   "source": [
    "# Name of S3 bucket\n",
    "AWS_S3_BUCKET = \"user-0affe94cc7d3-bucket\"\n",
    "\n",
    "# Name of the mount from databricks to S3\n",
    "MOUNT_NAME = \"/mnt/pinterest_s3_mount\"\n",
    "\n",
    "SOURCE_URL = \"s3n://{0}:{1}@{2}\".format(ACCESS_KEY, ENCODED_SECRET_KEY, AWS_S3_BUCKET)\n",
    "\n",
    "# This does the mounting\n",
    "dbutils.fs.mount(SOURCE_URL, MOUNT_NAME)"
   ]
  },
  {
   "cell_type": "code",
   "execution_count": 0,
   "metadata": {
    "application/vnd.databricks.v1+cell": {
     "cellMetadata": {
      "byteLimit": 2048000,
      "implicitDf": true,
      "rowLimit": 10000
     },
     "inputWidgets": {},
     "nuid": "95085864-0e07-43de-a3c4-ca1d43a3e500",
     "showTitle": false,
     "tableResultSettingsMap": {},
     "title": ""
    }
   },
   "outputs": [
    {
     "output_type": "display_data",
     "data": {
      "text/html": [
       "<style scoped>\n",
       "  .table-result-container {\n",
       "    max-height: 300px;\n",
       "    overflow: auto;\n",
       "  }\n",
       "  table, th, td {\n",
       "    border: 1px solid black;\n",
       "    border-collapse: collapse;\n",
       "  }\n",
       "  th, td {\n",
       "    padding: 5px;\n",
       "  }\n",
       "  th {\n",
       "    text-align: left;\n",
       "  }\n",
       "</style><div class='table-result-container'><table class='table-result'><thead style='background-color: white'><tr><th>key</th><th>value</th></tr></thead><tbody><tr><td>spark.databricks.delta.formatCheck.enabled</td><td>false</td></tr></tbody></table></div>"
      ]
     },
     "metadata": {
      "application/vnd.databricks.v1+output": {
       "addedWidgets": {},
       "aggData": [],
       "aggError": "",
       "aggOverflow": false,
       "aggSchema": [],
       "aggSeriesLimitReached": false,
       "aggType": "",
       "arguments": {},
       "columnCustomDisplayInfos": {},
       "data": [
        [
         "spark.databricks.delta.formatCheck.enabled",
         "false"
        ]
       ],
       "datasetInfos": [],
       "dbfsResultPath": null,
       "isJsonSchema": true,
       "metadata": {
        "dataframeName": "_sqldf",
        "executionCount": 229
       },
       "overflow": false,
       "plotOptions": {
        "customPlotOptions": {},
        "displayType": "table",
        "pivotAggregation": null,
        "pivotColumns": null,
        "xColumns": null,
        "yColumns": null
       },
       "removedWidgets": [],
       "schema": [
        {
         "metadata": "{}",
         "name": "key",
         "type": "\"string\""
        },
        {
         "metadata": "{}",
         "name": "value",
         "type": "\"string\""
        }
       ],
       "type": "table"
      }
     },
     "output_type": "display_data"
    }
   ],
   "source": [
    "%sql\n",
    "SET spark.databricks.delta.formatCheck.enabled = false"
   ]
  },
  {
   "cell_type": "code",
   "execution_count": 0,
   "metadata": {
    "application/vnd.databricks.v1+cell": {
     "cellMetadata": {
      "byteLimit": 2048000,
      "rowLimit": 10000
     },
     "inputWidgets": {},
     "nuid": "e338e985-d7ec-4fe3-bfa6-d2215d9e6b37",
     "showTitle": false,
     "tableResultSettingsMap": {},
     "title": ""
    }
   },
   "outputs": [],
   "source": [
    "# Specifies the type and location of the files in the S3 bucket\n",
    "file_type = \"json\"\n",
    "pin_file_loc = \"s3://user-0affe94cc7d3-bucket/topics/0affe94cc7d3.pin/partition=0/*.json\"\n",
    "geo_file_loc = \"s3://user-0affe94cc7d3-bucket/topics/0affe94cc7d3.geo/partition=0/*.json\"\n",
    "user_file_loc = \"s3://user-0affe94cc7d3-bucket/topics/0affe94cc7d3.user/partition=0/*.json\"\n",
    "\n",
    "infer_schema = \"true\"\n",
    "\n",
    "# Creates dataframes for each of the topic folders\n",
    "# .distinct because data generation was random sampling creating lots of duplicates\n",
    "df_pin = spark.read.format(file_type)\\\n",
    "  .option(\"inferSchema\", infer_schema)\\\n",
    "  .load(pin_file_loc).distinct()\n",
    "\n",
    "df_geo = spark.read.format(file_type)\\\n",
    "  .option(\"inferSchema\", infer_schema)\\\n",
    "  .load(geo_file_loc).distinct()\n",
    "\n",
    "df_user = spark.read.format(file_type)\\\n",
    "  .option(\"inferSchema\", infer_schema)\\\n",
    "  .load(user_file_loc).distinct()"
   ]
  },
  {
   "cell_type": "code",
   "execution_count": 0,
   "metadata": {
    "application/vnd.databricks.v1+cell": {
     "cellMetadata": {
      "byteLimit": 2048000,
      "rowLimit": 10000
     },
     "inputWidgets": {},
     "nuid": "55952c11-0274-4c83-85fe-48dc73e06a50",
     "showTitle": false,
     "tableResultSettingsMap": {},
     "title": ""
    }
   },
   "outputs": [],
   "source": [
    "# List of the common no relevant data strings in the pin dataframe\n",
    "value_to_replace = [\"No description available Story format\",\n",
    "                    \"User Info Error\", \"Image scr error.\",\n",
    "                    \"User Info Error\", \"N,o, ,T,a,g,s, ,A,v,a,i,l,a,b,l,e\",\n",
    "                    \"No Title Data Available\"]\n",
    "\n",
    "# The columns where the above strings appear\n",
    "replace_in_column = [\"description\", \"follower_count\",\n",
    "                     \"image_src\", \"poster_name\",\n",
    "                     \"tag_list\", \"title\"]\n",
    "\n",
    "# Replaces the no relevant data strings with the None type\n",
    "df_pin = df_pin.replace(value_to_replace, None, subset = replace_in_column)"
   ]
  },
  {
   "cell_type": "code",
   "execution_count": 0,
   "metadata": {
    "application/vnd.databricks.v1+cell": {
     "cellMetadata": {
      "byteLimit": 2048000,
      "rowLimit": 10000
     },
     "inputWidgets": {},
     "nuid": "5e6357c8-5f72-464e-9a39-52d08e7012cd",
     "showTitle": false,
     "tableResultSettingsMap": {},
     "title": ""
    }
   },
   "outputs": [],
   "source": [
    "# Searches for (k, M) and replaces with (000, 000000) in the follower_count column\n",
    "df_pin = df_pin.withColumn(\"follower_count\",\n",
    "                           regexp_replace(\"follower_count\", \"M\", \"000000\"))\n",
    "df_pin = df_pin.withColumn(\"follower_count\",\n",
    "                           regexp_replace(\"follower_count\", \"k\", \"000\"))\n",
    "\n",
    "# Removes the string \"Local save in \" from the save_location column\n",
    "df_pin = df_pin.withColumn(\"save_location\",\n",
    "                           regexp_replace(\"save_location\", \"Local save in \", \"\"))"
   ]
  },
  {
   "cell_type": "code",
   "execution_count": 0,
   "metadata": {
    "application/vnd.databricks.v1+cell": {
     "cellMetadata": {
      "byteLimit": 2048000,
      "rowLimit": 10000
     },
     "inputWidgets": {},
     "nuid": "64834eb5-0b98-4e15-9f34-32fd5a35522d",
     "showTitle": false,
     "tableResultSettingsMap": {},
     "title": ""
    }
   },
   "outputs": [],
   "source": [
    "# Changes the data types of three columns \n",
    "df_pin = df_pin.withColumn(\"follower_count\", col(\"follower_count\").cast(\"int\"))\\\n",
    "  .withColumn(\"index\", col(\"index\").cast(\"int\"))\\\n",
    "  .withColumn(\"downloaded\", col(\"downloaded\").cast(\"int\"))"
   ]
  },
  {
   "cell_type": "code",
   "execution_count": 0,
   "metadata": {
    "application/vnd.databricks.v1+cell": {
     "cellMetadata": {
      "byteLimit": 2048000,
      "rowLimit": 10000
     },
     "inputWidgets": {},
     "nuid": "273ae9db-073d-42f7-86a2-4168defeffbc",
     "showTitle": false,
     "tableResultSettingsMap": {},
     "title": ""
    }
   },
   "outputs": [],
   "source": [
    "# Renames the \"index\" column to \"ind\"\n",
    "df_pin = df_pin.withColumnRenamed(\"index\", \"ind\")"
   ]
  },
  {
   "cell_type": "code",
   "execution_count": 0,
   "metadata": {
    "application/vnd.databricks.v1+cell": {
     "cellMetadata": {
      "byteLimit": 2048000,
      "rowLimit": 10000
     },
     "inputWidgets": {},
     "nuid": "b0dd7b03-36bb-4f16-a3ba-c88909dad8a8",
     "showTitle": false,
     "tableResultSettingsMap": {},
     "title": ""
    }
   },
   "outputs": [],
   "source": [
    "# Reorders the columns of the pin dataframe\n",
    "df_pin = df_pin.select(df_pin.ind, df_pin.unique_id,\n",
    "                       df_pin.title, df_pin.description,\n",
    "                       df_pin.follower_count, df_pin.poster_name,\n",
    "                       df_pin.tag_list, df_pin.is_image_or_video,\n",
    "                       df_pin.image_src, df_pin.save_location, df_pin.category)"
   ]
  },
  {
   "cell_type": "code",
   "execution_count": 0,
   "metadata": {
    "application/vnd.databricks.v1+cell": {
     "cellMetadata": {
      "byteLimit": 2048000,
      "rowLimit": 10000
     },
     "inputWidgets": {},
     "nuid": "f002fbe3-13cf-4d54-83ca-7860d042c2e8",
     "showTitle": false,
     "tableResultSettingsMap": {},
     "title": ""
    }
   },
   "outputs": [],
   "source": [
    "# Combines the latitube and longitude columns into column of arrays\n",
    "df_geo = df_geo.withColumn(\"coordinates\", array(\"latitude\", \"longitude\"))\n",
    "\n",
    "# Removes the now redundant latitude and longitude columns\n",
    "df_geo = df_geo.drop(\"latitude\", \"longitude\")"
   ]
  },
  {
   "cell_type": "code",
   "execution_count": 0,
   "metadata": {
    "application/vnd.databricks.v1+cell": {
     "cellMetadata": {
      "byteLimit": 2048000,
      "rowLimit": 10000
     },
     "inputWidgets": {},
     "nuid": "5ee59a46-a4a9-406a-868c-c5b4e157cf4c",
     "showTitle": false,
     "tableResultSettingsMap": {},
     "title": ""
    }
   },
   "outputs": [],
   "source": [
    "# Changes the data type of the timestamp column from str to timestamp\n",
    "df_geo = df_geo.withColumn(\"timestamp\", to_timestamp(\"timestamp\"))"
   ]
  },
  {
   "cell_type": "code",
   "execution_count": 0,
   "metadata": {
    "application/vnd.databricks.v1+cell": {
     "cellMetadata": {
      "byteLimit": 2048000,
      "rowLimit": 10000
     },
     "inputWidgets": {},
     "nuid": "2850bda4-243e-4a98-a8c8-36601dac1b04",
     "showTitle": false,
     "tableResultSettingsMap": {},
     "title": ""
    }
   },
   "outputs": [],
   "source": [
    "# Reorders the columns of the geo dataframe\n",
    "df_geo = df_geo.select(df_geo.ind, df_geo.country,\n",
    "                       df_geo.coordinates, df_geo.timestamp)"
   ]
  },
  {
   "cell_type": "code",
   "execution_count": 0,
   "metadata": {
    "application/vnd.databricks.v1+cell": {
     "cellMetadata": {
      "byteLimit": 2048000,
      "rowLimit": 10000
     },
     "inputWidgets": {},
     "nuid": "7559132e-9886-490c-be97-ce725ea2f1ea",
     "showTitle": false,
     "tableResultSettingsMap": {},
     "title": ""
    }
   },
   "outputs": [],
   "source": [
    "# Combines the first_name and last_name columns into a single column\n",
    "df_user = df_user.withColumn(\"user_name\", concat(\"first_name\", lit(\" \"), \"last_name\"))\n",
    "\n",
    "# Removes the first_name and last_name columns\n",
    "df_user = df_user.drop(\"first_name\", \"last_name\")"
   ]
  },
  {
   "cell_type": "code",
   "execution_count": 0,
   "metadata": {
    "application/vnd.databricks.v1+cell": {
     "cellMetadata": {
      "byteLimit": 2048000,
      "rowLimit": 10000
     },
     "inputWidgets": {},
     "nuid": "6f778430-08ff-4c31-a00b-69bfef32c188",
     "showTitle": false,
     "tableResultSettingsMap": {},
     "title": ""
    }
   },
   "outputs": [],
   "source": [
    "# Changes the data type of the date_joined column from str to timestamp\n",
    "df_user = df_user.withColumn(\"date_joined\", to_timestamp(\"date_joined\"))"
   ]
  },
  {
   "cell_type": "code",
   "execution_count": 0,
   "metadata": {
    "application/vnd.databricks.v1+cell": {
     "cellMetadata": {
      "byteLimit": 2048000,
      "rowLimit": 10000
     },
     "inputWidgets": {},
     "nuid": "02852f1d-8577-4ba9-b05a-04f6ff08fb05",
     "showTitle": false,
     "tableResultSettingsMap": {},
     "title": ""
    }
   },
   "outputs": [],
   "source": [
    "# Reorders the columns of the user dataframe\n",
    "df_user = df_user.select(df_user.ind, df_user.user_name,\n",
    "                         df_user.age, df_user.date_joined)"
   ]
  },
  {
   "cell_type": "code",
   "execution_count": 0,
   "metadata": {
    "application/vnd.databricks.v1+cell": {
     "cellMetadata": {
      "byteLimit": 2048000,
      "rowLimit": 10000
     },
     "inputWidgets": {},
     "nuid": "354c37b0-2cea-4595-a2c1-88b6d4259821",
     "showTitle": false,
     "tableResultSettingsMap": {},
     "title": ""
    }
   },
   "outputs": [
    {
     "output_type": "display_data",
     "data": {
      "text/html": [
       "<style scoped>\n",
       "  .table-result-container {\n",
       "    max-height: 300px;\n",
       "    overflow: auto;\n",
       "  }\n",
       "  table, th, td {\n",
       "    border: 1px solid black;\n",
       "    border-collapse: collapse;\n",
       "  }\n",
       "  th, td {\n",
       "    padding: 5px;\n",
       "  }\n",
       "  th {\n",
       "    text-align: left;\n",
       "  }\n",
       "</style><div class='table-result-container'><table class='table-result'><thead style='background-color: white'><tr><th>country</th><th>most_popular_category</th><th>total_number_of_categories</th></tr></thead><tbody><tr><td>Afghanistan</td><td>education</td><td>14</td></tr><tr><td>Albania</td><td>art</td><td>12</td></tr><tr><td>Algeria</td><td>quotes</td><td>14</td></tr><tr><td>American Samoa</td><td>tattoos</td><td>13</td></tr><tr><td>Andorra</td><td>tattoos</td><td>10</td></tr><tr><td>Angola</td><td>diy-and-crafts</td><td>3</td></tr><tr><td>Anguilla</td><td>diy-and-crafts</td><td>4</td></tr><tr><td>Antarctica (the territory South of 60 deg S)</td><td>tattoos</td><td>5</td></tr><tr><td>Antigua and Barbuda</td><td>art</td><td>8</td></tr><tr><td>Argentina</td><td>tattoos</td><td>9</td></tr><tr><td>Armenia</td><td>diy-and-crafts</td><td>10</td></tr><tr><td>Aruba</td><td>mens-fashion</td><td>17</td></tr><tr><td>Australia</td><td>mens-fashion</td><td>5</td></tr><tr><td>Austria</td><td>travel</td><td>7</td></tr><tr><td>Azerbaijan</td><td>finance</td><td>2</td></tr><tr><td>Bahamas</td><td>travel</td><td>4</td></tr><tr><td>Bahrain</td><td>finance</td><td>1</td></tr><tr><td>Bangladesh</td><td>christmas</td><td>8</td></tr><tr><td>Barbados</td><td>education</td><td>4</td></tr><tr><td>Belarus</td><td>vehicles</td><td>1</td></tr><tr><td>Belgium</td><td>travel</td><td>1</td></tr><tr><td>Belize</td><td>mens-fashion</td><td>2</td></tr><tr><td>Benin</td><td>tattoos</td><td>3</td></tr><tr><td>Bermuda</td><td>christmas</td><td>4</td></tr><tr><td>Bhutan</td><td>event-planning</td><td>2</td></tr><tr><td>Bolivia</td><td>beauty</td><td>2</td></tr><tr><td>Bosnia and Herzegovina</td><td>christmas</td><td>1</td></tr><tr><td>Botswana</td><td>tattoos</td><td>2</td></tr><tr><td>Bouvet Island (Bouvetoya)</td><td>tattoos</td><td>4</td></tr><tr><td>Brazil</td><td>christmas</td><td>2</td></tr><tr><td>British Virgin Islands</td><td>christmas</td><td>5</td></tr><tr><td>Bulgaria</td><td>christmas</td><td>3</td></tr><tr><td>Burkina Faso</td><td>vehicles</td><td>2</td></tr><tr><td>Burundi</td><td>mens-fashion</td><td>1</td></tr><tr><td>Cambodia</td><td>diy-and-crafts</td><td>1</td></tr><tr><td>Cameroon</td><td>art</td><td>2</td></tr><tr><td>Canada</td><td>christmas</td><td>3</td></tr><tr><td>Cape Verde</td><td>beauty</td><td>3</td></tr><tr><td>Cayman Islands</td><td>travel</td><td>1</td></tr><tr><td>Central African Republic</td><td>christmas</td><td>2</td></tr><tr><td>Chile</td><td>travel</td><td>2</td></tr><tr><td>Christmas Island</td><td>christmas</td><td>3</td></tr><tr><td>Cocos (Keeling) Islands</td><td>travel</td><td>2</td></tr><tr><td>Colombia</td><td>finance</td><td>2</td></tr><tr><td>Comoros</td><td>quotes</td><td>2</td></tr><tr><td>Congo</td><td>art</td><td>3</td></tr><tr><td>Cote d'Ivoire</td><td>finance</td><td>3</td></tr><tr><td>Croatia</td><td>finance</td><td>2</td></tr><tr><td>Cuba</td><td>mens-fashion</td><td>2</td></tr><tr><td>Cyprus</td><td>home-decor</td><td>1</td></tr><tr><td>Czech Republic</td><td>travel</td><td>2</td></tr><tr><td>Denmark</td><td>beauty</td><td>1</td></tr><tr><td>Djibouti</td><td>diy-and-crafts</td><td>1</td></tr><tr><td>Dominica</td><td>event-planning</td><td>2</td></tr><tr><td>Dominican Republic</td><td>home-decor</td><td>3</td></tr><tr><td>Ecuador</td><td>mens-fashion</td><td>4</td></tr><tr><td>Egypt</td><td>travel</td><td>4</td></tr><tr><td>El Salvador</td><td>quotes</td><td>2</td></tr><tr><td>Equatorial Guinea</td><td>travel</td><td>1</td></tr><tr><td>Estonia</td><td>christmas</td><td>1</td></tr><tr><td>Ethiopia</td><td>tattoos</td><td>1</td></tr><tr><td>Faroe Islands</td><td>tattoos</td><td>2</td></tr><tr><td>Fiji</td><td>education</td><td>1</td></tr><tr><td>Finland</td><td>finance</td><td>3</td></tr><tr><td>France</td><td>beauty</td><td>1</td></tr><tr><td>French Guiana</td><td>art</td><td>3</td></tr><tr><td>French Polynesia</td><td>quotes</td><td>1</td></tr><tr><td>French Southern Territories</td><td>home-decor</td><td>1</td></tr><tr><td>Gabon</td><td>home-decor</td><td>1</td></tr><tr><td>Georgia</td><td>education</td><td>2</td></tr><tr><td>Germany</td><td>finance</td><td>2</td></tr><tr><td>Ghana</td><td>art</td><td>2</td></tr><tr><td>Gibraltar</td><td>art</td><td>2</td></tr><tr><td>Greece</td><td>finance</td><td>1</td></tr><tr><td>Grenada</td><td>finance</td><td>2</td></tr><tr><td>Guadeloupe</td><td>home-decor</td><td>1</td></tr><tr><td>Guam</td><td>travel</td><td>1</td></tr><tr><td>Guatemala</td><td>finance</td><td>3</td></tr><tr><td>Guinea</td><td>christmas</td><td>1</td></tr><tr><td>Guinea-Bissau</td><td>tattoos</td><td>2</td></tr><tr><td>Holy See (Vatican City State)</td><td>mens-fashion</td><td>1</td></tr><tr><td>Hungary</td><td>event-planning</td><td>1</td></tr><tr><td>India</td><td>travel</td><td>2</td></tr><tr><td>Indonesia</td><td>finance</td><td>1</td></tr><tr><td>Ireland</td><td>home-decor</td><td>1</td></tr><tr><td>Isle of Man</td><td>art</td><td>4</td></tr><tr><td>Israel</td><td>quotes</td><td>1</td></tr><tr><td>Jamaica</td><td>finance</td><td>2</td></tr><tr><td>Japan</td><td>art</td><td>1</td></tr><tr><td>Kenya</td><td>diy-and-crafts</td><td>1</td></tr><tr><td>Korea</td><td>beauty</td><td>1</td></tr><tr><td>Kuwait</td><td>quotes</td><td>2</td></tr><tr><td>Latvia</td><td>mens-fashion</td><td>2</td></tr><tr><td>Lesotho</td><td>tattoos</td><td>2</td></tr><tr><td>Libyan Arab Jamahiriya</td><td>christmas</td><td>2</td></tr><tr><td>Lithuania</td><td>education</td><td>1</td></tr><tr><td>Luxembourg</td><td>education</td><td>1</td></tr><tr><td>Macao</td><td>mens-fashion</td><td>1</td></tr><tr><td>Macedonia</td><td>tattoos</td><td>1</td></tr><tr><td>Madagascar</td><td>event-planning</td><td>1</td></tr><tr><td>Malawi</td><td>travel</td><td>1</td></tr><tr><td>Maldives</td><td>finance</td><td>3</td></tr><tr><td>Mali</td><td>christmas</td><td>1</td></tr><tr><td>Malta</td><td>art</td><td>1</td></tr><tr><td>Marshall Islands</td><td>home-decor</td><td>1</td></tr><tr><td>Martinique</td><td>quotes</td><td>1</td></tr><tr><td>Mauritania</td><td>education</td><td>1</td></tr><tr><td>Moldova</td><td>beauty</td><td>2</td></tr><tr><td>Monaco</td><td>art</td><td>1</td></tr><tr><td>Montserrat</td><td>art</td><td>1</td></tr><tr><td>Morocco</td><td>quotes</td><td>1</td></tr><tr><td>Mozambique</td><td>art</td><td>3</td></tr><tr><td>Namibia</td><td>quotes</td><td>2</td></tr><tr><td>Netherlands</td><td>home-decor</td><td>1</td></tr><tr><td>Netherlands Antilles</td><td>art</td><td>1</td></tr><tr><td>New Caledonia</td><td>art</td><td>2</td></tr><tr><td>New Zealand</td><td>tattoos</td><td>1</td></tr><tr><td>Nicaragua</td><td>vehicles</td><td>2</td></tr><tr><td>Niger</td><td>education</td><td>1</td></tr><tr><td>Niue</td><td>quotes</td><td>3</td></tr><tr><td>Norway</td><td>travel</td><td>1</td></tr><tr><td>Panama</td><td>travel</td><td>1</td></tr><tr><td>Papua New Guinea</td><td>quotes</td><td>1</td></tr><tr><td>Peru</td><td>vehicles</td><td>1</td></tr><tr><td>Philippines</td><td>event-planning</td><td>1</td></tr><tr><td>Pitcairn Islands</td><td>diy-and-crafts</td><td>1</td></tr><tr><td>Poland</td><td>event-planning</td><td>1</td></tr><tr><td>Portugal</td><td>diy-and-crafts</td><td>1</td></tr><tr><td>Puerto Rico</td><td>event-planning</td><td>1</td></tr><tr><td>Romania</td><td>art</td><td>1</td></tr><tr><td>Saint Barthelemy</td><td>mens-fashion</td><td>2</td></tr><tr><td>Saint Helena</td><td>beauty</td><td>1</td></tr><tr><td>Saint Kitts and Nevis</td><td>vehicles</td><td>1</td></tr><tr><td>Saint Martin</td><td>christmas</td><td>1</td></tr><tr><td>Saint Pierre and Miquelon</td><td>mens-fashion</td><td>1</td></tr><tr><td>Saint Vincent and the Grenadines</td><td>christmas</td><td>1</td></tr><tr><td>Samoa</td><td>vehicles</td><td>1</td></tr><tr><td>Sao Tome and Principe</td><td>tattoos</td><td>2</td></tr><tr><td>Saudi Arabia</td><td>finance</td><td>1</td></tr><tr><td>Serbia</td><td>travel</td><td>1</td></tr><tr><td>Seychelles</td><td>tattoos</td><td>2</td></tr><tr><td>Singapore</td><td>vehicles</td><td>1</td></tr><tr><td>Slovenia</td><td>beauty</td><td>1</td></tr><tr><td>Solomon Islands</td><td>art</td><td>3</td></tr><tr><td>Somalia</td><td>quotes</td><td>1</td></tr><tr><td>South Africa</td><td>vehicles</td><td>1</td></tr><tr><td>Sudan</td><td>art</td><td>2</td></tr><tr><td>Svalbard & Jan Mayen Islands</td><td>travel</td><td>1</td></tr><tr><td>Sweden</td><td>mens-fashion</td><td>1</td></tr><tr><td>Tanzania</td><td>art</td><td>1</td></tr><tr><td>Togo</td><td>christmas</td><td>1</td></tr><tr><td>Tonga</td><td>beauty</td><td>1</td></tr><tr><td>Trinidad and Tobago</td><td>christmas</td><td>1</td></tr><tr><td>Tunisia</td><td>diy-and-crafts</td><td>1</td></tr><tr><td>Turkey</td><td>education</td><td>1</td></tr><tr><td>Turkmenistan</td><td>travel</td><td>1</td></tr><tr><td>Tuvalu</td><td>tattoos</td><td>1</td></tr><tr><td>Uganda</td><td>christmas</td><td>2</td></tr><tr><td>Venezuela</td><td>diy-and-crafts</td><td>1</td></tr><tr><td>Vietnam</td><td>quotes</td><td>1</td></tr><tr><td>Wallis and Futuna</td><td>home-decor</td><td>1</td></tr></tbody></table></div>"
      ]
     },
     "metadata": {
      "application/vnd.databricks.v1+output": {
       "addedWidgets": {},
       "aggData": [],
       "aggError": "",
       "aggOverflow": false,
       "aggSchema": [],
       "aggSeriesLimitReached": false,
       "aggType": "",
       "arguments": {},
       "columnCustomDisplayInfos": {},
       "data": [
        [
         "Afghanistan",
         "education",
         14
        ],
        [
         "Albania",
         "art",
         12
        ],
        [
         "Algeria",
         "quotes",
         14
        ],
        [
         "American Samoa",
         "tattoos",
         13
        ],
        [
         "Andorra",
         "tattoos",
         10
        ],
        [
         "Angola",
         "diy-and-crafts",
         3
        ],
        [
         "Anguilla",
         "diy-and-crafts",
         4
        ],
        [
         "Antarctica (the territory South of 60 deg S)",
         "tattoos",
         5
        ],
        [
         "Antigua and Barbuda",
         "art",
         8
        ],
        [
         "Argentina",
         "tattoos",
         9
        ],
        [
         "Armenia",
         "diy-and-crafts",
         10
        ],
        [
         "Aruba",
         "mens-fashion",
         17
        ],
        [
         "Australia",
         "mens-fashion",
         5
        ],
        [
         "Austria",
         "travel",
         7
        ],
        [
         "Azerbaijan",
         "finance",
         2
        ],
        [
         "Bahamas",
         "travel",
         4
        ],
        [
         "Bahrain",
         "finance",
         1
        ],
        [
         "Bangladesh",
         "christmas",
         8
        ],
        [
         "Barbados",
         "education",
         4
        ],
        [
         "Belarus",
         "vehicles",
         1
        ],
        [
         "Belgium",
         "travel",
         1
        ],
        [
         "Belize",
         "mens-fashion",
         2
        ],
        [
         "Benin",
         "tattoos",
         3
        ],
        [
         "Bermuda",
         "christmas",
         4
        ],
        [
         "Bhutan",
         "event-planning",
         2
        ],
        [
         "Bolivia",
         "beauty",
         2
        ],
        [
         "Bosnia and Herzegovina",
         "christmas",
         1
        ],
        [
         "Botswana",
         "tattoos",
         2
        ],
        [
         "Bouvet Island (Bouvetoya)",
         "tattoos",
         4
        ],
        [
         "Brazil",
         "christmas",
         2
        ],
        [
         "British Virgin Islands",
         "christmas",
         5
        ],
        [
         "Bulgaria",
         "christmas",
         3
        ],
        [
         "Burkina Faso",
         "vehicles",
         2
        ],
        [
         "Burundi",
         "mens-fashion",
         1
        ],
        [
         "Cambodia",
         "diy-and-crafts",
         1
        ],
        [
         "Cameroon",
         "art",
         2
        ],
        [
         "Canada",
         "christmas",
         3
        ],
        [
         "Cape Verde",
         "beauty",
         3
        ],
        [
         "Cayman Islands",
         "travel",
         1
        ],
        [
         "Central African Republic",
         "christmas",
         2
        ],
        [
         "Chile",
         "travel",
         2
        ],
        [
         "Christmas Island",
         "christmas",
         3
        ],
        [
         "Cocos (Keeling) Islands",
         "travel",
         2
        ],
        [
         "Colombia",
         "finance",
         2
        ],
        [
         "Comoros",
         "quotes",
         2
        ],
        [
         "Congo",
         "art",
         3
        ],
        [
         "Cote d'Ivoire",
         "finance",
         3
        ],
        [
         "Croatia",
         "finance",
         2
        ],
        [
         "Cuba",
         "mens-fashion",
         2
        ],
        [
         "Cyprus",
         "home-decor",
         1
        ],
        [
         "Czech Republic",
         "travel",
         2
        ],
        [
         "Denmark",
         "beauty",
         1
        ],
        [
         "Djibouti",
         "diy-and-crafts",
         1
        ],
        [
         "Dominica",
         "event-planning",
         2
        ],
        [
         "Dominican Republic",
         "home-decor",
         3
        ],
        [
         "Ecuador",
         "mens-fashion",
         4
        ],
        [
         "Egypt",
         "travel",
         4
        ],
        [
         "El Salvador",
         "quotes",
         2
        ],
        [
         "Equatorial Guinea",
         "travel",
         1
        ],
        [
         "Estonia",
         "christmas",
         1
        ],
        [
         "Ethiopia",
         "tattoos",
         1
        ],
        [
         "Faroe Islands",
         "tattoos",
         2
        ],
        [
         "Fiji",
         "education",
         1
        ],
        [
         "Finland",
         "finance",
         3
        ],
        [
         "France",
         "beauty",
         1
        ],
        [
         "French Guiana",
         "art",
         3
        ],
        [
         "French Polynesia",
         "quotes",
         1
        ],
        [
         "French Southern Territories",
         "home-decor",
         1
        ],
        [
         "Gabon",
         "home-decor",
         1
        ],
        [
         "Georgia",
         "education",
         2
        ],
        [
         "Germany",
         "finance",
         2
        ],
        [
         "Ghana",
         "art",
         2
        ],
        [
         "Gibraltar",
         "art",
         2
        ],
        [
         "Greece",
         "finance",
         1
        ],
        [
         "Grenada",
         "finance",
         2
        ],
        [
         "Guadeloupe",
         "home-decor",
         1
        ],
        [
         "Guam",
         "travel",
         1
        ],
        [
         "Guatemala",
         "finance",
         3
        ],
        [
         "Guinea",
         "christmas",
         1
        ],
        [
         "Guinea-Bissau",
         "tattoos",
         2
        ],
        [
         "Holy See (Vatican City State)",
         "mens-fashion",
         1
        ],
        [
         "Hungary",
         "event-planning",
         1
        ],
        [
         "India",
         "travel",
         2
        ],
        [
         "Indonesia",
         "finance",
         1
        ],
        [
         "Ireland",
         "home-decor",
         1
        ],
        [
         "Isle of Man",
         "art",
         4
        ],
        [
         "Israel",
         "quotes",
         1
        ],
        [
         "Jamaica",
         "finance",
         2
        ],
        [
         "Japan",
         "art",
         1
        ],
        [
         "Kenya",
         "diy-and-crafts",
         1
        ],
        [
         "Korea",
         "beauty",
         1
        ],
        [
         "Kuwait",
         "quotes",
         2
        ],
        [
         "Latvia",
         "mens-fashion",
         2
        ],
        [
         "Lesotho",
         "tattoos",
         2
        ],
        [
         "Libyan Arab Jamahiriya",
         "christmas",
         2
        ],
        [
         "Lithuania",
         "education",
         1
        ],
        [
         "Luxembourg",
         "education",
         1
        ],
        [
         "Macao",
         "mens-fashion",
         1
        ],
        [
         "Macedonia",
         "tattoos",
         1
        ],
        [
         "Madagascar",
         "event-planning",
         1
        ],
        [
         "Malawi",
         "travel",
         1
        ],
        [
         "Maldives",
         "finance",
         3
        ],
        [
         "Mali",
         "christmas",
         1
        ],
        [
         "Malta",
         "art",
         1
        ],
        [
         "Marshall Islands",
         "home-decor",
         1
        ],
        [
         "Martinique",
         "quotes",
         1
        ],
        [
         "Mauritania",
         "education",
         1
        ],
        [
         "Moldova",
         "beauty",
         2
        ],
        [
         "Monaco",
         "art",
         1
        ],
        [
         "Montserrat",
         "art",
         1
        ],
        [
         "Morocco",
         "quotes",
         1
        ],
        [
         "Mozambique",
         "art",
         3
        ],
        [
         "Namibia",
         "quotes",
         2
        ],
        [
         "Netherlands",
         "home-decor",
         1
        ],
        [
         "Netherlands Antilles",
         "art",
         1
        ],
        [
         "New Caledonia",
         "art",
         2
        ],
        [
         "New Zealand",
         "tattoos",
         1
        ],
        [
         "Nicaragua",
         "vehicles",
         2
        ],
        [
         "Niger",
         "education",
         1
        ],
        [
         "Niue",
         "quotes",
         3
        ],
        [
         "Norway",
         "travel",
         1
        ],
        [
         "Panama",
         "travel",
         1
        ],
        [
         "Papua New Guinea",
         "quotes",
         1
        ],
        [
         "Peru",
         "vehicles",
         1
        ],
        [
         "Philippines",
         "event-planning",
         1
        ],
        [
         "Pitcairn Islands",
         "diy-and-crafts",
         1
        ],
        [
         "Poland",
         "event-planning",
         1
        ],
        [
         "Portugal",
         "diy-and-crafts",
         1
        ],
        [
         "Puerto Rico",
         "event-planning",
         1
        ],
        [
         "Romania",
         "art",
         1
        ],
        [
         "Saint Barthelemy",
         "mens-fashion",
         2
        ],
        [
         "Saint Helena",
         "beauty",
         1
        ],
        [
         "Saint Kitts and Nevis",
         "vehicles",
         1
        ],
        [
         "Saint Martin",
         "christmas",
         1
        ],
        [
         "Saint Pierre and Miquelon",
         "mens-fashion",
         1
        ],
        [
         "Saint Vincent and the Grenadines",
         "christmas",
         1
        ],
        [
         "Samoa",
         "vehicles",
         1
        ],
        [
         "Sao Tome and Principe",
         "tattoos",
         2
        ],
        [
         "Saudi Arabia",
         "finance",
         1
        ],
        [
         "Serbia",
         "travel",
         1
        ],
        [
         "Seychelles",
         "tattoos",
         2
        ],
        [
         "Singapore",
         "vehicles",
         1
        ],
        [
         "Slovenia",
         "beauty",
         1
        ],
        [
         "Solomon Islands",
         "art",
         3
        ],
        [
         "Somalia",
         "quotes",
         1
        ],
        [
         "South Africa",
         "vehicles",
         1
        ],
        [
         "Sudan",
         "art",
         2
        ],
        [
         "Svalbard & Jan Mayen Islands",
         "travel",
         1
        ],
        [
         "Sweden",
         "mens-fashion",
         1
        ],
        [
         "Tanzania",
         "art",
         1
        ],
        [
         "Togo",
         "christmas",
         1
        ],
        [
         "Tonga",
         "beauty",
         1
        ],
        [
         "Trinidad and Tobago",
         "christmas",
         1
        ],
        [
         "Tunisia",
         "diy-and-crafts",
         1
        ],
        [
         "Turkey",
         "education",
         1
        ],
        [
         "Turkmenistan",
         "travel",
         1
        ],
        [
         "Tuvalu",
         "tattoos",
         1
        ],
        [
         "Uganda",
         "christmas",
         2
        ],
        [
         "Venezuela",
         "diy-and-crafts",
         1
        ],
        [
         "Vietnam",
         "quotes",
         1
        ],
        [
         "Wallis and Futuna",
         "home-decor",
         1
        ]
       ],
       "datasetInfos": [],
       "dbfsResultPath": null,
       "isJsonSchema": true,
       "metadata": {},
       "overflow": false,
       "plotOptions": {
        "customPlotOptions": {},
        "displayType": "table",
        "pivotAggregation": null,
        "pivotColumns": null,
        "xColumns": null,
        "yColumns": null
       },
       "removedWidgets": [],
       "schema": [
        {
         "metadata": "{}",
         "name": "country",
         "type": "\"string\""
        },
        {
         "metadata": "{}",
         "name": "most_popular_category",
         "type": "\"string\""
        },
        {
         "metadata": "{}",
         "name": "total_number_of_categories",
         "type": "\"long\""
        }
       ],
       "type": "table"
      }
     },
     "output_type": "display_data"
    }
   ],
   "source": [
    "# Joins the pin and geo dataframes\n",
    "df_pin_geo = df_pin.join(df_geo, df_geo[\"ind\"] == df_pin[\"ind\"], how = \"left\")\n",
    "\n",
    "# Groups data by country then preforms the aggregations mode and count\n",
    "pop_cat_by_loc = df_pin_geo.groupBy(\"country\")\\\n",
    "  .agg(mode(\"category\").alias(\"most_popular_category\"),\n",
    "                          count(\"category\").alias(\"total_number_of_categories\"))\n",
    "  \n",
    "display(pop_cat_by_loc)"
   ]
  },
  {
   "cell_type": "code",
   "execution_count": 0,
   "metadata": {
    "application/vnd.databricks.v1+cell": {
     "cellMetadata": {
      "byteLimit": 2048000,
      "rowLimit": 10000
     },
     "inputWidgets": {},
     "nuid": "9153000c-27c7-43c4-b1ec-1efaf3405bcf",
     "showTitle": false,
     "tableResultSettingsMap": {},
     "title": ""
    }
   },
   "outputs": [
    {
     "output_type": "stream",
     "name": "stdout",
     "output_type": "stream",
     "text": [
      "+---------+--------------+--------------------+\n|post_year| mode category|number_of_categories|\n+---------+--------------+--------------------+\n|     2018|           art|                  79|\n|     2022|     christmas|                  63|\n|     2019|diy-and-crafts|                  75|\n|     2020|       finance|                  81|\n|     2017|        quotes|                  15|\n|     2021|        quotes|                  67|\n+---------+--------------+--------------------+\n\n"
     ]
    }
   ],
   "source": [
    "# Selects the relevant columns year from timestamp and category\n",
    "# Groups data by year then aggregates with mode and count\n",
    "pop_cat_by_year = df_pin_geo.select(year(\"timestamp\")\\\n",
    "  .alias(\"post_year\"),\"category\")\\\n",
    "  .groupBy(\"post_year\").agg(mode(\"category\").alias(\"mode category\"),\n",
    "                            count(\"category\").alias(\"number_of_categories\"))\n",
    "  \n",
    "pop_cat_by_year.show(15)"
   ]
  },
  {
   "cell_type": "code",
   "execution_count": 0,
   "metadata": {
    "application/vnd.databricks.v1+cell": {
     "cellMetadata": {
      "byteLimit": 2048000,
      "rowLimit": 10000
     },
     "inputWidgets": {},
     "nuid": "fd9bca38-998d-43ea-8738-6dcd2cb79f0b",
     "showTitle": false,
     "tableResultSettingsMap": {},
     "title": ""
    }
   },
   "outputs": [
    {
     "output_type": "stream",
     "name": "stdout",
     "output_type": "stream",
     "text": [
      "+--------------------+--------------------+--------------+\n|             country|         poster_name|follower_count|\n+--------------------+--------------------+--------------+\n|         Afghanistan|                9GAG|       3000000|\n|             Albania|   The Minds Journal|       5000000|\n|             Algeria|           YourTango|        942000|\n|      American Samoa|         Mamas Uncut|       8000000|\n|             Andorra|Teachers Pay Teac...|       1000000|\n|              Angola|           Tastemade|       8000000|\n|            Anguilla|Kristen | Lifesty...|         92000|\n|Antarctica (the t...|          Refinery29|       1000000|\n| Antigua and Barbuda|Country Living Ma...|       1000000|\n|           Argentina|         Next Luxury|        800000|\n|             Armenia|Michelle {CraftyM...|        892000|\n|               Aruba|         GQ Magazine|        874000|\n|           Australia|   Cultura Colectiva|       1000000|\n|             Austria|The World Pursuit...|         89000|\n|          Azerbaijan|     Style Me Pretty|       6000000|\n+--------------------+--------------------+--------------+\nonly showing top 15 rows\n\n"
     ]
    }
   ],
   "source": [
    "# Selects the relevant columns country, poster_name and follower_count\n",
    "# Groups data by country then aggregates with max_by and max\n",
    "pop_user_by_loc = df_pin_geo.select(\"country\", \"poster_name\",\"follower_count\")\\\n",
    "  .groupBy(\"country\").agg(max_by(\"poster_name\", \"follower_count\").alias(\"poster_name\"),\n",
    "       max(\"follower_count\").alias(\"follower_count\"))\n",
    "  \n",
    "pop_user_by_loc.show(15)"
   ]
  },
  {
   "cell_type": "code",
   "execution_count": 0,
   "metadata": {
    "application/vnd.databricks.v1+cell": {
     "cellMetadata": {
      "byteLimit": 2048000,
      "rowLimit": 10000
     },
     "inputWidgets": {},
     "nuid": "fb102cab-c102-41b6-9b40-8c529fbb0c51",
     "showTitle": false,
     "tableResultSettingsMap": {},
     "title": ""
    }
   },
   "outputs": [
    {
     "output_type": "display_data",
     "data": {
      "text/html": [
       "<style scoped>\n",
       "  .table-result-container {\n",
       "    max-height: 300px;\n",
       "    overflow: auto;\n",
       "  }\n",
       "  table, th, td {\n",
       "    border: 1px solid black;\n",
       "    border-collapse: collapse;\n",
       "  }\n",
       "  th, td {\n",
       "    padding: 5px;\n",
       "  }\n",
       "  th {\n",
       "    text-align: left;\n",
       "  }\n",
       "</style><div class='table-result-container'><table class='table-result'><thead style='background-color: white'><tr><th>max_by(country, follower_count)</th><th>follower_count</th></tr></thead><tbody><tr><td>American Samoa</td><td>8000000</td></tr></tbody></table></div>"
      ]
     },
     "metadata": {
      "application/vnd.databricks.v1+output": {
       "addedWidgets": {},
       "aggData": [],
       "aggError": "",
       "aggOverflow": false,
       "aggSchema": [],
       "aggSeriesLimitReached": false,
       "aggType": "",
       "arguments": {},
       "columnCustomDisplayInfos": {},
       "data": [
        [
         "American Samoa",
         8000000
        ]
       ],
       "datasetInfos": [],
       "dbfsResultPath": null,
       "isJsonSchema": true,
       "metadata": {},
       "overflow": false,
       "plotOptions": {
        "customPlotOptions": {},
        "displayType": "table",
        "pivotAggregation": null,
        "pivotColumns": null,
        "xColumns": null,
        "yColumns": null
       },
       "removedWidgets": [],
       "schema": [
        {
         "metadata": "{}",
         "name": "max_by(country, follower_count)",
         "type": "\"string\""
        },
        {
         "metadata": "{}",
         "name": "follower_count",
         "type": "\"integer\""
        }
       ],
       "type": "table"
      }
     },
     "output_type": "display_data"
    }
   ],
   "source": [
    "# Selects the relevant columns country and follower_count\n",
    "# Aggregates with max_by and max\n",
    "loc_with_user_with_max_follower = pop_user_by_loc.select(\"country\",\"follower_count\")\\\n",
    "  .agg(max_by(\"country\", \"follower_count\"), max(\"follower_count\").alias(\"follower_count\"))\n",
    "  \n",
    "display(loc_with_user_with_max_follower)"
   ]
  },
  {
   "cell_type": "code",
   "execution_count": 0,
   "metadata": {
    "application/vnd.databricks.v1+cell": {
     "cellMetadata": {
      "byteLimit": 2048000,
      "rowLimit": 10000
     },
     "inputWidgets": {},
     "nuid": "9bad67bb-8fff-4fbe-81c2-c49c6eab0b6c",
     "showTitle": false,
     "tableResultSettingsMap": {},
     "title": ""
    }
   },
   "outputs": [
    {
     "output_type": "display_data",
     "data": {
      "text/html": [
       "<style scoped>\n",
       "  .table-result-container {\n",
       "    max-height: 300px;\n",
       "    overflow: auto;\n",
       "  }\n",
       "  table, th, td {\n",
       "    border: 1px solid black;\n",
       "    border-collapse: collapse;\n",
       "  }\n",
       "  th, td {\n",
       "    padding: 5px;\n",
       "  }\n",
       "  th {\n",
       "    text-align: left;\n",
       "  }\n",
       "</style><div class='table-result-container'><table class='table-result'><thead style='background-color: white'><tr><th>age_group</th><th>category</th><th>category_count</th></tr></thead><tbody><tr><td>36-50</td><td>quotes</td><td>77</td></tr><tr><td>+50</td><td>mens-fashion</td><td>33</td></tr><tr><td>18-24</td><td>tattoos</td><td>166</td></tr><tr><td>25-35</td><td>travel</td><td>104</td></tr></tbody></table></div>"
      ]
     },
     "metadata": {
      "application/vnd.databricks.v1+output": {
       "addedWidgets": {},
       "aggData": [],
       "aggError": "",
       "aggOverflow": false,
       "aggSchema": [],
       "aggSeriesLimitReached": false,
       "aggType": "",
       "arguments": {},
       "columnCustomDisplayInfos": {},
       "data": [
        [
         "36-50",
         "quotes",
         77
        ],
        [
         "+50",
         "mens-fashion",
         33
        ],
        [
         "18-24",
         "tattoos",
         166
        ],
        [
         "25-35",
         "travel",
         104
        ]
       ],
       "datasetInfos": [],
       "dbfsResultPath": null,
       "isJsonSchema": true,
       "metadata": {},
       "overflow": false,
       "plotOptions": {
        "customPlotOptions": {},
        "displayType": "table",
        "pivotAggregation": null,
        "pivotColumns": null,
        "xColumns": null,
        "yColumns": null
       },
       "removedWidgets": [],
       "schema": [
        {
         "metadata": "{}",
         "name": "age_group",
         "type": "\"string\""
        },
        {
         "metadata": "{}",
         "name": "category",
         "type": "\"string\""
        },
        {
         "metadata": "{}",
         "name": "category_count",
         "type": "\"long\""
        }
       ],
       "type": "table"
      }
     },
     "output_type": "display_data"
    }
   ],
   "source": [
    "# Creates a lambda function for determining age group from age\n",
    "age_grp = udf(lambda age: \"18-24\" if 18 <= age <= 24 else\n",
    "              \"25-35\" if 25 <= age <= 35 else\n",
    "              \"36-50\" if 36 <= age <= 50 else\n",
    "              \"+50\" if 51 <= age else \"\")\n",
    "\n",
    "# Joins the pin and user dataframes\n",
    "df_pin_user = df_pin.join(df_user, df_pin[\"ind\"] == df_user[\"ind\"], how = \"left\")\n",
    "\n",
    "# Selects the relevant columns age and category\n",
    "# Creates a new column using the age group lambda function\n",
    "# Removes the age column\n",
    "# Groups data by age group then aggregates with mode and count\n",
    "pop_cat_by_age_grp = df_pin_user.select(\"age\", \"category\")\\\n",
    "  .withColumn(\"age_group\", age_grp(df_pin_user[\"age\"]))\\\n",
    "  .drop(\"age\")\\\n",
    "  .groupBy(\"age_group\").agg(mode(\"category\").alias(\"category\"),\n",
    "                            count(\"category\").alias(\"category_count\"))\n",
    "  \n",
    "display(pop_cat_by_age_grp)"
   ]
  },
  {
   "cell_type": "code",
   "execution_count": 0,
   "metadata": {
    "application/vnd.databricks.v1+cell": {
     "cellMetadata": {
      "byteLimit": 2048000,
      "rowLimit": 10000
     },
     "inputWidgets": {},
     "nuid": "1a3b6f2f-b99e-4d55-8ada-2471bee38026",
     "showTitle": false,
     "tableResultSettingsMap": {},
     "title": ""
    }
   },
   "outputs": [
    {
     "output_type": "display_data",
     "data": {
      "text/html": [
       "<style scoped>\n",
       "  .table-result-container {\n",
       "    max-height: 300px;\n",
       "    overflow: auto;\n",
       "  }\n",
       "  table, th, td {\n",
       "    border: 1px solid black;\n",
       "    border-collapse: collapse;\n",
       "  }\n",
       "  th, td {\n",
       "    padding: 5px;\n",
       "  }\n",
       "  th {\n",
       "    text-align: left;\n",
       "  }\n",
       "</style><div class='table-result-container'><table class='table-result'><thead style='background-color: white'><tr><th>age_group</th><th>median_follower_count</th></tr></thead><tbody><tr><td>+50</td><td>3000.0</td></tr><tr><td>36-50</td><td>6000.0</td></tr><tr><td>25-35</td><td>27000.0</td></tr><tr><td>18-24</td><td>106000.0</td></tr></tbody></table></div>"
      ]
     },
     "metadata": {
      "application/vnd.databricks.v1+output": {
       "addedWidgets": {},
       "aggData": [],
       "aggError": "",
       "aggOverflow": false,
       "aggSchema": [],
       "aggSeriesLimitReached": false,
       "aggType": "",
       "arguments": {},
       "columnCustomDisplayInfos": {},
       "data": [
        [
         "+50",
         3000.0
        ],
        [
         "36-50",
         6000.0
        ],
        [
         "25-35",
         27000.0
        ],
        [
         "18-24",
         106000.0
        ]
       ],
       "datasetInfos": [],
       "dbfsResultPath": null,
       "isJsonSchema": true,
       "metadata": {},
       "overflow": false,
       "plotOptions": {
        "customPlotOptions": {},
        "displayType": "table",
        "pivotAggregation": null,
        "pivotColumns": null,
        "xColumns": null,
        "yColumns": null
       },
       "removedWidgets": [],
       "schema": [
        {
         "metadata": "{}",
         "name": "age_group",
         "type": "\"string\""
        },
        {
         "metadata": "{}",
         "name": "median_follower_count",
         "type": "\"double\""
        }
       ],
       "type": "table"
      }
     },
     "output_type": "display_data"
    }
   ],
   "source": [
    "# Selects the relevant columns age and follower_count\n",
    "# Creates a new column using the age group lambda function\n",
    "# Removes the age column\n",
    "# Groups data by age group then aggregates with median\n",
    "# Orders by the median (ascending)\n",
    "median_follower_by_age_grp = df_pin_user.select(\"age\", \"follower_count\")\\\n",
    "  .withColumn(\"age_group\", age_grp(df_pin_user[\"age\"]))\\\n",
    "  .drop(\"age\")\\\n",
    "  .groupBy(\"age_group\").agg(median(\"follower_count\").alias(\"median_follower_count\"))\\\n",
    "  .orderBy(\"median_follower_count\")\n",
    "  \n",
    "display(median_follower_by_age_grp)"
   ]
  },
  {
   "cell_type": "code",
   "execution_count": 0,
   "metadata": {
    "application/vnd.databricks.v1+cell": {
     "cellMetadata": {
      "byteLimit": 2048000,
      "rowLimit": 10000
     },
     "inputWidgets": {},
     "nuid": "af06d4ab-4ed0-4799-af09-a4f5901abb6d",
     "showTitle": false,
     "tableResultSettingsMap": {},
     "title": ""
    }
   },
   "outputs": [
    {
     "output_type": "display_data",
     "data": {
      "text/html": [
       "<style scoped>\n",
       "  .table-result-container {\n",
       "    max-height: 300px;\n",
       "    overflow: auto;\n",
       "  }\n",
       "  table, th, td {\n",
       "    border: 1px solid black;\n",
       "    border-collapse: collapse;\n",
       "  }\n",
       "  th, td {\n",
       "    padding: 5px;\n",
       "  }\n",
       "  th {\n",
       "    text-align: left;\n",
       "  }\n",
       "</style><div class='table-result-container'><table class='table-result'><thead style='background-color: white'><tr><th>year</th><th>number_user_joined</th></tr></thead><tbody><tr><td>2015</td><td>137</td></tr><tr><td>2016</td><td>182</td></tr><tr><td>2017</td><td>61</td></tr></tbody></table></div>"
      ]
     },
     "metadata": {
      "application/vnd.databricks.v1+output": {
       "addedWidgets": {},
       "aggData": [],
       "aggError": "",
       "aggOverflow": false,
       "aggSchema": [],
       "aggSeriesLimitReached": false,
       "aggType": "",
       "arguments": {},
       "columnCustomDisplayInfos": {},
       "data": [
        [
         2015,
         137
        ],
        [
         2016,
         182
        ],
        [
         2017,
         61
        ]
       ],
       "datasetInfos": [],
       "dbfsResultPath": null,
       "isJsonSchema": true,
       "metadata": {},
       "overflow": false,
       "plotOptions": {
        "customPlotOptions": {},
        "displayType": "table",
        "pivotAggregation": null,
        "pivotColumns": null,
        "xColumns": null,
        "yColumns": null
       },
       "removedWidgets": [],
       "schema": [
        {
         "metadata": "{}",
         "name": "year",
         "type": "\"integer\""
        },
        {
         "metadata": "{}",
         "name": "number_user_joined",
         "type": "\"long\""
        }
       ],
       "type": "table"
      }
     },
     "output_type": "display_data"
    }
   ],
   "source": [
    "# Selects the relevant columns year from date_joined and ind\n",
    "# Groups data by year then aggregates with count\n",
    "users_joined_by_year = df_user.select(year(\"date_joined\").alias(\"year\"),\"ind\")\\\n",
    "  .groupBy(\"year\").agg(count(\"ind\").alias(\"number_user_joined\"))\n",
    "  \n",
    "display(users_joined_by_year)"
   ]
  },
  {
   "cell_type": "code",
   "execution_count": 0,
   "metadata": {
    "application/vnd.databricks.v1+cell": {
     "cellMetadata": {
      "byteLimit": 2048000,
      "rowLimit": 10000
     },
     "inputWidgets": {},
     "nuid": "e38ba75a-a255-4617-9581-4801a4cd2d11",
     "showTitle": false,
     "tableResultSettingsMap": {},
     "title": ""
    }
   },
   "outputs": [
    {
     "output_type": "display_data",
     "data": {
      "text/html": [
       "<style scoped>\n",
       "  .table-result-container {\n",
       "    max-height: 300px;\n",
       "    overflow: auto;\n",
       "  }\n",
       "  table, th, td {\n",
       "    border: 1px solid black;\n",
       "    border-collapse: collapse;\n",
       "  }\n",
       "  th, td {\n",
       "    padding: 5px;\n",
       "  }\n",
       "  th {\n",
       "    text-align: left;\n",
       "  }\n",
       "</style><div class='table-result-container'><table class='table-result'><thead style='background-color: white'><tr><th>post_year</th><th>median_follower_count</th></tr></thead><tbody><tr><td>2017</td><td>72000.0</td></tr><tr><td>2018</td><td>23500.0</td></tr><tr><td>2019</td><td>25000.0</td></tr><tr><td>2020</td><td>26000.0</td></tr><tr><td>2021</td><td>19000.0</td></tr><tr><td>2022</td><td>37000.0</td></tr></tbody></table></div>"
      ]
     },
     "metadata": {
      "application/vnd.databricks.v1+output": {
       "addedWidgets": {},
       "aggData": [],
       "aggError": "",
       "aggOverflow": false,
       "aggSchema": [],
       "aggSeriesLimitReached": false,
       "aggType": "",
       "arguments": {},
       "columnCustomDisplayInfos": {},
       "data": [
        [
         2017,
         72000.0
        ],
        [
         2018,
         23500.0
        ],
        [
         2019,
         25000.0
        ],
        [
         2020,
         26000.0
        ],
        [
         2021,
         19000.0
        ],
        [
         2022,
         37000.0
        ]
       ],
       "datasetInfos": [],
       "dbfsResultPath": null,
       "isJsonSchema": true,
       "metadata": {},
       "overflow": false,
       "plotOptions": {
        "customPlotOptions": {},
        "displayType": "table",
        "pivotAggregation": null,
        "pivotColumns": null,
        "xColumns": null,
        "yColumns": null
       },
       "removedWidgets": [],
       "schema": [
        {
         "metadata": "{}",
         "name": "post_year",
         "type": "\"integer\""
        },
        {
         "metadata": "{}",
         "name": "median_follower_count",
         "type": "\"double\""
        }
       ],
       "type": "table"
      }
     },
     "output_type": "display_data"
    }
   ],
   "source": [
    "# Joins the geo and pin dataframes\n",
    "df_geo_pin = df_geo.join(df_pin, df_geo[\"ind\"] == df_pin[\"ind\"], how = \"left\")\n",
    "\n",
    "# Selects the relevant columns year from timestamp and follower_count\n",
    "# Groups data by year then aggregates with median\n",
    "# Orders results by year (ascending)\n",
    "median_follower_by_year = df_geo_pin.select(year(\"timestamp\").alias(\"post_year\"), \"follower_count\")\\\n",
    "  .groupBy(\"post_year\").agg(median(\"follower_count\").alias(\"median_follower_count\"))\\\n",
    "  .orderBy(\"post_year\")\n",
    "  \n",
    "display(median_follower_by_year)"
   ]
  },
  {
   "cell_type": "code",
   "execution_count": 0,
   "metadata": {
    "application/vnd.databricks.v1+cell": {
     "cellMetadata": {
      "byteLimit": 2048000,
      "rowLimit": 10000
     },
     "inputWidgets": {},
     "nuid": "97a34b0b-cd23-420f-88e4-4097ddabc13c",
     "showTitle": false,
     "tableResultSettingsMap": {},
     "title": ""
    }
   },
   "outputs": [
    {
     "output_type": "display_data",
     "data": {
      "text/html": [
       "<style scoped>\n",
       "  .table-result-container {\n",
       "    max-height: 300px;\n",
       "    overflow: auto;\n",
       "  }\n",
       "  table, th, td {\n",
       "    border: 1px solid black;\n",
       "    border-collapse: collapse;\n",
       "  }\n",
       "  th, td {\n",
       "    padding: 5px;\n",
       "  }\n",
       "  th {\n",
       "    text-align: left;\n",
       "  }\n",
       "</style><div class='table-result-container'><table class='table-result'><thead style='background-color: white'><tr><th>post_year</th><th>age_group</th><th>median_follower_count</th></tr></thead><tbody><tr><td>2017</td><td>+50</td><td>170000.0</td></tr><tr><td>2017</td><td>36-50</td><td>72000.0</td></tr><tr><td>2017</td><td>25-35</td><td>36500.0</td></tr><tr><td>2017</td><td>18-24</td><td>706500.0</td></tr><tr><td>2018</td><td>+50</td><td>5000.0</td></tr><tr><td>2018</td><td>36-50</td><td>1854.5</td></tr><tr><td>2018</td><td>18-24</td><td>75000.0</td></tr><tr><td>2018</td><td>25-35</td><td>22000.0</td></tr><tr><td>2019</td><td>36-50</td><td>6000.0</td></tr><tr><td>2019</td><td>18-24</td><td>51000.0</td></tr><tr><td>2019</td><td>25-35</td><td>22000.0</td></tr><tr><td>2019</td><td>+50</td><td>542.0</td></tr><tr><td>2020</td><td>36-50</td><td>8000.0</td></tr><tr><td>2020</td><td>18-24</td><td>82000.0</td></tr><tr><td>2020</td><td>+50</td><td>480.5</td></tr><tr><td>2020</td><td>25-35</td><td>27000.0</td></tr><tr><td>2021</td><td>25-35</td><td>26500.0</td></tr><tr><td>2021</td><td>18-24</td><td>190000.0</td></tr><tr><td>2021</td><td>+50</td><td>1000.0</td></tr><tr><td>2021</td><td>36-50</td><td>5000.0</td></tr><tr><td>2022</td><td>36-50</td><td>7500.0</td></tr><tr><td>2022</td><td>+50</td><td>3000.0</td></tr><tr><td>2022</td><td>18-24</td><td>217500.0</td></tr><tr><td>2022</td><td>25-35</td><td>37000.0</td></tr></tbody></table></div>"
      ]
     },
     "metadata": {
      "application/vnd.databricks.v1+output": {
       "addedWidgets": {},
       "aggData": [],
       "aggError": "",
       "aggOverflow": false,
       "aggSchema": [],
       "aggSeriesLimitReached": false,
       "aggType": "",
       "arguments": {},
       "columnCustomDisplayInfos": {},
       "data": [
        [
         2017,
         "+50",
         170000.0
        ],
        [
         2017,
         "36-50",
         72000.0
        ],
        [
         2017,
         "25-35",
         36500.0
        ],
        [
         2017,
         "18-24",
         706500.0
        ],
        [
         2018,
         "+50",
         5000.0
        ],
        [
         2018,
         "36-50",
         1854.5
        ],
        [
         2018,
         "18-24",
         75000.0
        ],
        [
         2018,
         "25-35",
         22000.0
        ],
        [
         2019,
         "36-50",
         6000.0
        ],
        [
         2019,
         "18-24",
         51000.0
        ],
        [
         2019,
         "25-35",
         22000.0
        ],
        [
         2019,
         "+50",
         542.0
        ],
        [
         2020,
         "36-50",
         8000.0
        ],
        [
         2020,
         "18-24",
         82000.0
        ],
        [
         2020,
         "+50",
         480.5
        ],
        [
         2020,
         "25-35",
         27000.0
        ],
        [
         2021,
         "25-35",
         26500.0
        ],
        [
         2021,
         "18-24",
         190000.0
        ],
        [
         2021,
         "+50",
         1000.0
        ],
        [
         2021,
         "36-50",
         5000.0
        ],
        [
         2022,
         "36-50",
         7500.0
        ],
        [
         2022,
         "+50",
         3000.0
        ],
        [
         2022,
         "18-24",
         217500.0
        ],
        [
         2022,
         "25-35",
         37000.0
        ]
       ],
       "datasetInfos": [],
       "dbfsResultPath": null,
       "isJsonSchema": true,
       "metadata": {},
       "overflow": false,
       "plotOptions": {
        "customPlotOptions": {},
        "displayType": "table",
        "pivotAggregation": null,
        "pivotColumns": null,
        "xColumns": null,
        "yColumns": null
       },
       "removedWidgets": [],
       "schema": [
        {
         "metadata": "{}",
         "name": "post_year",
         "type": "\"integer\""
        },
        {
         "metadata": "{}",
         "name": "age_group",
         "type": "\"string\""
        },
        {
         "metadata": "{}",
         "name": "median_follower_count",
         "type": "\"double\""
        }
       ],
       "type": "table"
      }
     },
     "output_type": "display_data"
    }
   ],
   "source": [
    "# Joins the user and geo dataframes into a dataframe X\n",
    "# Joins the X and pin dataframes\n",
    "# Creates a new column using the age group lambda function\n",
    "# Removes the age column\n",
    "# Selects the relevant columns age_group, year from timestamp and follower_count\n",
    "# Groups data by year then by age group then aggregates with median\n",
    "# Orders results by year\n",
    "median_follower_by_year_by_age_grp = df_user.join(df_geo, df_geo[\"ind\"] == df_user[\"ind\"],\n",
    "                                                  how = \"left\")\\\n",
    "  .join(df_pin, df_pin[\"ind\"] == df_user[\"ind\"], how = \"left\")\\\n",
    "  .withColumn(\"age_group\", age_grp(\"age\"))\\\n",
    "  .drop(\"age\")\\\n",
    "  .select(\"age_group\", year(\"timestamp\").alias(\"post_year\"), \"follower_count\")\\\n",
    "  .groupBy(\"post_year\", \"age_group\").agg(median(\"follower_count\").alias(\"median_follower_count\"))\\\n",
    "  .orderBy(\"post_year\")\n",
    "\n",
    "display(median_follower_by_year_by_age_grp)"
   ]
  },
  {
   "cell_type": "code",
   "execution_count": 0,
   "metadata": {
    "application/vnd.databricks.v1+cell": {
     "cellMetadata": {
      "byteLimit": 2048000,
      "rowLimit": 10000
     },
     "inputWidgets": {},
     "nuid": "7c428e1e-18f3-4e6a-aa07-74aeed7c4437",
     "showTitle": false,
     "tableResultSettingsMap": {},
     "title": ""
    }
   },
   "outputs": [
    {
     "output_type": "stream",
     "name": "stdout",
     "output_type": "stream",
     "text": [
      "/mnt/pinterest_s3_mount has been unmounted.\n"
     ]
    },
    {
     "output_type": "execute_result",
     "data": {
      "text/plain": [
       "True"
      ]
     },
     "execution_count": 251,
     "metadata": {},
     "output_type": "execute_result"
    }
   ],
   "source": [
    "# Disconnects from the S3 bucket\n",
    "dbutils.fs.unmount(MOUNT_NAME)"
   ]
  }
 ],
 "metadata": {
  "application/vnd.databricks.v1+notebook": {
   "dashboards": [],
   "environmentMetadata": {
    "base_environment": "",
    "client": "1"
   },
   "language": "python",
   "notebookMetadata": {
    "mostRecentlyExecutedCommandWithImplicitDF": {
     "commandId": 2451887303366522,
     "dataframes": [
      "_sqldf"
     ]
    },
    "pythonIndentUnit": 2
   },
   "notebookName": "Pinterest Data Proj",
   "widgets": {}
  },
  "language_info": {
   "name": "python"
  }
 },
 "nbformat": 4,
 "nbformat_minor": 0
}
