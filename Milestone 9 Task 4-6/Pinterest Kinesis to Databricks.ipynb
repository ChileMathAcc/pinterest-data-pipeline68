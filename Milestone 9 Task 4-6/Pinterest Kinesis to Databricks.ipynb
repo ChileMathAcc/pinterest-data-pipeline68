{
 "cells": [
  {
   "cell_type": "code",
   "execution_count": 0,
   "metadata": {
    "application/vnd.databricks.v1+cell": {
     "cellMetadata": {
      "byteLimit": 2048000,
      "rowLimit": 10000
     },
     "inputWidgets": {},
     "nuid": "75b65053-07fe-4ecc-abbf-33154b0d2080",
     "showTitle": false,
     "tableResultSettingsMap": {},
     "title": ""
    }
   },
   "outputs": [],
   "source": [
    "from pyspark.sql.functions import *\n",
    "from pyspark.sql.types import StringType, StructField, IntegerType, DateType, FloatType\n",
    "import urllib"
   ]
  },
  {
   "cell_type": "code",
   "execution_count": 0,
   "metadata": {
    "application/vnd.databricks.v1+cell": {
     "cellMetadata": {
      "byteLimit": 2048000,
      "rowLimit": 10000
     },
     "inputWidgets": {},
     "nuid": "44ace250-49eb-4405-acfa-16ecc9a3a310",
     "showTitle": false,
     "tableResultSettingsMap": {},
     "title": ""
    }
   },
   "outputs": [],
   "source": [
    "# File path to table with S3 bucket credentails\n",
    "s3_creds_path = \"dbfs:/user/hive/warehouse/authentication_credentials\"\n",
    "\n",
    "# Creates dataframe from the above table\n",
    "creds_df = spark.read.format(\"delta\").load(s3_creds_path)\n",
    "\n",
    "# Stores the values from the table above\n",
    "ACCESS_KEY = creds_df.select(\"ACCESS key ID\").collect()[0][\"ACCESS key ID\"]\n",
    "SECRET_KEY = creds_df.select(\"Secret access key\").collect()[0][\"Secret access key\"]\n",
    "\n",
    "ENCODED_SECRET_KEY = urllib.parse.quote(string = SECRET_KEY, safe = \"\")"
   ]
  },
  {
   "cell_type": "code",
   "execution_count": 0,
   "metadata": {
    "application/vnd.databricks.v1+cell": {
     "cellMetadata": {
      "byteLimit": 2048000,
      "implicitDf": true,
      "rowLimit": 10000
     },
     "inputWidgets": {},
     "nuid": "b39d5048-0278-4d5b-beb9-d337dc61642e",
     "showTitle": false,
     "tableResultSettingsMap": {},
     "title": ""
    }
   },
   "outputs": [
    {
     "output_type": "display_data",
     "data": {
      "text/html": [
       "<style scoped>\n",
       "  .table-result-container {\n",
       "    max-height: 300px;\n",
       "    overflow: auto;\n",
       "  }\n",
       "  table, th, td {\n",
       "    border: 1px solid black;\n",
       "    border-collapse: collapse;\n",
       "  }\n",
       "  th, td {\n",
       "    padding: 5px;\n",
       "  }\n",
       "  th {\n",
       "    text-align: left;\n",
       "  }\n",
       "</style><div class='table-result-container'><table class='table-result'><thead style='background-color: white'><tr><th>key</th><th>value</th></tr></thead><tbody><tr><td>spark.databricks.delta.formatCheck.enabled</td><td>false</td></tr></tbody></table></div>"
      ]
     },
     "metadata": {
      "application/vnd.databricks.v1+output": {
       "addedWidgets": {},
       "aggData": [],
       "aggError": "",
       "aggOverflow": false,
       "aggSchema": [],
       "aggSeriesLimitReached": false,
       "aggType": "",
       "arguments": {},
       "columnCustomDisplayInfos": {},
       "data": [
        [
         "spark.databricks.delta.formatCheck.enabled",
         "false"
        ]
       ],
       "datasetInfos": [],
       "dbfsResultPath": null,
       "isJsonSchema": true,
       "metadata": {
        "dataframeName": "_sqldf",
        "executionCount": 110
       },
       "overflow": false,
       "plotOptions": {
        "customPlotOptions": {},
        "displayType": "table",
        "pivotAggregation": null,
        "pivotColumns": null,
        "xColumns": null,
        "yColumns": null
       },
       "removedWidgets": [],
       "schema": [
        {
         "metadata": "{}",
         "name": "key",
         "type": "\"string\""
        },
        {
         "metadata": "{}",
         "name": "value",
         "type": "\"string\""
        }
       ],
       "type": "table"
      }
     },
     "output_type": "display_data"
    }
   ],
   "source": [
    "%sql\n",
    "SET spark.databricks.delta.formatCheck.enabled=false"
   ]
  },
  {
   "cell_type": "code",
   "execution_count": 0,
   "metadata": {
    "application/vnd.databricks.v1+cell": {
     "cellMetadata": {
      "byteLimit": 2048000,
      "implicitDf": true,
      "rowLimit": 10000
     },
     "inputWidgets": {},
     "nuid": "37d2fa39-acd9-4aef-ae81-83072b44dd3e",
     "showTitle": false,
     "tableResultSettingsMap": {},
     "title": ""
    }
   },
   "outputs": [
    {
     "output_type": "display_data",
     "data": {
      "text/html": [
       "<style scoped>\n",
       "  .table-result-container {\n",
       "    max-height: 300px;\n",
       "    overflow: auto;\n",
       "  }\n",
       "  table, th, td {\n",
       "    border: 1px solid black;\n",
       "    border-collapse: collapse;\n",
       "  }\n",
       "  th, td {\n",
       "    padding: 5px;\n",
       "  }\n",
       "  th {\n",
       "    text-align: left;\n",
       "  }\n",
       "</style><div class='table-result-container'><table class='table-result'><thead style='background-color: white'><tr><th>key</th><th>value</th></tr></thead><tbody><tr><td>spark.sql.streaming.schemaInference.enabled</td><td>true</td></tr></tbody></table></div>"
      ]
     },
     "metadata": {
      "application/vnd.databricks.v1+output": {
       "addedWidgets": {},
       "aggData": [],
       "aggError": "",
       "aggOverflow": false,
       "aggSchema": [],
       "aggSeriesLimitReached": false,
       "aggType": "",
       "arguments": {},
       "columnCustomDisplayInfos": {},
       "data": [
        [
         "spark.sql.streaming.schemaInference.enabled",
         "true"
        ]
       ],
       "datasetInfos": [],
       "dbfsResultPath": null,
       "isJsonSchema": true,
       "metadata": {
        "dataframeName": "_sqldf",
        "executionCount": 111
       },
       "overflow": false,
       "plotOptions": {
        "customPlotOptions": {},
        "displayType": "table",
        "pivotAggregation": null,
        "pivotColumns": null,
        "xColumns": null,
        "yColumns": null
       },
       "removedWidgets": [],
       "schema": [
        {
         "metadata": "{}",
         "name": "key",
         "type": "\"string\""
        },
        {
         "metadata": "{}",
         "name": "value",
         "type": "\"string\""
        }
       ],
       "type": "table"
      }
     },
     "output_type": "display_data"
    }
   ],
   "source": [
    "%sql\n",
    "SET spark.sql.streaming.schemaInference.enabled = true"
   ]
  },
  {
   "cell_type": "code",
   "execution_count": 0,
   "metadata": {
    "application/vnd.databricks.v1+cell": {
     "cellMetadata": {
      "byteLimit": 2048000,
      "rowLimit": 10000
     },
     "inputWidgets": {},
     "nuid": "d5abec94-2604-42a9-aaf7-c685fd6d8ff4",
     "showTitle": false,
     "tableResultSettingsMap": {},
     "title": ""
    }
   },
   "outputs": [],
   "source": [
    "# Stream records from Kinesis into dataframe\n",
    "df_pin = spark.readStream.format('kinesis')\\\n",
    "  .option('streamName', 'streaming-0affe94cc7d3-pin')\\\n",
    "  .option('initialPosition', 'earliest')\\\n",
    "  .option('region', 'us-east-1')\\\n",
    "  .option('awsAccessKey', ACCESS_KEY)\\\n",
    "  .option('awsSecretKey', SECRET_KEY)\\\n",
    "  .load()\n",
    "\n",
    "# Change cast type from byte to string\n",
    "df_pin = df_pin.selectExpr(\"CAST(data as STRING)\")"
   ]
  },
  {
   "cell_type": "code",
   "execution_count": 0,
   "metadata": {
    "application/vnd.databricks.v1+cell": {
     "cellMetadata": {
      "byteLimit": 2048000,
      "rowLimit": 10000
     },
     "inputWidgets": {},
     "nuid": "b75633c1-60ab-4a97-8be1-00790e87d763",
     "showTitle": false,
     "tableResultSettingsMap": {},
     "title": ""
    }
   },
   "outputs": [
    {
     "output_type": "display_data",
     "data": {
      "text/html": [
       "<style scoped>\n",
       "  .table-result-container {\n",
       "    max-height: 300px;\n",
       "    overflow: auto;\n",
       "  }\n",
       "  table, th, td {\n",
       "    border: 1px solid black;\n",
       "    border-collapse: collapse;\n",
       "  }\n",
       "  th, td {\n",
       "    padding: 5px;\n",
       "  }\n",
       "  th {\n",
       "    text-align: left;\n",
       "  }\n",
       "</style><div class='table-result-container'><table class='table-result'><thead style='background-color: white'><tr><th>ind</th><th>unique_id</th><th>title</th><th>description</th><th>poster_name</th><th>follower_count</th><th>tag_list</th><th>is_image_or_video</th><th>image_src</th><th>downloaded</th><th>save_location</th><th>category</th></tr></thead><tbody><tr><td>8610</td><td>1f1db6e4-45a4-46a8-a52b-38adea2646f7</td><td>Sabrina Carpenter Got Her Very First Tattoo, and It's a Reference to Her \"Lucky\" Life</td><td>The \"Work It\" star just got her first tiny tattoo by celebrity tattoo artist Dr. Woo, and the design is a reference to her \"lucky\"</td><td>POPSUGAR</td><td>5M</td><td>Petite Tattoos,Dainty Tattoos,Cute Tattoos,Small Tattoos,Tatoos,Small Feminine Tattoos,Grace Tattoos,Hip Tattoo Small,Hidden Tattoos</td><td>image</td><td>https://i.pinimg.com/originals/5a/45/ad/5a45adc8361768eb312c4d16d4db45f9.jpg</td><td>1</td><td>Local save in /data/tattoos</td><td>tattoos</td></tr><tr><td>9014</td><td>45c2e92a-5daf-40f3-9732-771c186c0757</td><td>75 More Small Tattoo Ideas from Playground Tattoo - Crestfox</td><td>Hi everyone! My last small tattoo ideas post was really popular on Pinterest, so I decided to put together this post with even more tiny tattoo ideas. Just like the other post,… </td><td>Sarah Wahl | Crestfox</td><td>17k</td><td>Little Tattoos,Mini Tattoos,Body Art Tattoos,Sleeve Tattoos,Tatoos,Flower Tattoos,White Tattoos,Arrow Tattoos,Word Tattoos</td><td>image</td><td>https://i.pinimg.com/originals/b5/72/b5/b572b5641d4efd2e9a13de2506b9e721.png</td><td>1</td><td>Local save in /data/tattoos</td><td>tattoos</td></tr><tr><td>8433</td><td>61ffdc64-3bfa-4c53-a9f0-9bc761514da5</td><td>Relationship Rules</td><td>Relationship Rules is a modern-age lifestyle/love blog that discusses everything from breakups to being amazing parents.</td><td>Kim Hefner</td><td>8</td><td>Now Quotes,Real Quotes,Words Quotes,Life Quotes,I Trust You Quotes,I Needed You Quotes,Sayings,The Lucky One Quotes,Losing Trust Quotes</td><td>image</td><td>https://i.pinimg.com/originals/da/d2/c4/dad2c43f1a4d7693a746758932139db0.webp</td><td>1</td><td>Local save in /data/quotes</td><td>quotes</td></tr><tr><td>10567</td><td>cf1e3bef-8a03-4b66-b19a-50d3c7d13f9a</td><td>Yessir</td><td>No description available Story format</td><td>Louisiana_Redneck</td><td>233</td><td>Dually Trucks,Lifted Chevy Trucks,Diesel Trucks,Pickup Trucks,Chevy Trucks Older,Old Ford Trucks,Truck Drivers,Jeep Pickup,Chevrolet Silverado</td><td>multi-video(story page format)</td><td>https://i.pinimg.com/videos/thumbnails/originals/d4/dd/de/d4ddde53e277c155dc72b336ec73a40e.0000001.jpg</td><td>1</td><td>Local save in /data/vehicles</td><td>vehicles</td></tr><tr><td>6892</td><td>ebf6b77f-0656-4297-92a4-f37f48f6cc44</td><td>Giuseppe Leonardi (@giuse_leonardi) • Instagram photos and videos</td><td>8 Followers, 11 Following, 0 Posts - See Instagram photos and videos from Giuseppe Leonardi (@giuse_leonardi)</td><td>Roberto Rafael Ovalle Echeverria</td><td>19</td><td>Der Gentleman,Gentleman Style,Lace Converse Shoes,Glitter Shoes,Swag Shoes,Fashion Shoes,Mens Fashion,Fashion Tips,Fashion Menswear</td><td>image</td><td>https://i.pinimg.com/originals/bb/18/6b/bb186bd58c4bc65b9036f874938a351b.jpg</td><td>1</td><td>Local save in /data/mens-fashion</td><td>mens-fashion</td></tr><tr><td>2016</td><td>ea82682c-5186-44fa-8b4d-9b4f6b74739e</td><td>Christmas Home Tour</td><td>Hi friends, It’s been a little while since I’ve published a blog post and a lot has happened in the last year for me and my family! My husband and I welcomed boy/girl twins into</td><td>Live Oak Nest</td><td>12k</td><td>French Country Christmas,Country Christmas Decorations,Farmhouse Christmas Decor,Xmas Decorations,Christmas Home,Christmas Ideas,Christmas Mantle Decorations,Cottage Christmas Decorating,Christmas Fireplace Mantels</td><td>image</td><td>https://i.pinimg.com/originals/a5/48/c6/a548c6175e16ff33dc25c983c8e3514c.jpg</td><td>1</td><td>Local save in /data/christmas</td><td>christmas</td></tr><tr><td>1128</td><td>c839f3ff-0e34-40be-9209-63f0b2c285fc</td><td>8 innovative drugstore beauty products to try in 2018</td><td>Celebrity beauty experts love these innovative drugstore beauty products.</td><td>TODAY Show</td><td>426k</td><td>Face Care,Skin Care,Facial Therapy,Facial Steamer,Spa Day At Home,Beauty Skin,Clean Beauty,Beauty Care,Natural Beauty</td><td>image</td><td>https://i.pinimg.com/originals/32/fc/92/32fc925c7fda3259e337c14aa8fdfc4d.jpg</td><td>1</td><td>Local save in /data/beauty</td><td>beauty</td></tr><tr><td>9608</td><td>7eb7a087-8889-4eae-9ad6-6d71ad7b09ad</td><td>Highlights of Scandinavia: 10 Days Itinerary in Denmark, Sweden and Norway</td><td>Follow our 10 days itinerary that takes you from Copenhagen to Oslo to Stockholm. From cosmopolitan Sweden to Denmark, the Wild West of Scandinavia to the fjords & valleys of No… </td><td>Anywhr</td><td>78</td><td>Travel To Sweden,Denmark Travel,Norway Travel,Beautiful Places To Travel,Cool Places To Visit,Places To Go,Cruise Travel,Summer Travel,Sweden Holidays</td><td>image</td><td>https://i.pinimg.com/originals/d0/e1/c7/d0e1c775d25ba92489aa134628be7611.png</td><td>1</td><td>Local save in /data/travel</td><td>travel</td></tr><tr><td>10678</td><td>e1ca5651-2047-4711-9665-3fd853aac88b</td><td>This Guy Transformed A 1961 VW Beetle Deluxe Into A Black Matte Roadster</td><td>It should come as no surprise that people love the VW Beetle and many honor it by converting the car into an even cooler version, just like designer Danni Koldal did with his bl… </td><td>Bored Panda</td><td>2M</td><td>Custom Trucks,Custom Cars,Vw Coccinelle Cabriolet,Mclaren P1 Black,Bmw R65,Jetta Vw,Carros Vw,Vw Beetle Convertible,Kdf Wagen</td><td>image</td><td>https://i.pinimg.com/originals/42/3b/6a/423b6a354062b0ee9c844ee4854656a4.jpg</td><td>1</td><td>Local save in /data/vehicles</td><td>vehicles</td></tr><tr><td>7954</td><td>e99cc6c5-0f3d-401e-9d20-e0d625b30038</td><td>150+ Best Love Quotes That'll Make Anyone Believe In Love</td><td>Finding new, different ways to say, 'I love you' can be tough. Here are 150+ of the best love quotes for him or her to express what loving and being loved means.</td><td>YourTango</td><td>942k</td><td>Love Quotes For Him Cute,Life Quotes Love,Best Love Quotes,Cute Quotes,Quotes To Live By,Favorite Quotes,Top Quotes,Hope Love Quotes,Cowboy Love Quotes</td><td>image</td><td>https://i.pinimg.com/originals/79/44/28/7944280986ed62559c8b8d72b94083c6.jpg</td><td>1</td><td>Local save in /data/quotes</td><td>quotes</td></tr><tr><td>2851</td><td>f2c2e634-b770-4223-a05a-4994f59c4513</td><td>DIY Puffy Paint Art</td><td>No description available Story format</td><td>Blossom</td><td>2M</td><td>Diy Crafts For Girls,Diy Crafts To Do,Diy Crafts Hacks,Diy Arts And Crafts,Cute Crafts,Toddler Crafts,Creative Crafts,Paper Crafts,Cool Crafts For Kids</td><td>multi-video(story page format)</td><td>https://i.pinimg.com/videos/thumbnails/originals/6c/82/c8/6c82c829071327c4edd932e1727997eb.0000001.jpg</td><td>1</td><td>Local save in /data/diy-and-crafts</td><td>diy-and-crafts</td></tr><tr><td>918</td><td>bbaeda98-41c0-4da9-9bb3-6fdafe3a4ced</td><td>All Natural Homemade Mascara</td><td>Homemade Bronzer</td><td>Ditch the Wheat</td><td>17k</td><td>Tips And Tricks,Make Beauty,Beauty Care,Diy Cosmetics Easy,Homemade Cosmetics,Natural Cosmetics,Nars Cosmetics,Homemade Bronzer,Homemade Mascara</td><td>image</td><td>https://i.pinimg.com/originals/b4/c3/ac/b4c3ace480ec096ca73083c77e7d2f06.jpg</td><td>1</td><td>Local save in /data/beauty</td><td>beauty</td></tr><tr><td>820</td><td>93334cf7-a34b-4c0f-a480-0d34b65d8379</td><td>Illustrator Turns Strangers Into Manga-Like Characters, And The Result Is Pretty Awesome</td><td>When most of us look at other people, we see, well, people. But when the artist behind Toonimated looks at people, all they see is cartoons.</td><td>Bored Panda</td><td>2M</td><td>Cool Drawings,Drawing Sketches,Drawing Tips,Pencil Drawings,Drawing Ideas,Hipster Drawings,Flower Drawings,Drawing Hair,Dress Sketches</td><td>image</td><td>https://i.pinimg.com/originals/20/a5/cb/20a5cb74e24f462246293d2e702cbe61.jpg</td><td>1</td><td>Local save in /data/art</td><td>art</td></tr><tr><td>9968</td><td>30b881a8-9bf1-4a23-aa53-21ad9f910e60</td><td>Venice, Italy Scenic Canal & Venetian Architecture Flyer | Zazzle.com</td><td>#Venice Italy Scenic Canal & Venetian Architecture Flyer - #office #gifts #giftideas #business</td><td>Zazzle </td><td>1M</td><td>Italy Travel Tips,Travel Destinations,Budget Travel,Spain Travel,Budget Hotels,Travel Tourism,Cheap Travel,Amazing Destinations,Phuket</td><td>image</td><td>https://i.pinimg.com/originals/db/98/3f/db983f6dee558408fbd680fb0bb19c4d.jpg</td><td>1</td><td>Local save in /data/travel</td><td>travel</td></tr><tr><td>7970</td><td>a43c8e2a-2497-493b-be0c-9013920ae902</td><td>Country Music - Latest News, Breaking Stories and Comment - Country Thang Daily</td><td>I can be as stubborn as a mule, sweet as tea, angry as a hornet, or loyal like a soldier. It all depends on you. #countryquotes #countrygirls #muddygirls #countrylife #countryst… </td><td>Country Thang Daily</td><td>9k</td><td>Life Quotes Love,Great Quotes,Quotes To Live By,Me Quotes,Funny Quotes,Inspirational Quotes,Humor Quotes,Baby Quotes,Motivational Quotes</td><td>image</td><td>https://i.pinimg.com/originals/a0/77/fb/a077fb2764eb46f9b3d450c36bbcf25a.jpg</td><td>1</td><td>Local save in /data/quotes</td><td>quotes</td></tr><tr><td>8029</td><td>76a96fdf-fd9d-41e6-89e4-faed2da2b672</td><td>20 Sassy Quotes That Remind You To Live Unapologetically</td><td>Sassy Quotes | Being You | Inspirational Quotes | #beinspired #beyourself #inspirationalquote | www.unsoshl.com</td><td>YourTango</td><td>942k</td><td>Sassy Quotes,Motivacional Quotes,Quotes Thoughts,Super Quotes,Sarcastic Quotes,Wisdom Quotes,True Quotes,Words Quotes,Best Quotes</td><td>image</td><td>https://i.pinimg.com/originals/b5/1f/04/b51f0416139da44edac61852a9c8a700.jpg</td><td>1</td><td>Local save in /data/quotes</td><td>quotes</td></tr><tr><td>2823</td><td>08cbe03b-5b4f-4c4d-85b6-ba4f8c3c9602</td><td>Dollar Tree Christmas Village Hack - The Latina Next Door</td><td>With this Dollar Tree Christmas Village Hack you can create your own high end Christmas Village without the huge expense, and it's so easy!</td><td>Yami @ The Latina Next Door | Blogger | DIY | Budget Friendly Home Decor | Recipes |  Latina</td><td>24k</td><td>Christmas Tree Village,Dollar Tree Christmas,Christmas Hacks,Diy Christmas Ornaments,Christmas Projects,Diy Christmas Gifts,Christmas Decorations Dollar Tree,Christmas Villages,Homemade Christmas</td><td>image</td><td>https://i.pinimg.com/originals/fb/37/55/fb375515aaebda118ab9c8c518fbcfc4.png</td><td>1</td><td>Local save in /data/diy-and-crafts</td><td>diy-and-crafts</td></tr><tr><td>4546</td><td>07058054-b6de-47b6-a990-1705906780fa</td><td>Wedding Ideas - WeddingWire</td><td>Get expert wedding planning advice and find the best ideas for wedding decorations, wedding flowers, wedding cakes, wedding songs, and more.</td><td>Project Wedding</td><td>132k</td><td>Perfect Wedding,Dream Wedding,Wedding Day,Wedding Reception,Wedding Photos,Wedding Stuff,Money Box Wedding,Wedding Orange,Wedding Pins</td><td>image</td><td>https://i.pinimg.com/originals/7b/b0/b2/7bb0b2ad559a3e9fdd461dc69a661ee3.jpg</td><td>1</td><td>Local save in /data/event-planning</td><td>event-planning</td></tr><tr><td>5467</td><td>cb4fdb00-6006-41bd-adce-9cdab8bc7d93</td><td>ETF CHEATSHEET</td><td>Are you bored living in poor mindset? You are on the right place! If you want to learn about investing in dividends and passive income, this is best page on pinterest for BEGGIN… </td><td>GloryInvestingShow</td><td>98k</td><td>Financial Quotes,Financial Peace,Stock Market Investing,Investing In Stocks,Value Investing,Investing Money,Stocks For Beginners,Dividend Investing,Dividend Stocks</td><td>image</td><td>https://i.pinimg.com/originals/9d/41/09/9d4109bece52910d517ba30b21812b85.jpg</td><td>1</td><td>Local save in /data/finance</td><td>finance</td></tr><tr><td>5671</td><td>b6686182-8f93-46c3-94d5-2b91a6631926</td><td>No Title Data Available</td><td>No description available Story format</td><td>User Info Error</td><td>User Info Error</td><td>N,o, ,T,a,g,s, ,A,v,a,i,l,a,b,l,e</td><td>multi-video(story page format)</td><td>Image src error.</td><td>0</td><td>Local save in /data/finance</td><td>finance</td></tr><tr><td>3495</td><td>c0378b53-c914-4a28-9b83-b4dab5c7116f</td><td>School's Over : How to Have Freedom and Democracy in Education (Paperback)</td><td>In School's Over: How to Have Freedom & Democracy in Education, Jerry Mintz outlines the components of successful democratic schools and how these schools change the lives of th… </td><td>Walmart</td><td>2M</td><td>Ken Robinson,Ny Times,Bestselling Author,Freedom,Outlines,Memories,Schools,Education,Globe</td><td>image</td><td>https://i.pinimg.com/originals/9a/98/99/9a9899d33bf4ba24b44c32d88c110ce9.jpg</td><td>1</td><td>Local save in /data/education</td><td>education</td></tr><tr><td>6722</td><td>21e44096-1aa4-44f8-a310-6c15c8afa432</td><td>Simple Spring Decorating - Ella Claire</td><td>Simple spring touches in the entryway are a sweet greeting to family and friends. Easy accents such as a wreath, pillows, vintage tackle basket, and floppy hat are so charming t… </td><td>Kristen Whitby | Ella Claire & Co.</td><td>126k</td><td>Decor Room,Diy Bedroom Decor,Living Room Decor,Diy Home Decor,Simple Home Decoration,Decor Crafts,Living Rooms,Home Design,Interior Design</td><td>image</td><td>https://i.pinimg.com/originals/39/da/e5/39dae50b488b37f7b7dba73d7a5476dd.jpg</td><td>1</td><td>Local save in /data/home-decor</td><td>home-decor</td></tr><tr><td>8601</td><td>eeac79f4-89a3-413a-92e9-331f147c9c0f</td><td>25 Tiny And Pretty Flower Tattoo Designs You Would Love - Women Fashion Lifestyle Blog Shinecoco.com</td><td>Flower tattoo is always popular in the tattoo fashion world, and we love all these flower tattoo designs. No matter the flower design is large or small, no matter the tattoo is… </td><td>Shinecoco</td><td>101k</td><td>Ankel Tattoos,Cute Ankle Tattoos,Ankle Tattoos For Women,Black Tattoos,Body Art Tattoos,Tattos,Dainty Tattoos For Women,Small Flower Tattoos For Women,Side Wrist Tattoos</td><td>image</td><td>https://i.pinimg.com/originals/69/d8/49/69d84989ca35345a97b6bdb2df917ea0.jpg</td><td>1</td><td>Local save in /data/tattoos</td><td>tattoos</td></tr><tr><td>6641</td><td>1232e344-ecee-482f-8fb7-4d101aca4c4e</td><td>Traditional Black Sofa Table Transformation - Jessica Sara Morris</td><td>Traditional Black Sofa Table Transformation. I found A Sofa Table On Marketplace for 45 dollars and transformed it into a pottery barn look alike</td><td>JESSICA SARA MORRIS | HOME DECOR + DIY ON A BUDGET</td><td>36k</td><td>Black Sofa Table,Black Entry Table,Black Sofa Decor,Black Sofa Living Room Decor,Black White Decor,Living Room Panelling,Black Wall Decor,Black Wall Mirror,Black And White Interior</td><td>image</td><td>https://i.pinimg.com/originals/f0/d3/36/f0d3363aeeb2899056b523eb2b111ac7.jpg</td><td>1</td><td>Local save in /data/home-decor</td><td>home-decor</td></tr><tr><td>5261</td><td>094e4217-e85a-47a8-bf59-024882a29f63</td><td>15 Things I Don't Spend Money On</td><td>Do you know you are spending WAY more money than you need to on general household costs? Here's 15 main things I do NOT spend money on and the best tips on how you can start doi… </td><td>Free Printables, SVG's, Binders & Planners with Sarah Titus</td><td>37k</td><td>Best Money Saving Tips,Ways To Save Money,Money Tips,Saving Money,Budget Help,Budgeting Money,Financial Tips,Frugal Tips,Saving Ideas</td><td>image</td><td>https://i.pinimg.com/originals/10/1d/6d/101d6d1794fa058a0be4762bc504175d.jpg</td><td>1</td><td>Local save in /data/finance</td><td>finance</td></tr><tr><td>6679</td><td>8e9c334a-e744-49eb-9053-8865abcee07c</td><td>50 top items in home decor | Home decorating ideas | Style Curator</td><td>When decorating your home, you can reach a point where you wonder ‘what else can I use?’. You’ve maxed out the amount of photos you want to display and have more candles than yo… </td><td>Style Curator | Gina Ciancio</td><td>76k</td><td>Room Interior,Interior Design Living Room,Living Room Designs,Lounge Room Designs,Lounge Ideas,Paint Colors For Living Room,Room Paint,Living Room Tv,Living Room Decor Ideas Apartment</td><td>image</td><td>https://i.pinimg.com/originals/67/29/c9/6729c9ad77a03655a899cfc73f194c14.jpg</td><td>1</td><td>Local save in /data/home-decor</td><td>home-decor</td></tr><tr><td>4411</td><td>af9021fc-29bd-49ab-941b-6f24f7832180</td><td>Elegant Wedding Table Decor On A Thrift STore Budget</td><td>This is a huge list of wedding table decor to shop for at the thrift store. Nothing beats wedding decor on a budget!</td><td>Small Stuff Counts</td><td>18k</td><td>Flower Table Decorations,Wedding Decorations On A Budget,Wedding Favors Cheap,Wedding Table Centerpieces,Budget Wedding,Wedding Ideas,Wedding Planning,Event Planning,Diy Wedding</td><td>image</td><td>https://i.pinimg.com/originals/9d/33/c3/9d33c3ffbf80d4ea4ad2e1fb6dc0329c.jpg</td><td>1</td><td>Local save in /data/event-planning</td><td>event-planning</td></tr><tr><td>3866</td><td>9aa2d5f3-b89b-442f-b876-10ddb7f4f45a</td><td>Virtual Dissection and Science Labs for Homeschoolers</td><td>Truth is, finding virtual dissection and labs isn't as hard as it used to be. We have a list of the best Virtual Dissection Labs for Homeschoolers!</td><td>3 Boys and a Dog</td><td>83k</td><td>Homeschool Science Curriculum,Homeschool High School,Teaching Science,Science Lessons,Science For Kids,Science Activities,Online Homeschooling,Science Labs,Catholic Homeschooling</td><td>image</td><td>https://i.pinimg.com/originals/8c/00/3e/8c003eaea3201e04f5fb5161108161af.jpg</td><td>1</td><td>Local save in /data/education</td><td>education</td></tr><tr><td>3978</td><td>0cf9170f-fca3-4c6d-a2f3-aefbd02b8fcc</td><td>Do you hate taking Notes during online Lecture?|</td><td>No description available Story format</td><td>Global Assignment Help Australia</td><td>6k</td><td>College Life Hacks,High School Hacks,Teen Life Hacks,High School Life,Life Hacks For School,School Study Tips,College Humor,Life Hacks Websites,Fun Websites</td><td>multi-video(story page format)</td><td>https://i.pinimg.com/videos/thumbnails/originals/57/f4/98/57f498cf8550c52f98658374e0a8ab58.0000001.jpg</td><td>1</td><td>Local save in /data/education</td><td>education</td></tr><tr><td>8112</td><td>0c9e083a-43f3-4f1f-a2ca-24bdc9baf4f9</td><td>'I Love  You' Quotes: 22 Heartwarming Quotes To Help You Say 'I Love You’</td><td>There are more ways to say I love you than those three little words. Here are some fantastic I love you quotes for everyone!</td><td>Women.com</td><td>166k</td><td>Love Quotes For Him Cute,Love Quotes For Him Boyfriend,Sweet Love Quotes,Girlfriend Quotes,Love Yourself Quotes,Love Is Sweet,So In Love,I Will Always Love You Quotes,My King Quotes</td><td>image</td><td>https://i.pinimg.com/originals/96/b6/6c/96b66c0222d3c197e0314c3b8d547254.jpg</td><td>1</td><td>Local save in /data/quotes</td><td>quotes</td></tr><tr><td>99</td><td>ccd0afd0-5a4a-470a-8891-4583ab3d8139</td><td>Self-Taught Artist Makes Amazing Female Portraits Based On Doodles</td><td>Liz Y Ahmet is a UK-based, self-taught artist who creates portraits of women from hundreds of scribbled lines. What looks chaotic and even a little bit messy emerges into perfec… </td><td>Bored Panda</td><td>2M</td><td>Self Portrait Drawing,Abstract Portrait Painting,Portrait Sketches,Art Drawings Sketches,Cool Art Drawings,Biro Portrait,Self Portrait Artists,Abstract Sketches,Portrait Paintings</td><td>image</td><td>https://i.pinimg.com/originals/ad/2c/7f/ad2c7f39306eda6da8675ea8f50e6233.jpg</td><td>1</td><td>Local save in /data/art</td><td>art</td></tr><tr><td>7937</td><td>9709b0bd-6ba2-4e83-98a3-1ffdbc4354bc</td><td>inspirational quotes</td><td>build that future inspirational quotes</td><td>Vinny and Charles Fine Jewellery</td><td>2k</td><td>Mantra Quotes,Motivacional Quotes,Quotes Thoughts,Words Quotes,Wise Words,Life Quotes,Habit Quotes,Drake Quotes,Lovers Quotes</td><td>image</td><td>https://i.pinimg.com/originals/94/eb/18/94eb18dda8057ab94ace6b424e94bc55.jpg</td><td>1</td><td>Local save in /data/quotes</td><td>quotes</td></tr><tr><td>10010</td><td>526bd12c-74e2-49fd-b366-b1f7574a0bfc</td><td>10 Tips for Women Traveling Alone</td><td>{10 Tips for Traveling Solo} What would you add to the list?</td><td>Peanut Blossom | Easy Recipes, Book Club, and Holiday Ideas</td><td>281k</td><td>Solo Travel Tips,Travel Packing,Travel Advice,Travel Stuff,Packing Tips,Travel Luggage,Luggage Packing,Traveling Tips,Travel Hacks</td><td>image</td><td>https://i.pinimg.com/originals/6f/e9/15/6fe9159acbcbf742c1cec7dfa8c34845.jpg</td><td>1</td><td>Local save in /data/travel</td><td>travel</td></tr><tr><td>10774</td><td>c6066abe-a261-49e0-92f7-0b1bf22d414c</td><td>Buggy</td><td>VW Beetle</td><td>JD Rucker</td><td>6k</td><td>Buggy,Fusca Cross,Wolkswagen Van,Combi Wv,Vw Beach,Vw Baja Bug,Kdf Wagen,E Motor,Offroader</td><td>image</td><td>https://i.pinimg.com/originals/d7/99/d6/d799d604673d0a1fa45066b1bb3263f0.jpg</td><td>1</td><td>Local save in /data/vehicles</td><td>vehicles</td></tr><tr><td>6650</td><td>c80068ea-9fa3-4896-af45-5636cd7d8705</td><td>MULTIPLE Afrocentric Bathroom Shower Curtains - Pro Black Home Decorations / Decor - Head wrap</td><td>Afrocentric Bathroom Shower Curtains / Home Decor These beautiful afrocentric shower curtains are approximately 59x70 inches and fits most typical bathroom showers. We have even… </td><td>Ethnic Earring</td><td>14k</td><td>Black Shower Curtains,Bathroom Shower Curtains,Fabric Shower Curtains,Bathroom Showers,Bathroom Ideas,Bathrooms,African Shower Curtain,Casa Top,Shower Curtain Sizes</td><td>image</td><td>https://i.pinimg.com/originals/bf/08/e5/bf08e53ed06f48f2d05c9ae115e39ace.png</td><td>1</td><td>Local save in /data/home-decor</td><td>home-decor</td></tr><tr><td>1230</td><td>9cc76b52-d61e-48d0-8498-c51736117bf7</td><td>Perfect Skin Care Hacks</td><td>Do this glow up challenge and have a glow up of your life! Face, body, hair, and nails - here's how to glow up with beauty in 30 days or less.</td><td>The ShineSheets - Personal Development, Beauty, Mental Health</td><td>53k</td><td>Face Skin Care,Diy Skin Care,Skin Care Tips,Good Skin Tips,Face Care Tips,Clear Skin Tips,Beauty Tips For Glowing Skin,Beauty Skin,Face Beauty</td><td>image</td><td>https://i.pinimg.com/originals/8a/8a/c8/8a8ac81de60b1e099bdfd5b3a6f84649.jpg</td><td>1</td><td>Local save in /data/beauty</td><td>beauty</td></tr><tr><td>8329</td><td>6d5fcca0-699c-474f-b34e-13e560e7900f</td><td>15 Inspirational quotes to start your day off feeling motivated and positive. Inspiring words can he</td><td>Here are 15 inspirational quotes to start your day feeling motivated and positive. Inspiring words are a great tool to combat anxiety and fear. They can offer hope and spark you… </td><td>Dream Dash Journal</td><td>19k</td><td>Motivacional Quotes,Life Quotes Love,Wisdom Quotes,Words Quotes,Wise Words,Funny Quotes,Day Off Quotes,Quotes Of Hope,Quotes About Fear</td><td>image</td><td>https://i.pinimg.com/originals/79/77/62/7977620a62cbaa59b3f02ebaf6092fec.jpg</td><td>1</td><td>Local save in /data/quotes</td><td>quotes</td></tr><tr><td>4196</td><td>a8fce1cc-94ce-4592-9fbd-f679f37e44ab</td><td>How to Structure Learning Stations Online - Write on With Miss G</td><td>creating online learning stations for small groups during distance learning</td><td>Write on with Miss G | English Teacher | Engaging ELA Lessons</td><td>10k</td><td>Teaching Technology,Medical Technology,Educational Technology,Technology Tools,Educational Leadership,Educational Toys,Google Classroom,Classroom Ideas,People Reading</td><td>image</td><td>https://i.pinimg.com/originals/46/01/f1/4601f15ffdcda22f92c9617c48ed5744.jpg</td><td>1</td><td>Local save in /data/education</td><td>education</td></tr><tr><td>10385</td><td>11089567-a8bd-427f-9f25-42a1b1515094</td><td>Meet the Honda Kei, a simple and efficient autonomous vehicle for commuting in the urban future - Yanko Design</td><td>If you know anything about Japanese cars, you've definitely heard about Kei car. It literally means \"light car\" and was a result of the spending capability of t</td><td>Yanko Design - Form Beyond Function</td><td>416k</td><td>Car Design Sketch,Car Sketch,Kei Car,Cab Over,Honda S,Smart Car,Futuristic Cars,Japanese Cars,Transportation Design</td><td>image</td><td>https://i.pinimg.com/originals/f4/9e/15/f49e1591c73b7ed70a5944c5b348df62.png</td><td>1</td><td>Local save in /data/vehicles</td><td>vehicles</td></tr><tr><td>9106</td><td>a4c5a298-f07f-4a76-bece-45219ef9ecac</td><td>13 Inspiring Shakespeare Tattoos</td><td>If you're a romantic bookworm looking to truly express your love for the Bard and his works, check out these Shakespeare tattoos and get inspired.</td><td>Books and Bao | Travel, Culture, Books</td><td>4k</td><td>Feminine Tattoo Sleeves,Feminine Tattoos,Unique Tattoos,Cute Tattoos,Leg Tattoos,Beautiful Tattoos,Body Art Tattoos,Small Tattoos,Sleeve Tattoos</td><td>image</td><td>https://i.pinimg.com/originals/01/63/eb/0163eb6fee8859189645e4d6d7432e70.jpg</td><td>1</td><td>Local save in /data/tattoos</td><td>tattoos</td></tr><tr><td>6394</td><td>41ceecc7-20db-490f-912e-22cb04141a88</td><td>Easy Vase Filler DIY</td><td>No description available Story format</td><td>Purposefully Emilie</td><td>17k</td><td>Diy Crafts For Home Decor,Fall Home Decor,Autumn Home,Diy Decorations For Home,Target Home Decor,Handmade Home Decor,Diy Wall Decor,Tray Decor,Cheap Home Decor</td><td>multi-video(story page format)</td><td>https://i.pinimg.com/videos/thumbnails/originals/bf/47/81/bf4781fbbb114d1305151c7f4dd13f70.0000001.jpg</td><td>1</td><td>Local save in /data/home-decor</td><td>home-decor</td></tr><tr><td>7060</td><td>86e2b4bb-a264-4dfb-bc38-9c537f43e27e</td><td>Don’t Be That Guy: Avoiding Over-40 Style Pitfalls</td><td>As men age, dressing stylishly gets increasingly treacherous—especially with fashion veering ever more casual. But giving up entirely is never a good look. Here’s help</td><td>The Wall Street Journal</td><td>194k</td><td>Fashion For Men Over 40,Mature Mens Fashion,Old Man Fashion,Stylish Mens Fashion,Fall Fashion,Fashion Ideas,Casual Clothes For Men Over 50,Stylish Men Over 50,Womens Fashion</td><td>image</td><td>https://i.pinimg.com/originals/f7/6c/87/f76c87c1b0e0bd84061c4f996b15bdea.jpg</td><td>1</td><td>Local save in /data/mens-fashion</td><td>mens-fashion</td></tr><tr><td>7663</td><td>5adc6dd8-7ca8-4bd8-9db5-f00eaa3ee7b5</td><td>Amaya Itami of the Pain Clan(Naruto Fanfiction)(Garra love story) - The Forest Of Death</td><td>THIS IS BEING REWRITTEN AND FIXED BECAUSE IM AWEFUL AND MESSED UP THE PLOT SO PEASE BARE WITH ME WHILE I FIX MY FUCK UP.</td><td>Maddie Kay Russell</td><td>1</td><td>Feeling Broken Quotes,Deep Thought Quotes,Quotes Deep Feelings,Feeling Alone Quotes,Hurt Feelings,New Quotes,Mood Quotes,Inspirational Quotes,Qoutes</td><td>image</td><td>https://i.pinimg.com/originals/78/93/51/789351e2db23b093dcc1164c120bf8fc.jpg</td><td>1</td><td>Local save in /data/quotes</td><td>quotes</td></tr><tr><td>5535</td><td>f829fb7a-c7b1-4a8d-8185-59ac61533ad4</td><td>100 Easy Ways To Save Money Right Now</td><td>Want to save more money this year, pay off your debts, and improve your finances? These 100 money saving tips are what you need to move your finances in the right direction. #mo… </td><td>Savvy Personal Finance | Save Money, Make Money & Investing Tips</td><td>20k</td><td>Save Money On Groceries,Ways To Save Money,Money Tips,Money Budget,Mo Money,Money Hacks,Budgeting Finances,Budgeting Tips,Budgeting Worksheets</td><td>image</td><td>https://i.pinimg.com/originals/06/a8/cf/06a8cf91027ae640ed780badc8f6d96c.png</td><td>1</td><td>Local save in /data/finance</td><td>finance</td></tr><tr><td>8555</td><td>8fa3a9e0-36d8-4860-916a-da3765740f58</td><td>41 Simple First Small Tattoo Ideas For Women</td><td>Small tattoos are becoming increasingly popular and loved by women, and if this is going to be your first tattoo, then choosing a small tattoo may be the best option. Small tatt… </td><td>IdeasDonuts</td><td>47k</td><td>Simple Shoulder Tattoo,Small Hand Tattoos,Shoulder Tattoos For Women,Wrist Tattoos For Women,Dainty Tattoos,Cool Small Tattoos,Small First Tattoos,Funny Small Tattoos,Tattoo Simple</td><td>image</td><td>https://i.pinimg.com/originals/02/b8/99/02b899adc21d68239f8be6d7f4e13435.jpg</td><td>1</td><td>Local save in /data/tattoos</td><td>tattoos</td></tr><tr><td>8637</td><td>e9ac5027-7491-477c-b0f4-cd042ec0c9de</td><td>Night Rose - XS</td><td>ULTRA REALISTIC TEMP TATS THAT LAST 3-7 DAYS YOUR KIT INCLUDES Designs Real Teal™ Shine Remover Instructions</td><td>Momentary Ink</td><td>27k</td><td>Boho Tattoos,Mini Tattoos,Cute Tattoos,Body Art Tattoos,Small Tattoos,Sleeve Tattoos,Tattoos To Draw,Medium Size Tattoos,Small Flower Tattoos</td><td>image</td><td>https://i.pinimg.com/originals/17/f2/b5/17f2b5dd3efdb988e0b9745ebf6bbfc1.jpg</td><td>1</td><td>Local save in /data/tattoos</td><td>tattoos</td></tr><tr><td>3856</td><td>6072eb52-009f-44f7-b2c6-d4ad1ab5adcd</td><td>Simmons College/Beacon Press Race, Education, and Democracy: Another Kind of Public Education : Race, Schools, the Media, and Democratic Possibilities (Paperback)</td><td>In this fiercely intelligent yet accessible book, one of the nation's leading sociologists and experts on race calls for another kind of public education--one that opens up more… </td><td>Walmart</td><td>2M</td><td>Public School,High School,Coming Of Age,Senior Year,Powerful Words,Young People,New Books,Schools,The Twenties</td><td>image</td><td>https://i.pinimg.com/originals/b4/0b/9d/b40b9d3fdb659f923472ac850353f376.jpg</td><td>1</td><td>Local save in /data/education</td><td>education</td></tr><tr><td>8407</td><td>93b5651e-40b8-4520-8bb7-89b11bd22438</td><td>MOTIVATION</td><td>No description available Story format</td><td>SAHYA</td><td>6k</td><td>Better Life Quotes,Good Life Quotes,Wise Quotes,Motivational Quotes,Inspirational Quotes,Movie Quotes,Qoutes,Study Motivation Quotes,Study Quotes</td><td>multi-video(story page format)</td><td>Image src error.</td><td>0</td><td>Local save in /data/quotes</td><td>quotes</td></tr><tr><td>9744</td><td>210e753e-24a1-499a-95e5-2d8c8867ede5</td><td>No Title Data Available</td><td>No description available Story format</td><td>User Info Error</td><td>User Info Error</td><td>N,o, ,T,a,g,s, ,A,v,a,i,l,a,b,l,e</td><td>multi-video(story page format)</td><td>Image src error.</td><td>0</td><td>Local save in /data/travel</td><td>travel</td></tr><tr><td>1170</td><td>fafb96e7-e2c6-436b-beac-caf5e3a1cbf5</td><td>Best shade makeup foundation for your skin match guide tutorial- beauty tutorial hacks</td><td>No description available Story format</td><td>miss coco</td><td>157k</td><td>Eye Makeup Steps,Blue Eye Makeup,Skin Makeup,Simple Makeup,Natural Makeup,Concealer,Makeup Tips Foundation,Foundation Shade,Full Coverage Foundation</td><td>multi-video(story page format)</td><td>https://i.pinimg.com/videos/thumbnails/originals/92/6f/33/926f33779cb5fe0b76ff08e992e8e867.0000001.jpg</td><td>1</td><td>Local save in /data/beauty</td><td>beauty</td></tr><tr><td>7989</td><td>1cb89f3b-dd0c-4b64-aab3-7d5b83aede13</td><td>Breaking the Toxic Cycle of Trauma Bonding</td><td>Narcissists thrive on fights for a few reasons. For one, you're providing the narcissist with undivided attention, emotional capacity, and energy – all of which feeds their addi… </td><td>Kim Saeed | Narcissistic Abuse Recovery Expert</td><td>42k</td><td>Narcissistic People,Narcissistic Abuse Recovery,Narcissistic Behavior,Narcissistic Sociopath,Narcissistic Personality Disorder,Narcissistic Mother,Narcissist Cycle,Trauma,Ptsd</td><td>image</td><td>https://i.pinimg.com/originals/f8/c0/ea/f8c0ea6f3ecaffdc764bc6b9fc99137f.jpg</td><td>1</td><td>Local save in /data/quotes</td><td>quotes</td></tr><tr><td>10699</td><td>c21e3809-59d4-4980-a17d-f9be5f1e5d16</td><td>1967 Ford Mustang Hardtop - Fast In Pink</td><td>At last year's Mustang Club of America national show in Mustang, Oklahoma, I learned to never trust my first glance-or even the second. While walking the show l</td><td>Keitha Rankin</td><td>248</td><td>Mustang Rose,1967 Mustang,Mustang Cars,Mustang Fastback,Classic Mustang,Ford Classic Cars,Ford Mustangs,Playboy,Ayrton Senna</td><td>image</td><td>https://i.pinimg.com/originals/c7/c3/61/c7c3610ca42bcbcaadc276ef8cd85c65.jpg</td><td>1</td><td>Local save in /data/vehicles</td><td>vehicles</td></tr><tr><td>6011</td><td>82bd6b35-465b-4173-80a1-1b9b74290738</td><td>Our Family's Future Hill Country Home Inspiration: Modern Farmhouse Kitchens - HOUSE of HARPER</td><td>Our Family's Future Hill Country Home Inspiration: Modern Farmhouse Kitchens - HOUSE of HARPER #modernfarmhouse #modernfarmhousekitchen #kitchens</td><td>HOUSE of HARPER</td><td>49k</td><td>Kitchen Ikea,New Kitchen,Cheap Kitchen,Smart Kitchen,Kitchen Wood,Floors Kitchen,Kitchen White,Awesome Kitchen,Kitchen Small</td><td>image</td><td>https://i.pinimg.com/originals/61/9a/c6/619ac60829aeae7665f968e596879566.jpg</td><td>1</td><td>Local save in /data/home-decor</td><td>home-decor</td></tr><tr><td>7981</td><td>9f34995c-4e78-4638-bfd2-1fe267ab5dea</td><td>THINGS</td><td>No description available Story format</td><td>MONTANO DIANA ✿◕‿◕✿</td><td>2k</td><td>Positive Affirmations Quotes,Affirmation Quotes,Wisdom Quotes,True Quotes,Words Quotes,Wise Words,Positive Quotes,Motivational Quotes,Wall Of Quotes</td><td>multi-video(story page format)</td><td>Image src error.</td><td>0</td><td>Local save in /data/quotes</td><td>quotes</td></tr><tr><td>9741</td><td>dc71aab4-380d-4b93-a3f4-897642338299</td><td>THE BIG WATER (GREEN)</td><td>This hat was made specifically for all of your aquatic adventures, hikes that might get extra sweaty, and killer trail runs. It features quick-drying fabric and breathable wide-… </td><td>Sonnies Outside | Outdoor Apparel + Outside Enthusiast</td><td>222</td><td>Mountain Climbing,Rock Climbing,Nature Adventure,Adventure Time,Granola Girl,Hiking Essentials,Green Hats,Outdoor Recreation,Trail Running</td><td>image</td><td>https://i.pinimg.com/originals/75/23/ac/7523acfef129610b0a888e59e0f29345.jpg</td><td>1</td><td>Local save in /data/travel</td><td>travel</td></tr><tr><td>3097</td><td>c6b2f900-b1d6-44d9-b719-9187a6a9f404</td><td>Pin on Frozen 2 Activities</td><td>Mar 20, 2020 - Learn how to fold and cut these coffee filter snowflakes. Take this winter craft to the next level by dyeing them using markers and water. Easy and fun!</td><td>The Printables Fairy | Printables & Activities For Kids</td><td>6k</td><td>Winter Activities For Kids,Winter Crafts For Kids,Christmas Activities,Winter Fun,Kids Printable Activities,Winter Preschool Crafts,Simple Crafts For Kids,At Home Crafts For Kids,Art Games For Kids</td><td>image</td><td>https://i.pinimg.com/originals/da/6c/1e/da6c1ea60fb485b023a4b86c8ea62040.jpg</td><td>1</td><td>Local save in /data/diy-and-crafts</td><td>diy-and-crafts</td></tr><tr><td>2210</td><td>993f0d01-4d87-40a1-aadc-d51c7cafc31b</td><td>Have Yourself A Merry Christmas: 75 Ho-Ho-Holiday Decor Ideas</td><td>In the spirit of Christmas, we would love to share with you some fabulous holiday decor ideas to leave you feeling inspired.</td><td>One Kindesign</td><td>657k</td><td>Christmas Fireplace,Christmas Mantels,Farmhouse Christmas Decor,Rustic Christmas,Winter Christmas,Christmas Crafts,Holiday Decor,Christmas Vacation,Fireplace Mantel Christmas Decorations</td><td>image</td><td>https://i.pinimg.com/originals/2f/56/92/2f569211961627c4a3bb6b0d3a7d9265.png</td><td>1</td><td>Local save in /data/christmas</td><td>christmas</td></tr><tr><td>6984</td><td>2ed17d3d-adfd-4f55-9af1-b97a34f4a039</td><td>Get The Perfect OOTD Look</td><td>Tired struggling to find the perfect outfit in the morning? Here are some amazing OOTD Ideas for men to flaunt. Stay Tunned!</td><td>TheUnstitchd</td><td>723k</td><td>Business Casual Men,Men Casual,Smart Casual,Casual Winter,Outfit Winter,Winter Style,Komplette Outfits,Casual Outfits,Dress Casual</td><td>image</td><td>https://i.pinimg.com/originals/84/7e/06/847e06d7b2885ddad8ad955f103c32ee.png</td><td>1</td><td>Local save in /data/mens-fashion</td><td>mens-fashion</td></tr><tr><td>1195</td><td>0634d842-6331-440b-8916-86526e13806b</td><td>6 Amazing Beauty Benefits of Apple Cider Vinegar</td><td>Apple cider vinegar helps to soothe sunburn as well as relieves pigment spots and other skin problems</td><td>Beauty Epic</td><td>338k</td><td>Beauty Care,Beauty Skin,Health And Beauty,Beauty Advice,Beauty Ideas,Diy Beauty,Beauty Guide,Beauty Habits,Healthy Beauty</td><td>image</td><td>https://i.pinimg.com/originals/5a/d0/ab/5ad0ab60a00a593a95c89d3c3897abd8.jpg</td><td>1</td><td>Local save in /data/beauty</td><td>beauty</td></tr><tr><td>7372</td><td>a26c1d96-72d5-43af-8221-496bb0e2c0a0</td><td>The Wilton Jacket in Navy Birdseye Wool</td><td>The Wilton Jacket in Navy Birdseye Wool from Taylor Stitch</td><td>Charlie Watters</td><td>5</td><td>Mens Outdoor Fashion,Older Mens Fashion,Mens Fashion Casual Shoes,Winter Fashion Outfits,Men Casual,Rugged Men's Fashion,Fashion Menswear,Man Fashion,Casual Winter</td><td>image</td><td>https://i.pinimg.com/originals/18/a4/40/18a440b1907a55aa19d67306dee36772.jpg</td><td>1</td><td>Local save in /data/mens-fashion</td><td>mens-fashion</td></tr><tr><td>3815</td><td>cb3d8579-7150-463d-906d-8a4329b36314</td><td>Phonics books for r-controlled vowels</td><td>These free printable phonetic books will help your child master those tricky r-controlled vowels!</td><td>The Measured Mom | Structured literacy | Teaching Pre-K-3rd</td><td>219k</td><td>Phonics Books,Phonics Reading,Teaching Phonics,Phonics Activities,Kindergarten Reading,Reading Activities,Teaching Reading,Guided Reading,Learning</td><td>image</td><td>https://i.pinimg.com/originals/f5/49/a5/f549a5ab217b067e33590b70b8837251.jpg</td><td>1</td><td>Local save in /data/education</td><td>education</td></tr><tr><td>10571</td><td>ea84197e-5935-4121-a358-0b6886b87538</td><td>shushpanzer_ru</td><td>shushpanzer_ru - the new blog in LiveJournal. There should be new interesting records soon.</td><td>David O'Connor</td><td>272</td><td>Army Vehicles,Armored Vehicles,Monster Car,Armored Truck,By Any Means Necessary,Expedition Vehicle,Futuristic Cars,Jeep Truck,Emergency Vehicles</td><td>image</td><td>https://i.pinimg.com/originals/1c/59/72/1c59725fc7946c7b146a81f7203d0536.jpg</td><td>1</td><td>Local save in /data/vehicles</td><td>vehicles</td></tr><tr><td>84</td><td>ee4ad9aa-1428-4f06-bed7-64b7541597d4</td><td>20+ Best Watercolor Flowers Tutorials & Videos</td><td>20+ best step by step easy watercolor flowers tutorials & videos on how to paint roses, peonies, hydrangeas, sunflowers, bouquets, & more!</td><td>A Piece of Rainbow</td><td>603k</td><td>Watercolor Paintings For Beginners,Watercolor Art Lessons,Watercolor Painting Tutorials,Watercolor Art Paintings,Floral Paintings,Watercolors,Watercolor Flowers Tutorial,Floral Watercolor,Step By Step Watercolor</td><td>image</td><td>https://i.pinimg.com/originals/09/88/c5/0988c5aad5639570c4920a4ed4ebbad4.jpg</td><td>1</td><td>Local save in /data/art</td><td>art</td></tr><tr><td>6237</td><td>0d3def33-b77d-4261-8df7-00d95ab34645</td><td>Farmhouse Friday – Baskets and Bins</td><td>Today for Farmhouse Friday, I picked a topic that's a borderline obsession with me - baskets and bins! I love buying them, upcycling them, and repurposing them, and I use them i… </td><td>Knick of Time</td><td>85k</td><td>Farmhouse Wall Decor,Rustic Wall Decor,Farmhouse Style,Farmhouse Furniture,Rustic Furniture,Furniture Plans,Cottage Farmhouse,Furniture Outlet,Discount Furniture</td><td>image</td><td>https://i.pinimg.com/originals/c0/b4/63/c0b4636ebdac6283b5942d66cfbe2f05.jpg</td><td>1</td><td>Local save in /data/home-decor</td><td>home-decor</td></tr><tr><td>10421</td><td>d9e4c12e-5512-4a8f-a1fc-a44ff7b0f90b</td><td>| Make: DIY Projects and Ideas for Makers</td><td>Mustang by fab4fun_be</td><td>Make:</td><td>400k</td><td>Custom Hot Wheels,Hot Wheels Cars,Custom Cars,Mad Max,Hot Rods,Combi Split,Death Race,Classic Toys,Post Apocalyptic</td><td>image</td><td>https://i.pinimg.com/originals/e9/6c/70/e96c70e581ee7b2223440836b83b7140.jpg</td><td>1</td><td>Local save in /data/vehicles</td><td>vehicles</td></tr><tr><td>9946</td><td>fd28bf6a-d4fe-4023-b429-d7060ae2b204</td><td>Perfect Scotland Itinerary</td><td>This is the PERFECT Scotland Itinerary #scotland #itinerary</td><td>Wanderlust Crew</td><td>19k</td><td>Europe Travel Tips,European Travel,Travel Guides,Places To Travel,Places To See,Travel Destinations,Traveling Europe,Travel Things,Travelling</td><td>image</td><td>https://i.pinimg.com/originals/64/94/28/649428e50cb668dbf6a868930d8f4f13.jpg</td><td>1</td><td>Local save in /data/travel</td><td>travel</td></tr><tr><td>2882</td><td>550e48b3-e95d-4fc4-8dad-d031145dd267</td><td>Name Snowman Preschool Craft and Free Printable</td><td>Preschool kids can practice their names while making a name snowman. Be sure to use the free printable as part of the snowman name craft.</td><td>Fun-A-Day Preschool Activities</td><td>80k</td><td>Preschool Christmas,Kids Christmas,Christmas Gifts,Christmas Activities For Preschoolers,Winter Preschool Crafts,Christmas Projects For Kids,Winter Activities,Christmas Ornaments,Snowman Crafts</td><td>image</td><td>https://i.pinimg.com/originals/fe/7f/03/fe7f03cc199a412c01f39f994084b55a.jpg</td><td>1</td><td>Local save in /data/diy-and-crafts</td><td>diy-and-crafts</td></tr><tr><td>8316</td><td>721edca0-c080-47eb-aaf5-9f4f45db2c30</td><td>Spirit Message Circle this Sunday 28th and every last Sunday of month in Cicero, IL</td><td>\"Religion is belief in someone else's experience. Spirituality is having your own experience.\" Deepak Chopra This is one of my core beliefs.</td><td>Demeraki</td><td>2k</td><td>The Words,Deepak Chopra,Spiritual Awakening,Awakening Quotes,Inner Peace,Quotations,Me Quotes,Irish Quotes,Hindu Quotes</td><td>image</td><td>https://i.pinimg.com/originals/f6/7c/3e/f67c3eb652488f06561f8e71a768173d.jpg</td><td>1</td><td>Local save in /data/quotes</td><td>quotes</td></tr><tr><td>10624</td><td>e31b313a-162c-4b1c-a2c2-741dedd4d37f</td><td>1964 Jaguar E-Type Series I 3.8-Litre Roadster</td><td>Gooding & Company is recognized the world over as a leading automotive auction house specializing in the finest antique, classic, sports and racing cars.</td><td>Aesop Socrates</td><td>1</td><td>British Sports Cars,Classic Sports Cars,Classic Cars,British Car,Classic Auto,Jaguar Xk,Jaguar E Type,Jaguar Cars,Sport Cars</td><td>image</td><td>https://i.pinimg.com/originals/62/cb/49/62cb49b0d55d2892ba4e5c8b15317048.jpg</td><td>1</td><td>Local save in /data/vehicles</td><td>vehicles</td></tr><tr><td>6533</td><td>3ce1d845-3ab3-4a74-9bd6-5bb0d3be380c</td><td>Neutral decor kitchen ideas open shelving and modern vintage farmhouse rustic kitchen renovation</td><td>No description available Story format</td><td>Indie.boho.nest-DIY Home office ideas DIY Decor Renovation ideas</td><td>41k</td><td>Earthy Kitchen,Boho Kitchen,Home Decor Kitchen,Rustic Kitchen,Kitchen Design,Black Kitchen Decor,Vintage Kitchen Decor,Kitchen Styling,Kitchen Ideas</td><td>multi-video(story page format)</td><td>Image src error.</td><td>0</td><td>Local save in /data/home-decor</td><td>home-decor</td></tr><tr><td>8087</td><td>f4400f3c-457a-4056-972d-86af74c3333e</td><td>'Quote - You don't have to be perfect to be amazing' iPhone Case by HelenDesignXO</td><td>Think About Your Life Quotes | HubPages</td><td>Vinyl Written</td><td>1k</td><td>Motivacional Quotes,Quotable Quotes,Wisdom Quotes,Great Quotes,Words Quotes,Funny Quotes,Hard Life Quotes,Best Advice Quotes,Inspiring Quotes On Life</td><td>image</td><td>https://i.pinimg.com/originals/86/fd/d8/86fdd8e1df40d40f7b9319f63da5533d.jpg</td><td>1</td><td>Local save in /data/quotes</td><td>quotes</td></tr><tr><td>10786</td><td>45765013-22f3-488a-9d04-da490bcd61e5</td><td>This Gold Custom Porsche Is Sex On Wheels</td><td>Wow.</td><td>Trainman999</td><td>130</td><td>Porsche 356,Porsche 911 Singer,Porsche Autos,Porche 911,Porsche Carrera,Porsche Cars,Singer 911,Porsche Wheels,Porsche Classic</td><td>image</td><td>https://i.pinimg.com/originals/f4/72/d4/f472d495324a79616720ebe02cf2a6d4.png</td><td>1</td><td>Local save in /data/vehicles</td><td>vehicles</td></tr><tr><td>10898</td><td>baea0893-6a88-4d35-b2ca-92f049fa1bae</td><td>The Pagani Zonda - Super Car Center</td><td>The Pagani Zonda was first unveiled at the Geneva Motor Show in 1999 and was produced between 1999 and 2011. A number of different versions of the car have</td><td>Supercar Center</td><td>27k</td><td>Nissan Gt R,Nissan Gtr Nismo,Nissan Skyline R33,Gtr R35,Skyline Gtr,Fancy Cars,Cool Cars,Supercars,Sexy Autos</td><td>image</td><td>https://i.pinimg.com/originals/77/e6/52/77e6521fa1b9c4d9077c72d3ed4f78af.jpg</td><td>1</td><td>Local save in /data/vehicles</td><td>vehicles</td></tr><tr><td>4336</td><td>745fdb9a-b931-4ac3-b8e6-9ebd7f4cc2dc</td><td>Man Turns Hotel Room into Fairytale Surprise Proposal for His Girlfriend</td><td>Read Harry and Demi's marriage proposal story on howtheyasked.com – the only site that makes you cry (happy tears) daily.</td><td>Kelly Meade</td><td>9</td><td>Romantic Surprises For Him,Romantic Room Surprise,Romantic Birthday,Surprises For Her,Girlfriend Surprises,Girlfriend Proposal,Birthday Surprises For Him,Hotel Room Decoration,Romantic Room Decoration</td><td>image</td><td>https://i.pinimg.com/originals/20/a3/c9/20a3c965bdf480e5b75b81ab29323d67.jpg</td><td>1</td><td>Local save in /data/event-planning</td><td>event-planning</td></tr><tr><td>1160</td><td>58c893ae-f20a-4b7b-b39b-33517627da94</td><td>Thicker, Softer Hair with Rosemary, Lavender and Apple Cider Vinegar</td><td>I love plant folklore, and this is one of my favorite wisdoms: \"Keep rosemary at your garden gate and plant lavender for luck\". Rosemary protects the house from ill intent and p… </td><td>Rebecca (Camp Wander)</td><td>50k</td><td>Natural Hair Care,Natural Hair Styles,Diy Beauty,Beauty Hacks,Beauty Tips,Beauty Care,Vinegar Hair Rinse,Apple Cider Vinegar For Hair,Diy Hair Treatment</td><td>image</td><td>https://i.pinimg.com/originals/e8/cb/59/e8cb5921c2d0891d0a17e66faf112020.jpg</td><td>1</td><td>Local save in /data/beauty</td><td>beauty</td></tr><tr><td>9052</td><td>a2053881-2de6-4096-9799-2510ec2019a9</td><td>30+ Hot and Bright Sun Tattoo Ideas 2021 - Page 21 of 32 - hairstylesofwomens. com</td><td>If you are looking for a tattoo that improves your day, try a sun tattoo. After all, it is the pure source of life. How can you not feel inspired when it is a bright sun? Today,… </td><td>sav</td><td>5</td><td>Dainty Tattoos,Dope Tattoos,Pretty Tattoos,Body Art Tattoos,Sleeve Tattoos,Tatoos,Cute Little Tattoos,Tattoos Skull,Collar Tattoo</td><td>image</td><td>https://i.pinimg.com/originals/eb/3c/4e/eb3c4eeb7e050fedcaddaa9333ede491.jpg</td><td>1</td><td>Local save in /data/tattoos</td><td>tattoos</td></tr><tr><td>684</td><td>b0ad33e9-997a-4388-8c97-7f487f6438e1</td><td>Jellyfish Art Project for Kids</td><td>Watercolor & glue Jellyfish art project. Free step by step tutorial from TheCraftyClassroom.com Perfect for learning mixed media, texture, warm and cool colors, hue and more!</td><td>The Crafty Classroom</td><td>40k</td><td>Primary School Art,Elementary Art,Art School,Kids Watercolor,Watercolor Art Lessons,Art Lessons For Kids,Art For Kids,Kids Art Class,Kindergarten Art</td><td>image</td><td>https://i.pinimg.com/originals/44/08/5c/44085cffbf05ebe21043ce01bbe5dfbb.jpg</td><td>1</td><td>Local save in /data/art</td><td>art</td></tr><tr><td>9170</td><td>a7e9f25c-16b9-4c84-93ca-b46f991e2090</td><td>22 Ghost Tattoos That Are Seriously Cute (and Not at All Spooky)</td><td>Nothing shows dedication to Halloween like getting a tattoo to commemorate the holiday. If you want a tiny piece of ink, try one of these ghost designs.</td><td>POPSUGAR</td><td>5M</td><td>Dope Tattoos,Mini Tattoos,Cute Tiny Tattoos,Pretty Tattoos,Body Art Tattoos,Small Tattoos,Tattoos For Guys,Tatoos,Funky Tattoos</td><td>image</td><td>https://i.pinimg.com/originals/f9/a6/e5/f9a6e5970b4e62915a0b773b63169959.jpg</td><td>1</td><td>Local save in /data/tattoos</td><td>tattoos</td></tr><tr><td>3737</td><td>51b1351b-e839-497a-a4e6-52a55af6c1a3</td><td>How to Scaffold Paragraph Writing for Special Education - You Aut-A Know</td><td>Moving from writing sentences to writing paragraphs is a big leap for many of our students. I've found that putting some simple scaffolds in place helps my students become more… </td><td>You AUT-a Know</td><td>10k</td><td>Writing Curriculum,Writing Lessons,Writing Resources,Teaching Writing,Writing Activities,Writing Skills,Kindergarten Writing,Writing Process,Homeschooling</td><td>image</td><td>https://i.pinimg.com/originals/c2/e5/4a/c2e54a9c862a2f9eb9b8dd6b8d0de3b2.jpg</td><td>1</td><td>Local save in /data/education</td><td>education</td></tr><tr><td>6378</td><td>c27331a2-2e3a-482c-861d-81b1f89217e5</td><td>Macrame Wall Hanger - H</td><td>This Boho wall hanging tapestry features a unique design that is a must-have in any home with a bohemian theme. Perfect for Home Decoration, Bohemian decoration, Kids Bedroom, S… </td><td>Plex Oasis</td><td>25</td><td>Decoration Photo,Deco Boheme,Boho Room,Boho Bedroom Decor,Bohemian Room Decor,Boho Style Decor,Bohemian Theme,Bedroom Table,Bohemian Style</td><td>image</td><td>https://i.pinimg.com/originals/37/0b/44/370b44c0bf3ee19a64709d71b509ab21.jpg</td><td>1</td><td>Local save in /data/home-decor</td><td>home-decor</td></tr><tr><td>5229</td><td>9e01fa38-d1d9-4dfa-8f07-1f36ff6fe0da</td><td>Moxie - A Revolution in Child Development</td><td>Parents: Meet Moxie! ▪️ Created by child development experts ▪️ Promotes emotion regulation ▪️ Helps develop social skills ▪️ Supports building confidence ▪️ Risk-free 30-day ho… </td><td>Embodied, Inc.</td><td>48</td><td>N,o, ,T,a,g,s, ,A,v,a,i,l,a,b,l,e</td><td>video</td><td>https://i.pinimg.com/videos/thumbnails/originals/e5/5b/94/e55b94ac2d32067a40aa2888deac3a39.0000001.jpg</td><td>1</td><td>Local save in /data/finance</td><td>finance</td></tr><tr><td>7528</td><td>fbe53c66-3442-4773-b19e-d3ec6f54dddf</td><td>No Title Data Available</td><td>No description available Story format</td><td>User Info Error</td><td>User Info Error</td><td>N,o, ,T,a,g,s, ,A,v,a,i,l,a,b,l,e</td><td>multi-video(story page format)</td><td>Image src error.</td><td>0</td><td>Local save in /data/mens-fashion</td><td>mens-fashion</td></tr><tr><td>2863</td><td>9bf39437-42a6-4f02-99a0-9a0383d8cd70</td><td>25 Super Fun Summer Crafts for Kids - Of Life and Lisa</td><td>Keep the kids busy this summer with these easy diy crafts and projects. Creative and…</td><td>Of Life & Lisa | Lifestyle Blog</td><td>124k</td><td>Summer Crafts For Kids,Fun Crafts For Kids,Summer Kids,Toddler Crafts,Crafts To Do,Diy For Kids,Summer Snow,Diys For Summer,Craft Ideas For Girls</td><td>image</td><td>https://i.pinimg.com/originals/b3/bc/e2/b3bce2964e8c8975387b39660eed5f16.jpg</td><td>1</td><td>Local save in /data/diy-and-crafts</td><td>diy-and-crafts</td></tr><tr><td>5730</td><td>1e1f0c8b-9fcf-460b-9154-c775827206eb</td><td>Island Oasis Coupon Organizer</td><td>Description Coupon Organizer in a fun colorful fabric -island oasis, Great Size for the \"basic\" couponer - holds up to 500 coupons with ease, and is made long enough so that you… </td><td>Consuelo Aguirre</td><td>0</td><td>Grocery Items,Grocery Coupons,Care Organization,Coupon Organization,Extreme Couponing,Couponing 101,Life Binder,Save My Money,Love Coupons</td><td>image</td><td>https://i.pinimg.com/originals/65/bb/ea/65bbeaf458907bb079317d8303c4fa0e.jpg</td><td>1</td><td>Local save in /data/finance</td><td>finance</td></tr><tr><td>7528</td><td>fbe53c66-3442-4773-b19e-d3ec6f54dddf</td><td>No Title Data Available</td><td>No description available Story format</td><td>User Info Error</td><td>User Info Error</td><td>N,o, ,T,a,g,s, ,A,v,a,i,l,a,b,l,e</td><td>multi-video(story page format)</td><td>Image src error.</td><td>0</td><td>Local save in /data/mens-fashion</td><td>mens-fashion</td></tr><tr><td>2863</td><td>9bf39437-42a6-4f02-99a0-9a0383d8cd70</td><td>25 Super Fun Summer Crafts for Kids - Of Life and Lisa</td><td>Keep the kids busy this summer with these easy diy crafts and projects. Creative and…</td><td>Of Life & Lisa | Lifestyle Blog</td><td>124k</td><td>Summer Crafts For Kids,Fun Crafts For Kids,Summer Kids,Toddler Crafts,Crafts To Do,Diy For Kids,Summer Snow,Diys For Summer,Craft Ideas For Girls</td><td>image</td><td>https://i.pinimg.com/originals/b3/bc/e2/b3bce2964e8c8975387b39660eed5f16.jpg</td><td>1</td><td>Local save in /data/diy-and-crafts</td><td>diy-and-crafts</td></tr><tr><td>5730</td><td>1e1f0c8b-9fcf-460b-9154-c775827206eb</td><td>Island Oasis Coupon Organizer</td><td>Description Coupon Organizer in a fun colorful fabric -island oasis, Great Size for the \"basic\" couponer - holds up to 500 coupons with ease, and is made long enough so that you… </td><td>Consuelo Aguirre</td><td>0</td><td>Grocery Items,Grocery Coupons,Care Organization,Coupon Organization,Extreme Couponing,Couponing 101,Life Binder,Save My Money,Love Coupons</td><td>image</td><td>https://i.pinimg.com/originals/65/bb/ea/65bbeaf458907bb079317d8303c4fa0e.jpg</td><td>1</td><td>Local save in /data/finance</td><td>finance</td></tr><tr><td>8304</td><td>5b6d0913-25e4-43ab-839d-85d5516f78a4</td><td>The #1 Reason You’re Not His Priority Anymore - Matthew Coast</td><td>#lovequotes #matchmaker #matchmadeinheaven #loveyourself #respectyourself</td><td>Commitment Connection</td><td>51k</td><td>Wise Quotes,Quotable Quotes,Words Quotes,Wise Words,Quotes To Live By,Great Quotes,Motivational Quotes,Inspirational Quotes,Funny Quotes</td><td>image</td><td>https://i.pinimg.com/originals/c6/64/ee/c664ee71524fb5a6e7b7b49233f93b43.png</td><td>1</td><td>Local save in /data/quotes</td><td>quotes</td></tr><tr><td>8731</td><td>ea760f71-febf-4023-b592-d17396659039</td><td>20 Koi Fish Tattoos For Lucky Men</td><td>Koi fish tattoos are a popular choice for men who want to make a statement, thanks to their rich symbolism and bold design.</td><td>TheTrendSpotter</td><td>211k</td><td>Dr Tattoo,Wörter Tattoos,Pisces Tattoos,Tatoo Art,Dream Tattoos,Dope Tattoos,Mini Tattoos,Finger Tattoos,Body Art Tattoos</td><td>image</td><td>https://i.pinimg.com/originals/8a/0c/0a/8a0c0a7b6236565c519acd41ad1a52c0.jpg</td><td>1</td><td>Local save in /data/tattoos</td><td>tattoos</td></tr><tr><td>1313</td><td>44662045-e891-4821-8a19-ebe7eedd371a</td><td>Liquid Lash Extensions Mascara</td><td>Instantly create the look of lash extensions with this award-winning, best-selling mascara that won't clump, flake or smudge. Available in 3 shades!</td><td>Thrive Causemetics</td><td>43k</td><td>N,o, ,T,a,g,s, ,A,v,a,i,l,a,b,l,e</td><td>video</td><td>https://i.pinimg.com/videos/thumbnails/originals/69/84/e2/6984e20f3e262098fa9c0614c3453254.0000001.jpg</td><td>1</td><td>Local save in /data/beauty</td><td>beauty</td></tr><tr><td>4315</td><td>21b59ba9-829d-4c33-8c27-4cd4c56d26b8</td><td>Podcasts for Teachers or Parents of Teenagers</td><td>Podcasts for Teachers or Parents of Teenagers: Teaching teens middle school and high school can feel joyful and rewarding most days, but can also frustrate you with one challeng… </td><td>Math Giraffe</td><td>25k</td><td>Middle School Classroom,High School Students,High School Teachers,Middle School Tips,High School Counseling,Ela Classroom,High School Science,Future Classroom,Google Classroom</td><td>image</td><td>https://i.pinimg.com/originals/50/19/31/501931a27ee4d076658980851b995b2c.jpg</td><td>1</td><td>Local save in /data/education</td><td>education</td></tr><tr><td>10794</td><td>c4bd2577-a7bb-4409-bb7a-17d5ed7e1cf1</td><td>TireBuyer</td><td>Nissan GT-R. Sick.</td><td>Ray Uyemura</td><td>437</td><td>Lowrider,Old Vintage Cars,Antique Cars,Austin Martin,Nissan Gtr Black,Jaguar,1959 Cadillac,Cadillac Ct6,Old School Cars</td><td>image</td><td>https://i.pinimg.com/originals/0d/29/9f/0d299f3df020395aa7ce8387f40fbeed.jpg</td><td>1</td><td>Local save in /data/vehicles</td><td>vehicles</td></tr><tr><td>5494</td><td>8fb2af68-543b-4639-8119-de33d28706ed</td><td>Dave Ramsey's 7 Baby Steps: What Are They And Will They Work For You</td><td>If you love budgeting, make sure to give Dave Ramsey's 7 Baby Steps a try. Follow these steps to begin your debt snowball, build an emergency fund, invest and reach riches. I ca… </td><td>Living Low Key | Save Money, Make Money, & Frugal Living</td><td>26k</td><td>Financial Peace,Financial Tips,Saving Money Quotes,Total Money Makeover,Budgeting Finances,Money Management,Wealth Management,Personal Finance,Making Ideas</td><td>image</td><td>https://i.pinimg.com/originals/1e/9d/90/1e9d906e4e150e3b95187f3b76ea7c71.png</td><td>1</td><td>Local save in /data/finance</td><td>finance</td></tr><tr><td>5069</td><td>b75b6f87-deb3-444f-b29e-ce9161b2df49</td><td>The Vault: Curated & Refined Wedding Inspiration</td><td>Sacramento California Wedding 2 Chic Events & Design Jodi Yorston Photography Wilson Vineyards Barn Miosa Couture Yellow Barn Vineyard Outdoor Candles DIY</td><td>Style Me Pretty</td><td>6M</td><td>60th Anniversary Parties,Anniversary Decorations,Golden Anniversary,25th Wedding Anniversary,Anniversary Pictures,Anniversary Ideas,Birthday Decorations,Event Planning Design,Event Design</td><td>image</td><td>https://i.pinimg.com/originals/7e/45/90/7e45905fefa36347e83333fd6d091140.jpg</td><td>1</td><td>Local save in /data/event-planning</td><td>event-planning</td></tr><tr><td>2923</td><td>52fa3af5-24a4-4ccb-8f17-9c3eb12327ee</td><td>UFO Paper Plate Craft</td><td>A fun space activity for kids. Preshoolers and kindergartners will love making their own alien spacecraft!</td><td>The Crafting Chicks</td><td>192k</td><td>Paper Plate Crafts For Kids,Fun Crafts For Kids,Summer Crafts,Toddler Crafts,Art For Kids,Outer Space Crafts For Kids,Kid Crafts,Space Kids,Back To School Crafts For Kids</td><td>image</td><td>https://i.pinimg.com/originals/6f/e8/aa/6fe8aa405513c6d2f77b5f47d17cdce8.jpg</td><td>1</td><td>Local save in /data/diy-and-crafts</td><td>diy-and-crafts</td></tr><tr><td>3089</td><td>88f9227e-88d0-4b1c-b0be-bcfc3028b8e2</td><td>No Title Data Available</td><td>No description available Story format</td><td>User Info Error</td><td>User Info Error</td><td>N,o, ,T,a,g,s, ,A,v,a,i,l,a,b,l,e</td><td>multi-video(story page format)</td><td>Image src error.</td><td>0</td><td>Local save in /data/diy-and-crafts</td><td>diy-and-crafts</td></tr><tr><td>6063</td><td>60693727-4927-4bd6-a8c5-096a392d63e6</td><td>41 Gorgeous Fall Decor Ideas For Your Home - Chaylor & Mads</td><td>Beautiful and easy ways to update every room in your home with fall decor. Plus, my favorite finds in fall decor for 2020!</td><td>Kristen | Lifestyle, Mom Tips & Teacher Stuff Blog</td><td>92k</td><td>Fall Home Decor,Autumn Home,Fall Decor Outdoor,Front Porch Fall Decor,Home Decor Ideas,Porch Ideas For Fall,Fall Outdoor Decorating,Decorating Ideas For Fall,Fall Front Doors</td><td>image</td><td>https://i.pinimg.com/originals/e5/ae/dc/e5aedc14ce557e3a69f672e0f8c88f6e.png</td><td>1</td><td>Local save in /data/home-decor</td><td>home-decor</td></tr><tr><td>3454</td><td>46bd3f86-b09d-4e29-9033-7ff2df595e51</td><td>What can you use to color resin?</td><td>HELPFUL RESOURCES – Check out my resin colorants resources page here with links to all the products mentioned in this article (and more). Let me know if you have any that you lo… </td><td>Mixed Media Crafts</td><td>6k</td><td>Epoxy Resin Art,Diy Resin Art,Diy Resin Crafts,Resin Molds,Ice Resin,Resin Pour,Diy Epoxy,Diy Resin Painting,Diy Resin Dice</td><td>image</td><td>https://i.pinimg.com/originals/d4/12/78/d4127833023ca32600571ddca16f1556.jpg</td><td>1</td><td>Local save in /data/diy-and-crafts</td><td>diy-and-crafts</td></tr><tr><td>7554</td><td>c6fa12f4-0d4a-4b07-a335-5bf9f37f8281</td><td>Craig Style</td><td>imgentleboss: “ - More about men’s fashion at @Gentleboss - GB’s Facebook - ”</td><td>iElylike ..✿◕‿◕✿ஐ✿◕‿◕✿</td><td>940</td><td>Mens Fashion Blog,Look Fashion,Autumn Fashion,Fashion News,Fashion Sale,80s Fashion,Paris Fashion,Runway Fashion,Fashion Trends</td><td>image</td><td>https://i.pinimg.com/originals/e7/6e/8e/e76e8ed6cc838b84a934c6948a5caff7.jpg</td><td>1</td><td>Local save in /data/mens-fashion</td><td>mens-fashion</td></tr><tr><td>6145</td><td>82e13a07-db99-43a3-b1c0-89a4b75821da</td><td>HOLIDAY MANTLE DECOR - @AMAZON & @TARGET FINDS</td><td>Holiday mantle decor, Christmas decor, metallic mercury glass style Christmas trees, eucalyptus vine, evergreen pine branches, white neutral holiday decor, cozy mantle for the h… </td><td>Stylin by Aylin</td><td>83k</td><td>Winter Home Decor,Christmas Living Room Decor,Living Room Decor Cozy,Christmas Decor,Cozy Fireplace,Rustic Fireplace Decor,Fireplace Decorations,Rustic Room,House Decorations</td><td>image</td><td>https://i.pinimg.com/originals/9d/82/1a/9d821a80acd8f90c16454e978bd9b115.jpg</td><td>1</td><td>Local save in /data/home-decor</td><td>home-decor</td></tr><tr><td>10625</td><td>d31885b7-742a-4e2a-bbb7-ac5f9d334340</td><td>Jaguar Type E</td><td>1937 Jaguar SS100 - 2 1/2 Litre Roadster, one of the most sought after pre-war sports cars</td><td>hobbyDB</td><td>8k</td><td>Jaguar Type E,Jaguar Xk,Jaguar Cars,Jaguar Roadster,Jaguar Sport,Retro Cars,Vintage Cars,Antique Cars,British Sports Cars</td><td>image</td><td>https://i.pinimg.com/originals/26/81/a7/2681a71bd0c8f7fd0ab79c455338a49a.jpg</td><td>1</td><td>Local save in /data/vehicles</td><td>vehicles</td></tr><tr><td>2959</td><td>439cac4b-18e8-4aaa-88c5-edb26a701111</td><td>The Cutest Toilet Paper Crafts</td><td>One thing I love about Crafts is how the evolve! These toilet paper rolls are adorable and modern. I love that something as simple as a recycled toilet paper roll can be taken t… </td><td>CraftGossip.com</td><td>502k</td><td>Toilet Paper Roll Crafts,Cardboard Crafts,Diy Paper,Paper Crafting,Toilet Paper Rolls,Cardboard Playhouse,Paper Art,Kids Crafts,Toddler Crafts</td><td>image</td><td>https://i.pinimg.com/originals/c6/cd/0d/c6cd0d04da9cfc11566cfd34eeb1f918.jpg</td><td>1</td><td>Local save in /data/diy-and-crafts</td><td>diy-and-crafts</td></tr><tr><td>9875</td><td>782dcbad-ff91-40a6-ba60-216efe29adb7</td><td>European Bucket List: 35 Things NOT To Miss When Traveling Europe</td><td>35 European bucket list destinations for any traveler heading to Europe. From Cinque Terre, Italy to Iceland - there are so many amazing sites to see in Europe.</td><td>Nicki </td><td>28k</td><td>Backpacking Europe,Europe Travel Guide,Travel Guides,Travel Packing,Traveling Europe,Travelling,Travel Backpack,Budget Travel,2 Week Europe Itinerary</td><td>image</td><td>https://i.pinimg.com/originals/71/04/1a/71041ad83ede43d9665741e719c58a86.jpg</td><td>1</td><td>Local save in /data/travel</td><td>travel</td></tr><tr><td>2418</td><td>da8745a6-5160-46c4-877d-181d50a729fd</td><td>100 DIY Christmas Centerpieces You'll Love To Decorate Your Home With For The Christmas Season - Hike n Dip</td><td>Here are the best DIY Christmas Centerpieces ideas perfect for your Christmas & holiday season home decor. From Christmas Vignettes to Table Centerpieces.</td><td>HikenDip</td><td>500k</td><td>Farmhouse Christmas Decor,Rustic Christmas,Christmas Time,Vintage Christmas,Xmas,Primitive Christmas Crafts,Christmas Vignette,Indoor Christmas Decorations,Diy Christmas Ornaments</td><td>image</td><td>https://i.pinimg.com/originals/aa/6d/0f/aa6d0f44d7c1c96b998cb9aa6c4446b8.png</td><td>1</td><td>Local save in /data/christmas</td><td>christmas</td></tr><tr><td>3156</td><td>fa6e31a4-18c2-4eca-a6d8-e903eee2c2a4</td><td>Handprint Reindeer Ornaments - Crafty Morning</td><td>This post may contain affiliate links, read our Disclosure Policy for more information. As an Amazon Associate I earn from qualifying purchases, thank you! Make some cute handpr… </td><td>Michelle {CraftyMorning.com}</td><td>892k</td><td>Christmas Gifts For Parents,Christmas Decorations For Kids,Christmas Crafts For Toddlers,Preschool Christmas,Christmas Crafts For Gifts,Christmas Activities,Toddler Crafts,Kids Christmas,Christmas Feeling</td><td>image</td><td>https://i.pinimg.com/originals/ff/fe/38/fffe384f3ec18a0d87cb2d80cc8c1499.jpg</td><td>1</td><td>Local save in /data/diy-and-crafts</td><td>diy-and-crafts</td></tr><tr><td>428</td><td>610b3f83-9fe0-469d-946c-d16b577fca71</td><td>Fashion Designer Isaac Mizrahi’s Updated 1930s New York City Apartment</td><td>Fashion designer Issac Mizrahi’s Greenwich Village home is an amalgamation of three apartments that was 20 years in the making</td><td>Architectural Digest</td><td>3M</td><td>Modern Art,Contemporary Art,Contemporary Kitchens,Contemporary Bedroom,New York City Apartment,Manhattan Apartment,Art Moderne,Architectural Digest,Painting Inspiration</td><td>image</td><td>https://i.pinimg.com/originals/f4/6c/54/f46c546a2e480022a42d842b7dca157e.jpg</td><td>1</td><td>Local save in /data/art</td><td>art</td></tr><tr><td>7343</td><td>b8c63a95-6fe8-4d7f-9455-1eef3462fee0</td><td>This Fashion Rule Is Nonsense, And We Should All Forget About It</td><td>Black And Brown Outfits You Need To Try This Fall Season. The trick with black and brown outfits is to know how to combine colors, fabrics, and shapes to get a cohesive look. So… </td><td>Cultura Colectiva</td><td>1M</td><td>Winter Outfits Men,Stylish Mens Outfits,Casual Outfits,Men Casual,Smart Casual,Outfits For Men,Fall Outfits,Mens Winter Boots,Business Casual Men</td><td>image</td><td>https://i.pinimg.com/originals/3e/49/09/3e4909c0ccc4dbba3cad83d97eab4a61.png</td><td>1</td><td>Local save in /data/mens-fashion</td><td>mens-fashion</td></tr><tr><td>2074</td><td>86ed09a7-842d-496d-9501-010c654eb340</td><td>35 Christmas Decorating Ideas We Bet You Haven't Thought Of</td><td>20 Christmas Decorating Ideas We Bet You Haven't Thought Of via @PureWow</td><td>PureWow</td><td>868k</td><td>Holiday Centerpieces,Xmas Decorations,Centerpiece Ideas,Table Centerpieces,Valentine Decorations,Wedding Centerpieces,Outdoor Decorations,Christmas Centerpieces With Candles,Christmas Dining Table Decorations</td><td>image</td><td>https://i.pinimg.com/originals/e9/b9/f0/e9b9f01cc3b2cf41948b45854335396c.jpg</td><td>1</td><td>Local save in /data/christmas</td><td>christmas</td></tr><tr><td>9979</td><td>2b2abc85-fc51-481f-8ae6-17681993da28</td><td>Paris in the Summer. 10 fun things to do in Paris in the Summertime • Petite in Paris</td><td>Are you traveling to Paris during the summer? Find out what to do in Paris, France during the summer. Fun summertime activities in Paris. Enjoy the incredible outdoors when trav… </td><td>Petite in Paris</td><td>3k</td><td>Torre Eiffel Paris,Tour Eiffel,Picnic In Paris,Hello France,Voyage Europe,Destination Voyage,Beautiful Places To Travel,Travel Aesthetic,Paris Travel</td><td>image</td><td>https://i.pinimg.com/originals/6c/4c/90/6c4c90bba27ebf8c8bfe4c1acfb9f07a.jpg</td><td>1</td><td>Local save in /data/travel</td><td>travel</td></tr><tr><td>10138</td><td>927c4658-cc3f-4b92-9b5c-70743d0c238d</td><td>14 Amazing Things To Do In Costa Rica | Volcanoes, Waterfalls, Wildlife And More</td><td>This Costa Rica itinerary is the ultimate guide to spending two weeks in Costa Rica. Find out about visiting La Fortuna, Arenal, Monteverde, Naranjo, Corcovado National Park, Or… </td><td>Wanderlust Chloe ✈️ Travel guides, inspo and adventure travel ✈️</td><td>10k</td><td>Costa Rica Travel,Rio Celeste Costa Rica,Dream Vacations,Vacation Spots,Vacation Travel,Travel Pictures,Travel Photos,Fortuna Costa Rica,Costa Rica Pictures</td><td>image</td><td>https://i.pinimg.com/originals/30/93/cb/3093cb01d9de2d125fda8ba5e3e41946.jpg</td><td>1</td><td>Local save in /data/travel</td><td>travel</td></tr><tr><td>9672</td><td>1a5050a4-ac82-472c-aeff-3457de8bbee9</td><td>Lake Moraine, Banff, Canada</td><td>On our Calgary to Vancouver road trip we got to spend time in Banff, Canada. We visited the stunning Lake Moraine as well as Lake Louise and plenty of other of Canada's natural… </td><td>Travel Mad Mum</td><td>7k</td><td>Beautiful Places To Travel,Cool Places To Visit,Beautiful Roads,Beautiful Scenery,Wonderful Places,Lac Moraine,Moraine Lake,Lac Louise,Natur Wallpaper</td><td>video</td><td>https://i.pinimg.com/videos/thumbnails/originals/57/9d/52/579d52242ae5609978c754d393e44e81.0000001.jpg</td><td>1</td><td>Local save in /data/travel</td><td>travel</td></tr><tr><td>8653</td><td>24b1343c-4d86-4705-8ec9-7f1f2df2d77e</td><td>Unique Women Tattoos Ideas 2020</td><td>We welcome you to our latest collection of Beautiful Tattoo Ideas For Women. Check out and get inspired by the most beautiful design for yourself.</td><td>ALL FOR WOMAN</td><td>21k</td><td>Small Back Tattoos,Small Girl Tattoos,Little Tattoos,Tattoo Girls,Mini Tattoos,Tattoo Small,Back Tattoo Women,Tattoo On Back,Girl Back Tattoos</td><td>image</td><td>https://i.pinimg.com/originals/fa/cf/7c/facf7cd752a4bc7c09faaa8925ab80b1.jpg</td><td>1</td><td>Local save in /data/tattoos</td><td>tattoos</td></tr><tr><td>8887</td><td>5df9f6e5-07f5-4ce8-a82e-96586bbc05d8</td><td>25 Ultra Sexy Back Tattoo Ideas For Girls</td><td>Tattoos are one of the most efficient ways through which one decides to express themselves…</td><td>RapidLeaks</td><td>4k</td><td>Dream Tattoos,Body Art Tattoos,New Tattoos,Small Tattoos,Cross Tattoos,Random Tattoos,Fashion Tattoos,Bird Tattoos,Fitness Tattoos</td><td>image</td><td>https://i.pinimg.com/originals/ab/8e/50/ab8e505b04d4abc8f23e273c15f8a65d.jpg</td><td>1</td><td>Local save in /data/tattoos</td><td>tattoos</td></tr><tr><td>7922</td><td>a584581c-1b38-4731-a1cc-f36115ecf229</td><td>45 Top Life Quotes School Did Not Teach You</td><td>summcoco gives you inspiration for the women fashion trends you want. Thinking about a new look or lifestyle? This is your ultimate resource to get the hottest trends. 45 Top Li… </td><td>Sumcoco | Decor Ideas, Hairstyles, Nails Fashion Advice</td><td>306k</td><td>Life Quotes Love,Inspirational Quotes About Love,Mood Quotes,Motivational Quotes,Tears Quotes,Quotes About Sadness,Deep Quotes About Life,Quotes Quotes,Quote Life</td><td>image</td><td>https://i.pinimg.com/originals/bb/c0/e6/bbc0e6a797079505f11ac12bcb0b8c66.jpg</td><td>1</td><td>Local save in /data/quotes</td><td>quotes</td></tr><tr><td>1014</td><td>9ac94307-bb27-410e-b554-0a0ab6c19847</td><td>Hairstyles & Beauty</td><td>Untitled</td><td>Grecia Perales</td><td>0</td><td>Hair Inspo,Hair Inspiration,Motivation Inspiration,Cl Rapper,Foto Glamour,Kreative Portraits,Classy Aesthetic,Pretty Hairstyles,Hair Looks</td><td>image</td><td>https://i.pinimg.com/originals/af/c4/59/afc459bd6e1fd8f9aef212504afebf3a.jpg</td><td>1</td><td>Local save in /data/beauty</td><td>beauty</td></tr><tr><td>4913</td><td>4d2d79c6-9ca8-46c9-a38e-931c5d967804</td><td>How to Work From Home as an Event Planner</td><td>Do you love planning parties? Do you want to work-at-home? This post covers everything you need to know about becoming a home-based event planner!</td><td>The Work at Home Woman</td><td>110k</td><td>Event Planning Tips,Event Planning Business,Party Planning,Business Ideas,Craft Business,Business Chic,Business Inspiration,Business Goals,Business Opportunities</td><td>image</td><td>https://i.pinimg.com/originals/4d/a3/a4/4da3a4730418239f1b43ce81fb032c15.jpg</td><td>1</td><td>Local save in /data/event-planning</td><td>event-planning</td></tr><tr><td>4137</td><td>bf275054-4464-448b-9143-1bf101aa366d</td><td>15 Essential Classroom Items For First Year Teachers / First Year Teacher Must Haves</td><td>15 Essential Classroom Items For First Year Teachers / First Year Teacher Must Haves</td><td>Write Your Story | Budgeting, Healthy Lifestyle, Faith</td><td>5k</td><td>1st Year Teachers,First Year Teaching,First Grade Teachers,Elementary Teacher,Montessori Elementary,Teaching Reading,History Teachers,High School Classroom,First Grade Classroom</td><td>image</td><td>https://i.pinimg.com/originals/4b/b9/a8/4bb9a85f609a8384ed9c9ab14e7bcea0.jpg</td><td>1</td><td>Local save in /data/education</td><td>education</td></tr><tr><td>7166</td><td>4a844b03-e161-47a1-904b-591eb5dc4fb1</td><td>The Killers - Mr. Brightside - Women's T-Shirt - Heather Dark Grey / S</td><td>Women's T-shirt. Design inspired by the rock band The Killers' hit \"Mr. Brightside\". One of the greatest song from the album Hot Fuss released in 2004. Soft and light, 100% cott… </td><td>Mala Rock | Rock T-shirts</td><td>27</td><td>Mr Brightside,Rock T Shirts,Greatest Songs,Timeless Classic,Rock Bands,Album,T Shirts For Women,Inspired,Hot</td><td>image</td><td>https://i.pinimg.com/originals/8c/42/39/8c42391d35fcad51a4a79f7cd81bf26d.jpg</td><td>1</td><td>Local save in /data/mens-fashion</td><td>mens-fashion</td></tr><tr><td>9546</td><td>efd5b2d6-2f69-40cd-bb59-41f18c089e52</td><td>20 Amazing Trips to Take in Your Twenties!</td><td>The best trips to take when you are young!</td><td>The World Pursuit Travel Website</td><td>89k</td><td>Fun Places To Go,Beautiful Places To Travel,Best Places To Travel,Travel Jobs,Holiday Places,Future Travel,Travel Around The World,Adventure Travel,Travel Photos</td><td>video</td><td>https://i.pinimg.com/videos/thumbnails/originals/81/97/c1/8197c1beef8bcb19bea5d8b422211f34.0000001.jpg</td><td>1</td><td>Local save in /data/travel</td><td>travel</td></tr><tr><td>2411</td><td>4e11801e-7a64-4f1e-90dd-e900677595c5</td><td>The Sweetest Gingerbread House Ornaments Kids Can Make</td><td>Transform mini terra cotta pots into the sweetest gingerbread house ornaments! Kids will love making this adorable Christmas craft to hang on the tree.</td><td>Projects with Kids</td><td>20k</td><td>Noel Christmas,Diy Christmas Ornaments,Homemade Christmas,Simple Christmas,Gingerbread Ornaments,Christmas Gingerbread,Gingerbread Houses,Preschool Christmas,Ornaments Ideas</td><td>image</td><td>https://i.pinimg.com/originals/13/28/09/1328097d7c290d1bf8642b01a6ba1c6c.jpg</td><td>1</td><td>Local save in /data/christmas</td><td>christmas</td></tr><tr><td>9590</td><td>b849e976-52f6-45d7-8b25-51559318f167</td><td>Top 20 Things To See And Do In Ireland</td><td>Best spots to see for travel through Ireland!</td><td>Fun Life Crisis</td><td>130k</td><td>Vacation Ideas,Vacation Spots,Emerald Isle,London England,Travel Guides,Travel Tips,Travel Hacks,Travel Packing,Places To Travel</td><td>image</td><td>https://i.pinimg.com/originals/c7/50/d3/c750d36524856873d64406652d69b4fb.png</td><td>1</td><td>Local save in /data/travel</td><td>travel</td></tr><tr><td>2698</td><td>73f16302-4871-486a-8836-947530526337</td><td>DIY Dollar Tree Valentine's Day Wreath</td><td>DIY Dollar Store Valentine’s Day Heart Wreath Decoration. There are so many great Valentine crafts at the Dollar Tree right now! During our last trip, we picked up a few supplie… </td><td>South Lumina Style</td><td>9k</td><td>Valentine Day Wreaths,Valentines Day Hearts,Valentines Day Decorations,Valentine Day Crafts,Holiday Crafts,Diy Christmas,Christmas Wreaths,Valentine Tree,Printable Valentine</td><td>image</td><td>https://i.pinimg.com/originals/dc/f6/8a/dcf68adcc63c339c24fa5664f1115994.png</td><td>1</td><td>Local save in /data/diy-and-crafts</td><td>diy-and-crafts</td></tr><tr><td>4508</td><td>9064f4a2-2753-476c-815e-db360f45a93e</td><td>Custom Event and Shop Neon Sign Lights - Event & Shop</td><td>Personalize your event or shop with a customized neon sign. Make a statement with your own custom vibes! This light is 32 -40 inches (80cm-100cm) if you need something bigger, p… </td><td>Life of Neon | Custom Neon Light Signs | Home Decor Wall Art</td><td>111</td><td>Our Wedding,Wedding Venues,Dream Wedding,Wedding Cakes,Church Wedding,Wedding Flowers,Lace Wedding,Wedding Rings,Wedding Dresses</td><td>image</td><td>https://i.pinimg.com/originals/e9/c0/7c/e9c07cf0cf16cab23764a36718ab76c1.jpg</td><td>1</td><td>Local save in /data/event-planning</td><td>event-planning</td></tr><tr><td>831</td><td>5e65914d-9f58-4ff1-9676-658e426e8ce5</td><td>creating mixed-media faces tutorial</td><td>Free quick inspirational video on creating a mixed media face with acrylic, collage, stenciling and simple techniques. Come on over to watch</td><td>Shawn Petite</td><td>27k</td><td>Collage Kunst,Paper Collage Art,Collage Art Mixed Media,Mixed Media Painting,Mixed Media Canvas,Canvas Collage,Art Collages,Wall Canvas,Canvas Art</td><td>video</td><td>https://i.pinimg.com/videos/thumbnails/originals/05/86/a4/0586a4116e1fc34efc25e064ccd123e8.0000001.jpg</td><td>1</td><td>Local save in /data/art</td><td>art</td></tr><tr><td>5076</td><td>fa3af29c-dc78-4eed-a4c5-52a407ea04c0</td><td>Quiz: Test Your Event IQ! - Pointers For Planners</td><td>So you're thinking of getting your event planner certification, but how much do you REALLY know about event planning? Event planners need to be knowledgeable and able to answer… </td><td>QC Career School</td><td>5k</td><td>Diy Wedding Food,Best Wedding Makeup,Wedding Events,Wedding Tips,Wedding Stuff,Weddings,Event Planning Business,Business Events,Wedding Makeup Tutorial</td><td>image</td><td>https://i.pinimg.com/originals/6f/19/bc/6f19bce24921bf843540fc04da9eb6bf.jpg</td><td>1</td><td>Local save in /data/event-planning</td><td>event-planning</td></tr><tr><td>10663</td><td>d5208c16-82ae-4fd1-87f0-36e5ef789412</td><td>21+ Classic Car Picture of the 1950s - Vintagetopia</td><td>There are a lot of options of places to stay so you probably only have to book the initial one so you know the best place to land from the airport</td><td>vintagetopia</td><td>171k</td><td>Old Classic Cars,Classic Trucks,Old Vintage Cars,Antique Cars,Vintage Trucks,Antique Trucks,Cadillac,Convertible,Mustang</td><td>image</td><td>https://i.pinimg.com/originals/e9/01/4d/e9014d537dd2b81c606e8466cef3904c.jpg</td><td>1</td><td>Local save in /data/vehicles</td><td>vehicles</td></tr><tr><td>5468</td><td>91ee49f6-0070-4270-ba19-fde88ba51c91</td><td>Budgets, Spouses & Making It Work! - Tshanina Peterson</td><td>Don't fight about budgets and money with your spouse! Here are a few tips that we've found that make it work in our marriage!</td><td>Annamarie Hilton</td><td>313</td><td>Ways To Save Money,Money Tips,Money Saving Tips,How To Make Money,Managing Money,Saving Time,College Fund,Scholarships For College,Education College</td><td>image</td><td>https://i.pinimg.com/originals/37/d5/82/37d58296bcef3471a633c76b89d8625e.jpg</td><td>1</td><td>Local save in /data/finance</td><td>finance</td></tr><tr><td>205</td><td>f4afd543-b9fe-44c3-8064-f2198faa1372</td><td>DIY Abstract Heart Painting and a Fun Paint Party</td><td>Use our easy step by step tutorial to create a DIY abstract heart painting on any canvas size. Lots of inspiration to help you choose colors.</td><td>The Creativity Exchange</td><td>410k</td><td>Painting & Drawing,Watercolor Paintings,Original Paintings,Owl Watercolor,Acrylic Paintings,Owl Art,Bird Art,Beginner Painting,Animal Paintings</td><td>image</td><td>https://i.pinimg.com/originals/33/85/f8/3385f82ee5e8ecdcccdf798bdcbee3d2.jpg</td><td>1</td><td>Local save in /data/art</td><td>art</td></tr><tr><td>7790</td><td>9cd89fb9-d1af-4e66-85ca-c9d656c918b4</td><td>50 Heart Touching Sad Quotes That Will Make You Cry</td><td>Are you looking for some heart touching sad quotes and sayings; Here we have collected for you 50 best heart touching sad quotes..</td><td>AnnaLee Kick</td><td>112</td><td>Crush Quotes For Girls,Sad Crush Quotes,Hurt Quotes,Love Me Quotes,Mood Quotes,Quotes To Live By,Life Quotes,Quotes Quotes,Sad Quotes That Make You Cry</td><td>image</td><td>https://i.pinimg.com/originals/0c/0f/40/0c0f408d96458080e0c82adb50be8e8f.jpg</td><td>1</td><td>Local save in /data/quotes</td><td>quotes</td></tr><tr><td>8606</td><td>71757040-bfc8-4631-9cac-22801e61d9e3</td><td>30+ Eagle Tattoos Ideas for Women</td><td>summcoco gives you inspiration for the women fashion trends you want. Thinking about a new look or lifestyle? This is your ultimate resource to get the hottest trends. 30+ Eagle… </td><td>Sumcoco | Decor Ideas, Hairstyles, Nails Fashion Advice</td><td>306k</td><td>White Bird Tattoos,Rose Tattoos,Flower Tattoos,Tattoo Black,Bird And Flower Tattoo,Tattoo Floral,Mini Tattoos,Flower Art,Girls With Sleeve Tattoos</td><td>image</td><td>https://i.pinimg.com/originals/8d/c6/ed/8dc6ed0b212393187a14c7d07a88060f.png</td><td>1</td><td>Local save in /data/tattoos</td><td>tattoos</td></tr><tr><td>9759</td><td>d105eb6e-0f9f-46e7-8d02-d24b62f6ae90</td><td>8 Best Greek Islands You Have To Visit - TheFab20s</td><td>Although you'd think Greek islands are fairly similar, you'd be completely wrong! Each island has it's own personality and appeal. Here are the 8 Best Greek Islands to visit, es… </td><td>TheFab20s | Travel+Food+DIY+Listicles</td><td>42k</td><td>Greek Islands To Visit,Best Greek Islands,Greece Islands,Cool Places To Visit,Places To Go,Best Places In Portugal,Copenhagen Travel,Paros Island,Santorini Island</td><td>image</td><td>https://i.pinimg.com/originals/06/1d/ce/061dce38929dec8e74844442116bea4a.jpg</td><td>1</td><td>Local save in /data/travel</td><td>travel</td></tr><tr><td>719</td><td>d7c53e34-9540-4f48-a31b-89b6ed1852bb</td><td>10 Art Sub Lessons that only need a Pencil</td><td>10 art sub lessons that only need a pencil. Cover lessons for art teachers. Make the perfect art sub lessson folder with this amazing resources.</td><td>The Arty Teacher</td><td>25k</td><td>Art Lessons For Kids,Art Lessons Elementary,Art For Kids,Art Sub Plans,Art Lesson Plans,Art Substitute Plans,High School Art,Middle School Art,Primary School Art</td><td>image</td><td>https://i.pinimg.com/originals/ee/a8/78/eea878911033897d981a69d9f6b2fb7c.png</td><td>1</td><td>Local save in /data/art</td><td>art</td></tr><tr><td>1704</td><td>5fbf9863-fb79-477c-a5b6-540c3020a55f</td><td>Christmas Trees From Pallet Wood | Holiday DIY</td><td>Christmas Trees From Pallet Wood | Holiday DIY: Deck the yard with some fun outdoor Christmas Trees! We made these merry and bright decorations from two old pallets we had lying… </td><td>Instructables</td><td>3M</td><td>Pallet Wood Christmas Tree,Wooden Christmas Crafts,Diy Christmas Tree,Christmas Projects,Holiday Crafts,Wooden Xmas Trees,Different Christmas Trees,Pallet Tree,Christmas Kitchen</td><td>image</td><td>https://i.pinimg.com/originals/64/7b/ca/647bca35169b7c144604116c64bcba8a.png</td><td>1</td><td>Local save in /data/christmas</td><td>christmas</td></tr><tr><td>2482</td><td>08604f20-fa17-4b9a-9949-781717eca6cd</td><td>FORNT PORCH CHRISTMAS DECORATING IDEAS</td><td>Christmas decorating ideas for porches. Beautiful holiday decor ideas for front porches both small and large. Outdoor decorations like sleds, lanterns, Christmas trees, wreaths,… </td><td>Life on Summerhill | Home, Holiday Decor & DIY Website</td><td>46k</td><td>Diy Christmas Decorations For Home,Farmhouse Christmas Decor,Christmas Home,Christmas Holidays,Christmas Front Porches,How To Decorate For Christmas,Christmas Porch Ideas,Christmas Decorating Ideas,Large Outdoor Christmas Decorations</td><td>video</td><td>https://i.pinimg.com/videos/thumbnails/originals/40/83/f5/4083f5b4971bf235f89a4784ab87271e.0000001.jpg</td><td>1</td><td>Local save in /data/christmas</td><td>christmas</td></tr><tr><td>8930</td><td>a2999c28-f7b2-4577-af87-49d21d6d8a18</td><td>135 Sunflower Tattoo Ideas - [Best Rated Designs in 2021]</td><td>We have put together the Ultimative Sunflower Tattoo Collection in 2020. Check out our highest rated handpicked Sunflower designs here!</td><td>Next Luxury</td><td>800k</td><td>Sunflower Tattoo Sleeve,Sunflower Tattoo Shoulder,Sunflower Tattoo Small,Sunflower Tattoos,Sunflower Tattoo Design,Shoulder Tattoo,Sunflower Mandala Tattoo,Sunflower Tattoo Meaning,Form Tattoo</td><td>image</td><td>https://i.pinimg.com/originals/18/de/6c/18de6c81a8637e224c7d63dce1414ceb.jpg</td><td>1</td><td>Local save in /data/tattoos</td><td>tattoos</td></tr><tr><td>7294</td><td>9d8409ef-bea7-4133-a021-c58b9c042210</td><td>Foolproof Fall Fashion For Men You'll Love</td><td>Looking for the coolest fall fashion for men this season? Click to read this article on fall fashion for men to look sharp on LLEGANCE.</td><td>LLEGANCE | Workwear Fashion Woman Advice For Driven Professionals</td><td>28k</td><td>Fashion 90s,Autumn Fashion,Fashion Ideas,Trendy Fashion,Fashion Photo,Fashion Outfits,Fashion Trends,Urban Fashion Men,Men's Casual Fashion</td><td>image</td><td>https://i.pinimg.com/originals/4c/bf/2d/4cbf2d6e04d2502612169220553f4cef.jpg</td><td>1</td><td>Local save in /data/mens-fashion</td><td>mens-fashion</td></tr><tr><td>808</td><td>23f67e42-db9f-4aae-8b82-cbec64ad9f4d</td><td>Chalk Pastel Hot Chocolate Art Project</td><td>Kids will use chalk pastels and black paper to create this bold and bright hot chocolate art project! Easy to follow tutorial included.</td><td>Projects with Kids</td><td>20k</td><td>Hot Chocolate Art,Chocolate Crafts,Art Activities For Kids,Preschool Art,Preschool Winter,Christmas Activities,Winter Art Projects,Clay Art Projects,Chalk Pastel Art</td><td>image</td><td>https://i.pinimg.com/originals/5a/d3/82/5ad38202cf8acb022cb8f46ce2a78ad6.jpg</td><td>1</td><td>Local save in /data/art</td><td>art</td></tr><tr><td>771</td><td>a5021766-a8aa-4dc7-9857-4da6b8e3dc1a</td><td>African Sunset Shadow Tracing Art - Taming Little Monsters</td><td>Use your mini world figures to create this beautiful African sunset. Your kids will love learning about shadows, angles and distortion in this fun art and STEM activity for kids.</td><td>Taming Little Monsters - Fun Activities for Kids</td><td>4k</td><td>African Art Projects,Cool Art Projects,Projects For Kids,African Art For Kids,African Crafts Kids,Art Club Projects,Art Education Projects,Tracing Art,African Sunset</td><td>image</td><td>https://i.pinimg.com/originals/e3/aa/35/e3aa350f8f104d0e59f26d7f17ea7461.png</td><td>1</td><td>Local save in /data/art</td><td>art</td></tr><tr><td>7528</td><td>fbe53c66-3442-4773-b19e-d3ec6f54dddf</td><td>No Title Data Available</td><td>No description available Story format</td><td>User Info Error</td><td>User Info Error</td><td>N,o, ,T,a,g,s, ,A,v,a,i,l,a,b,l,e</td><td>multi-video(story page format)</td><td>Image src error.</td><td>0</td><td>Local save in /data/mens-fashion</td><td>mens-fashion</td></tr><tr><td>2863</td><td>9bf39437-42a6-4f02-99a0-9a0383d8cd70</td><td>25 Super Fun Summer Crafts for Kids - Of Life and Lisa</td><td>Keep the kids busy this summer with these easy diy crafts and projects. Creative and…</td><td>Of Life & Lisa | Lifestyle Blog</td><td>124k</td><td>Summer Crafts For Kids,Fun Crafts For Kids,Summer Kids,Toddler Crafts,Crafts To Do,Diy For Kids,Summer Snow,Diys For Summer,Craft Ideas For Girls</td><td>image</td><td>https://i.pinimg.com/originals/b3/bc/e2/b3bce2964e8c8975387b39660eed5f16.jpg</td><td>1</td><td>Local save in /data/diy-and-crafts</td><td>diy-and-crafts</td></tr></tbody></table></div>"
      ]
     },
     "metadata": {
      "application/vnd.databricks.v1+output": {
       "addedWidgets": {},
       "aggData": [],
       "aggError": "",
       "aggOverflow": false,
       "aggSchema": [],
       "aggSeriesLimitReached": false,
       "aggType": "",
       "arguments": {},
       "columnCustomDisplayInfos": {},
       "data": [
        [
         8610,
         "1f1db6e4-45a4-46a8-a52b-38adea2646f7",
         "Sabrina Carpenter Got Her Very First Tattoo, and It's a Reference to Her \"Lucky\" Life",
         "The \"Work It\" star just got her first tiny tattoo by celebrity tattoo artist Dr. Woo, and the design is a reference to her \"lucky\"",
         "POPSUGAR",
         "5M",
         "Petite Tattoos,Dainty Tattoos,Cute Tattoos,Small Tattoos,Tatoos,Small Feminine Tattoos,Grace Tattoos,Hip Tattoo Small,Hidden Tattoos",
         "image",
         "https://i.pinimg.com/originals/5a/45/ad/5a45adc8361768eb312c4d16d4db45f9.jpg",
         1,
         "Local save in /data/tattoos",
         "tattoos"
        ],
        [
         9014,
         "45c2e92a-5daf-40f3-9732-771c186c0757",
         "75 More Small Tattoo Ideas from Playground Tattoo - Crestfox",
         "Hi everyone! My last small tattoo ideas post was really popular on Pinterest, so I decided to put together this post with even more tiny tattoo ideas. Just like the other post,… ",
         "Sarah Wahl | Crestfox",
         "17k",
         "Little Tattoos,Mini Tattoos,Body Art Tattoos,Sleeve Tattoos,Tatoos,Flower Tattoos,White Tattoos,Arrow Tattoos,Word Tattoos",
         "image",
         "https://i.pinimg.com/originals/b5/72/b5/b572b5641d4efd2e9a13de2506b9e721.png",
         1,
         "Local save in /data/tattoos",
         "tattoos"
        ],
        [
         8433,
         "61ffdc64-3bfa-4c53-a9f0-9bc761514da5",
         "Relationship Rules",
         "Relationship Rules is a modern-age lifestyle/love blog that discusses everything from breakups to being amazing parents.",
         "Kim Hefner",
         "8",
         "Now Quotes,Real Quotes,Words Quotes,Life Quotes,I Trust You Quotes,I Needed You Quotes,Sayings,The Lucky One Quotes,Losing Trust Quotes",
         "image",
         "https://i.pinimg.com/originals/da/d2/c4/dad2c43f1a4d7693a746758932139db0.webp",
         1,
         "Local save in /data/quotes",
         "quotes"
        ],
        [
         10567,
         "cf1e3bef-8a03-4b66-b19a-50d3c7d13f9a",
         "Yessir",
         "No description available Story format",
         "Louisiana_Redneck",
         "233",
         "Dually Trucks,Lifted Chevy Trucks,Diesel Trucks,Pickup Trucks,Chevy Trucks Older,Old Ford Trucks,Truck Drivers,Jeep Pickup,Chevrolet Silverado",
         "multi-video(story page format)",
         "https://i.pinimg.com/videos/thumbnails/originals/d4/dd/de/d4ddde53e277c155dc72b336ec73a40e.0000001.jpg",
         1,
         "Local save in /data/vehicles",
         "vehicles"
        ],
        [
         6892,
         "ebf6b77f-0656-4297-92a4-f37f48f6cc44",
         "Giuseppe Leonardi (@giuse_leonardi) • Instagram photos and videos",
         "8 Followers, 11 Following, 0 Posts - See Instagram photos and videos from Giuseppe Leonardi (@giuse_leonardi)",
         "Roberto Rafael Ovalle Echeverria",
         "19",
         "Der Gentleman,Gentleman Style,Lace Converse Shoes,Glitter Shoes,Swag Shoes,Fashion Shoes,Mens Fashion,Fashion Tips,Fashion Menswear",
         "image",
         "https://i.pinimg.com/originals/bb/18/6b/bb186bd58c4bc65b9036f874938a351b.jpg",
         1,
         "Local save in /data/mens-fashion",
         "mens-fashion"
        ],
        [
         2016,
         "ea82682c-5186-44fa-8b4d-9b4f6b74739e",
         "Christmas Home Tour",
         "Hi friends, It’s been a little while since I’ve published a blog post and a lot has happened in the last year for me and my family! My husband and I welcomed boy/girl twins into",
         "Live Oak Nest",
         "12k",
         "French Country Christmas,Country Christmas Decorations,Farmhouse Christmas Decor,Xmas Decorations,Christmas Home,Christmas Ideas,Christmas Mantle Decorations,Cottage Christmas Decorating,Christmas Fireplace Mantels",
         "image",
         "https://i.pinimg.com/originals/a5/48/c6/a548c6175e16ff33dc25c983c8e3514c.jpg",
         1,
         "Local save in /data/christmas",
         "christmas"
        ],
        [
         1128,
         "c839f3ff-0e34-40be-9209-63f0b2c285fc",
         "8 innovative drugstore beauty products to try in 2018",
         "Celebrity beauty experts love these innovative drugstore beauty products.",
         "TODAY Show",
         "426k",
         "Face Care,Skin Care,Facial Therapy,Facial Steamer,Spa Day At Home,Beauty Skin,Clean Beauty,Beauty Care,Natural Beauty",
         "image",
         "https://i.pinimg.com/originals/32/fc/92/32fc925c7fda3259e337c14aa8fdfc4d.jpg",
         1,
         "Local save in /data/beauty",
         "beauty"
        ],
        [
         9608,
         "7eb7a087-8889-4eae-9ad6-6d71ad7b09ad",
         "Highlights of Scandinavia: 10 Days Itinerary in Denmark, Sweden and Norway",
         "Follow our 10 days itinerary that takes you from Copenhagen to Oslo to Stockholm. From cosmopolitan Sweden to Denmark, the Wild West of Scandinavia to the fjords & valleys of No… ",
         "Anywhr",
         "78",
         "Travel To Sweden,Denmark Travel,Norway Travel,Beautiful Places To Travel,Cool Places To Visit,Places To Go,Cruise Travel,Summer Travel,Sweden Holidays",
         "image",
         "https://i.pinimg.com/originals/d0/e1/c7/d0e1c775d25ba92489aa134628be7611.png",
         1,
         "Local save in /data/travel",
         "travel"
        ],
        [
         10678,
         "e1ca5651-2047-4711-9665-3fd853aac88b",
         "This Guy Transformed A 1961 VW Beetle Deluxe Into A Black Matte Roadster",
         "It should come as no surprise that people love the VW Beetle and many honor it by converting the car into an even cooler version, just like designer Danni Koldal did with his bl… ",
         "Bored Panda",
         "2M",
         "Custom Trucks,Custom Cars,Vw Coccinelle Cabriolet,Mclaren P1 Black,Bmw R65,Jetta Vw,Carros Vw,Vw Beetle Convertible,Kdf Wagen",
         "image",
         "https://i.pinimg.com/originals/42/3b/6a/423b6a354062b0ee9c844ee4854656a4.jpg",
         1,
         "Local save in /data/vehicles",
         "vehicles"
        ],
        [
         7954,
         "e99cc6c5-0f3d-401e-9d20-e0d625b30038",
         "150+ Best Love Quotes That'll Make Anyone Believe In Love",
         "Finding new, different ways to say, 'I love you' can be tough. Here are 150+ of the best love quotes for him or her to express what loving and being loved means.",
         "YourTango",
         "942k",
         "Love Quotes For Him Cute,Life Quotes Love,Best Love Quotes,Cute Quotes,Quotes To Live By,Favorite Quotes,Top Quotes,Hope Love Quotes,Cowboy Love Quotes",
         "image",
         "https://i.pinimg.com/originals/79/44/28/7944280986ed62559c8b8d72b94083c6.jpg",
         1,
         "Local save in /data/quotes",
         "quotes"
        ],
        [
         2851,
         "f2c2e634-b770-4223-a05a-4994f59c4513",
         "DIY Puffy Paint Art",
         "No description available Story format",
         "Blossom",
         "2M",
         "Diy Crafts For Girls,Diy Crafts To Do,Diy Crafts Hacks,Diy Arts And Crafts,Cute Crafts,Toddler Crafts,Creative Crafts,Paper Crafts,Cool Crafts For Kids",
         "multi-video(story page format)",
         "https://i.pinimg.com/videos/thumbnails/originals/6c/82/c8/6c82c829071327c4edd932e1727997eb.0000001.jpg",
         1,
         "Local save in /data/diy-and-crafts",
         "diy-and-crafts"
        ],
        [
         918,
         "bbaeda98-41c0-4da9-9bb3-6fdafe3a4ced",
         "All Natural Homemade Mascara",
         "Homemade Bronzer",
         "Ditch the Wheat",
         "17k",
         "Tips And Tricks,Make Beauty,Beauty Care,Diy Cosmetics Easy,Homemade Cosmetics,Natural Cosmetics,Nars Cosmetics,Homemade Bronzer,Homemade Mascara",
         "image",
         "https://i.pinimg.com/originals/b4/c3/ac/b4c3ace480ec096ca73083c77e7d2f06.jpg",
         1,
         "Local save in /data/beauty",
         "beauty"
        ],
        [
         820,
         "93334cf7-a34b-4c0f-a480-0d34b65d8379",
         "Illustrator Turns Strangers Into Manga-Like Characters, And The Result Is Pretty Awesome",
         "When most of us look at other people, we see, well, people. But when the artist behind Toonimated looks at people, all they see is cartoons.",
         "Bored Panda",
         "2M",
         "Cool Drawings,Drawing Sketches,Drawing Tips,Pencil Drawings,Drawing Ideas,Hipster Drawings,Flower Drawings,Drawing Hair,Dress Sketches",
         "image",
         "https://i.pinimg.com/originals/20/a5/cb/20a5cb74e24f462246293d2e702cbe61.jpg",
         1,
         "Local save in /data/art",
         "art"
        ],
        [
         9968,
         "30b881a8-9bf1-4a23-aa53-21ad9f910e60",
         "Venice, Italy Scenic Canal & Venetian Architecture Flyer | Zazzle.com",
         "#Venice Italy Scenic Canal & Venetian Architecture Flyer - #office #gifts #giftideas #business",
         "Zazzle ",
         "1M",
         "Italy Travel Tips,Travel Destinations,Budget Travel,Spain Travel,Budget Hotels,Travel Tourism,Cheap Travel,Amazing Destinations,Phuket",
         "image",
         "https://i.pinimg.com/originals/db/98/3f/db983f6dee558408fbd680fb0bb19c4d.jpg",
         1,
         "Local save in /data/travel",
         "travel"
        ],
        [
         7970,
         "a43c8e2a-2497-493b-be0c-9013920ae902",
         "Country Music - Latest News, Breaking Stories and Comment - Country Thang Daily",
         "I can be as stubborn as a mule, sweet as tea, angry as a hornet, or loyal like a soldier. It all depends on you. #countryquotes #countrygirls #muddygirls #countrylife #countryst… ",
         "Country Thang Daily",
         "9k",
         "Life Quotes Love,Great Quotes,Quotes To Live By,Me Quotes,Funny Quotes,Inspirational Quotes,Humor Quotes,Baby Quotes,Motivational Quotes",
         "image",
         "https://i.pinimg.com/originals/a0/77/fb/a077fb2764eb46f9b3d450c36bbcf25a.jpg",
         1,
         "Local save in /data/quotes",
         "quotes"
        ],
        [
         8029,
         "76a96fdf-fd9d-41e6-89e4-faed2da2b672",
         "20 Sassy Quotes That Remind You To Live Unapologetically",
         "Sassy Quotes | Being You | Inspirational Quotes | #beinspired #beyourself #inspirationalquote | www.unsoshl.com",
         "YourTango",
         "942k",
         "Sassy Quotes,Motivacional Quotes,Quotes Thoughts,Super Quotes,Sarcastic Quotes,Wisdom Quotes,True Quotes,Words Quotes,Best Quotes",
         "image",
         "https://i.pinimg.com/originals/b5/1f/04/b51f0416139da44edac61852a9c8a700.jpg",
         1,
         "Local save in /data/quotes",
         "quotes"
        ],
        [
         2823,
         "08cbe03b-5b4f-4c4d-85b6-ba4f8c3c9602",
         "Dollar Tree Christmas Village Hack - The Latina Next Door",
         "With this Dollar Tree Christmas Village Hack you can create your own high end Christmas Village without the huge expense, and it's so easy!",
         "Yami @ The Latina Next Door | Blogger | DIY | Budget Friendly Home Decor | Recipes |  Latina",
         "24k",
         "Christmas Tree Village,Dollar Tree Christmas,Christmas Hacks,Diy Christmas Ornaments,Christmas Projects,Diy Christmas Gifts,Christmas Decorations Dollar Tree,Christmas Villages,Homemade Christmas",
         "image",
         "https://i.pinimg.com/originals/fb/37/55/fb375515aaebda118ab9c8c518fbcfc4.png",
         1,
         "Local save in /data/diy-and-crafts",
         "diy-and-crafts"
        ],
        [
         4546,
         "07058054-b6de-47b6-a990-1705906780fa",
         "Wedding Ideas - WeddingWire",
         "Get expert wedding planning advice and find the best ideas for wedding decorations, wedding flowers, wedding cakes, wedding songs, and more.",
         "Project Wedding",
         "132k",
         "Perfect Wedding,Dream Wedding,Wedding Day,Wedding Reception,Wedding Photos,Wedding Stuff,Money Box Wedding,Wedding Orange,Wedding Pins",
         "image",
         "https://i.pinimg.com/originals/7b/b0/b2/7bb0b2ad559a3e9fdd461dc69a661ee3.jpg",
         1,
         "Local save in /data/event-planning",
         "event-planning"
        ],
        [
         5467,
         "cb4fdb00-6006-41bd-adce-9cdab8bc7d93",
         "ETF CHEATSHEET",
         "Are you bored living in poor mindset? You are on the right place! If you want to learn about investing in dividends and passive income, this is best page on pinterest for BEGGIN… ",
         "GloryInvestingShow",
         "98k",
         "Financial Quotes,Financial Peace,Stock Market Investing,Investing In Stocks,Value Investing,Investing Money,Stocks For Beginners,Dividend Investing,Dividend Stocks",
         "image",
         "https://i.pinimg.com/originals/9d/41/09/9d4109bece52910d517ba30b21812b85.jpg",
         1,
         "Local save in /data/finance",
         "finance"
        ],
        [
         5671,
         "b6686182-8f93-46c3-94d5-2b91a6631926",
         "No Title Data Available",
         "No description available Story format",
         "User Info Error",
         "User Info Error",
         "N,o, ,T,a,g,s, ,A,v,a,i,l,a,b,l,e",
         "multi-video(story page format)",
         "Image src error.",
         0,
         "Local save in /data/finance",
         "finance"
        ],
        [
         3495,
         "c0378b53-c914-4a28-9b83-b4dab5c7116f",
         "School's Over : How to Have Freedom and Democracy in Education (Paperback)",
         "In School's Over: How to Have Freedom & Democracy in Education, Jerry Mintz outlines the components of successful democratic schools and how these schools change the lives of th… ",
         "Walmart",
         "2M",
         "Ken Robinson,Ny Times,Bestselling Author,Freedom,Outlines,Memories,Schools,Education,Globe",
         "image",
         "https://i.pinimg.com/originals/9a/98/99/9a9899d33bf4ba24b44c32d88c110ce9.jpg",
         1,
         "Local save in /data/education",
         "education"
        ],
        [
         6722,
         "21e44096-1aa4-44f8-a310-6c15c8afa432",
         "Simple Spring Decorating - Ella Claire",
         "Simple spring touches in the entryway are a sweet greeting to family and friends. Easy accents such as a wreath, pillows, vintage tackle basket, and floppy hat are so charming t… ",
         "Kristen Whitby | Ella Claire & Co.",
         "126k",
         "Decor Room,Diy Bedroom Decor,Living Room Decor,Diy Home Decor,Simple Home Decoration,Decor Crafts,Living Rooms,Home Design,Interior Design",
         "image",
         "https://i.pinimg.com/originals/39/da/e5/39dae50b488b37f7b7dba73d7a5476dd.jpg",
         1,
         "Local save in /data/home-decor",
         "home-decor"
        ],
        [
         8601,
         "eeac79f4-89a3-413a-92e9-331f147c9c0f",
         "25 Tiny And Pretty Flower Tattoo Designs You Would Love - Women Fashion Lifestyle Blog Shinecoco.com",
         "Flower tattoo is always popular in the tattoo fashion world, and we love all these flower tattoo designs. No matter the flower design is large or small, no matter the tattoo is… ",
         "Shinecoco",
         "101k",
         "Ankel Tattoos,Cute Ankle Tattoos,Ankle Tattoos For Women,Black Tattoos,Body Art Tattoos,Tattos,Dainty Tattoos For Women,Small Flower Tattoos For Women,Side Wrist Tattoos",
         "image",
         "https://i.pinimg.com/originals/69/d8/49/69d84989ca35345a97b6bdb2df917ea0.jpg",
         1,
         "Local save in /data/tattoos",
         "tattoos"
        ],
        [
         6641,
         "1232e344-ecee-482f-8fb7-4d101aca4c4e",
         "Traditional Black Sofa Table Transformation - Jessica Sara Morris",
         "Traditional Black Sofa Table Transformation. I found A Sofa Table On Marketplace for 45 dollars and transformed it into a pottery barn look alike",
         "JESSICA SARA MORRIS | HOME DECOR + DIY ON A BUDGET",
         "36k",
         "Black Sofa Table,Black Entry Table,Black Sofa Decor,Black Sofa Living Room Decor,Black White Decor,Living Room Panelling,Black Wall Decor,Black Wall Mirror,Black And White Interior",
         "image",
         "https://i.pinimg.com/originals/f0/d3/36/f0d3363aeeb2899056b523eb2b111ac7.jpg",
         1,
         "Local save in /data/home-decor",
         "home-decor"
        ],
        [
         5261,
         "094e4217-e85a-47a8-bf59-024882a29f63",
         "15 Things I Don't Spend Money On",
         "Do you know you are spending WAY more money than you need to on general household costs? Here's 15 main things I do NOT spend money on and the best tips on how you can start doi… ",
         "Free Printables, SVG's, Binders & Planners with Sarah Titus",
         "37k",
         "Best Money Saving Tips,Ways To Save Money,Money Tips,Saving Money,Budget Help,Budgeting Money,Financial Tips,Frugal Tips,Saving Ideas",
         "image",
         "https://i.pinimg.com/originals/10/1d/6d/101d6d1794fa058a0be4762bc504175d.jpg",
         1,
         "Local save in /data/finance",
         "finance"
        ],
        [
         6679,
         "8e9c334a-e744-49eb-9053-8865abcee07c",
         "50 top items in home decor | Home decorating ideas | Style Curator",
         "When decorating your home, you can reach a point where you wonder ‘what else can I use?’. You’ve maxed out the amount of photos you want to display and have more candles than yo… ",
         "Style Curator | Gina Ciancio",
         "76k",
         "Room Interior,Interior Design Living Room,Living Room Designs,Lounge Room Designs,Lounge Ideas,Paint Colors For Living Room,Room Paint,Living Room Tv,Living Room Decor Ideas Apartment",
         "image",
         "https://i.pinimg.com/originals/67/29/c9/6729c9ad77a03655a899cfc73f194c14.jpg",
         1,
         "Local save in /data/home-decor",
         "home-decor"
        ],
        [
         4411,
         "af9021fc-29bd-49ab-941b-6f24f7832180",
         "Elegant Wedding Table Decor On A Thrift STore Budget",
         "This is a huge list of wedding table decor to shop for at the thrift store. Nothing beats wedding decor on a budget!",
         "Small Stuff Counts",
         "18k",
         "Flower Table Decorations,Wedding Decorations On A Budget,Wedding Favors Cheap,Wedding Table Centerpieces,Budget Wedding,Wedding Ideas,Wedding Planning,Event Planning,Diy Wedding",
         "image",
         "https://i.pinimg.com/originals/9d/33/c3/9d33c3ffbf80d4ea4ad2e1fb6dc0329c.jpg",
         1,
         "Local save in /data/event-planning",
         "event-planning"
        ],
        [
         3866,
         "9aa2d5f3-b89b-442f-b876-10ddb7f4f45a",
         "Virtual Dissection and Science Labs for Homeschoolers",
         "Truth is, finding virtual dissection and labs isn't as hard as it used to be. We have a list of the best Virtual Dissection Labs for Homeschoolers!",
         "3 Boys and a Dog",
         "83k",
         "Homeschool Science Curriculum,Homeschool High School,Teaching Science,Science Lessons,Science For Kids,Science Activities,Online Homeschooling,Science Labs,Catholic Homeschooling",
         "image",
         "https://i.pinimg.com/originals/8c/00/3e/8c003eaea3201e04f5fb5161108161af.jpg",
         1,
         "Local save in /data/education",
         "education"
        ],
        [
         3978,
         "0cf9170f-fca3-4c6d-a2f3-aefbd02b8fcc",
         "Do you hate taking Notes during online Lecture?|",
         "No description available Story format",
         "Global Assignment Help Australia",
         "6k",
         "College Life Hacks,High School Hacks,Teen Life Hacks,High School Life,Life Hacks For School,School Study Tips,College Humor,Life Hacks Websites,Fun Websites",
         "multi-video(story page format)",
         "https://i.pinimg.com/videos/thumbnails/originals/57/f4/98/57f498cf8550c52f98658374e0a8ab58.0000001.jpg",
         1,
         "Local save in /data/education",
         "education"
        ],
        [
         8112,
         "0c9e083a-43f3-4f1f-a2ca-24bdc9baf4f9",
         "'I Love  You' Quotes: 22 Heartwarming Quotes To Help You Say 'I Love You’",
         "There are more ways to say I love you than those three little words. Here are some fantastic I love you quotes for everyone!",
         "Women.com",
         "166k",
         "Love Quotes For Him Cute,Love Quotes For Him Boyfriend,Sweet Love Quotes,Girlfriend Quotes,Love Yourself Quotes,Love Is Sweet,So In Love,I Will Always Love You Quotes,My King Quotes",
         "image",
         "https://i.pinimg.com/originals/96/b6/6c/96b66c0222d3c197e0314c3b8d547254.jpg",
         1,
         "Local save in /data/quotes",
         "quotes"
        ],
        [
         99,
         "ccd0afd0-5a4a-470a-8891-4583ab3d8139",
         "Self-Taught Artist Makes Amazing Female Portraits Based On Doodles",
         "Liz Y Ahmet is a UK-based, self-taught artist who creates portraits of women from hundreds of scribbled lines. What looks chaotic and even a little bit messy emerges into perfec… ",
         "Bored Panda",
         "2M",
         "Self Portrait Drawing,Abstract Portrait Painting,Portrait Sketches,Art Drawings Sketches,Cool Art Drawings,Biro Portrait,Self Portrait Artists,Abstract Sketches,Portrait Paintings",
         "image",
         "https://i.pinimg.com/originals/ad/2c/7f/ad2c7f39306eda6da8675ea8f50e6233.jpg",
         1,
         "Local save in /data/art",
         "art"
        ],
        [
         7937,
         "9709b0bd-6ba2-4e83-98a3-1ffdbc4354bc",
         "inspirational quotes",
         "build that future inspirational quotes",
         "Vinny and Charles Fine Jewellery",
         "2k",
         "Mantra Quotes,Motivacional Quotes,Quotes Thoughts,Words Quotes,Wise Words,Life Quotes,Habit Quotes,Drake Quotes,Lovers Quotes",
         "image",
         "https://i.pinimg.com/originals/94/eb/18/94eb18dda8057ab94ace6b424e94bc55.jpg",
         1,
         "Local save in /data/quotes",
         "quotes"
        ],
        [
         10010,
         "526bd12c-74e2-49fd-b366-b1f7574a0bfc",
         "10 Tips for Women Traveling Alone",
         "{10 Tips for Traveling Solo} What would you add to the list?",
         "Peanut Blossom | Easy Recipes, Book Club, and Holiday Ideas",
         "281k",
         "Solo Travel Tips,Travel Packing,Travel Advice,Travel Stuff,Packing Tips,Travel Luggage,Luggage Packing,Traveling Tips,Travel Hacks",
         "image",
         "https://i.pinimg.com/originals/6f/e9/15/6fe9159acbcbf742c1cec7dfa8c34845.jpg",
         1,
         "Local save in /data/travel",
         "travel"
        ],
        [
         10774,
         "c6066abe-a261-49e0-92f7-0b1bf22d414c",
         "Buggy",
         "VW Beetle",
         "JD Rucker",
         "6k",
         "Buggy,Fusca Cross,Wolkswagen Van,Combi Wv,Vw Beach,Vw Baja Bug,Kdf Wagen,E Motor,Offroader",
         "image",
         "https://i.pinimg.com/originals/d7/99/d6/d799d604673d0a1fa45066b1bb3263f0.jpg",
         1,
         "Local save in /data/vehicles",
         "vehicles"
        ],
        [
         6650,
         "c80068ea-9fa3-4896-af45-5636cd7d8705",
         "MULTIPLE Afrocentric Bathroom Shower Curtains - Pro Black Home Decorations / Decor - Head wrap",
         "Afrocentric Bathroom Shower Curtains / Home Decor These beautiful afrocentric shower curtains are approximately 59x70 inches and fits most typical bathroom showers. We have even… ",
         "Ethnic Earring",
         "14k",
         "Black Shower Curtains,Bathroom Shower Curtains,Fabric Shower Curtains,Bathroom Showers,Bathroom Ideas,Bathrooms,African Shower Curtain,Casa Top,Shower Curtain Sizes",
         "image",
         "https://i.pinimg.com/originals/bf/08/e5/bf08e53ed06f48f2d05c9ae115e39ace.png",
         1,
         "Local save in /data/home-decor",
         "home-decor"
        ],
        [
         1230,
         "9cc76b52-d61e-48d0-8498-c51736117bf7",
         "Perfect Skin Care Hacks",
         "Do this glow up challenge and have a glow up of your life! Face, body, hair, and nails - here's how to glow up with beauty in 30 days or less.",
         "The ShineSheets - Personal Development, Beauty, Mental Health",
         "53k",
         "Face Skin Care,Diy Skin Care,Skin Care Tips,Good Skin Tips,Face Care Tips,Clear Skin Tips,Beauty Tips For Glowing Skin,Beauty Skin,Face Beauty",
         "image",
         "https://i.pinimg.com/originals/8a/8a/c8/8a8ac81de60b1e099bdfd5b3a6f84649.jpg",
         1,
         "Local save in /data/beauty",
         "beauty"
        ],
        [
         8329,
         "6d5fcca0-699c-474f-b34e-13e560e7900f",
         "15 Inspirational quotes to start your day off feeling motivated and positive. Inspiring words can he",
         "Here are 15 inspirational quotes to start your day feeling motivated and positive. Inspiring words are a great tool to combat anxiety and fear. They can offer hope and spark you… ",
         "Dream Dash Journal",
         "19k",
         "Motivacional Quotes,Life Quotes Love,Wisdom Quotes,Words Quotes,Wise Words,Funny Quotes,Day Off Quotes,Quotes Of Hope,Quotes About Fear",
         "image",
         "https://i.pinimg.com/originals/79/77/62/7977620a62cbaa59b3f02ebaf6092fec.jpg",
         1,
         "Local save in /data/quotes",
         "quotes"
        ],
        [
         4196,
         "a8fce1cc-94ce-4592-9fbd-f679f37e44ab",
         "How to Structure Learning Stations Online - Write on With Miss G",
         "creating online learning stations for small groups during distance learning",
         "Write on with Miss G | English Teacher | Engaging ELA Lessons",
         "10k",
         "Teaching Technology,Medical Technology,Educational Technology,Technology Tools,Educational Leadership,Educational Toys,Google Classroom,Classroom Ideas,People Reading",
         "image",
         "https://i.pinimg.com/originals/46/01/f1/4601f15ffdcda22f92c9617c48ed5744.jpg",
         1,
         "Local save in /data/education",
         "education"
        ],
        [
         10385,
         "11089567-a8bd-427f-9f25-42a1b1515094",
         "Meet the Honda Kei, a simple and efficient autonomous vehicle for commuting in the urban future - Yanko Design",
         "If you know anything about Japanese cars, you've definitely heard about Kei car. It literally means \"light car\" and was a result of the spending capability of t",
         "Yanko Design - Form Beyond Function",
         "416k",
         "Car Design Sketch,Car Sketch,Kei Car,Cab Over,Honda S,Smart Car,Futuristic Cars,Japanese Cars,Transportation Design",
         "image",
         "https://i.pinimg.com/originals/f4/9e/15/f49e1591c73b7ed70a5944c5b348df62.png",
         1,
         "Local save in /data/vehicles",
         "vehicles"
        ],
        [
         9106,
         "a4c5a298-f07f-4a76-bece-45219ef9ecac",
         "13 Inspiring Shakespeare Tattoos",
         "If you're a romantic bookworm looking to truly express your love for the Bard and his works, check out these Shakespeare tattoos and get inspired.",
         "Books and Bao | Travel, Culture, Books",
         "4k",
         "Feminine Tattoo Sleeves,Feminine Tattoos,Unique Tattoos,Cute Tattoos,Leg Tattoos,Beautiful Tattoos,Body Art Tattoos,Small Tattoos,Sleeve Tattoos",
         "image",
         "https://i.pinimg.com/originals/01/63/eb/0163eb6fee8859189645e4d6d7432e70.jpg",
         1,
         "Local save in /data/tattoos",
         "tattoos"
        ],
        [
         6394,
         "41ceecc7-20db-490f-912e-22cb04141a88",
         "Easy Vase Filler DIY",
         "No description available Story format",
         "Purposefully Emilie",
         "17k",
         "Diy Crafts For Home Decor,Fall Home Decor,Autumn Home,Diy Decorations For Home,Target Home Decor,Handmade Home Decor,Diy Wall Decor,Tray Decor,Cheap Home Decor",
         "multi-video(story page format)",
         "https://i.pinimg.com/videos/thumbnails/originals/bf/47/81/bf4781fbbb114d1305151c7f4dd13f70.0000001.jpg",
         1,
         "Local save in /data/home-decor",
         "home-decor"
        ],
        [
         7060,
         "86e2b4bb-a264-4dfb-bc38-9c537f43e27e",
         "Don’t Be That Guy: Avoiding Over-40 Style Pitfalls",
         "As men age, dressing stylishly gets increasingly treacherous—especially with fashion veering ever more casual. But giving up entirely is never a good look. Here’s help",
         "The Wall Street Journal",
         "194k",
         "Fashion For Men Over 40,Mature Mens Fashion,Old Man Fashion,Stylish Mens Fashion,Fall Fashion,Fashion Ideas,Casual Clothes For Men Over 50,Stylish Men Over 50,Womens Fashion",
         "image",
         "https://i.pinimg.com/originals/f7/6c/87/f76c87c1b0e0bd84061c4f996b15bdea.jpg",
         1,
         "Local save in /data/mens-fashion",
         "mens-fashion"
        ],
        [
         7663,
         "5adc6dd8-7ca8-4bd8-9db5-f00eaa3ee7b5",
         "Amaya Itami of the Pain Clan(Naruto Fanfiction)(Garra love story) - The Forest Of Death",
         "THIS IS BEING REWRITTEN AND FIXED BECAUSE IM AWEFUL AND MESSED UP THE PLOT SO PEASE BARE WITH ME WHILE I FIX MY FUCK UP.",
         "Maddie Kay Russell",
         "1",
         "Feeling Broken Quotes,Deep Thought Quotes,Quotes Deep Feelings,Feeling Alone Quotes,Hurt Feelings,New Quotes,Mood Quotes,Inspirational Quotes,Qoutes",
         "image",
         "https://i.pinimg.com/originals/78/93/51/789351e2db23b093dcc1164c120bf8fc.jpg",
         1,
         "Local save in /data/quotes",
         "quotes"
        ],
        [
         5535,
         "f829fb7a-c7b1-4a8d-8185-59ac61533ad4",
         "100 Easy Ways To Save Money Right Now",
         "Want to save more money this year, pay off your debts, and improve your finances? These 100 money saving tips are what you need to move your finances in the right direction. #mo… ",
         "Savvy Personal Finance | Save Money, Make Money & Investing Tips",
         "20k",
         "Save Money On Groceries,Ways To Save Money,Money Tips,Money Budget,Mo Money,Money Hacks,Budgeting Finances,Budgeting Tips,Budgeting Worksheets",
         "image",
         "https://i.pinimg.com/originals/06/a8/cf/06a8cf91027ae640ed780badc8f6d96c.png",
         1,
         "Local save in /data/finance",
         "finance"
        ],
        [
         8555,
         "8fa3a9e0-36d8-4860-916a-da3765740f58",
         "41 Simple First Small Tattoo Ideas For Women",
         "Small tattoos are becoming increasingly popular and loved by women, and if this is going to be your first tattoo, then choosing a small tattoo may be the best option. Small tatt… ",
         "IdeasDonuts",
         "47k",
         "Simple Shoulder Tattoo,Small Hand Tattoos,Shoulder Tattoos For Women,Wrist Tattoos For Women,Dainty Tattoos,Cool Small Tattoos,Small First Tattoos,Funny Small Tattoos,Tattoo Simple",
         "image",
         "https://i.pinimg.com/originals/02/b8/99/02b899adc21d68239f8be6d7f4e13435.jpg",
         1,
         "Local save in /data/tattoos",
         "tattoos"
        ],
        [
         8637,
         "e9ac5027-7491-477c-b0f4-cd042ec0c9de",
         "Night Rose - XS",
         "ULTRA REALISTIC TEMP TATS THAT LAST 3-7 DAYS YOUR KIT INCLUDES Designs Real Teal™ Shine Remover Instructions",
         "Momentary Ink",
         "27k",
         "Boho Tattoos,Mini Tattoos,Cute Tattoos,Body Art Tattoos,Small Tattoos,Sleeve Tattoos,Tattoos To Draw,Medium Size Tattoos,Small Flower Tattoos",
         "image",
         "https://i.pinimg.com/originals/17/f2/b5/17f2b5dd3efdb988e0b9745ebf6bbfc1.jpg",
         1,
         "Local save in /data/tattoos",
         "tattoos"
        ],
        [
         3856,
         "6072eb52-009f-44f7-b2c6-d4ad1ab5adcd",
         "Simmons College/Beacon Press Race, Education, and Democracy: Another Kind of Public Education : Race, Schools, the Media, and Democratic Possibilities (Paperback)",
         "In this fiercely intelligent yet accessible book, one of the nation's leading sociologists and experts on race calls for another kind of public education--one that opens up more… ",
         "Walmart",
         "2M",
         "Public School,High School,Coming Of Age,Senior Year,Powerful Words,Young People,New Books,Schools,The Twenties",
         "image",
         "https://i.pinimg.com/originals/b4/0b/9d/b40b9d3fdb659f923472ac850353f376.jpg",
         1,
         "Local save in /data/education",
         "education"
        ],
        [
         8407,
         "93b5651e-40b8-4520-8bb7-89b11bd22438",
         "MOTIVATION",
         "No description available Story format",
         "SAHYA",
         "6k",
         "Better Life Quotes,Good Life Quotes,Wise Quotes,Motivational Quotes,Inspirational Quotes,Movie Quotes,Qoutes,Study Motivation Quotes,Study Quotes",
         "multi-video(story page format)",
         "Image src error.",
         0,
         "Local save in /data/quotes",
         "quotes"
        ],
        [
         9744,
         "210e753e-24a1-499a-95e5-2d8c8867ede5",
         "No Title Data Available",
         "No description available Story format",
         "User Info Error",
         "User Info Error",
         "N,o, ,T,a,g,s, ,A,v,a,i,l,a,b,l,e",
         "multi-video(story page format)",
         "Image src error.",
         0,
         "Local save in /data/travel",
         "travel"
        ],
        [
         1170,
         "fafb96e7-e2c6-436b-beac-caf5e3a1cbf5",
         "Best shade makeup foundation for your skin match guide tutorial- beauty tutorial hacks",
         "No description available Story format",
         "miss coco",
         "157k",
         "Eye Makeup Steps,Blue Eye Makeup,Skin Makeup,Simple Makeup,Natural Makeup,Concealer,Makeup Tips Foundation,Foundation Shade,Full Coverage Foundation",
         "multi-video(story page format)",
         "https://i.pinimg.com/videos/thumbnails/originals/92/6f/33/926f33779cb5fe0b76ff08e992e8e867.0000001.jpg",
         1,
         "Local save in /data/beauty",
         "beauty"
        ],
        [
         7989,
         "1cb89f3b-dd0c-4b64-aab3-7d5b83aede13",
         "Breaking the Toxic Cycle of Trauma Bonding",
         "Narcissists thrive on fights for a few reasons. For one, you're providing the narcissist with undivided attention, emotional capacity, and energy – all of which feeds their addi… ",
         "Kim Saeed | Narcissistic Abuse Recovery Expert",
         "42k",
         "Narcissistic People,Narcissistic Abuse Recovery,Narcissistic Behavior,Narcissistic Sociopath,Narcissistic Personality Disorder,Narcissistic Mother,Narcissist Cycle,Trauma,Ptsd",
         "image",
         "https://i.pinimg.com/originals/f8/c0/ea/f8c0ea6f3ecaffdc764bc6b9fc99137f.jpg",
         1,
         "Local save in /data/quotes",
         "quotes"
        ],
        [
         10699,
         "c21e3809-59d4-4980-a17d-f9be5f1e5d16",
         "1967 Ford Mustang Hardtop - Fast In Pink",
         "At last year's Mustang Club of America national show in Mustang, Oklahoma, I learned to never trust my first glance-or even the second. While walking the show l",
         "Keitha Rankin",
         "248",
         "Mustang Rose,1967 Mustang,Mustang Cars,Mustang Fastback,Classic Mustang,Ford Classic Cars,Ford Mustangs,Playboy,Ayrton Senna",
         "image",
         "https://i.pinimg.com/originals/c7/c3/61/c7c3610ca42bcbcaadc276ef8cd85c65.jpg",
         1,
         "Local save in /data/vehicles",
         "vehicles"
        ],
        [
         6011,
         "82bd6b35-465b-4173-80a1-1b9b74290738",
         "Our Family's Future Hill Country Home Inspiration: Modern Farmhouse Kitchens - HOUSE of HARPER",
         "Our Family's Future Hill Country Home Inspiration: Modern Farmhouse Kitchens - HOUSE of HARPER #modernfarmhouse #modernfarmhousekitchen #kitchens",
         "HOUSE of HARPER",
         "49k",
         "Kitchen Ikea,New Kitchen,Cheap Kitchen,Smart Kitchen,Kitchen Wood,Floors Kitchen,Kitchen White,Awesome Kitchen,Kitchen Small",
         "image",
         "https://i.pinimg.com/originals/61/9a/c6/619ac60829aeae7665f968e596879566.jpg",
         1,
         "Local save in /data/home-decor",
         "home-decor"
        ],
        [
         7981,
         "9f34995c-4e78-4638-bfd2-1fe267ab5dea",
         "THINGS",
         "No description available Story format",
         "MONTANO DIANA ✿◕‿◕✿",
         "2k",
         "Positive Affirmations Quotes,Affirmation Quotes,Wisdom Quotes,True Quotes,Words Quotes,Wise Words,Positive Quotes,Motivational Quotes,Wall Of Quotes",
         "multi-video(story page format)",
         "Image src error.",
         0,
         "Local save in /data/quotes",
         "quotes"
        ],
        [
         9741,
         "dc71aab4-380d-4b93-a3f4-897642338299",
         "THE BIG WATER (GREEN)",
         "This hat was made specifically for all of your aquatic adventures, hikes that might get extra sweaty, and killer trail runs. It features quick-drying fabric and breathable wide-… ",
         "Sonnies Outside | Outdoor Apparel + Outside Enthusiast",
         "222",
         "Mountain Climbing,Rock Climbing,Nature Adventure,Adventure Time,Granola Girl,Hiking Essentials,Green Hats,Outdoor Recreation,Trail Running",
         "image",
         "https://i.pinimg.com/originals/75/23/ac/7523acfef129610b0a888e59e0f29345.jpg",
         1,
         "Local save in /data/travel",
         "travel"
        ],
        [
         3097,
         "c6b2f900-b1d6-44d9-b719-9187a6a9f404",
         "Pin on Frozen 2 Activities",
         "Mar 20, 2020 - Learn how to fold and cut these coffee filter snowflakes. Take this winter craft to the next level by dyeing them using markers and water. Easy and fun!",
         "The Printables Fairy | Printables & Activities For Kids",
         "6k",
         "Winter Activities For Kids,Winter Crafts For Kids,Christmas Activities,Winter Fun,Kids Printable Activities,Winter Preschool Crafts,Simple Crafts For Kids,At Home Crafts For Kids,Art Games For Kids",
         "image",
         "https://i.pinimg.com/originals/da/6c/1e/da6c1ea60fb485b023a4b86c8ea62040.jpg",
         1,
         "Local save in /data/diy-and-crafts",
         "diy-and-crafts"
        ],
        [
         2210,
         "993f0d01-4d87-40a1-aadc-d51c7cafc31b",
         "Have Yourself A Merry Christmas: 75 Ho-Ho-Holiday Decor Ideas",
         "In the spirit of Christmas, we would love to share with you some fabulous holiday decor ideas to leave you feeling inspired.",
         "One Kindesign",
         "657k",
         "Christmas Fireplace,Christmas Mantels,Farmhouse Christmas Decor,Rustic Christmas,Winter Christmas,Christmas Crafts,Holiday Decor,Christmas Vacation,Fireplace Mantel Christmas Decorations",
         "image",
         "https://i.pinimg.com/originals/2f/56/92/2f569211961627c4a3bb6b0d3a7d9265.png",
         1,
         "Local save in /data/christmas",
         "christmas"
        ],
        [
         6984,
         "2ed17d3d-adfd-4f55-9af1-b97a34f4a039",
         "Get The Perfect OOTD Look",
         "Tired struggling to find the perfect outfit in the morning? Here are some amazing OOTD Ideas for men to flaunt. Stay Tunned!",
         "TheUnstitchd",
         "723k",
         "Business Casual Men,Men Casual,Smart Casual,Casual Winter,Outfit Winter,Winter Style,Komplette Outfits,Casual Outfits,Dress Casual",
         "image",
         "https://i.pinimg.com/originals/84/7e/06/847e06d7b2885ddad8ad955f103c32ee.png",
         1,
         "Local save in /data/mens-fashion",
         "mens-fashion"
        ],
        [
         1195,
         "0634d842-6331-440b-8916-86526e13806b",
         "6 Amazing Beauty Benefits of Apple Cider Vinegar",
         "Apple cider vinegar helps to soothe sunburn as well as relieves pigment spots and other skin problems",
         "Beauty Epic",
         "338k",
         "Beauty Care,Beauty Skin,Health And Beauty,Beauty Advice,Beauty Ideas,Diy Beauty,Beauty Guide,Beauty Habits,Healthy Beauty",
         "image",
         "https://i.pinimg.com/originals/5a/d0/ab/5ad0ab60a00a593a95c89d3c3897abd8.jpg",
         1,
         "Local save in /data/beauty",
         "beauty"
        ],
        [
         7372,
         "a26c1d96-72d5-43af-8221-496bb0e2c0a0",
         "The Wilton Jacket in Navy Birdseye Wool",
         "The Wilton Jacket in Navy Birdseye Wool from Taylor Stitch",
         "Charlie Watters",
         "5",
         "Mens Outdoor Fashion,Older Mens Fashion,Mens Fashion Casual Shoes,Winter Fashion Outfits,Men Casual,Rugged Men's Fashion,Fashion Menswear,Man Fashion,Casual Winter",
         "image",
         "https://i.pinimg.com/originals/18/a4/40/18a440b1907a55aa19d67306dee36772.jpg",
         1,
         "Local save in /data/mens-fashion",
         "mens-fashion"
        ],
        [
         3815,
         "cb3d8579-7150-463d-906d-8a4329b36314",
         "Phonics books for r-controlled vowels",
         "These free printable phonetic books will help your child master those tricky r-controlled vowels!",
         "The Measured Mom | Structured literacy | Teaching Pre-K-3rd",
         "219k",
         "Phonics Books,Phonics Reading,Teaching Phonics,Phonics Activities,Kindergarten Reading,Reading Activities,Teaching Reading,Guided Reading,Learning",
         "image",
         "https://i.pinimg.com/originals/f5/49/a5/f549a5ab217b067e33590b70b8837251.jpg",
         1,
         "Local save in /data/education",
         "education"
        ],
        [
         10571,
         "ea84197e-5935-4121-a358-0b6886b87538",
         "shushpanzer_ru",
         "shushpanzer_ru - the new blog in LiveJournal. There should be new interesting records soon.",
         "David O'Connor",
         "272",
         "Army Vehicles,Armored Vehicles,Monster Car,Armored Truck,By Any Means Necessary,Expedition Vehicle,Futuristic Cars,Jeep Truck,Emergency Vehicles",
         "image",
         "https://i.pinimg.com/originals/1c/59/72/1c59725fc7946c7b146a81f7203d0536.jpg",
         1,
         "Local save in /data/vehicles",
         "vehicles"
        ],
        [
         84,
         "ee4ad9aa-1428-4f06-bed7-64b7541597d4",
         "20+ Best Watercolor Flowers Tutorials & Videos",
         "20+ best step by step easy watercolor flowers tutorials & videos on how to paint roses, peonies, hydrangeas, sunflowers, bouquets, & more!",
         "A Piece of Rainbow",
         "603k",
         "Watercolor Paintings For Beginners,Watercolor Art Lessons,Watercolor Painting Tutorials,Watercolor Art Paintings,Floral Paintings,Watercolors,Watercolor Flowers Tutorial,Floral Watercolor,Step By Step Watercolor",
         "image",
         "https://i.pinimg.com/originals/09/88/c5/0988c5aad5639570c4920a4ed4ebbad4.jpg",
         1,
         "Local save in /data/art",
         "art"
        ],
        [
         6237,
         "0d3def33-b77d-4261-8df7-00d95ab34645",
         "Farmhouse Friday – Baskets and Bins",
         "Today for Farmhouse Friday, I picked a topic that's a borderline obsession with me - baskets and bins! I love buying them, upcycling them, and repurposing them, and I use them i… ",
         "Knick of Time",
         "85k",
         "Farmhouse Wall Decor,Rustic Wall Decor,Farmhouse Style,Farmhouse Furniture,Rustic Furniture,Furniture Plans,Cottage Farmhouse,Furniture Outlet,Discount Furniture",
         "image",
         "https://i.pinimg.com/originals/c0/b4/63/c0b4636ebdac6283b5942d66cfbe2f05.jpg",
         1,
         "Local save in /data/home-decor",
         "home-decor"
        ],
        [
         10421,
         "d9e4c12e-5512-4a8f-a1fc-a44ff7b0f90b",
         "| Make: DIY Projects and Ideas for Makers",
         "Mustang by fab4fun_be",
         "Make:",
         "400k",
         "Custom Hot Wheels,Hot Wheels Cars,Custom Cars,Mad Max,Hot Rods,Combi Split,Death Race,Classic Toys,Post Apocalyptic",
         "image",
         "https://i.pinimg.com/originals/e9/6c/70/e96c70e581ee7b2223440836b83b7140.jpg",
         1,
         "Local save in /data/vehicles",
         "vehicles"
        ],
        [
         9946,
         "fd28bf6a-d4fe-4023-b429-d7060ae2b204",
         "Perfect Scotland Itinerary",
         "This is the PERFECT Scotland Itinerary #scotland #itinerary",
         "Wanderlust Crew",
         "19k",
         "Europe Travel Tips,European Travel,Travel Guides,Places To Travel,Places To See,Travel Destinations,Traveling Europe,Travel Things,Travelling",
         "image",
         "https://i.pinimg.com/originals/64/94/28/649428e50cb668dbf6a868930d8f4f13.jpg",
         1,
         "Local save in /data/travel",
         "travel"
        ],
        [
         2882,
         "550e48b3-e95d-4fc4-8dad-d031145dd267",
         "Name Snowman Preschool Craft and Free Printable",
         "Preschool kids can practice their names while making a name snowman. Be sure to use the free printable as part of the snowman name craft.",
         "Fun-A-Day Preschool Activities",
         "80k",
         "Preschool Christmas,Kids Christmas,Christmas Gifts,Christmas Activities For Preschoolers,Winter Preschool Crafts,Christmas Projects For Kids,Winter Activities,Christmas Ornaments,Snowman Crafts",
         "image",
         "https://i.pinimg.com/originals/fe/7f/03/fe7f03cc199a412c01f39f994084b55a.jpg",
         1,
         "Local save in /data/diy-and-crafts",
         "diy-and-crafts"
        ],
        [
         8316,
         "721edca0-c080-47eb-aaf5-9f4f45db2c30",
         "Spirit Message Circle this Sunday 28th and every last Sunday of month in Cicero, IL",
         "\"Religion is belief in someone else's experience. Spirituality is having your own experience.\" Deepak Chopra This is one of my core beliefs.",
         "Demeraki",
         "2k",
         "The Words,Deepak Chopra,Spiritual Awakening,Awakening Quotes,Inner Peace,Quotations,Me Quotes,Irish Quotes,Hindu Quotes",
         "image",
         "https://i.pinimg.com/originals/f6/7c/3e/f67c3eb652488f06561f8e71a768173d.jpg",
         1,
         "Local save in /data/quotes",
         "quotes"
        ],
        [
         10624,
         "e31b313a-162c-4b1c-a2c2-741dedd4d37f",
         "1964 Jaguar E-Type Series I 3.8-Litre Roadster",
         "Gooding & Company is recognized the world over as a leading automotive auction house specializing in the finest antique, classic, sports and racing cars.",
         "Aesop Socrates",
         "1",
         "British Sports Cars,Classic Sports Cars,Classic Cars,British Car,Classic Auto,Jaguar Xk,Jaguar E Type,Jaguar Cars,Sport Cars",
         "image",
         "https://i.pinimg.com/originals/62/cb/49/62cb49b0d55d2892ba4e5c8b15317048.jpg",
         1,
         "Local save in /data/vehicles",
         "vehicles"
        ],
        [
         6533,
         "3ce1d845-3ab3-4a74-9bd6-5bb0d3be380c",
         "Neutral decor kitchen ideas open shelving and modern vintage farmhouse rustic kitchen renovation",
         "No description available Story format",
         "Indie.boho.nest-DIY Home office ideas DIY Decor Renovation ideas",
         "41k",
         "Earthy Kitchen,Boho Kitchen,Home Decor Kitchen,Rustic Kitchen,Kitchen Design,Black Kitchen Decor,Vintage Kitchen Decor,Kitchen Styling,Kitchen Ideas",
         "multi-video(story page format)",
         "Image src error.",
         0,
         "Local save in /data/home-decor",
         "home-decor"
        ],
        [
         8087,
         "f4400f3c-457a-4056-972d-86af74c3333e",
         "'Quote - You don't have to be perfect to be amazing' iPhone Case by HelenDesignXO",
         "Think About Your Life Quotes | HubPages",
         "Vinyl Written",
         "1k",
         "Motivacional Quotes,Quotable Quotes,Wisdom Quotes,Great Quotes,Words Quotes,Funny Quotes,Hard Life Quotes,Best Advice Quotes,Inspiring Quotes On Life",
         "image",
         "https://i.pinimg.com/originals/86/fd/d8/86fdd8e1df40d40f7b9319f63da5533d.jpg",
         1,
         "Local save in /data/quotes",
         "quotes"
        ],
        [
         10786,
         "45765013-22f3-488a-9d04-da490bcd61e5",
         "This Gold Custom Porsche Is Sex On Wheels",
         "Wow.",
         "Trainman999",
         "130",
         "Porsche 356,Porsche 911 Singer,Porsche Autos,Porche 911,Porsche Carrera,Porsche Cars,Singer 911,Porsche Wheels,Porsche Classic",
         "image",
         "https://i.pinimg.com/originals/f4/72/d4/f472d495324a79616720ebe02cf2a6d4.png",
         1,
         "Local save in /data/vehicles",
         "vehicles"
        ],
        [
         10898,
         "baea0893-6a88-4d35-b2ca-92f049fa1bae",
         "The Pagani Zonda - Super Car Center",
         "The Pagani Zonda was first unveiled at the Geneva Motor Show in 1999 and was produced between 1999 and 2011. A number of different versions of the car have",
         "Supercar Center",
         "27k",
         "Nissan Gt R,Nissan Gtr Nismo,Nissan Skyline R33,Gtr R35,Skyline Gtr,Fancy Cars,Cool Cars,Supercars,Sexy Autos",
         "image",
         "https://i.pinimg.com/originals/77/e6/52/77e6521fa1b9c4d9077c72d3ed4f78af.jpg",
         1,
         "Local save in /data/vehicles",
         "vehicles"
        ],
        [
         4336,
         "745fdb9a-b931-4ac3-b8e6-9ebd7f4cc2dc",
         "Man Turns Hotel Room into Fairytale Surprise Proposal for His Girlfriend",
         "Read Harry and Demi's marriage proposal story on howtheyasked.com – the only site that makes you cry (happy tears) daily.",
         "Kelly Meade",
         "9",
         "Romantic Surprises For Him,Romantic Room Surprise,Romantic Birthday,Surprises For Her,Girlfriend Surprises,Girlfriend Proposal,Birthday Surprises For Him,Hotel Room Decoration,Romantic Room Decoration",
         "image",
         "https://i.pinimg.com/originals/20/a3/c9/20a3c965bdf480e5b75b81ab29323d67.jpg",
         1,
         "Local save in /data/event-planning",
         "event-planning"
        ],
        [
         1160,
         "58c893ae-f20a-4b7b-b39b-33517627da94",
         "Thicker, Softer Hair with Rosemary, Lavender and Apple Cider Vinegar",
         "I love plant folklore, and this is one of my favorite wisdoms: \"Keep rosemary at your garden gate and plant lavender for luck\". Rosemary protects the house from ill intent and p… ",
         "Rebecca (Camp Wander)",
         "50k",
         "Natural Hair Care,Natural Hair Styles,Diy Beauty,Beauty Hacks,Beauty Tips,Beauty Care,Vinegar Hair Rinse,Apple Cider Vinegar For Hair,Diy Hair Treatment",
         "image",
         "https://i.pinimg.com/originals/e8/cb/59/e8cb5921c2d0891d0a17e66faf112020.jpg",
         1,
         "Local save in /data/beauty",
         "beauty"
        ],
        [
         9052,
         "a2053881-2de6-4096-9799-2510ec2019a9",
         "30+ Hot and Bright Sun Tattoo Ideas 2021 - Page 21 of 32 - hairstylesofwomens. com",
         "If you are looking for a tattoo that improves your day, try a sun tattoo. After all, it is the pure source of life. How can you not feel inspired when it is a bright sun? Today,… ",
         "sav",
         "5",
         "Dainty Tattoos,Dope Tattoos,Pretty Tattoos,Body Art Tattoos,Sleeve Tattoos,Tatoos,Cute Little Tattoos,Tattoos Skull,Collar Tattoo",
         "image",
         "https://i.pinimg.com/originals/eb/3c/4e/eb3c4eeb7e050fedcaddaa9333ede491.jpg",
         1,
         "Local save in /data/tattoos",
         "tattoos"
        ],
        [
         684,
         "b0ad33e9-997a-4388-8c97-7f487f6438e1",
         "Jellyfish Art Project for Kids",
         "Watercolor & glue Jellyfish art project. Free step by step tutorial from TheCraftyClassroom.com Perfect for learning mixed media, texture, warm and cool colors, hue and more!",
         "The Crafty Classroom",
         "40k",
         "Primary School Art,Elementary Art,Art School,Kids Watercolor,Watercolor Art Lessons,Art Lessons For Kids,Art For Kids,Kids Art Class,Kindergarten Art",
         "image",
         "https://i.pinimg.com/originals/44/08/5c/44085cffbf05ebe21043ce01bbe5dfbb.jpg",
         1,
         "Local save in /data/art",
         "art"
        ],
        [
         9170,
         "a7e9f25c-16b9-4c84-93ca-b46f991e2090",
         "22 Ghost Tattoos That Are Seriously Cute (and Not at All Spooky)",
         "Nothing shows dedication to Halloween like getting a tattoo to commemorate the holiday. If you want a tiny piece of ink, try one of these ghost designs.",
         "POPSUGAR",
         "5M",
         "Dope Tattoos,Mini Tattoos,Cute Tiny Tattoos,Pretty Tattoos,Body Art Tattoos,Small Tattoos,Tattoos For Guys,Tatoos,Funky Tattoos",
         "image",
         "https://i.pinimg.com/originals/f9/a6/e5/f9a6e5970b4e62915a0b773b63169959.jpg",
         1,
         "Local save in /data/tattoos",
         "tattoos"
        ],
        [
         3737,
         "51b1351b-e839-497a-a4e6-52a55af6c1a3",
         "How to Scaffold Paragraph Writing for Special Education - You Aut-A Know",
         "Moving from writing sentences to writing paragraphs is a big leap for many of our students. I've found that putting some simple scaffolds in place helps my students become more… ",
         "You AUT-a Know",
         "10k",
         "Writing Curriculum,Writing Lessons,Writing Resources,Teaching Writing,Writing Activities,Writing Skills,Kindergarten Writing,Writing Process,Homeschooling",
         "image",
         "https://i.pinimg.com/originals/c2/e5/4a/c2e54a9c862a2f9eb9b8dd6b8d0de3b2.jpg",
         1,
         "Local save in /data/education",
         "education"
        ],
        [
         6378,
         "c27331a2-2e3a-482c-861d-81b1f89217e5",
         "Macrame Wall Hanger - H",
         "This Boho wall hanging tapestry features a unique design that is a must-have in any home with a bohemian theme. Perfect for Home Decoration, Bohemian decoration, Kids Bedroom, S… ",
         "Plex Oasis",
         "25",
         "Decoration Photo,Deco Boheme,Boho Room,Boho Bedroom Decor,Bohemian Room Decor,Boho Style Decor,Bohemian Theme,Bedroom Table,Bohemian Style",
         "image",
         "https://i.pinimg.com/originals/37/0b/44/370b44c0bf3ee19a64709d71b509ab21.jpg",
         1,
         "Local save in /data/home-decor",
         "home-decor"
        ],
        [
         5229,
         "9e01fa38-d1d9-4dfa-8f07-1f36ff6fe0da",
         "Moxie - A Revolution in Child Development",
         "Parents: Meet Moxie! ▪️ Created by child development experts ▪️ Promotes emotion regulation ▪️ Helps develop social skills ▪️ Supports building confidence ▪️ Risk-free 30-day ho… ",
         "Embodied, Inc.",
         "48",
         "N,o, ,T,a,g,s, ,A,v,a,i,l,a,b,l,e",
         "video",
         "https://i.pinimg.com/videos/thumbnails/originals/e5/5b/94/e55b94ac2d32067a40aa2888deac3a39.0000001.jpg",
         1,
         "Local save in /data/finance",
         "finance"
        ],
        [
         7528,
         "fbe53c66-3442-4773-b19e-d3ec6f54dddf",
         "No Title Data Available",
         "No description available Story format",
         "User Info Error",
         "User Info Error",
         "N,o, ,T,a,g,s, ,A,v,a,i,l,a,b,l,e",
         "multi-video(story page format)",
         "Image src error.",
         0,
         "Local save in /data/mens-fashion",
         "mens-fashion"
        ],
        [
         2863,
         "9bf39437-42a6-4f02-99a0-9a0383d8cd70",
         "25 Super Fun Summer Crafts for Kids - Of Life and Lisa",
         "Keep the kids busy this summer with these easy diy crafts and projects. Creative and…",
         "Of Life & Lisa | Lifestyle Blog",
         "124k",
         "Summer Crafts For Kids,Fun Crafts For Kids,Summer Kids,Toddler Crafts,Crafts To Do,Diy For Kids,Summer Snow,Diys For Summer,Craft Ideas For Girls",
         "image",
         "https://i.pinimg.com/originals/b3/bc/e2/b3bce2964e8c8975387b39660eed5f16.jpg",
         1,
         "Local save in /data/diy-and-crafts",
         "diy-and-crafts"
        ],
        [
         5730,
         "1e1f0c8b-9fcf-460b-9154-c775827206eb",
         "Island Oasis Coupon Organizer",
         "Description Coupon Organizer in a fun colorful fabric -island oasis, Great Size for the \"basic\" couponer - holds up to 500 coupons with ease, and is made long enough so that you… ",
         "Consuelo Aguirre",
         "0",
         "Grocery Items,Grocery Coupons,Care Organization,Coupon Organization,Extreme Couponing,Couponing 101,Life Binder,Save My Money,Love Coupons",
         "image",
         "https://i.pinimg.com/originals/65/bb/ea/65bbeaf458907bb079317d8303c4fa0e.jpg",
         1,
         "Local save in /data/finance",
         "finance"
        ],
        [
         7528,
         "fbe53c66-3442-4773-b19e-d3ec6f54dddf",
         "No Title Data Available",
         "No description available Story format",
         "User Info Error",
         "User Info Error",
         "N,o, ,T,a,g,s, ,A,v,a,i,l,a,b,l,e",
         "multi-video(story page format)",
         "Image src error.",
         0,
         "Local save in /data/mens-fashion",
         "mens-fashion"
        ],
        [
         2863,
         "9bf39437-42a6-4f02-99a0-9a0383d8cd70",
         "25 Super Fun Summer Crafts for Kids - Of Life and Lisa",
         "Keep the kids busy this summer with these easy diy crafts and projects. Creative and…",
         "Of Life & Lisa | Lifestyle Blog",
         "124k",
         "Summer Crafts For Kids,Fun Crafts For Kids,Summer Kids,Toddler Crafts,Crafts To Do,Diy For Kids,Summer Snow,Diys For Summer,Craft Ideas For Girls",
         "image",
         "https://i.pinimg.com/originals/b3/bc/e2/b3bce2964e8c8975387b39660eed5f16.jpg",
         1,
         "Local save in /data/diy-and-crafts",
         "diy-and-crafts"
        ],
        [
         5730,
         "1e1f0c8b-9fcf-460b-9154-c775827206eb",
         "Island Oasis Coupon Organizer",
         "Description Coupon Organizer in a fun colorful fabric -island oasis, Great Size for the \"basic\" couponer - holds up to 500 coupons with ease, and is made long enough so that you… ",
         "Consuelo Aguirre",
         "0",
         "Grocery Items,Grocery Coupons,Care Organization,Coupon Organization,Extreme Couponing,Couponing 101,Life Binder,Save My Money,Love Coupons",
         "image",
         "https://i.pinimg.com/originals/65/bb/ea/65bbeaf458907bb079317d8303c4fa0e.jpg",
         1,
         "Local save in /data/finance",
         "finance"
        ],
        [
         8304,
         "5b6d0913-25e4-43ab-839d-85d5516f78a4",
         "The #1 Reason You’re Not His Priority Anymore - Matthew Coast",
         "#lovequotes #matchmaker #matchmadeinheaven #loveyourself #respectyourself",
         "Commitment Connection",
         "51k",
         "Wise Quotes,Quotable Quotes,Words Quotes,Wise Words,Quotes To Live By,Great Quotes,Motivational Quotes,Inspirational Quotes,Funny Quotes",
         "image",
         "https://i.pinimg.com/originals/c6/64/ee/c664ee71524fb5a6e7b7b49233f93b43.png",
         1,
         "Local save in /data/quotes",
         "quotes"
        ],
        [
         8731,
         "ea760f71-febf-4023-b592-d17396659039",
         "20 Koi Fish Tattoos For Lucky Men",
         "Koi fish tattoos are a popular choice for men who want to make a statement, thanks to their rich symbolism and bold design.",
         "TheTrendSpotter",
         "211k",
         "Dr Tattoo,Wörter Tattoos,Pisces Tattoos,Tatoo Art,Dream Tattoos,Dope Tattoos,Mini Tattoos,Finger Tattoos,Body Art Tattoos",
         "image",
         "https://i.pinimg.com/originals/8a/0c/0a/8a0c0a7b6236565c519acd41ad1a52c0.jpg",
         1,
         "Local save in /data/tattoos",
         "tattoos"
        ],
        [
         1313,
         "44662045-e891-4821-8a19-ebe7eedd371a",
         "Liquid Lash Extensions Mascara",
         "Instantly create the look of lash extensions with this award-winning, best-selling mascara that won't clump, flake or smudge. Available in 3 shades!",
         "Thrive Causemetics",
         "43k",
         "N,o, ,T,a,g,s, ,A,v,a,i,l,a,b,l,e",
         "video",
         "https://i.pinimg.com/videos/thumbnails/originals/69/84/e2/6984e20f3e262098fa9c0614c3453254.0000001.jpg",
         1,
         "Local save in /data/beauty",
         "beauty"
        ],
        [
         4315,
         "21b59ba9-829d-4c33-8c27-4cd4c56d26b8",
         "Podcasts for Teachers or Parents of Teenagers",
         "Podcasts for Teachers or Parents of Teenagers: Teaching teens middle school and high school can feel joyful and rewarding most days, but can also frustrate you with one challeng… ",
         "Math Giraffe",
         "25k",
         "Middle School Classroom,High School Students,High School Teachers,Middle School Tips,High School Counseling,Ela Classroom,High School Science,Future Classroom,Google Classroom",
         "image",
         "https://i.pinimg.com/originals/50/19/31/501931a27ee4d076658980851b995b2c.jpg",
         1,
         "Local save in /data/education",
         "education"
        ],
        [
         10794,
         "c4bd2577-a7bb-4409-bb7a-17d5ed7e1cf1",
         "TireBuyer",
         "Nissan GT-R. Sick.",
         "Ray Uyemura",
         "437",
         "Lowrider,Old Vintage Cars,Antique Cars,Austin Martin,Nissan Gtr Black,Jaguar,1959 Cadillac,Cadillac Ct6,Old School Cars",
         "image",
         "https://i.pinimg.com/originals/0d/29/9f/0d299f3df020395aa7ce8387f40fbeed.jpg",
         1,
         "Local save in /data/vehicles",
         "vehicles"
        ],
        [
         5494,
         "8fb2af68-543b-4639-8119-de33d28706ed",
         "Dave Ramsey's 7 Baby Steps: What Are They And Will They Work For You",
         "If you love budgeting, make sure to give Dave Ramsey's 7 Baby Steps a try. Follow these steps to begin your debt snowball, build an emergency fund, invest and reach riches. I ca… ",
         "Living Low Key | Save Money, Make Money, & Frugal Living",
         "26k",
         "Financial Peace,Financial Tips,Saving Money Quotes,Total Money Makeover,Budgeting Finances,Money Management,Wealth Management,Personal Finance,Making Ideas",
         "image",
         "https://i.pinimg.com/originals/1e/9d/90/1e9d906e4e150e3b95187f3b76ea7c71.png",
         1,
         "Local save in /data/finance",
         "finance"
        ],
        [
         5069,
         "b75b6f87-deb3-444f-b29e-ce9161b2df49",
         "The Vault: Curated & Refined Wedding Inspiration",
         "Sacramento California Wedding 2 Chic Events & Design Jodi Yorston Photography Wilson Vineyards Barn Miosa Couture Yellow Barn Vineyard Outdoor Candles DIY",
         "Style Me Pretty",
         "6M",
         "60th Anniversary Parties,Anniversary Decorations,Golden Anniversary,25th Wedding Anniversary,Anniversary Pictures,Anniversary Ideas,Birthday Decorations,Event Planning Design,Event Design",
         "image",
         "https://i.pinimg.com/originals/7e/45/90/7e45905fefa36347e83333fd6d091140.jpg",
         1,
         "Local save in /data/event-planning",
         "event-planning"
        ],
        [
         2923,
         "52fa3af5-24a4-4ccb-8f17-9c3eb12327ee",
         "UFO Paper Plate Craft",
         "A fun space activity for kids. Preshoolers and kindergartners will love making their own alien spacecraft!",
         "The Crafting Chicks",
         "192k",
         "Paper Plate Crafts For Kids,Fun Crafts For Kids,Summer Crafts,Toddler Crafts,Art For Kids,Outer Space Crafts For Kids,Kid Crafts,Space Kids,Back To School Crafts For Kids",
         "image",
         "https://i.pinimg.com/originals/6f/e8/aa/6fe8aa405513c6d2f77b5f47d17cdce8.jpg",
         1,
         "Local save in /data/diy-and-crafts",
         "diy-and-crafts"
        ],
        [
         3089,
         "88f9227e-88d0-4b1c-b0be-bcfc3028b8e2",
         "No Title Data Available",
         "No description available Story format",
         "User Info Error",
         "User Info Error",
         "N,o, ,T,a,g,s, ,A,v,a,i,l,a,b,l,e",
         "multi-video(story page format)",
         "Image src error.",
         0,
         "Local save in /data/diy-and-crafts",
         "diy-and-crafts"
        ],
        [
         6063,
         "60693727-4927-4bd6-a8c5-096a392d63e6",
         "41 Gorgeous Fall Decor Ideas For Your Home - Chaylor & Mads",
         "Beautiful and easy ways to update every room in your home with fall decor. Plus, my favorite finds in fall decor for 2020!",
         "Kristen | Lifestyle, Mom Tips & Teacher Stuff Blog",
         "92k",
         "Fall Home Decor,Autumn Home,Fall Decor Outdoor,Front Porch Fall Decor,Home Decor Ideas,Porch Ideas For Fall,Fall Outdoor Decorating,Decorating Ideas For Fall,Fall Front Doors",
         "image",
         "https://i.pinimg.com/originals/e5/ae/dc/e5aedc14ce557e3a69f672e0f8c88f6e.png",
         1,
         "Local save in /data/home-decor",
         "home-decor"
        ],
        [
         3454,
         "46bd3f86-b09d-4e29-9033-7ff2df595e51",
         "What can you use to color resin?",
         "HELPFUL RESOURCES – Check out my resin colorants resources page here with links to all the products mentioned in this article (and more). Let me know if you have any that you lo… ",
         "Mixed Media Crafts",
         "6k",
         "Epoxy Resin Art,Diy Resin Art,Diy Resin Crafts,Resin Molds,Ice Resin,Resin Pour,Diy Epoxy,Diy Resin Painting,Diy Resin Dice",
         "image",
         "https://i.pinimg.com/originals/d4/12/78/d4127833023ca32600571ddca16f1556.jpg",
         1,
         "Local save in /data/diy-and-crafts",
         "diy-and-crafts"
        ],
        [
         7554,
         "c6fa12f4-0d4a-4b07-a335-5bf9f37f8281",
         "Craig Style",
         "imgentleboss: “ - More about men’s fashion at @Gentleboss - GB’s Facebook - ”",
         "iElylike ..✿◕‿◕✿ஐ✿◕‿◕✿",
         "940",
         "Mens Fashion Blog,Look Fashion,Autumn Fashion,Fashion News,Fashion Sale,80s Fashion,Paris Fashion,Runway Fashion,Fashion Trends",
         "image",
         "https://i.pinimg.com/originals/e7/6e/8e/e76e8ed6cc838b84a934c6948a5caff7.jpg",
         1,
         "Local save in /data/mens-fashion",
         "mens-fashion"
        ],
        [
         6145,
         "82e13a07-db99-43a3-b1c0-89a4b75821da",
         "HOLIDAY MANTLE DECOR - @AMAZON & @TARGET FINDS",
         "Holiday mantle decor, Christmas decor, metallic mercury glass style Christmas trees, eucalyptus vine, evergreen pine branches, white neutral holiday decor, cozy mantle for the h… ",
         "Stylin by Aylin",
         "83k",
         "Winter Home Decor,Christmas Living Room Decor,Living Room Decor Cozy,Christmas Decor,Cozy Fireplace,Rustic Fireplace Decor,Fireplace Decorations,Rustic Room,House Decorations",
         "image",
         "https://i.pinimg.com/originals/9d/82/1a/9d821a80acd8f90c16454e978bd9b115.jpg",
         1,
         "Local save in /data/home-decor",
         "home-decor"
        ],
        [
         10625,
         "d31885b7-742a-4e2a-bbb7-ac5f9d334340",
         "Jaguar Type E",
         "1937 Jaguar SS100 - 2 1/2 Litre Roadster, one of the most sought after pre-war sports cars",
         "hobbyDB",
         "8k",
         "Jaguar Type E,Jaguar Xk,Jaguar Cars,Jaguar Roadster,Jaguar Sport,Retro Cars,Vintage Cars,Antique Cars,British Sports Cars",
         "image",
         "https://i.pinimg.com/originals/26/81/a7/2681a71bd0c8f7fd0ab79c455338a49a.jpg",
         1,
         "Local save in /data/vehicles",
         "vehicles"
        ],
        [
         2959,
         "439cac4b-18e8-4aaa-88c5-edb26a701111",
         "The Cutest Toilet Paper Crafts",
         "One thing I love about Crafts is how the evolve! These toilet paper rolls are adorable and modern. I love that something as simple as a recycled toilet paper roll can be taken t… ",
         "CraftGossip.com",
         "502k",
         "Toilet Paper Roll Crafts,Cardboard Crafts,Diy Paper,Paper Crafting,Toilet Paper Rolls,Cardboard Playhouse,Paper Art,Kids Crafts,Toddler Crafts",
         "image",
         "https://i.pinimg.com/originals/c6/cd/0d/c6cd0d04da9cfc11566cfd34eeb1f918.jpg",
         1,
         "Local save in /data/diy-and-crafts",
         "diy-and-crafts"
        ],
        [
         9875,
         "782dcbad-ff91-40a6-ba60-216efe29adb7",
         "European Bucket List: 35 Things NOT To Miss When Traveling Europe",
         "35 European bucket list destinations for any traveler heading to Europe. From Cinque Terre, Italy to Iceland - there are so many amazing sites to see in Europe.",
         "Nicki ",
         "28k",
         "Backpacking Europe,Europe Travel Guide,Travel Guides,Travel Packing,Traveling Europe,Travelling,Travel Backpack,Budget Travel,2 Week Europe Itinerary",
         "image",
         "https://i.pinimg.com/originals/71/04/1a/71041ad83ede43d9665741e719c58a86.jpg",
         1,
         "Local save in /data/travel",
         "travel"
        ],
        [
         2418,
         "da8745a6-5160-46c4-877d-181d50a729fd",
         "100 DIY Christmas Centerpieces You'll Love To Decorate Your Home With For The Christmas Season - Hike n Dip",
         "Here are the best DIY Christmas Centerpieces ideas perfect for your Christmas & holiday season home decor. From Christmas Vignettes to Table Centerpieces.",
         "HikenDip",
         "500k",
         "Farmhouse Christmas Decor,Rustic Christmas,Christmas Time,Vintage Christmas,Xmas,Primitive Christmas Crafts,Christmas Vignette,Indoor Christmas Decorations,Diy Christmas Ornaments",
         "image",
         "https://i.pinimg.com/originals/aa/6d/0f/aa6d0f44d7c1c96b998cb9aa6c4446b8.png",
         1,
         "Local save in /data/christmas",
         "christmas"
        ],
        [
         3156,
         "fa6e31a4-18c2-4eca-a6d8-e903eee2c2a4",
         "Handprint Reindeer Ornaments - Crafty Morning",
         "This post may contain affiliate links, read our Disclosure Policy for more information. As an Amazon Associate I earn from qualifying purchases, thank you! Make some cute handpr… ",
         "Michelle {CraftyMorning.com}",
         "892k",
         "Christmas Gifts For Parents,Christmas Decorations For Kids,Christmas Crafts For Toddlers,Preschool Christmas,Christmas Crafts For Gifts,Christmas Activities,Toddler Crafts,Kids Christmas,Christmas Feeling",
         "image",
         "https://i.pinimg.com/originals/ff/fe/38/fffe384f3ec18a0d87cb2d80cc8c1499.jpg",
         1,
         "Local save in /data/diy-and-crafts",
         "diy-and-crafts"
        ],
        [
         428,
         "610b3f83-9fe0-469d-946c-d16b577fca71",
         "Fashion Designer Isaac Mizrahi’s Updated 1930s New York City Apartment",
         "Fashion designer Issac Mizrahi’s Greenwich Village home is an amalgamation of three apartments that was 20 years in the making",
         "Architectural Digest",
         "3M",
         "Modern Art,Contemporary Art,Contemporary Kitchens,Contemporary Bedroom,New York City Apartment,Manhattan Apartment,Art Moderne,Architectural Digest,Painting Inspiration",
         "image",
         "https://i.pinimg.com/originals/f4/6c/54/f46c546a2e480022a42d842b7dca157e.jpg",
         1,
         "Local save in /data/art",
         "art"
        ],
        [
         7343,
         "b8c63a95-6fe8-4d7f-9455-1eef3462fee0",
         "This Fashion Rule Is Nonsense, And We Should All Forget About It",
         "Black And Brown Outfits You Need To Try This Fall Season. The trick with black and brown outfits is to know how to combine colors, fabrics, and shapes to get a cohesive look. So… ",
         "Cultura Colectiva",
         "1M",
         "Winter Outfits Men,Stylish Mens Outfits,Casual Outfits,Men Casual,Smart Casual,Outfits For Men,Fall Outfits,Mens Winter Boots,Business Casual Men",
         "image",
         "https://i.pinimg.com/originals/3e/49/09/3e4909c0ccc4dbba3cad83d97eab4a61.png",
         1,
         "Local save in /data/mens-fashion",
         "mens-fashion"
        ],
        [
         2074,
         "86ed09a7-842d-496d-9501-010c654eb340",
         "35 Christmas Decorating Ideas We Bet You Haven't Thought Of",
         "20 Christmas Decorating Ideas We Bet You Haven't Thought Of via @PureWow",
         "PureWow",
         "868k",
         "Holiday Centerpieces,Xmas Decorations,Centerpiece Ideas,Table Centerpieces,Valentine Decorations,Wedding Centerpieces,Outdoor Decorations,Christmas Centerpieces With Candles,Christmas Dining Table Decorations",
         "image",
         "https://i.pinimg.com/originals/e9/b9/f0/e9b9f01cc3b2cf41948b45854335396c.jpg",
         1,
         "Local save in /data/christmas",
         "christmas"
        ],
        [
         9979,
         "2b2abc85-fc51-481f-8ae6-17681993da28",
         "Paris in the Summer. 10 fun things to do in Paris in the Summertime • Petite in Paris",
         "Are you traveling to Paris during the summer? Find out what to do in Paris, France during the summer. Fun summertime activities in Paris. Enjoy the incredible outdoors when trav… ",
         "Petite in Paris",
         "3k",
         "Torre Eiffel Paris,Tour Eiffel,Picnic In Paris,Hello France,Voyage Europe,Destination Voyage,Beautiful Places To Travel,Travel Aesthetic,Paris Travel",
         "image",
         "https://i.pinimg.com/originals/6c/4c/90/6c4c90bba27ebf8c8bfe4c1acfb9f07a.jpg",
         1,
         "Local save in /data/travel",
         "travel"
        ],
        [
         10138,
         "927c4658-cc3f-4b92-9b5c-70743d0c238d",
         "14 Amazing Things To Do In Costa Rica | Volcanoes, Waterfalls, Wildlife And More",
         "This Costa Rica itinerary is the ultimate guide to spending two weeks in Costa Rica. Find out about visiting La Fortuna, Arenal, Monteverde, Naranjo, Corcovado National Park, Or… ",
         "Wanderlust Chloe ✈️ Travel guides, inspo and adventure travel ✈️",
         "10k",
         "Costa Rica Travel,Rio Celeste Costa Rica,Dream Vacations,Vacation Spots,Vacation Travel,Travel Pictures,Travel Photos,Fortuna Costa Rica,Costa Rica Pictures",
         "image",
         "https://i.pinimg.com/originals/30/93/cb/3093cb01d9de2d125fda8ba5e3e41946.jpg",
         1,
         "Local save in /data/travel",
         "travel"
        ],
        [
         9672,
         "1a5050a4-ac82-472c-aeff-3457de8bbee9",
         "Lake Moraine, Banff, Canada",
         "On our Calgary to Vancouver road trip we got to spend time in Banff, Canada. We visited the stunning Lake Moraine as well as Lake Louise and plenty of other of Canada's natural… ",
         "Travel Mad Mum",
         "7k",
         "Beautiful Places To Travel,Cool Places To Visit,Beautiful Roads,Beautiful Scenery,Wonderful Places,Lac Moraine,Moraine Lake,Lac Louise,Natur Wallpaper",
         "video",
         "https://i.pinimg.com/videos/thumbnails/originals/57/9d/52/579d52242ae5609978c754d393e44e81.0000001.jpg",
         1,
         "Local save in /data/travel",
         "travel"
        ],
        [
         8653,
         "24b1343c-4d86-4705-8ec9-7f1f2df2d77e",
         "Unique Women Tattoos Ideas 2020",
         "We welcome you to our latest collection of Beautiful Tattoo Ideas For Women. Check out and get inspired by the most beautiful design for yourself.",
         "ALL FOR WOMAN",
         "21k",
         "Small Back Tattoos,Small Girl Tattoos,Little Tattoos,Tattoo Girls,Mini Tattoos,Tattoo Small,Back Tattoo Women,Tattoo On Back,Girl Back Tattoos",
         "image",
         "https://i.pinimg.com/originals/fa/cf/7c/facf7cd752a4bc7c09faaa8925ab80b1.jpg",
         1,
         "Local save in /data/tattoos",
         "tattoos"
        ],
        [
         8887,
         "5df9f6e5-07f5-4ce8-a82e-96586bbc05d8",
         "25 Ultra Sexy Back Tattoo Ideas For Girls",
         "Tattoos are one of the most efficient ways through which one decides to express themselves…",
         "RapidLeaks",
         "4k",
         "Dream Tattoos,Body Art Tattoos,New Tattoos,Small Tattoos,Cross Tattoos,Random Tattoos,Fashion Tattoos,Bird Tattoos,Fitness Tattoos",
         "image",
         "https://i.pinimg.com/originals/ab/8e/50/ab8e505b04d4abc8f23e273c15f8a65d.jpg",
         1,
         "Local save in /data/tattoos",
         "tattoos"
        ],
        [
         7922,
         "a584581c-1b38-4731-a1cc-f36115ecf229",
         "45 Top Life Quotes School Did Not Teach You",
         "summcoco gives you inspiration for the women fashion trends you want. Thinking about a new look or lifestyle? This is your ultimate resource to get the hottest trends. 45 Top Li… ",
         "Sumcoco | Decor Ideas, Hairstyles, Nails Fashion Advice",
         "306k",
         "Life Quotes Love,Inspirational Quotes About Love,Mood Quotes,Motivational Quotes,Tears Quotes,Quotes About Sadness,Deep Quotes About Life,Quotes Quotes,Quote Life",
         "image",
         "https://i.pinimg.com/originals/bb/c0/e6/bbc0e6a797079505f11ac12bcb0b8c66.jpg",
         1,
         "Local save in /data/quotes",
         "quotes"
        ],
        [
         1014,
         "9ac94307-bb27-410e-b554-0a0ab6c19847",
         "Hairstyles & Beauty",
         "Untitled",
         "Grecia Perales",
         "0",
         "Hair Inspo,Hair Inspiration,Motivation Inspiration,Cl Rapper,Foto Glamour,Kreative Portraits,Classy Aesthetic,Pretty Hairstyles,Hair Looks",
         "image",
         "https://i.pinimg.com/originals/af/c4/59/afc459bd6e1fd8f9aef212504afebf3a.jpg",
         1,
         "Local save in /data/beauty",
         "beauty"
        ],
        [
         4913,
         "4d2d79c6-9ca8-46c9-a38e-931c5d967804",
         "How to Work From Home as an Event Planner",
         "Do you love planning parties? Do you want to work-at-home? This post covers everything you need to know about becoming a home-based event planner!",
         "The Work at Home Woman",
         "110k",
         "Event Planning Tips,Event Planning Business,Party Planning,Business Ideas,Craft Business,Business Chic,Business Inspiration,Business Goals,Business Opportunities",
         "image",
         "https://i.pinimg.com/originals/4d/a3/a4/4da3a4730418239f1b43ce81fb032c15.jpg",
         1,
         "Local save in /data/event-planning",
         "event-planning"
        ],
        [
         4137,
         "bf275054-4464-448b-9143-1bf101aa366d",
         "15 Essential Classroom Items For First Year Teachers / First Year Teacher Must Haves",
         "15 Essential Classroom Items For First Year Teachers / First Year Teacher Must Haves",
         "Write Your Story | Budgeting, Healthy Lifestyle, Faith",
         "5k",
         "1st Year Teachers,First Year Teaching,First Grade Teachers,Elementary Teacher,Montessori Elementary,Teaching Reading,History Teachers,High School Classroom,First Grade Classroom",
         "image",
         "https://i.pinimg.com/originals/4b/b9/a8/4bb9a85f609a8384ed9c9ab14e7bcea0.jpg",
         1,
         "Local save in /data/education",
         "education"
        ],
        [
         7166,
         "4a844b03-e161-47a1-904b-591eb5dc4fb1",
         "The Killers - Mr. Brightside - Women's T-Shirt - Heather Dark Grey / S",
         "Women's T-shirt. Design inspired by the rock band The Killers' hit \"Mr. Brightside\". One of the greatest song from the album Hot Fuss released in 2004. Soft and light, 100% cott… ",
         "Mala Rock | Rock T-shirts",
         "27",
         "Mr Brightside,Rock T Shirts,Greatest Songs,Timeless Classic,Rock Bands,Album,T Shirts For Women,Inspired,Hot",
         "image",
         "https://i.pinimg.com/originals/8c/42/39/8c42391d35fcad51a4a79f7cd81bf26d.jpg",
         1,
         "Local save in /data/mens-fashion",
         "mens-fashion"
        ],
        [
         9546,
         "efd5b2d6-2f69-40cd-bb59-41f18c089e52",
         "20 Amazing Trips to Take in Your Twenties!",
         "The best trips to take when you are young!",
         "The World Pursuit Travel Website",
         "89k",
         "Fun Places To Go,Beautiful Places To Travel,Best Places To Travel,Travel Jobs,Holiday Places,Future Travel,Travel Around The World,Adventure Travel,Travel Photos",
         "video",
         "https://i.pinimg.com/videos/thumbnails/originals/81/97/c1/8197c1beef8bcb19bea5d8b422211f34.0000001.jpg",
         1,
         "Local save in /data/travel",
         "travel"
        ],
        [
         2411,
         "4e11801e-7a64-4f1e-90dd-e900677595c5",
         "The Sweetest Gingerbread House Ornaments Kids Can Make",
         "Transform mini terra cotta pots into the sweetest gingerbread house ornaments! Kids will love making this adorable Christmas craft to hang on the tree.",
         "Projects with Kids",
         "20k",
         "Noel Christmas,Diy Christmas Ornaments,Homemade Christmas,Simple Christmas,Gingerbread Ornaments,Christmas Gingerbread,Gingerbread Houses,Preschool Christmas,Ornaments Ideas",
         "image",
         "https://i.pinimg.com/originals/13/28/09/1328097d7c290d1bf8642b01a6ba1c6c.jpg",
         1,
         "Local save in /data/christmas",
         "christmas"
        ],
        [
         9590,
         "b849e976-52f6-45d7-8b25-51559318f167",
         "Top 20 Things To See And Do In Ireland",
         "Best spots to see for travel through Ireland!",
         "Fun Life Crisis",
         "130k",
         "Vacation Ideas,Vacation Spots,Emerald Isle,London England,Travel Guides,Travel Tips,Travel Hacks,Travel Packing,Places To Travel",
         "image",
         "https://i.pinimg.com/originals/c7/50/d3/c750d36524856873d64406652d69b4fb.png",
         1,
         "Local save in /data/travel",
         "travel"
        ],
        [
         2698,
         "73f16302-4871-486a-8836-947530526337",
         "DIY Dollar Tree Valentine's Day Wreath",
         "DIY Dollar Store Valentine’s Day Heart Wreath Decoration. There are so many great Valentine crafts at the Dollar Tree right now! During our last trip, we picked up a few supplie… ",
         "South Lumina Style",
         "9k",
         "Valentine Day Wreaths,Valentines Day Hearts,Valentines Day Decorations,Valentine Day Crafts,Holiday Crafts,Diy Christmas,Christmas Wreaths,Valentine Tree,Printable Valentine",
         "image",
         "https://i.pinimg.com/originals/dc/f6/8a/dcf68adcc63c339c24fa5664f1115994.png",
         1,
         "Local save in /data/diy-and-crafts",
         "diy-and-crafts"
        ],
        [
         4508,
         "9064f4a2-2753-476c-815e-db360f45a93e",
         "Custom Event and Shop Neon Sign Lights - Event & Shop",
         "Personalize your event or shop with a customized neon sign. Make a statement with your own custom vibes! This light is 32 -40 inches (80cm-100cm) if you need something bigger, p… ",
         "Life of Neon | Custom Neon Light Signs | Home Decor Wall Art",
         "111",
         "Our Wedding,Wedding Venues,Dream Wedding,Wedding Cakes,Church Wedding,Wedding Flowers,Lace Wedding,Wedding Rings,Wedding Dresses",
         "image",
         "https://i.pinimg.com/originals/e9/c0/7c/e9c07cf0cf16cab23764a36718ab76c1.jpg",
         1,
         "Local save in /data/event-planning",
         "event-planning"
        ],
        [
         831,
         "5e65914d-9f58-4ff1-9676-658e426e8ce5",
         "creating mixed-media faces tutorial",
         "Free quick inspirational video on creating a mixed media face with acrylic, collage, stenciling and simple techniques. Come on over to watch",
         "Shawn Petite",
         "27k",
         "Collage Kunst,Paper Collage Art,Collage Art Mixed Media,Mixed Media Painting,Mixed Media Canvas,Canvas Collage,Art Collages,Wall Canvas,Canvas Art",
         "video",
         "https://i.pinimg.com/videos/thumbnails/originals/05/86/a4/0586a4116e1fc34efc25e064ccd123e8.0000001.jpg",
         1,
         "Local save in /data/art",
         "art"
        ],
        [
         5076,
         "fa3af29c-dc78-4eed-a4c5-52a407ea04c0",
         "Quiz: Test Your Event IQ! - Pointers For Planners",
         "So you're thinking of getting your event planner certification, but how much do you REALLY know about event planning? Event planners need to be knowledgeable and able to answer… ",
         "QC Career School",
         "5k",
         "Diy Wedding Food,Best Wedding Makeup,Wedding Events,Wedding Tips,Wedding Stuff,Weddings,Event Planning Business,Business Events,Wedding Makeup Tutorial",
         "image",
         "https://i.pinimg.com/originals/6f/19/bc/6f19bce24921bf843540fc04da9eb6bf.jpg",
         1,
         "Local save in /data/event-planning",
         "event-planning"
        ],
        [
         10663,
         "d5208c16-82ae-4fd1-87f0-36e5ef789412",
         "21+ Classic Car Picture of the 1950s - Vintagetopia",
         "There are a lot of options of places to stay so you probably only have to book the initial one so you know the best place to land from the airport",
         "vintagetopia",
         "171k",
         "Old Classic Cars,Classic Trucks,Old Vintage Cars,Antique Cars,Vintage Trucks,Antique Trucks,Cadillac,Convertible,Mustang",
         "image",
         "https://i.pinimg.com/originals/e9/01/4d/e9014d537dd2b81c606e8466cef3904c.jpg",
         1,
         "Local save in /data/vehicles",
         "vehicles"
        ],
        [
         5468,
         "91ee49f6-0070-4270-ba19-fde88ba51c91",
         "Budgets, Spouses & Making It Work! - Tshanina Peterson",
         "Don't fight about budgets and money with your spouse! Here are a few tips that we've found that make it work in our marriage!",
         "Annamarie Hilton",
         "313",
         "Ways To Save Money,Money Tips,Money Saving Tips,How To Make Money,Managing Money,Saving Time,College Fund,Scholarships For College,Education College",
         "image",
         "https://i.pinimg.com/originals/37/d5/82/37d58296bcef3471a633c76b89d8625e.jpg",
         1,
         "Local save in /data/finance",
         "finance"
        ],
        [
         205,
         "f4afd543-b9fe-44c3-8064-f2198faa1372",
         "DIY Abstract Heart Painting and a Fun Paint Party",
         "Use our easy step by step tutorial to create a DIY abstract heart painting on any canvas size. Lots of inspiration to help you choose colors.",
         "The Creativity Exchange",
         "410k",
         "Painting & Drawing,Watercolor Paintings,Original Paintings,Owl Watercolor,Acrylic Paintings,Owl Art,Bird Art,Beginner Painting,Animal Paintings",
         "image",
         "https://i.pinimg.com/originals/33/85/f8/3385f82ee5e8ecdcccdf798bdcbee3d2.jpg",
         1,
         "Local save in /data/art",
         "art"
        ],
        [
         7790,
         "9cd89fb9-d1af-4e66-85ca-c9d656c918b4",
         "50 Heart Touching Sad Quotes That Will Make You Cry",
         "Are you looking for some heart touching sad quotes and sayings; Here we have collected for you 50 best heart touching sad quotes..",
         "AnnaLee Kick",
         "112",
         "Crush Quotes For Girls,Sad Crush Quotes,Hurt Quotes,Love Me Quotes,Mood Quotes,Quotes To Live By,Life Quotes,Quotes Quotes,Sad Quotes That Make You Cry",
         "image",
         "https://i.pinimg.com/originals/0c/0f/40/0c0f408d96458080e0c82adb50be8e8f.jpg",
         1,
         "Local save in /data/quotes",
         "quotes"
        ],
        [
         8606,
         "71757040-bfc8-4631-9cac-22801e61d9e3",
         "30+ Eagle Tattoos Ideas for Women",
         "summcoco gives you inspiration for the women fashion trends you want. Thinking about a new look or lifestyle? This is your ultimate resource to get the hottest trends. 30+ Eagle… ",
         "Sumcoco | Decor Ideas, Hairstyles, Nails Fashion Advice",
         "306k",
         "White Bird Tattoos,Rose Tattoos,Flower Tattoos,Tattoo Black,Bird And Flower Tattoo,Tattoo Floral,Mini Tattoos,Flower Art,Girls With Sleeve Tattoos",
         "image",
         "https://i.pinimg.com/originals/8d/c6/ed/8dc6ed0b212393187a14c7d07a88060f.png",
         1,
         "Local save in /data/tattoos",
         "tattoos"
        ],
        [
         9759,
         "d105eb6e-0f9f-46e7-8d02-d24b62f6ae90",
         "8 Best Greek Islands You Have To Visit - TheFab20s",
         "Although you'd think Greek islands are fairly similar, you'd be completely wrong! Each island has it's own personality and appeal. Here are the 8 Best Greek Islands to visit, es… ",
         "TheFab20s | Travel+Food+DIY+Listicles",
         "42k",
         "Greek Islands To Visit,Best Greek Islands,Greece Islands,Cool Places To Visit,Places To Go,Best Places In Portugal,Copenhagen Travel,Paros Island,Santorini Island",
         "image",
         "https://i.pinimg.com/originals/06/1d/ce/061dce38929dec8e74844442116bea4a.jpg",
         1,
         "Local save in /data/travel",
         "travel"
        ],
        [
         719,
         "d7c53e34-9540-4f48-a31b-89b6ed1852bb",
         "10 Art Sub Lessons that only need a Pencil",
         "10 art sub lessons that only need a pencil. Cover lessons for art teachers. Make the perfect art sub lessson folder with this amazing resources.",
         "The Arty Teacher",
         "25k",
         "Art Lessons For Kids,Art Lessons Elementary,Art For Kids,Art Sub Plans,Art Lesson Plans,Art Substitute Plans,High School Art,Middle School Art,Primary School Art",
         "image",
         "https://i.pinimg.com/originals/ee/a8/78/eea878911033897d981a69d9f6b2fb7c.png",
         1,
         "Local save in /data/art",
         "art"
        ],
        [
         1704,
         "5fbf9863-fb79-477c-a5b6-540c3020a55f",
         "Christmas Trees From Pallet Wood | Holiday DIY",
         "Christmas Trees From Pallet Wood | Holiday DIY: Deck the yard with some fun outdoor Christmas Trees! We made these merry and bright decorations from two old pallets we had lying… ",
         "Instructables",
         "3M",
         "Pallet Wood Christmas Tree,Wooden Christmas Crafts,Diy Christmas Tree,Christmas Projects,Holiday Crafts,Wooden Xmas Trees,Different Christmas Trees,Pallet Tree,Christmas Kitchen",
         "image",
         "https://i.pinimg.com/originals/64/7b/ca/647bca35169b7c144604116c64bcba8a.png",
         1,
         "Local save in /data/christmas",
         "christmas"
        ],
        [
         2482,
         "08604f20-fa17-4b9a-9949-781717eca6cd",
         "FORNT PORCH CHRISTMAS DECORATING IDEAS",
         "Christmas decorating ideas for porches. Beautiful holiday decor ideas for front porches both small and large. Outdoor decorations like sleds, lanterns, Christmas trees, wreaths,… ",
         "Life on Summerhill | Home, Holiday Decor & DIY Website",
         "46k",
         "Diy Christmas Decorations For Home,Farmhouse Christmas Decor,Christmas Home,Christmas Holidays,Christmas Front Porches,How To Decorate For Christmas,Christmas Porch Ideas,Christmas Decorating Ideas,Large Outdoor Christmas Decorations",
         "video",
         "https://i.pinimg.com/videos/thumbnails/originals/40/83/f5/4083f5b4971bf235f89a4784ab87271e.0000001.jpg",
         1,
         "Local save in /data/christmas",
         "christmas"
        ],
        [
         8930,
         "a2999c28-f7b2-4577-af87-49d21d6d8a18",
         "135 Sunflower Tattoo Ideas - [Best Rated Designs in 2021]",
         "We have put together the Ultimative Sunflower Tattoo Collection in 2020. Check out our highest rated handpicked Sunflower designs here!",
         "Next Luxury",
         "800k",
         "Sunflower Tattoo Sleeve,Sunflower Tattoo Shoulder,Sunflower Tattoo Small,Sunflower Tattoos,Sunflower Tattoo Design,Shoulder Tattoo,Sunflower Mandala Tattoo,Sunflower Tattoo Meaning,Form Tattoo",
         "image",
         "https://i.pinimg.com/originals/18/de/6c/18de6c81a8637e224c7d63dce1414ceb.jpg",
         1,
         "Local save in /data/tattoos",
         "tattoos"
        ],
        [
         7294,
         "9d8409ef-bea7-4133-a021-c58b9c042210",
         "Foolproof Fall Fashion For Men You'll Love",
         "Looking for the coolest fall fashion for men this season? Click to read this article on fall fashion for men to look sharp on LLEGANCE.",
         "LLEGANCE | Workwear Fashion Woman Advice For Driven Professionals",
         "28k",
         "Fashion 90s,Autumn Fashion,Fashion Ideas,Trendy Fashion,Fashion Photo,Fashion Outfits,Fashion Trends,Urban Fashion Men,Men's Casual Fashion",
         "image",
         "https://i.pinimg.com/originals/4c/bf/2d/4cbf2d6e04d2502612169220553f4cef.jpg",
         1,
         "Local save in /data/mens-fashion",
         "mens-fashion"
        ],
        [
         808,
         "23f67e42-db9f-4aae-8b82-cbec64ad9f4d",
         "Chalk Pastel Hot Chocolate Art Project",
         "Kids will use chalk pastels and black paper to create this bold and bright hot chocolate art project! Easy to follow tutorial included.",
         "Projects with Kids",
         "20k",
         "Hot Chocolate Art,Chocolate Crafts,Art Activities For Kids,Preschool Art,Preschool Winter,Christmas Activities,Winter Art Projects,Clay Art Projects,Chalk Pastel Art",
         "image",
         "https://i.pinimg.com/originals/5a/d3/82/5ad38202cf8acb022cb8f46ce2a78ad6.jpg",
         1,
         "Local save in /data/art",
         "art"
        ],
        [
         771,
         "a5021766-a8aa-4dc7-9857-4da6b8e3dc1a",
         "African Sunset Shadow Tracing Art - Taming Little Monsters",
         "Use your mini world figures to create this beautiful African sunset. Your kids will love learning about shadows, angles and distortion in this fun art and STEM activity for kids.",
         "Taming Little Monsters - Fun Activities for Kids",
         "4k",
         "African Art Projects,Cool Art Projects,Projects For Kids,African Art For Kids,African Crafts Kids,Art Club Projects,Art Education Projects,Tracing Art,African Sunset",
         "image",
         "https://i.pinimg.com/originals/e3/aa/35/e3aa350f8f104d0e59f26d7f17ea7461.png",
         1,
         "Local save in /data/art",
         "art"
        ],
        [
         7528,
         "fbe53c66-3442-4773-b19e-d3ec6f54dddf",
         "No Title Data Available",
         "No description available Story format",
         "User Info Error",
         "User Info Error",
         "N,o, ,T,a,g,s, ,A,v,a,i,l,a,b,l,e",
         "multi-video(story page format)",
         "Image src error.",
         0,
         "Local save in /data/mens-fashion",
         "mens-fashion"
        ],
        [
         2863,
         "9bf39437-42a6-4f02-99a0-9a0383d8cd70",
         "25 Super Fun Summer Crafts for Kids - Of Life and Lisa",
         "Keep the kids busy this summer with these easy diy crafts and projects. Creative and…",
         "Of Life & Lisa | Lifestyle Blog",
         "124k",
         "Summer Crafts For Kids,Fun Crafts For Kids,Summer Kids,Toddler Crafts,Crafts To Do,Diy For Kids,Summer Snow,Diys For Summer,Craft Ideas For Girls",
         "image",
         "https://i.pinimg.com/originals/b3/bc/e2/b3bce2964e8c8975387b39660eed5f16.jpg",
         1,
         "Local save in /data/diy-and-crafts",
         "diy-and-crafts"
        ]
       ],
       "datasetInfos": [],
       "dbfsResultPath": null,
       "isJsonSchema": true,
       "metadata": {},
       "overflow": false,
       "plotOptions": {
        "customPlotOptions": {},
        "displayType": "table",
        "pivotAggregation": null,
        "pivotColumns": null,
        "xColumns": null,
        "yColumns": null
       },
       "removedWidgets": [],
       "schema": [
        {
         "metadata": "{}",
         "name": "ind",
         "type": "\"integer\""
        },
        {
         "metadata": "{}",
         "name": "unique_id",
         "type": "\"string\""
        },
        {
         "metadata": "{}",
         "name": "title",
         "type": "\"string\""
        },
        {
         "metadata": "{}",
         "name": "description",
         "type": "\"string\""
        },
        {
         "metadata": "{}",
         "name": "poster_name",
         "type": "\"string\""
        },
        {
         "metadata": "{}",
         "name": "follower_count",
         "type": "\"string\""
        },
        {
         "metadata": "{}",
         "name": "tag_list",
         "type": "\"string\""
        },
        {
         "metadata": "{}",
         "name": "is_image_or_video",
         "type": "\"string\""
        },
        {
         "metadata": "{}",
         "name": "image_src",
         "type": "\"string\""
        },
        {
         "metadata": "{}",
         "name": "downloaded",
         "type": "\"integer\""
        },
        {
         "metadata": "{}",
         "name": "save_location",
         "type": "\"string\""
        },
        {
         "metadata": "{}",
         "name": "category",
         "type": "\"string\""
        }
       ],
       "type": "table"
      }
     },
     "output_type": "display_data"
    }
   ],
   "source": [
    "# Setup a preferred schema for the dataframe\n",
    "pin_schema = StructType([\n",
    "  StructField('index', IntegerType(), True), StructField('unique_id', StringType(), True),\n",
    "  StructField('title', StringType(), True), StructField('description', StringType(), True),\n",
    "  StructField('poster_name', StringType(), True), StructField('follower_count', StringType(), True),\n",
    "  StructField('tag_list', StringType(), True), StructField('is_image_or_video', StringType(), True),\n",
    "  StructField('image_src', StringType(), True), StructField('downloaded', IntegerType(), True),\n",
    "  StructField('save_location', StringType(), True), StructField('category', StringType(), True)\n",
    "])\n",
    "\n",
    "# Load the data column as json then create a dataframe using schema\n",
    "df_pin = df_pin.withColumn(\"data\", from_json(col(\"data\"), schema = pin_schema))\n",
    "\n",
    "# Change column names\n",
    "df_pin = df_pin.select(col(\"data.index\").alias(\"ind\"),\n",
    "                       col(\"data.unique_id\").alias(\"unique_id\"),\n",
    "                       col(\"data.title\").alias(\"title\"),\n",
    "                       col(\"data.description\").alias(\"description\"),\n",
    "                       col(\"data.poster_name\").alias(\"poster_name\"),\n",
    "                       col(\"data.follower_count\").alias(\"follower_count\"),\n",
    "                       col(\"data.tag_list\").alias(\"tag_list\"),\n",
    "                       col(\"data.is_image_or_video\").alias(\"is_image_or_video\"),\n",
    "                       col(\"data.image_src\").alias(\"image_src\"),\n",
    "                       col(\"data.downloaded\").alias(\"downloaded\"),\n",
    "                       col(\"data.save_location\").alias(\"save_location\"),\n",
    "                       col(\"data.category\").alias(\"category\"))\n",
    "\n",
    "display(df_pin)"
   ]
  },
  {
   "cell_type": "code",
   "execution_count": 0,
   "metadata": {
    "application/vnd.databricks.v1+cell": {
     "cellMetadata": {
      "byteLimit": 2048000,
      "rowLimit": 10000
     },
     "inputWidgets": {},
     "nuid": "3e5acaca-9659-46f8-b501-a63b1eadb5d0",
     "showTitle": false,
     "tableResultSettingsMap": {},
     "title": ""
    }
   },
   "outputs": [],
   "source": [
    "# Stream records from Kinesis into dataframe\n",
    "  df_geo = spark.readStream.format('kinesis')\\\n",
    "  .option('streamName','streaming-0affe94cc7d3-geo')\\\n",
    "  .option('initialPosition', 'earliest')\\\n",
    "  .option('region', 'us-east-1')\\\n",
    "  .option('awsAccessKey', ACCESS_KEY)\\\n",
    "  .option('awsSecretKey', SECRET_KEY)\\\n",
    "  .load()\n",
    "\n",
    "# Change cast type from byte to string\n",
    "df_geo = df_geo.selectExpr(\"CAST(data as STRING)\")"
   ]
  },
  {
   "cell_type": "code",
   "execution_count": 0,
   "metadata": {
    "application/vnd.databricks.v1+cell": {
     "cellMetadata": {
      "byteLimit": 2048000,
      "rowLimit": 10000
     },
     "inputWidgets": {},
     "nuid": "9b5d90b4-a402-451e-b321-8f6dec1fa4db",
     "showTitle": false,
     "tableResultSettingsMap": {},
     "title": ""
    }
   },
   "outputs": [
    {
     "output_type": "display_data",
     "data": {
      "text/html": [
       "<style scoped>\n",
       "  .table-result-container {\n",
       "    max-height: 300px;\n",
       "    overflow: auto;\n",
       "  }\n",
       "  table, th, td {\n",
       "    border: 1px solid black;\n",
       "    border-collapse: collapse;\n",
       "  }\n",
       "  th, td {\n",
       "    padding: 5px;\n",
       "  }\n",
       "  th {\n",
       "    text-align: left;\n",
       "  }\n",
       "</style><div class='table-result-container'><table class='table-result'><thead style='background-color: white'><tr><th>ind</th><th>timestamp</th><th>latitude</th><th>longitude</th><th>country</th></tr></thead><tbody><tr><td>8610</td><td>2021-11-20</td><td>-84.3984</td><td>-144.933</td><td>Bouvet Island (Bouvetoya)</td></tr><tr><td>9014</td><td>2021-04-20</td><td>-37.2495</td><td>-118.101</td><td>Ethiopia</td></tr><tr><td>8433</td><td>2019-05-11</td><td>-0.709639</td><td>173.034</td><td>Lesotho</td></tr><tr><td>10567</td><td>2021-07-06</td><td>6.50767</td><td>-36.2076</td><td>Djibouti</td></tr><tr><td>6892</td><td>2022-04-11</td><td>-56.3743</td><td>60.8553</td><td>Montenegro</td></tr><tr><td>2016</td><td>2018-04-08</td><td>-27.1161</td><td>110.753</td><td>Estonia</td></tr><tr><td>1128</td><td>2019-06-09</td><td>-86.0614</td><td>-86.5849</td><td>Chile</td></tr><tr><td>9608</td><td>2019-07-02</td><td>16.858</td><td>59.3183</td><td>Chad</td></tr><tr><td>10678</td><td>2020-09-11</td><td>-88.8298</td><td>-170.188</td><td>Albania</td></tr><tr><td>7954</td><td>2022-09-17</td><td>-89.5173</td><td>-179.689</td><td>Algeria</td></tr><tr><td>2851</td><td>2019-03-27</td><td>-84.5322</td><td>-179.647</td><td>Afghanistan</td></tr><tr><td>918</td><td>2021-03-15</td><td>-38.9773</td><td>-95.3267</td><td>Bosnia and Herzegovina</td></tr><tr><td>820</td><td>2021-03-05</td><td>-88.8298</td><td>-170.188</td><td>Albania</td></tr><tr><td>9968</td><td>2022-05-02</td><td>53.1874</td><td>72.6586</td><td>Moldova</td></tr><tr><td>7970</td><td>2022-04-17</td><td>-81.9878</td><td>-8.74166</td><td>Saint Martin</td></tr><tr><td>8029</td><td>2022-07-03</td><td>-89.5173</td><td>-179.689</td><td>Algeria</td></tr><tr><td>2823</td><td>2022-04-06</td><td>-60.7326</td><td>-179.329</td><td>Haiti</td></tr><tr><td>4546</td><td>2020-03-04</td><td>56.2362</td><td>-155.799</td><td>Russian Federation</td></tr><tr><td>5467</td><td>2022-07-19</td><td>-87.476</td><td>-163.419</td><td>Botswana</td></tr><tr><td>5671</td><td>2018-07-02</td><td>-89.9787</td><td>-173.293</td><td>Albania</td></tr><tr><td>3495</td><td>2022-05-31</td><td>-88.5478</td><td>-174.971</td><td>Afghanistan</td></tr><tr><td>6722</td><td>2019-05-12</td><td>-53.3112</td><td>18.8692</td><td>Azerbaijan</td></tr><tr><td>8601</td><td>2019-04-28</td><td>-75.2201</td><td>-110.456</td><td>Anguilla</td></tr><tr><td>6641</td><td>2019-03-02</td><td>-65.3952</td><td>-175.249</td><td>Argentina</td></tr><tr><td>5261</td><td>2018-11-16</td><td>-81.8493</td><td>12.7059</td><td>Montserrat</td></tr><tr><td>6679</td><td>2020-03-17</td><td>-37.0563</td><td>-99.6912</td><td>Central African Republic</td></tr><tr><td>4411</td><td>2018-12-20</td><td>42.8877</td><td>96.2144</td><td>Wallis and Futuna</td></tr><tr><td>3866</td><td>2018-11-21</td><td>-88.0716</td><td>-35.6054</td><td>Bermuda</td></tr><tr><td>3978</td><td>2019-12-23</td><td>-52.6821</td><td>-141.957</td><td>Aruba</td></tr><tr><td>8112</td><td>2020-12-25</td><td>-87.8179</td><td>-178.525</td><td>Afghanistan</td></tr><tr><td>99</td><td>2022-05-29</td><td>-88.8298</td><td>-170.188</td><td>Albania</td></tr><tr><td>7937</td><td>2018-02-15</td><td>-52.3454</td><td>146.44</td><td>Papua New Guinea</td></tr><tr><td>10010</td><td>2018-08-22</td><td>-1.95953</td><td>125.232</td><td>Montenegro</td></tr><tr><td>10774</td><td>2020-01-24</td><td>-57.9111</td><td>67.4069</td><td>Bhutan</td></tr><tr><td>6650</td><td>2022-06-21</td><td>-88.0192</td><td>-169.911</td><td>Afghanistan</td></tr><tr><td>1230</td><td>2019-06-03</td><td>33.3829</td><td>-1.88118</td><td>Anguilla</td></tr><tr><td>8329</td><td>2019-12-12</td><td>-59.1209</td><td>-93.9878</td><td>British Virgin Islands</td></tr><tr><td>4196</td><td>2021-03-22</td><td>-85.9127</td><td>-158.979</td><td>British Virgin Islands</td></tr><tr><td>10385</td><td>2019-08-27</td><td>-82.9685</td><td>-178.095</td><td>Armenia</td></tr><tr><td>9106</td><td>2019-05-31</td><td>37.2333</td><td>125.404</td><td>Peru</td></tr><tr><td>6394</td><td>2022-03-31</td><td>11.1474</td><td>34.6577</td><td>Oman</td></tr><tr><td>7060</td><td>2020-01-26</td><td>-64.4665</td><td>-17.6659</td><td>Botswana</td></tr><tr><td>7663</td><td>2022-10-15</td><td>-40.9545</td><td>-15.8483</td><td>Canada</td></tr><tr><td>5535</td><td>2020-01-23</td><td>-86.9212</td><td>-176.58</td><td>Brunei Darussalam</td></tr><tr><td>8555</td><td>2021-09-07</td><td>-88.5255</td><td>-161.644</td><td>American Samoa</td></tr><tr><td>8637</td><td>2020-12-04</td><td>17.7523</td><td>90.2341</td><td>Costa Rica</td></tr><tr><td>3856</td><td>2021-11-13</td><td>-88.5478</td><td>-174.971</td><td>Afghanistan</td></tr><tr><td>8407</td><td>2018-11-14</td><td>-4.42914</td><td>-23.6931</td><td>Australia</td></tr><tr><td>9744</td><td>2021-07-26</td><td>-89.9787</td><td>-173.293</td><td>Albania</td></tr><tr><td>1170</td><td>2019-08-07</td><td>56.1198</td><td>20.2963</td><td>Libyan Arab Jamahiriya</td></tr><tr><td>7989</td><td>2020-07-22</td><td>-43.071</td><td>-19.6072</td><td>Aruba</td></tr><tr><td>10699</td><td>2019-11-06</td><td>-50.0258</td><td>167.06</td><td>Serbia</td></tr><tr><td>6011</td><td>2018-04-05</td><td>-34.126</td><td>-16.1766</td><td>Australia</td></tr><tr><td>7981</td><td>2018-03-18</td><td>23.151</td><td>29.5156</td><td>Mauritania</td></tr><tr><td>9741</td><td>2022-07-30</td><td>-13.7744</td><td>-131.073</td><td>Guyana</td></tr><tr><td>3097</td><td>2020-01-17</td><td>-52.5274</td><td>-38.0997</td><td>El Salvador</td></tr><tr><td>2210</td><td>2019-11-13</td><td>-86.2476</td><td>-171.577</td><td>Aruba</td></tr><tr><td>6984</td><td>2020-01-06</td><td>-88.3754</td><td>-164.273</td><td>Afghanistan</td></tr><tr><td>1195</td><td>2020-07-24</td><td>-80.2771</td><td>-140.73</td><td>Cote d'Ivoire</td></tr><tr><td>7372</td><td>2020-01-16</td><td>-59.5694</td><td>-94.3721</td><td>Cote d'Ivoire</td></tr><tr><td>3815</td><td>2019-05-23</td><td>-85.0647</td><td>-146.879</td><td>Bahamas</td></tr><tr><td>10571</td><td>2022-08-07</td><td>-14.5736</td><td>21.4795</td><td>Saint Vincent and the Grenadines</td></tr><tr><td>84</td><td>2018-01-31</td><td>-87.4992</td><td>-177.336</td><td>Bulgaria</td></tr><tr><td>6237</td><td>2018-11-18</td><td>-84.2896</td><td>-98.8517</td><td>British Indian Ocean Territory (Chagos Archipelago)</td></tr><tr><td>10421</td><td>2021-12-19</td><td>76.7028</td><td>70.7055</td><td>Brazil</td></tr><tr><td>9946</td><td>2020-01-04</td><td>19.4001</td><td>165.158</td><td>Greenland</td></tr><tr><td>2882</td><td>2020-07-12</td><td>63.6841</td><td>-116.901</td><td>Congo</td></tr><tr><td>8316</td><td>2019-02-09</td><td>64.511</td><td>-8.66066</td><td>Ghana</td></tr><tr><td>10624</td><td>2017-11-27</td><td>50.2573</td><td>-45.6879</td><td>United Arab Emirates</td></tr><tr><td>6533</td><td>2018-11-29</td><td>-72.4062</td><td>-168.803</td><td>British Virgin Islands</td></tr><tr><td>8087</td><td>2021-08-31</td><td>-38.5318</td><td>-139.215</td><td>Kuwait</td></tr><tr><td>10786</td><td>2018-02-11</td><td>69.8</td><td>-26.0432</td><td>Saint Barthelemy</td></tr><tr><td>10898</td><td>2020-06-13</td><td>-71.6813</td><td>-86.9194</td><td>Afghanistan</td></tr><tr><td>4336</td><td>2018-07-23</td><td>-27.6958</td><td>-122.256</td><td>South Africa</td></tr><tr><td>1160</td><td>2022-06-17</td><td>-80.7839</td><td>-87.4039</td><td>Uganda</td></tr><tr><td>9052</td><td>2018-09-02</td><td>-57.382</td><td>-165.455</td><td>Armenia</td></tr><tr><td>684</td><td>2022-08-02</td><td>-80.3222</td><td>-96.2117</td><td>Benin</td></tr><tr><td>9170</td><td>2019-09-12</td><td>-84.3984</td><td>-144.933</td><td>Bouvet Island (Bouvetoya)</td></tr><tr><td>3737</td><td>2021-06-02</td><td>-50.4855</td><td>-167.073</td><td>Canada</td></tr><tr><td>6378</td><td>2021-10-04</td><td>-78.2534</td><td>-170.668</td><td>Egypt</td></tr><tr><td>5229</td><td>2019-02-22</td><td>42.7591</td><td>-79.5059</td><td>Sweden</td></tr></tbody></table></div>"
      ]
     },
     "metadata": {
      "application/vnd.databricks.v1+output": {
       "addedWidgets": {},
       "aggData": [],
       "aggError": "",
       "aggOverflow": false,
       "aggSchema": [],
       "aggSeriesLimitReached": false,
       "aggType": "",
       "arguments": {},
       "columnCustomDisplayInfos": {},
       "data": [
        [
         8610,
         "2021-11-20",
         -84.3984,
         -144.933,
         "Bouvet Island (Bouvetoya)"
        ],
        [
         9014,
         "2021-04-20",
         -37.2495,
         -118.101,
         "Ethiopia"
        ],
        [
         8433,
         "2019-05-11",
         -0.709639,
         173.034,
         "Lesotho"
        ],
        [
         10567,
         "2021-07-06",
         6.50767,
         -36.2076,
         "Djibouti"
        ],
        [
         6892,
         "2022-04-11",
         -56.3743,
         60.8553,
         "Montenegro"
        ],
        [
         2016,
         "2018-04-08",
         -27.1161,
         110.753,
         "Estonia"
        ],
        [
         1128,
         "2019-06-09",
         -86.0614,
         -86.5849,
         "Chile"
        ],
        [
         9608,
         "2019-07-02",
         16.858,
         59.3183,
         "Chad"
        ],
        [
         10678,
         "2020-09-11",
         -88.8298,
         -170.188,
         "Albania"
        ],
        [
         7954,
         "2022-09-17",
         -89.5173,
         -179.689,
         "Algeria"
        ],
        [
         2851,
         "2019-03-27",
         -84.5322,
         -179.647,
         "Afghanistan"
        ],
        [
         918,
         "2021-03-15",
         -38.9773,
         -95.3267,
         "Bosnia and Herzegovina"
        ],
        [
         820,
         "2021-03-05",
         -88.8298,
         -170.188,
         "Albania"
        ],
        [
         9968,
         "2022-05-02",
         53.1874,
         72.6586,
         "Moldova"
        ],
        [
         7970,
         "2022-04-17",
         -81.9878,
         -8.74166,
         "Saint Martin"
        ],
        [
         8029,
         "2022-07-03",
         -89.5173,
         -179.689,
         "Algeria"
        ],
        [
         2823,
         "2022-04-06",
         -60.7326,
         -179.329,
         "Haiti"
        ],
        [
         4546,
         "2020-03-04",
         56.2362,
         -155.799,
         "Russian Federation"
        ],
        [
         5467,
         "2022-07-19",
         -87.476,
         -163.419,
         "Botswana"
        ],
        [
         5671,
         "2018-07-02",
         -89.9787,
         -173.293,
         "Albania"
        ],
        [
         3495,
         "2022-05-31",
         -88.5478,
         -174.971,
         "Afghanistan"
        ],
        [
         6722,
         "2019-05-12",
         -53.3112,
         18.8692,
         "Azerbaijan"
        ],
        [
         8601,
         "2019-04-28",
         -75.2201,
         -110.456,
         "Anguilla"
        ],
        [
         6641,
         "2019-03-02",
         -65.3952,
         -175.249,
         "Argentina"
        ],
        [
         5261,
         "2018-11-16",
         -81.8493,
         12.7059,
         "Montserrat"
        ],
        [
         6679,
         "2020-03-17",
         -37.0563,
         -99.6912,
         "Central African Republic"
        ],
        [
         4411,
         "2018-12-20",
         42.8877,
         96.2144,
         "Wallis and Futuna"
        ],
        [
         3866,
         "2018-11-21",
         -88.0716,
         -35.6054,
         "Bermuda"
        ],
        [
         3978,
         "2019-12-23",
         -52.6821,
         -141.957,
         "Aruba"
        ],
        [
         8112,
         "2020-12-25",
         -87.8179,
         -178.525,
         "Afghanistan"
        ],
        [
         99,
         "2022-05-29",
         -88.8298,
         -170.188,
         "Albania"
        ],
        [
         7937,
         "2018-02-15",
         -52.3454,
         146.44,
         "Papua New Guinea"
        ],
        [
         10010,
         "2018-08-22",
         -1.95953,
         125.232,
         "Montenegro"
        ],
        [
         10774,
         "2020-01-24",
         -57.9111,
         67.4069,
         "Bhutan"
        ],
        [
         6650,
         "2022-06-21",
         -88.0192,
         -169.911,
         "Afghanistan"
        ],
        [
         1230,
         "2019-06-03",
         33.3829,
         -1.88118,
         "Anguilla"
        ],
        [
         8329,
         "2019-12-12",
         -59.1209,
         -93.9878,
         "British Virgin Islands"
        ],
        [
         4196,
         "2021-03-22",
         -85.9127,
         -158.979,
         "British Virgin Islands"
        ],
        [
         10385,
         "2019-08-27",
         -82.9685,
         -178.095,
         "Armenia"
        ],
        [
         9106,
         "2019-05-31",
         37.2333,
         125.404,
         "Peru"
        ],
        [
         6394,
         "2022-03-31",
         11.1474,
         34.6577,
         "Oman"
        ],
        [
         7060,
         "2020-01-26",
         -64.4665,
         -17.6659,
         "Botswana"
        ],
        [
         7663,
         "2022-10-15",
         -40.9545,
         -15.8483,
         "Canada"
        ],
        [
         5535,
         "2020-01-23",
         -86.9212,
         -176.58,
         "Brunei Darussalam"
        ],
        [
         8555,
         "2021-09-07",
         -88.5255,
         -161.644,
         "American Samoa"
        ],
        [
         8637,
         "2020-12-04",
         17.7523,
         90.2341,
         "Costa Rica"
        ],
        [
         3856,
         "2021-11-13",
         -88.5478,
         -174.971,
         "Afghanistan"
        ],
        [
         8407,
         "2018-11-14",
         -4.42914,
         -23.6931,
         "Australia"
        ],
        [
         9744,
         "2021-07-26",
         -89.9787,
         -173.293,
         "Albania"
        ],
        [
         1170,
         "2019-08-07",
         56.1198,
         20.2963,
         "Libyan Arab Jamahiriya"
        ],
        [
         7989,
         "2020-07-22",
         -43.071,
         -19.6072,
         "Aruba"
        ],
        [
         10699,
         "2019-11-06",
         -50.0258,
         167.06,
         "Serbia"
        ],
        [
         6011,
         "2018-04-05",
         -34.126,
         -16.1766,
         "Australia"
        ],
        [
         7981,
         "2018-03-18",
         23.151,
         29.5156,
         "Mauritania"
        ],
        [
         9741,
         "2022-07-30",
         -13.7744,
         -131.073,
         "Guyana"
        ],
        [
         3097,
         "2020-01-17",
         -52.5274,
         -38.0997,
         "El Salvador"
        ],
        [
         2210,
         "2019-11-13",
         -86.2476,
         -171.577,
         "Aruba"
        ],
        [
         6984,
         "2020-01-06",
         -88.3754,
         -164.273,
         "Afghanistan"
        ],
        [
         1195,
         "2020-07-24",
         -80.2771,
         -140.73,
         "Cote d'Ivoire"
        ],
        [
         7372,
         "2020-01-16",
         -59.5694,
         -94.3721,
         "Cote d'Ivoire"
        ],
        [
         3815,
         "2019-05-23",
         -85.0647,
         -146.879,
         "Bahamas"
        ],
        [
         10571,
         "2022-08-07",
         -14.5736,
         21.4795,
         "Saint Vincent and the Grenadines"
        ],
        [
         84,
         "2018-01-31",
         -87.4992,
         -177.336,
         "Bulgaria"
        ],
        [
         6237,
         "2018-11-18",
         -84.2896,
         -98.8517,
         "British Indian Ocean Territory (Chagos Archipelago)"
        ],
        [
         10421,
         "2021-12-19",
         76.7028,
         70.7055,
         "Brazil"
        ],
        [
         9946,
         "2020-01-04",
         19.4001,
         165.158,
         "Greenland"
        ],
        [
         2882,
         "2020-07-12",
         63.6841,
         -116.901,
         "Congo"
        ],
        [
         8316,
         "2019-02-09",
         64.511,
         -8.66066,
         "Ghana"
        ],
        [
         10624,
         "2017-11-27",
         50.2573,
         -45.6879,
         "United Arab Emirates"
        ],
        [
         6533,
         "2018-11-29",
         -72.4062,
         -168.803,
         "British Virgin Islands"
        ],
        [
         8087,
         "2021-08-31",
         -38.5318,
         -139.215,
         "Kuwait"
        ],
        [
         10786,
         "2018-02-11",
         69.8,
         -26.0432,
         "Saint Barthelemy"
        ],
        [
         10898,
         "2020-06-13",
         -71.6813,
         -86.9194,
         "Afghanistan"
        ],
        [
         4336,
         "2018-07-23",
         -27.6958,
         -122.256,
         "South Africa"
        ],
        [
         1160,
         "2022-06-17",
         -80.7839,
         -87.4039,
         "Uganda"
        ],
        [
         9052,
         "2018-09-02",
         -57.382,
         -165.455,
         "Armenia"
        ],
        [
         684,
         "2022-08-02",
         -80.3222,
         -96.2117,
         "Benin"
        ],
        [
         9170,
         "2019-09-12",
         -84.3984,
         -144.933,
         "Bouvet Island (Bouvetoya)"
        ],
        [
         3737,
         "2021-06-02",
         -50.4855,
         -167.073,
         "Canada"
        ],
        [
         6378,
         "2021-10-04",
         -78.2534,
         -170.668,
         "Egypt"
        ],
        [
         5229,
         "2019-02-22",
         42.7591,
         -79.5059,
         "Sweden"
        ]
       ],
       "datasetInfos": [],
       "dbfsResultPath": null,
       "isJsonSchema": true,
       "metadata": {
        "isDbfsCommandResult": false
       },
       "overflow": false,
       "plotOptions": {
        "customPlotOptions": {},
        "displayType": "table",
        "pivotAggregation": null,
        "pivotColumns": null,
        "xColumns": null,
        "yColumns": null
       },
       "removedWidgets": [],
       "schema": [
        {
         "metadata": "{}",
         "name": "ind",
         "type": "\"integer\""
        },
        {
         "metadata": "{}",
         "name": "timestamp",
         "type": "\"date\""
        },
        {
         "metadata": "{}",
         "name": "latitude",
         "type": "\"float\""
        },
        {
         "metadata": "{}",
         "name": "longitude",
         "type": "\"float\""
        },
        {
         "metadata": "{}",
         "name": "country",
         "type": "\"string\""
        }
       ],
       "type": "table"
      }
     },
     "output_type": "display_data"
    }
   ],
   "source": [
    "# Setup a preferred schema for the dataframe\n",
    "geo_schema = StructType([\n",
    "  StructField('ind', IntegerType(), True), StructField('timestamp', DateType(), True),\n",
    "  StructField('latitude', FloatType(), True), StructField('longitude', FloatType(), True),\n",
    "  StructField('country', StringType(), True)\n",
    "])\n",
    "\n",
    "# Load the data column as json then create a dataframe using schema\n",
    "df_geo = df_geo.withColumn(\"data\", from_json(col(\"data\"), schema = geo_schema))\n",
    "\n",
    "# Change column names\n",
    "df_geo = df_geo.select(col(\"data.ind\").alias(\"ind\"),\n",
    "                       col(\"data.timestamp\").alias(\"timestamp\"),\n",
    "                       col(\"data.latitude\").alias(\"latitude\"),\n",
    "                       col(\"data.longitude\").alias(\"longitude\"),\n",
    "                       col(\"data.country\").alias(\"country\"))\n",
    "\n",
    "display(df_geo)"
   ]
  },
  {
   "cell_type": "code",
   "execution_count": 0,
   "metadata": {
    "application/vnd.databricks.v1+cell": {
     "cellMetadata": {
      "byteLimit": 2048000,
      "rowLimit": 10000
     },
     "inputWidgets": {},
     "nuid": "1c156390-5acf-4308-b748-46009221c807",
     "showTitle": false,
     "tableResultSettingsMap": {},
     "title": ""
    }
   },
   "outputs": [],
   "source": [
    "# Stream records from Kinesis into dataframe\n",
    "df_user = spark.readStream.format('kinesis')\\\n",
    "  .option('streamName','streaming-0affe94cc7d3-user')\\\n",
    "  .option('initialPosition', 'earliest')\\\n",
    "  .option('region', 'us-east-1')\\\n",
    "  .option('awsAccessKey', ACCESS_KEY)\\\n",
    "  .option('awsSecretKey', SECRET_KEY)\\\n",
    "  .load()\n",
    "\n",
    "# Change cast type from byte to string\n",
    "df_user = df_user.selectExpr(\"CAST(data as STRING)\")"
   ]
  },
  {
   "cell_type": "code",
   "execution_count": 0,
   "metadata": {
    "application/vnd.databricks.v1+cell": {
     "cellMetadata": {
      "byteLimit": 2048000,
      "rowLimit": 10000
     },
     "inputWidgets": {},
     "nuid": "73444b81-7d18-46cf-95c6-cf228730e2ca",
     "showTitle": false,
     "tableResultSettingsMap": {},
     "title": ""
    }
   },
   "outputs": [
    {
     "output_type": "display_data",
     "data": {
      "text/html": [
       "<style scoped>\n",
       "  .table-result-container {\n",
       "    max-height: 300px;\n",
       "    overflow: auto;\n",
       "  }\n",
       "  table, th, td {\n",
       "    border: 1px solid black;\n",
       "    border-collapse: collapse;\n",
       "  }\n",
       "  th, td {\n",
       "    padding: 5px;\n",
       "  }\n",
       "  th {\n",
       "    text-align: left;\n",
       "  }\n",
       "</style><div class='table-result-container'><table class='table-result'><thead style='background-color: white'><tr><th>ind</th><th>first_name</th><th>last_name</th><th>age</th><th>date_joined</th></tr></thead><tbody><tr><td>8610</td><td>Amy</td><td>Brown</td><td>21</td><td>2015-11-08</td></tr><tr><td>9014</td><td>Luke</td><td>Carter</td><td>37</td><td>2016-01-13</td></tr><tr><td>8433</td><td>Christopher</td><td>Andrews</td><td>33</td><td>2016-08-31</td></tr><tr><td>10567</td><td>Brandon</td><td>Valdez</td><td>22</td><td>2017-05-29</td></tr><tr><td>6892</td><td>Mark</td><td>Adams</td><td>46</td><td>2015-11-19</td></tr><tr><td>2016</td><td>Lindsey</td><td>Brown</td><td>21</td><td>2017-04-03</td></tr><tr><td>1128</td><td>Gregory</td><td>Barnett</td><td>20</td><td>2016-03-29</td></tr><tr><td>9608</td><td>Melanie</td><td>Stuart</td><td>49</td><td>2016-03-30</td></tr><tr><td>10678</td><td>Adam</td><td>Acosta</td><td>20</td><td>2015-10-21</td></tr><tr><td>7954</td><td>Aaron</td><td>Abbott</td><td>20</td><td>2015-10-23</td></tr><tr><td>2851</td><td>Abigail</td><td>Adams</td><td>20</td><td>2015-10-25</td></tr><tr><td>918</td><td>James</td><td>Chapman</td><td>34</td><td>2017-05-05</td></tr><tr><td>820</td><td>Adam</td><td>Acosta</td><td>20</td><td>2015-10-21</td></tr><tr><td>9968</td><td>Kristie</td><td>Anthony</td><td>54</td><td>2016-12-29</td></tr><tr><td>7970</td><td>Amber</td><td>Bean</td><td>20</td><td>2016-07-01</td></tr><tr><td>8029</td><td>Aaron</td><td>Abbott</td><td>20</td><td>2015-10-23</td></tr><tr><td>2823</td><td>April</td><td>Anderson</td><td>21</td><td>2016-12-04</td></tr><tr><td>4546</td><td>James</td><td>Dixon</td><td>26</td><td>2016-06-13</td></tr><tr><td>5467</td><td>Adam</td><td>Cole</td><td>23</td><td>2015-11-15</td></tr><tr><td>5671</td><td>Abigail</td><td>Ali</td><td>20</td><td>2015-10-24</td></tr><tr><td>3495</td><td>Alexandria</td><td>Alvarado</td><td>20</td><td>2015-10-23</td></tr><tr><td>6722</td><td>Andrew</td><td>Clements</td><td>27</td><td>2015-11-30</td></tr><tr><td>8601</td><td>Courtney</td><td>Anderson</td><td>20</td><td>2015-12-07</td></tr><tr><td>6641</td><td>Adrienne</td><td>Barrett</td><td>22</td><td>2015-11-04</td></tr><tr><td>5261</td><td>Destiny</td><td>Parker</td><td>48</td><td>2017-01-18</td></tr><tr><td>6679</td><td>Barbara</td><td>Brown</td><td>28</td><td>2016-05-13</td></tr><tr><td>4411</td><td>Denise</td><td>Lyons</td><td>24</td><td>2016-04-02</td></tr><tr><td>3866</td><td>Jonathan</td><td>Burch</td><td>22</td><td>2016-12-04</td></tr><tr><td>3978</td><td>Natasha</td><td>Campbell</td><td>39</td><td>2016-01-26</td></tr><tr><td>8112</td><td>Andrew</td><td>Alexander</td><td>20</td><td>2015-11-20</td></tr><tr><td>99</td><td>Adam</td><td>Acosta</td><td>20</td><td>2015-10-21</td></tr><tr><td>7937</td><td>Lisa</td><td>Gibson</td><td>37</td><td>2015-11-19</td></tr><tr><td>10010</td><td>Michael</td><td>Leach</td><td>20</td><td>2017-09-14</td></tr><tr><td>10774</td><td>Monique</td><td>Bullock</td><td>54</td><td>2017-01-01</td></tr><tr><td>6650</td><td>Alexandria</td><td>Anderson</td><td>23</td><td>2015-10-31</td></tr><tr><td>1230</td><td>Gregory</td><td>Cortez</td><td>27</td><td>2016-01-10</td></tr><tr><td>8329</td><td>James</td><td>Goodwin</td><td>20</td><td>2016-01-24</td></tr><tr><td>4196</td><td>Anne</td><td>Atkins</td><td>23</td><td>2016-04-01</td></tr><tr><td>10385</td><td>Aaron</td><td>Bailey</td><td>20</td><td>2015-11-02</td></tr><tr><td>9106</td><td>Jeremy</td><td>Hebert</td><td>47</td><td>2017-09-18</td></tr><tr><td>6394</td><td>Sara</td><td>Reyes</td><td>40</td><td>2016-07-12</td></tr><tr><td>7060</td><td>Bradley</td><td>Hill</td><td>49</td><td>2016-01-22</td></tr><tr><td>7663</td><td>Brian</td><td>Gonzales</td><td>50</td><td>2017-07-23</td></tr><tr><td>5535</td><td>David</td><td>Carter</td><td>30</td><td>2016-02-24</td></tr><tr><td>8555</td><td>Alexander</td><td>Bailey</td><td>20</td><td>2015-10-30</td></tr><tr><td>8637</td><td>Michael</td><td>Grant</td><td>28</td><td>2016-09-08</td></tr><tr><td>3856</td><td>Alexandria</td><td>Alvarado</td><td>20</td><td>2015-10-23</td></tr><tr><td>8407</td><td>David</td><td>Brooks</td><td>33</td><td>2015-11-14</td></tr><tr><td>9744</td><td>Abigail</td><td>Ali</td><td>20</td><td>2015-10-24</td></tr><tr><td>1170</td><td>Stacey</td><td>Stewart</td><td>24</td><td>2017-03-24</td></tr><tr><td>7989</td><td>Bradley</td><td>Harris</td><td>27</td><td>2016-05-05</td></tr><tr><td>10699</td><td>Wendy</td><td>Griffin</td><td>34</td><td>2017-06-13</td></tr><tr><td>6011</td><td>Emily</td><td>Bailey</td><td>21</td><td>2016-02-24</td></tr><tr><td>7981</td><td>Marcus</td><td>Sparks</td><td>34</td><td>2016-12-24</td></tr><tr><td>9741</td><td>Eric</td><td>Freeman</td><td>47</td><td>2016-05-29</td></tr><tr><td>3097</td><td>Ashley</td><td>Patel</td><td>37</td><td>2015-12-14</td></tr><tr><td>2210</td><td>Adrian</td><td>Allen</td><td>21</td><td>2015-10-21</td></tr><tr><td>6984</td><td>Alejandra</td><td>Acevedo</td><td>20</td><td>2015-11-24</td></tr><tr><td>1195</td><td>Christopher</td><td>Craig</td><td>20</td><td>2016-06-24</td></tr><tr><td>7372</td><td>Michelle</td><td>Miller</td><td>31</td><td>2015-10-21</td></tr><tr><td>3815</td><td>Angela</td><td>Becker</td><td>26</td><td>2015-11-23</td></tr><tr><td>10571</td><td>Cheryl</td><td>Matthews</td><td>42</td><td>2017-06-11</td></tr><tr><td>84</td><td>Anthony</td><td>Adkins</td><td>21</td><td>2015-10-28</td></tr><tr><td>6237</td><td>Brian</td><td>Brown</td><td>21</td><td>2015-12-01</td></tr><tr><td>10421</td><td>Christopher</td><td>Swanson</td><td>55</td><td>2016-01-23</td></tr><tr><td>9946</td><td>Leslie</td><td>Rodriguez</td><td>26</td><td>2016-04-13</td></tr><tr><td>2882</td><td>Allen</td><td>Patterson</td><td>36</td><td>2016-01-25</td></tr><tr><td>8316</td><td>Jonathan</td><td>Dixon</td><td>41</td><td>2016-03-24</td></tr><tr><td>10624</td><td>Gail</td><td>Smith</td><td>33</td><td>2016-12-31</td></tr><tr><td>6533</td><td>Caleb</td><td>Carpenter</td><td>29</td><td>2016-05-09</td></tr><tr><td>8087</td><td>Justin</td><td>Ewing</td><td>56</td><td>2016-02-04</td></tr><tr><td>10786</td><td>Tyler</td><td>Smith</td><td>57</td><td>2016-07-10</td></tr><tr><td>10898</td><td>Aaron</td><td>Howard</td><td>45</td><td>2015-11-11</td></tr><tr><td>4336</td><td>Andrew</td><td>Stephens</td><td>23</td><td>2016-05-13</td></tr><tr><td>1160</td><td>David</td><td>Butler</td><td>35</td><td>2016-08-27</td></tr><tr><td>9052</td><td>Jason</td><td>Flores</td><td>44</td><td>2016-01-14</td></tr><tr><td>684</td><td>Chad</td><td>Beard</td><td>28</td><td>2016-01-09</td></tr><tr><td>9170</td><td>Amy</td><td>Brown</td><td>21</td><td>2015-11-08</td></tr><tr><td>3737</td><td>Alex</td><td>Banks</td><td>27</td><td>2015-12-13</td></tr><tr><td>6378</td><td>Heather</td><td>Arellano</td><td>23</td><td>2016-01-02</td></tr></tbody></table></div>"
      ]
     },
     "metadata": {
      "application/vnd.databricks.v1+output": {
       "addedWidgets": {},
       "aggData": [],
       "aggError": "",
       "aggOverflow": false,
       "aggSchema": [],
       "aggSeriesLimitReached": false,
       "aggType": "",
       "arguments": {},
       "columnCustomDisplayInfos": {},
       "data": [
        [
         8610,
         "Amy",
         "Brown",
         21,
         "2015-11-08"
        ],
        [
         9014,
         "Luke",
         "Carter",
         37,
         "2016-01-13"
        ],
        [
         8433,
         "Christopher",
         "Andrews",
         33,
         "2016-08-31"
        ],
        [
         10567,
         "Brandon",
         "Valdez",
         22,
         "2017-05-29"
        ],
        [
         6892,
         "Mark",
         "Adams",
         46,
         "2015-11-19"
        ],
        [
         2016,
         "Lindsey",
         "Brown",
         21,
         "2017-04-03"
        ],
        [
         1128,
         "Gregory",
         "Barnett",
         20,
         "2016-03-29"
        ],
        [
         9608,
         "Melanie",
         "Stuart",
         49,
         "2016-03-30"
        ],
        [
         10678,
         "Adam",
         "Acosta",
         20,
         "2015-10-21"
        ],
        [
         7954,
         "Aaron",
         "Abbott",
         20,
         "2015-10-23"
        ],
        [
         2851,
         "Abigail",
         "Adams",
         20,
         "2015-10-25"
        ],
        [
         918,
         "James",
         "Chapman",
         34,
         "2017-05-05"
        ],
        [
         820,
         "Adam",
         "Acosta",
         20,
         "2015-10-21"
        ],
        [
         9968,
         "Kristie",
         "Anthony",
         54,
         "2016-12-29"
        ],
        [
         7970,
         "Amber",
         "Bean",
         20,
         "2016-07-01"
        ],
        [
         8029,
         "Aaron",
         "Abbott",
         20,
         "2015-10-23"
        ],
        [
         2823,
         "April",
         "Anderson",
         21,
         "2016-12-04"
        ],
        [
         4546,
         "James",
         "Dixon",
         26,
         "2016-06-13"
        ],
        [
         5467,
         "Adam",
         "Cole",
         23,
         "2015-11-15"
        ],
        [
         5671,
         "Abigail",
         "Ali",
         20,
         "2015-10-24"
        ],
        [
         3495,
         "Alexandria",
         "Alvarado",
         20,
         "2015-10-23"
        ],
        [
         6722,
         "Andrew",
         "Clements",
         27,
         "2015-11-30"
        ],
        [
         8601,
         "Courtney",
         "Anderson",
         20,
         "2015-12-07"
        ],
        [
         6641,
         "Adrienne",
         "Barrett",
         22,
         "2015-11-04"
        ],
        [
         5261,
         "Destiny",
         "Parker",
         48,
         "2017-01-18"
        ],
        [
         6679,
         "Barbara",
         "Brown",
         28,
         "2016-05-13"
        ],
        [
         4411,
         "Denise",
         "Lyons",
         24,
         "2016-04-02"
        ],
        [
         3866,
         "Jonathan",
         "Burch",
         22,
         "2016-12-04"
        ],
        [
         3978,
         "Natasha",
         "Campbell",
         39,
         "2016-01-26"
        ],
        [
         8112,
         "Andrew",
         "Alexander",
         20,
         "2015-11-20"
        ],
        [
         99,
         "Adam",
         "Acosta",
         20,
         "2015-10-21"
        ],
        [
         7937,
         "Lisa",
         "Gibson",
         37,
         "2015-11-19"
        ],
        [
         10010,
         "Michael",
         "Leach",
         20,
         "2017-09-14"
        ],
        [
         10774,
         "Monique",
         "Bullock",
         54,
         "2017-01-01"
        ],
        [
         6650,
         "Alexandria",
         "Anderson",
         23,
         "2015-10-31"
        ],
        [
         1230,
         "Gregory",
         "Cortez",
         27,
         "2016-01-10"
        ],
        [
         8329,
         "James",
         "Goodwin",
         20,
         "2016-01-24"
        ],
        [
         4196,
         "Anne",
         "Atkins",
         23,
         "2016-04-01"
        ],
        [
         10385,
         "Aaron",
         "Bailey",
         20,
         "2015-11-02"
        ],
        [
         9106,
         "Jeremy",
         "Hebert",
         47,
         "2017-09-18"
        ],
        [
         6394,
         "Sara",
         "Reyes",
         40,
         "2016-07-12"
        ],
        [
         7060,
         "Bradley",
         "Hill",
         49,
         "2016-01-22"
        ],
        [
         7663,
         "Brian",
         "Gonzales",
         50,
         "2017-07-23"
        ],
        [
         5535,
         "David",
         "Carter",
         30,
         "2016-02-24"
        ],
        [
         8555,
         "Alexander",
         "Bailey",
         20,
         "2015-10-30"
        ],
        [
         8637,
         "Michael",
         "Grant",
         28,
         "2016-09-08"
        ],
        [
         3856,
         "Alexandria",
         "Alvarado",
         20,
         "2015-10-23"
        ],
        [
         8407,
         "David",
         "Brooks",
         33,
         "2015-11-14"
        ],
        [
         9744,
         "Abigail",
         "Ali",
         20,
         "2015-10-24"
        ],
        [
         1170,
         "Stacey",
         "Stewart",
         24,
         "2017-03-24"
        ],
        [
         7989,
         "Bradley",
         "Harris",
         27,
         "2016-05-05"
        ],
        [
         10699,
         "Wendy",
         "Griffin",
         34,
         "2017-06-13"
        ],
        [
         6011,
         "Emily",
         "Bailey",
         21,
         "2016-02-24"
        ],
        [
         7981,
         "Marcus",
         "Sparks",
         34,
         "2016-12-24"
        ],
        [
         9741,
         "Eric",
         "Freeman",
         47,
         "2016-05-29"
        ],
        [
         3097,
         "Ashley",
         "Patel",
         37,
         "2015-12-14"
        ],
        [
         2210,
         "Adrian",
         "Allen",
         21,
         "2015-10-21"
        ],
        [
         6984,
         "Alejandra",
         "Acevedo",
         20,
         "2015-11-24"
        ],
        [
         1195,
         "Christopher",
         "Craig",
         20,
         "2016-06-24"
        ],
        [
         7372,
         "Michelle",
         "Miller",
         31,
         "2015-10-21"
        ],
        [
         3815,
         "Angela",
         "Becker",
         26,
         "2015-11-23"
        ],
        [
         10571,
         "Cheryl",
         "Matthews",
         42,
         "2017-06-11"
        ],
        [
         84,
         "Anthony",
         "Adkins",
         21,
         "2015-10-28"
        ],
        [
         6237,
         "Brian",
         "Brown",
         21,
         "2015-12-01"
        ],
        [
         10421,
         "Christopher",
         "Swanson",
         55,
         "2016-01-23"
        ],
        [
         9946,
         "Leslie",
         "Rodriguez",
         26,
         "2016-04-13"
        ],
        [
         2882,
         "Allen",
         "Patterson",
         36,
         "2016-01-25"
        ],
        [
         8316,
         "Jonathan",
         "Dixon",
         41,
         "2016-03-24"
        ],
        [
         10624,
         "Gail",
         "Smith",
         33,
         "2016-12-31"
        ],
        [
         6533,
         "Caleb",
         "Carpenter",
         29,
         "2016-05-09"
        ],
        [
         8087,
         "Justin",
         "Ewing",
         56,
         "2016-02-04"
        ],
        [
         10786,
         "Tyler",
         "Smith",
         57,
         "2016-07-10"
        ],
        [
         10898,
         "Aaron",
         "Howard",
         45,
         "2015-11-11"
        ],
        [
         4336,
         "Andrew",
         "Stephens",
         23,
         "2016-05-13"
        ],
        [
         1160,
         "David",
         "Butler",
         35,
         "2016-08-27"
        ],
        [
         9052,
         "Jason",
         "Flores",
         44,
         "2016-01-14"
        ],
        [
         684,
         "Chad",
         "Beard",
         28,
         "2016-01-09"
        ],
        [
         9170,
         "Amy",
         "Brown",
         21,
         "2015-11-08"
        ],
        [
         3737,
         "Alex",
         "Banks",
         27,
         "2015-12-13"
        ],
        [
         6378,
         "Heather",
         "Arellano",
         23,
         "2016-01-02"
        ]
       ],
       "datasetInfos": [],
       "dbfsResultPath": null,
       "isJsonSchema": true,
       "metadata": {
        "isDbfsCommandResult": false
       },
       "overflow": false,
       "plotOptions": {
        "customPlotOptions": {},
        "displayType": "table",
        "pivotAggregation": null,
        "pivotColumns": null,
        "xColumns": null,
        "yColumns": null
       },
       "removedWidgets": [],
       "schema": [
        {
         "metadata": "{}",
         "name": "ind",
         "type": "\"integer\""
        },
        {
         "metadata": "{}",
         "name": "first_name",
         "type": "\"string\""
        },
        {
         "metadata": "{}",
         "name": "last_name",
         "type": "\"string\""
        },
        {
         "metadata": "{}",
         "name": "age",
         "type": "\"integer\""
        },
        {
         "metadata": "{}",
         "name": "date_joined",
         "type": "\"date\""
        }
       ],
       "type": "table"
      }
     },
     "output_type": "display_data"
    }
   ],
   "source": [
    "# Setup a preferred schema for the dataframe\n",
    "user_schema = StructType([\n",
    "  StructField('ind', IntegerType(), True), StructField('first_name', StringType(), True),\n",
    "  StructField('last_name', StringType(), True), StructField('age', IntegerType(), True),\n",
    "  StructField('date_joined', DateType(), True)\n",
    "])\n",
    "\n",
    "# Load the data column as json then create a dataframe using schema\n",
    "df_user = df_user.withColumn(\"data\", from_json(col(\"data\"), schema = user_schema))\n",
    "\n",
    "# Change column names\n",
    "df_user = df_user.select(col(\"data.ind\").alias(\"ind\"),\n",
    "                       col(\"data.first_name\").alias(\"first_name\"),\n",
    "                       col(\"data.last_name\").alias(\"last_name\"),\n",
    "                       col(\"data.age\").alias(\"age\"),\n",
    "                       col(\"data.date_joined\").alias(\"date_joined\"))\n",
    "\n",
    "display(df_user)"
   ]
  },
  {
   "cell_type": "code",
   "execution_count": 0,
   "metadata": {
    "application/vnd.databricks.v1+cell": {
     "cellMetadata": {
      "byteLimit": 2048000,
      "rowLimit": 10000
     },
     "inputWidgets": {},
     "nuid": "e2fe0443-88b5-40f0-af06-880158f609ca",
     "showTitle": false,
     "tableResultSettingsMap": {},
     "title": ""
    }
   },
   "outputs": [
    {
     "output_type": "display_data",
     "data": {
      "text/html": [
       "<style scoped>\n",
       "  .table-result-container {\n",
       "    max-height: 300px;\n",
       "    overflow: auto;\n",
       "  }\n",
       "  table, th, td {\n",
       "    border: 1px solid black;\n",
       "    border-collapse: collapse;\n",
       "  }\n",
       "  th, td {\n",
       "    padding: 5px;\n",
       "  }\n",
       "  th {\n",
       "    text-align: left;\n",
       "  }\n",
       "</style><div class='table-result-container'><table class='table-result'><thead style='background-color: white'><tr><th>ind</th><th>unique_id</th><th>title</th><th>description</th><th>follower_count</th><th>poster_name</th><th>tag_list</th><th>is_image_or_video</th><th>image_src</th><th>save_location</th><th>category</th></tr></thead><tbody><tr><td>8610</td><td>1f1db6e4-45a4-46a8-a52b-38adea2646f7</td><td>Sabrina Carpenter Got Her Very First Tattoo, and It's a Reference to Her \"Lucky\" Life</td><td>The \"Work It\" star just got her first tiny tattoo by celebrity tattoo artist Dr. Woo, and the design is a reference to her \"lucky\"</td><td>5000000</td><td>POPSUGAR</td><td>Petite Tattoos,Dainty Tattoos,Cute Tattoos,Small Tattoos,Tatoos,Small Feminine Tattoos,Grace Tattoos,Hip Tattoo Small,Hidden Tattoos</td><td>image</td><td>https://i.pinimg.com/originals/5a/45/ad/5a45adc8361768eb312c4d16d4db45f9.jpg</td><td>/data/tattoos</td><td>tattoos</td></tr><tr><td>9014</td><td>45c2e92a-5daf-40f3-9732-771c186c0757</td><td>75 More Small Tattoo Ideas from Playground Tattoo - Crestfox</td><td>Hi everyone! My last small tattoo ideas post was really popular on Pinterest, so I decided to put together this post with even more tiny tattoo ideas. Just like the other post,… </td><td>17000</td><td>Sarah Wahl | Crestfox</td><td>Little Tattoos,Mini Tattoos,Body Art Tattoos,Sleeve Tattoos,Tatoos,Flower Tattoos,White Tattoos,Arrow Tattoos,Word Tattoos</td><td>image</td><td>https://i.pinimg.com/originals/b5/72/b5/b572b5641d4efd2e9a13de2506b9e721.png</td><td>/data/tattoos</td><td>tattoos</td></tr><tr><td>8433</td><td>61ffdc64-3bfa-4c53-a9f0-9bc761514da5</td><td>Relationship Rules</td><td>Relationship Rules is a modern-age lifestyle/love blog that discusses everything from breakups to being amazing parents.</td><td>8</td><td>Kim Hefner</td><td>Now Quotes,Real Quotes,Words Quotes,Life Quotes,I Trust You Quotes,I Needed You Quotes,Sayings,The Lucky One Quotes,Losing Trust Quotes</td><td>image</td><td>https://i.pinimg.com/originals/da/d2/c4/dad2c43f1a4d7693a746758932139db0.webp</td><td>/data/quotes</td><td>quotes</td></tr><tr><td>10567</td><td>cf1e3bef-8a03-4b66-b19a-50d3c7d13f9a</td><td>Yessir</td><td>null</td><td>233</td><td>Louisiana_Redneck</td><td>Dually Trucks,Lifted Chevy Trucks,Diesel Trucks,Pickup Trucks,Chevy Trucks Older,Old Ford Trucks,Truck Drivers,Jeep Pickup,Chevrolet Silverado</td><td>multi-video(story page format)</td><td>https://i.pinimg.com/videos/thumbnails/originals/d4/dd/de/d4ddde53e277c155dc72b336ec73a40e.0000001.jpg</td><td>/data/vehicles</td><td>vehicles</td></tr><tr><td>6892</td><td>ebf6b77f-0656-4297-92a4-f37f48f6cc44</td><td>Giuseppe Leonardi (@giuse_leonardi) • Instagram photos and videos</td><td>8 Followers, 11 Following, 0 Posts - See Instagram photos and videos from Giuseppe Leonardi (@giuse_leonardi)</td><td>19</td><td>Roberto Rafael Ovalle Echeverria</td><td>Der Gentleman,Gentleman Style,Lace Converse Shoes,Glitter Shoes,Swag Shoes,Fashion Shoes,Mens Fashion,Fashion Tips,Fashion Menswear</td><td>image</td><td>https://i.pinimg.com/originals/bb/18/6b/bb186bd58c4bc65b9036f874938a351b.jpg</td><td>/data/mens-fashion</td><td>mens-fashion</td></tr><tr><td>2016</td><td>ea82682c-5186-44fa-8b4d-9b4f6b74739e</td><td>Christmas Home Tour</td><td>Hi friends, It’s been a little while since I’ve published a blog post and a lot has happened in the last year for me and my family! My husband and I welcomed boy/girl twins into</td><td>12000</td><td>Live Oak Nest</td><td>French Country Christmas,Country Christmas Decorations,Farmhouse Christmas Decor,Xmas Decorations,Christmas Home,Christmas Ideas,Christmas Mantle Decorations,Cottage Christmas Decorating,Christmas Fireplace Mantels</td><td>image</td><td>https://i.pinimg.com/originals/a5/48/c6/a548c6175e16ff33dc25c983c8e3514c.jpg</td><td>/data/christmas</td><td>christmas</td></tr><tr><td>1128</td><td>c839f3ff-0e34-40be-9209-63f0b2c285fc</td><td>8 innovative drugstore beauty products to try in 2018</td><td>Celebrity beauty experts love these innovative drugstore beauty products.</td><td>426000</td><td>TODAY Show</td><td>Face Care,Skin Care,Facial Therapy,Facial Steamer,Spa Day At Home,Beauty Skin,Clean Beauty,Beauty Care,Natural Beauty</td><td>image</td><td>https://i.pinimg.com/originals/32/fc/92/32fc925c7fda3259e337c14aa8fdfc4d.jpg</td><td>/data/beauty</td><td>beauty</td></tr><tr><td>9608</td><td>7eb7a087-8889-4eae-9ad6-6d71ad7b09ad</td><td>Highlights of Scandinavia: 10 Days Itinerary in Denmark, Sweden and Norway</td><td>Follow our 10 days itinerary that takes you from Copenhagen to Oslo to Stockholm. From cosmopolitan Sweden to Denmark, the Wild West of Scandinavia to the fjords & valleys of No… </td><td>78</td><td>Anywhr</td><td>Travel To Sweden,Denmark Travel,Norway Travel,Beautiful Places To Travel,Cool Places To Visit,Places To Go,Cruise Travel,Summer Travel,Sweden Holidays</td><td>image</td><td>https://i.pinimg.com/originals/d0/e1/c7/d0e1c775d25ba92489aa134628be7611.png</td><td>/data/travel</td><td>travel</td></tr><tr><td>10678</td><td>e1ca5651-2047-4711-9665-3fd853aac88b</td><td>This Guy Transformed A 1961 VW Beetle Deluxe Into A Black Matte Roadster</td><td>It should come as no surprise that people love the VW Beetle and many honor it by converting the car into an even cooler version, just like designer Danni Koldal did with his bl… </td><td>2000000</td><td>Bored Panda</td><td>Custom Trucks,Custom Cars,Vw Coccinelle Cabriolet,Mclaren P1 Black,Bmw R65,Jetta Vw,Carros Vw,Vw Beetle Convertible,Kdf Wagen</td><td>image</td><td>https://i.pinimg.com/originals/42/3b/6a/423b6a354062b0ee9c844ee4854656a4.jpg</td><td>/data/vehicles</td><td>vehicles</td></tr><tr><td>7954</td><td>e99cc6c5-0f3d-401e-9d20-e0d625b30038</td><td>150+ Best Love Quotes That'll Make Anyone Believe In Love</td><td>Finding new, different ways to say, 'I love you' can be tough. Here are 150+ of the best love quotes for him or her to express what loving and being loved means.</td><td>942000</td><td>YourTango</td><td>Love Quotes For Him Cute,Life Quotes Love,Best Love Quotes,Cute Quotes,Quotes To Live By,Favorite Quotes,Top Quotes,Hope Love Quotes,Cowboy Love Quotes</td><td>image</td><td>https://i.pinimg.com/originals/79/44/28/7944280986ed62559c8b8d72b94083c6.jpg</td><td>/data/quotes</td><td>quotes</td></tr><tr><td>2851</td><td>f2c2e634-b770-4223-a05a-4994f59c4513</td><td>DIY Puffy Paint Art</td><td>null</td><td>2000000</td><td>Blossom</td><td>Diy Crafts For Girls,Diy Crafts To Do,Diy Crafts Hacks,Diy Arts And Crafts,Cute Crafts,Toddler Crafts,Creative Crafts,Paper Crafts,Cool Crafts For Kids</td><td>multi-video(story page format)</td><td>https://i.pinimg.com/videos/thumbnails/originals/6c/82/c8/6c82c829071327c4edd932e1727997eb.0000001.jpg</td><td>/data/diy-and-crafts</td><td>diy-and-crafts</td></tr><tr><td>918</td><td>bbaeda98-41c0-4da9-9bb3-6fdafe3a4ced</td><td>All Natural Homemade Mascara</td><td>Homemade Bronzer</td><td>17000</td><td>Ditch the Wheat</td><td>Tips And Tricks,Make Beauty,Beauty Care,Diy Cosmetics Easy,Homemade Cosmetics,Natural Cosmetics,Nars Cosmetics,Homemade Bronzer,Homemade Mascara</td><td>image</td><td>https://i.pinimg.com/originals/b4/c3/ac/b4c3ace480ec096ca73083c77e7d2f06.jpg</td><td>/data/beauty</td><td>beauty</td></tr><tr><td>820</td><td>93334cf7-a34b-4c0f-a480-0d34b65d8379</td><td>Illustrator Turns Strangers Into Manga-Like Characters, And The Result Is Pretty Awesome</td><td>When most of us look at other people, we see, well, people. But when the artist behind Toonimated looks at people, all they see is cartoons.</td><td>2000000</td><td>Bored Panda</td><td>Cool Drawings,Drawing Sketches,Drawing Tips,Pencil Drawings,Drawing Ideas,Hipster Drawings,Flower Drawings,Drawing Hair,Dress Sketches</td><td>image</td><td>https://i.pinimg.com/originals/20/a5/cb/20a5cb74e24f462246293d2e702cbe61.jpg</td><td>/data/art</td><td>art</td></tr><tr><td>9968</td><td>30b881a8-9bf1-4a23-aa53-21ad9f910e60</td><td>Venice, Italy Scenic Canal & Venetian Architecture Flyer | Zazzle.com</td><td>#Venice Italy Scenic Canal & Venetian Architecture Flyer - #office #gifts #giftideas #business</td><td>1000000</td><td>Zazzle </td><td>Italy Travel Tips,Travel Destinations,Budget Travel,Spain Travel,Budget Hotels,Travel Tourism,Cheap Travel,Amazing Destinations,Phuket</td><td>image</td><td>https://i.pinimg.com/originals/db/98/3f/db983f6dee558408fbd680fb0bb19c4d.jpg</td><td>/data/travel</td><td>travel</td></tr><tr><td>7970</td><td>a43c8e2a-2497-493b-be0c-9013920ae902</td><td>Country Music - Latest News, Breaking Stories and Comment - Country Thang Daily</td><td>I can be as stubborn as a mule, sweet as tea, angry as a hornet, or loyal like a soldier. It all depends on you. #countryquotes #countrygirls #muddygirls #countrylife #countryst… </td><td>9000</td><td>Country Thang Daily</td><td>Life Quotes Love,Great Quotes,Quotes To Live By,Me Quotes,Funny Quotes,Inspirational Quotes,Humor Quotes,Baby Quotes,Motivational Quotes</td><td>image</td><td>https://i.pinimg.com/originals/a0/77/fb/a077fb2764eb46f9b3d450c36bbcf25a.jpg</td><td>/data/quotes</td><td>quotes</td></tr><tr><td>8029</td><td>76a96fdf-fd9d-41e6-89e4-faed2da2b672</td><td>20 Sassy Quotes That Remind You To Live Unapologetically</td><td>Sassy Quotes | Being You | Inspirational Quotes | #beinspired #beyourself #inspirationalquote | www.unsoshl.com</td><td>942000</td><td>YourTango</td><td>Sassy Quotes,Motivacional Quotes,Quotes Thoughts,Super Quotes,Sarcastic Quotes,Wisdom Quotes,True Quotes,Words Quotes,Best Quotes</td><td>image</td><td>https://i.pinimg.com/originals/b5/1f/04/b51f0416139da44edac61852a9c8a700.jpg</td><td>/data/quotes</td><td>quotes</td></tr><tr><td>2823</td><td>08cbe03b-5b4f-4c4d-85b6-ba4f8c3c9602</td><td>Dollar Tree Christmas Village Hack - The Latina Next Door</td><td>With this Dollar Tree Christmas Village Hack you can create your own high end Christmas Village without the huge expense, and it's so easy!</td><td>24000</td><td>Yami @ The Latina Next Door | Blogger | DIY | Budget Friendly Home Decor | Recipes |  Latina</td><td>Christmas Tree Village,Dollar Tree Christmas,Christmas Hacks,Diy Christmas Ornaments,Christmas Projects,Diy Christmas Gifts,Christmas Decorations Dollar Tree,Christmas Villages,Homemade Christmas</td><td>image</td><td>https://i.pinimg.com/originals/fb/37/55/fb375515aaebda118ab9c8c518fbcfc4.png</td><td>/data/diy-and-crafts</td><td>diy-and-crafts</td></tr><tr><td>4546</td><td>07058054-b6de-47b6-a990-1705906780fa</td><td>Wedding Ideas - WeddingWire</td><td>Get expert wedding planning advice and find the best ideas for wedding decorations, wedding flowers, wedding cakes, wedding songs, and more.</td><td>132000</td><td>Project Wedding</td><td>Perfect Wedding,Dream Wedding,Wedding Day,Wedding Reception,Wedding Photos,Wedding Stuff,Money Box Wedding,Wedding Orange,Wedding Pins</td><td>image</td><td>https://i.pinimg.com/originals/7b/b0/b2/7bb0b2ad559a3e9fdd461dc69a661ee3.jpg</td><td>/data/event-planning</td><td>event-planning</td></tr><tr><td>5467</td><td>cb4fdb00-6006-41bd-adce-9cdab8bc7d93</td><td>ETF CHEATSHEET</td><td>Are you bored living in poor mindset? You are on the right place! If you want to learn about investing in dividends and passive income, this is best page on pinterest for BEGGIN… </td><td>98000</td><td>GloryInvestingShow</td><td>Financial Quotes,Financial Peace,Stock Market Investing,Investing In Stocks,Value Investing,Investing Money,Stocks For Beginners,Dividend Investing,Dividend Stocks</td><td>image</td><td>https://i.pinimg.com/originals/9d/41/09/9d4109bece52910d517ba30b21812b85.jpg</td><td>/data/finance</td><td>finance</td></tr><tr><td>5671</td><td>b6686182-8f93-46c3-94d5-2b91a6631926</td><td>null</td><td>null</td><td>null</td><td>null</td><td>null</td><td>multi-video(story page format)</td><td>Image src error.</td><td>/data/finance</td><td>finance</td></tr><tr><td>3495</td><td>c0378b53-c914-4a28-9b83-b4dab5c7116f</td><td>School's Over : How to Have Freedom and Democracy in Education (Paperback)</td><td>In School's Over: How to Have Freedom & Democracy in Education, Jerry Mintz outlines the components of successful democratic schools and how these schools change the lives of th… </td><td>2000000</td><td>Walmart</td><td>Ken Robinson,Ny Times,Bestselling Author,Freedom,Outlines,Memories,Schools,Education,Globe</td><td>image</td><td>https://i.pinimg.com/originals/9a/98/99/9a9899d33bf4ba24b44c32d88c110ce9.jpg</td><td>/data/education</td><td>education</td></tr><tr><td>6722</td><td>21e44096-1aa4-44f8-a310-6c15c8afa432</td><td>Simple Spring Decorating - Ella Claire</td><td>Simple spring touches in the entryway are a sweet greeting to family and friends. Easy accents such as a wreath, pillows, vintage tackle basket, and floppy hat are so charming t… </td><td>126000</td><td>Kristen Whitby | Ella Claire & Co.</td><td>Decor Room,Diy Bedroom Decor,Living Room Decor,Diy Home Decor,Simple Home Decoration,Decor Crafts,Living Rooms,Home Design,Interior Design</td><td>image</td><td>https://i.pinimg.com/originals/39/da/e5/39dae50b488b37f7b7dba73d7a5476dd.jpg</td><td>/data/home-decor</td><td>home-decor</td></tr><tr><td>8601</td><td>eeac79f4-89a3-413a-92e9-331f147c9c0f</td><td>25 Tiny And Pretty Flower Tattoo Designs You Would Love - Women Fashion Lifestyle Blog Shinecoco.com</td><td>Flower tattoo is always popular in the tattoo fashion world, and we love all these flower tattoo designs. No matter the flower design is large or small, no matter the tattoo is… </td><td>101000</td><td>Shinecoco</td><td>Ankel Tattoos,Cute Ankle Tattoos,Ankle Tattoos For Women,Black Tattoos,Body Art Tattoos,Tattos,Dainty Tattoos For Women,Small Flower Tattoos For Women,Side Wrist Tattoos</td><td>image</td><td>https://i.pinimg.com/originals/69/d8/49/69d84989ca35345a97b6bdb2df917ea0.jpg</td><td>/data/tattoos</td><td>tattoos</td></tr><tr><td>6641</td><td>1232e344-ecee-482f-8fb7-4d101aca4c4e</td><td>Traditional Black Sofa Table Transformation - Jessica Sara Morris</td><td>Traditional Black Sofa Table Transformation. I found A Sofa Table On Marketplace for 45 dollars and transformed it into a pottery barn look alike</td><td>36000</td><td>JESSICA SARA MORRIS | HOME DECOR + DIY ON A BUDGET</td><td>Black Sofa Table,Black Entry Table,Black Sofa Decor,Black Sofa Living Room Decor,Black White Decor,Living Room Panelling,Black Wall Decor,Black Wall Mirror,Black And White Interior</td><td>image</td><td>https://i.pinimg.com/originals/f0/d3/36/f0d3363aeeb2899056b523eb2b111ac7.jpg</td><td>/data/home-decor</td><td>home-decor</td></tr><tr><td>5261</td><td>094e4217-e85a-47a8-bf59-024882a29f63</td><td>15 Things I Don't Spend Money On</td><td>Do you know you are spending WAY more money than you need to on general household costs? Here's 15 main things I do NOT spend money on and the best tips on how you can start doi… </td><td>37000</td><td>Free Printables, SVG's, Binders & Planners with Sarah Titus</td><td>Best Money Saving Tips,Ways To Save Money,Money Tips,Saving Money,Budget Help,Budgeting Money,Financial Tips,Frugal Tips,Saving Ideas</td><td>image</td><td>https://i.pinimg.com/originals/10/1d/6d/101d6d1794fa058a0be4762bc504175d.jpg</td><td>/data/finance</td><td>finance</td></tr><tr><td>6679</td><td>8e9c334a-e744-49eb-9053-8865abcee07c</td><td>50 top items in home decor | Home decorating ideas | Style Curator</td><td>When decorating your home, you can reach a point where you wonder ‘what else can I use?’. You’ve maxed out the amount of photos you want to display and have more candles than yo… </td><td>76000</td><td>Style Curator | Gina Ciancio</td><td>Room Interior,Interior Design Living Room,Living Room Designs,Lounge Room Designs,Lounge Ideas,Paint Colors For Living Room,Room Paint,Living Room Tv,Living Room Decor Ideas Apartment</td><td>image</td><td>https://i.pinimg.com/originals/67/29/c9/6729c9ad77a03655a899cfc73f194c14.jpg</td><td>/data/home-decor</td><td>home-decor</td></tr><tr><td>4411</td><td>af9021fc-29bd-49ab-941b-6f24f7832180</td><td>Elegant Wedding Table Decor On A Thrift STore Budget</td><td>This is a huge list of wedding table decor to shop for at the thrift store. Nothing beats wedding decor on a budget!</td><td>18000</td><td>Small Stuff Counts</td><td>Flower Table Decorations,Wedding Decorations On A Budget,Wedding Favors Cheap,Wedding Table Centerpieces,Budget Wedding,Wedding Ideas,Wedding Planning,Event Planning,Diy Wedding</td><td>image</td><td>https://i.pinimg.com/originals/9d/33/c3/9d33c3ffbf80d4ea4ad2e1fb6dc0329c.jpg</td><td>/data/event-planning</td><td>event-planning</td></tr><tr><td>3866</td><td>9aa2d5f3-b89b-442f-b876-10ddb7f4f45a</td><td>Virtual Dissection and Science Labs for Homeschoolers</td><td>Truth is, finding virtual dissection and labs isn't as hard as it used to be. We have a list of the best Virtual Dissection Labs for Homeschoolers!</td><td>83000</td><td>3 Boys and a Dog</td><td>Homeschool Science Curriculum,Homeschool High School,Teaching Science,Science Lessons,Science For Kids,Science Activities,Online Homeschooling,Science Labs,Catholic Homeschooling</td><td>image</td><td>https://i.pinimg.com/originals/8c/00/3e/8c003eaea3201e04f5fb5161108161af.jpg</td><td>/data/education</td><td>education</td></tr><tr><td>3978</td><td>0cf9170f-fca3-4c6d-a2f3-aefbd02b8fcc</td><td>Do you hate taking Notes during online Lecture?|</td><td>null</td><td>6000</td><td>Global Assignment Help Australia</td><td>College Life Hacks,High School Hacks,Teen Life Hacks,High School Life,Life Hacks For School,School Study Tips,College Humor,Life Hacks Websites,Fun Websites</td><td>multi-video(story page format)</td><td>https://i.pinimg.com/videos/thumbnails/originals/57/f4/98/57f498cf8550c52f98658374e0a8ab58.0000001.jpg</td><td>/data/education</td><td>education</td></tr><tr><td>8112</td><td>0c9e083a-43f3-4f1f-a2ca-24bdc9baf4f9</td><td>'I Love  You' Quotes: 22 Heartwarming Quotes To Help You Say 'I Love You’</td><td>There are more ways to say I love you than those three little words. Here are some fantastic I love you quotes for everyone!</td><td>166000</td><td>Women.com</td><td>Love Quotes For Him Cute,Love Quotes For Him Boyfriend,Sweet Love Quotes,Girlfriend Quotes,Love Yourself Quotes,Love Is Sweet,So In Love,I Will Always Love You Quotes,My King Quotes</td><td>image</td><td>https://i.pinimg.com/originals/96/b6/6c/96b66c0222d3c197e0314c3b8d547254.jpg</td><td>/data/quotes</td><td>quotes</td></tr><tr><td>99</td><td>ccd0afd0-5a4a-470a-8891-4583ab3d8139</td><td>Self-Taught Artist Makes Amazing Female Portraits Based On Doodles</td><td>Liz Y Ahmet is a UK-based, self-taught artist who creates portraits of women from hundreds of scribbled lines. What looks chaotic and even a little bit messy emerges into perfec… </td><td>2000000</td><td>Bored Panda</td><td>Self Portrait Drawing,Abstract Portrait Painting,Portrait Sketches,Art Drawings Sketches,Cool Art Drawings,Biro Portrait,Self Portrait Artists,Abstract Sketches,Portrait Paintings</td><td>image</td><td>https://i.pinimg.com/originals/ad/2c/7f/ad2c7f39306eda6da8675ea8f50e6233.jpg</td><td>/data/art</td><td>art</td></tr><tr><td>7937</td><td>9709b0bd-6ba2-4e83-98a3-1ffdbc4354bc</td><td>inspirational quotes</td><td>build that future inspirational quotes</td><td>2000</td><td>Vinny and Charles Fine Jewellery</td><td>Mantra Quotes,Motivacional Quotes,Quotes Thoughts,Words Quotes,Wise Words,Life Quotes,Habit Quotes,Drake Quotes,Lovers Quotes</td><td>image</td><td>https://i.pinimg.com/originals/94/eb/18/94eb18dda8057ab94ace6b424e94bc55.jpg</td><td>/data/quotes</td><td>quotes</td></tr><tr><td>10010</td><td>526bd12c-74e2-49fd-b366-b1f7574a0bfc</td><td>10 Tips for Women Traveling Alone</td><td>{10 Tips for Traveling Solo} What would you add to the list?</td><td>281000</td><td>Peanut Blossom | Easy Recipes, Book Club, and Holiday Ideas</td><td>Solo Travel Tips,Travel Packing,Travel Advice,Travel Stuff,Packing Tips,Travel Luggage,Luggage Packing,Traveling Tips,Travel Hacks</td><td>image</td><td>https://i.pinimg.com/originals/6f/e9/15/6fe9159acbcbf742c1cec7dfa8c34845.jpg</td><td>/data/travel</td><td>travel</td></tr><tr><td>10774</td><td>c6066abe-a261-49e0-92f7-0b1bf22d414c</td><td>Buggy</td><td>VW Beetle</td><td>6000</td><td>JD Rucker</td><td>Buggy,Fusca Cross,Wolkswagen Van,Combi Wv,Vw Beach,Vw Baja Bug,Kdf Wagen,E Motor,Offroader</td><td>image</td><td>https://i.pinimg.com/originals/d7/99/d6/d799d604673d0a1fa45066b1bb3263f0.jpg</td><td>/data/vehicles</td><td>vehicles</td></tr><tr><td>6650</td><td>c80068ea-9fa3-4896-af45-5636cd7d8705</td><td>MULTIPLE Afrocentric Bathroom Shower Curtains - Pro Black Home Decorations / Decor - Head wrap</td><td>Afrocentric Bathroom Shower Curtains / Home Decor These beautiful afrocentric shower curtains are approximately 59x70 inches and fits most typical bathroom showers. We have even… </td><td>14000</td><td>Ethnic Earring</td><td>Black Shower Curtains,Bathroom Shower Curtains,Fabric Shower Curtains,Bathroom Showers,Bathroom Ideas,Bathrooms,African Shower Curtain,Casa Top,Shower Curtain Sizes</td><td>image</td><td>https://i.pinimg.com/originals/bf/08/e5/bf08e53ed06f48f2d05c9ae115e39ace.png</td><td>/data/home-decor</td><td>home-decor</td></tr><tr><td>1230</td><td>9cc76b52-d61e-48d0-8498-c51736117bf7</td><td>Perfect Skin Care Hacks</td><td>Do this glow up challenge and have a glow up of your life! Face, body, hair, and nails - here's how to glow up with beauty in 30 days or less.</td><td>53000</td><td>The ShineSheets - Personal Development, Beauty, Mental Health</td><td>Face Skin Care,Diy Skin Care,Skin Care Tips,Good Skin Tips,Face Care Tips,Clear Skin Tips,Beauty Tips For Glowing Skin,Beauty Skin,Face Beauty</td><td>image</td><td>https://i.pinimg.com/originals/8a/8a/c8/8a8ac81de60b1e099bdfd5b3a6f84649.jpg</td><td>/data/beauty</td><td>beauty</td></tr><tr><td>8329</td><td>6d5fcca0-699c-474f-b34e-13e560e7900f</td><td>15 Inspirational quotes to start your day off feeling motivated and positive. Inspiring words can he</td><td>Here are 15 inspirational quotes to start your day feeling motivated and positive. Inspiring words are a great tool to combat anxiety and fear. They can offer hope and spark you… </td><td>19000</td><td>Dream Dash Journal</td><td>Motivacional Quotes,Life Quotes Love,Wisdom Quotes,Words Quotes,Wise Words,Funny Quotes,Day Off Quotes,Quotes Of Hope,Quotes About Fear</td><td>image</td><td>https://i.pinimg.com/originals/79/77/62/7977620a62cbaa59b3f02ebaf6092fec.jpg</td><td>/data/quotes</td><td>quotes</td></tr><tr><td>4196</td><td>a8fce1cc-94ce-4592-9fbd-f679f37e44ab</td><td>How to Structure Learning Stations Online - Write on With Miss G</td><td>creating online learning stations for small groups during distance learning</td><td>10000</td><td>Write on with Miss G | English Teacher | Engaging ELA Lessons</td><td>Teaching Technology,Medical Technology,Educational Technology,Technology Tools,Educational Leadership,Educational Toys,Google Classroom,Classroom Ideas,People Reading</td><td>image</td><td>https://i.pinimg.com/originals/46/01/f1/4601f15ffdcda22f92c9617c48ed5744.jpg</td><td>/data/education</td><td>education</td></tr><tr><td>10385</td><td>11089567-a8bd-427f-9f25-42a1b1515094</td><td>Meet the Honda Kei, a simple and efficient autonomous vehicle for commuting in the urban future - Yanko Design</td><td>If you know anything about Japanese cars, you've definitely heard about Kei car. It literally means \"light car\" and was a result of the spending capability of t</td><td>416000</td><td>Yanko Design - Form Beyond Function</td><td>Car Design Sketch,Car Sketch,Kei Car,Cab Over,Honda S,Smart Car,Futuristic Cars,Japanese Cars,Transportation Design</td><td>image</td><td>https://i.pinimg.com/originals/f4/9e/15/f49e1591c73b7ed70a5944c5b348df62.png</td><td>/data/vehicles</td><td>vehicles</td></tr><tr><td>9106</td><td>a4c5a298-f07f-4a76-bece-45219ef9ecac</td><td>13 Inspiring Shakespeare Tattoos</td><td>If you're a romantic bookworm looking to truly express your love for the Bard and his works, check out these Shakespeare tattoos and get inspired.</td><td>4000</td><td>Books and Bao | Travel, Culture, Books</td><td>Feminine Tattoo Sleeves,Feminine Tattoos,Unique Tattoos,Cute Tattoos,Leg Tattoos,Beautiful Tattoos,Body Art Tattoos,Small Tattoos,Sleeve Tattoos</td><td>image</td><td>https://i.pinimg.com/originals/01/63/eb/0163eb6fee8859189645e4d6d7432e70.jpg</td><td>/data/tattoos</td><td>tattoos</td></tr><tr><td>6394</td><td>41ceecc7-20db-490f-912e-22cb04141a88</td><td>Easy Vase Filler DIY</td><td>null</td><td>17000</td><td>Purposefully Emilie</td><td>Diy Crafts For Home Decor,Fall Home Decor,Autumn Home,Diy Decorations For Home,Target Home Decor,Handmade Home Decor,Diy Wall Decor,Tray Decor,Cheap Home Decor</td><td>multi-video(story page format)</td><td>https://i.pinimg.com/videos/thumbnails/originals/bf/47/81/bf4781fbbb114d1305151c7f4dd13f70.0000001.jpg</td><td>/data/home-decor</td><td>home-decor</td></tr><tr><td>7060</td><td>86e2b4bb-a264-4dfb-bc38-9c537f43e27e</td><td>Don’t Be That Guy: Avoiding Over-40 Style Pitfalls</td><td>As men age, dressing stylishly gets increasingly treacherous—especially with fashion veering ever more casual. But giving up entirely is never a good look. Here’s help</td><td>194000</td><td>The Wall Street Journal</td><td>Fashion For Men Over 40,Mature Mens Fashion,Old Man Fashion,Stylish Mens Fashion,Fall Fashion,Fashion Ideas,Casual Clothes For Men Over 50,Stylish Men Over 50,Womens Fashion</td><td>image</td><td>https://i.pinimg.com/originals/f7/6c/87/f76c87c1b0e0bd84061c4f996b15bdea.jpg</td><td>/data/mens-fashion</td><td>mens-fashion</td></tr><tr><td>7663</td><td>5adc6dd8-7ca8-4bd8-9db5-f00eaa3ee7b5</td><td>Amaya Itami of the Pain Clan(Naruto Fanfiction)(Garra love story) - The Forest Of Death</td><td>THIS IS BEING REWRITTEN AND FIXED BECAUSE IM AWEFUL AND MESSED UP THE PLOT SO PEASE BARE WITH ME WHILE I FIX MY FUCK UP.</td><td>1</td><td>Maddie Kay Russell</td><td>Feeling Broken Quotes,Deep Thought Quotes,Quotes Deep Feelings,Feeling Alone Quotes,Hurt Feelings,New Quotes,Mood Quotes,Inspirational Quotes,Qoutes</td><td>image</td><td>https://i.pinimg.com/originals/78/93/51/789351e2db23b093dcc1164c120bf8fc.jpg</td><td>/data/quotes</td><td>quotes</td></tr><tr><td>5535</td><td>f829fb7a-c7b1-4a8d-8185-59ac61533ad4</td><td>100 Easy Ways To Save Money Right Now</td><td>Want to save more money this year, pay off your debts, and improve your finances? These 100 money saving tips are what you need to move your finances in the right direction. #mo… </td><td>20000</td><td>Savvy Personal Finance | Save Money, Make Money & Investing Tips</td><td>Save Money On Groceries,Ways To Save Money,Money Tips,Money Budget,Mo Money,Money Hacks,Budgeting Finances,Budgeting Tips,Budgeting Worksheets</td><td>image</td><td>https://i.pinimg.com/originals/06/a8/cf/06a8cf91027ae640ed780badc8f6d96c.png</td><td>/data/finance</td><td>finance</td></tr><tr><td>8555</td><td>8fa3a9e0-36d8-4860-916a-da3765740f58</td><td>41 Simple First Small Tattoo Ideas For Women</td><td>Small tattoos are becoming increasingly popular and loved by women, and if this is going to be your first tattoo, then choosing a small tattoo may be the best option. Small tatt… </td><td>47000</td><td>IdeasDonuts</td><td>Simple Shoulder Tattoo,Small Hand Tattoos,Shoulder Tattoos For Women,Wrist Tattoos For Women,Dainty Tattoos,Cool Small Tattoos,Small First Tattoos,Funny Small Tattoos,Tattoo Simple</td><td>image</td><td>https://i.pinimg.com/originals/02/b8/99/02b899adc21d68239f8be6d7f4e13435.jpg</td><td>/data/tattoos</td><td>tattoos</td></tr><tr><td>8637</td><td>e9ac5027-7491-477c-b0f4-cd042ec0c9de</td><td>Night Rose - XS</td><td>ULTRA REALISTIC TEMP TATS THAT LAST 3-7 DAYS YOUR KIT INCLUDES Designs Real Teal™ Shine Remover Instructions</td><td>27000</td><td>Momentary Ink</td><td>Boho Tattoos,Mini Tattoos,Cute Tattoos,Body Art Tattoos,Small Tattoos,Sleeve Tattoos,Tattoos To Draw,Medium Size Tattoos,Small Flower Tattoos</td><td>image</td><td>https://i.pinimg.com/originals/17/f2/b5/17f2b5dd3efdb988e0b9745ebf6bbfc1.jpg</td><td>/data/tattoos</td><td>tattoos</td></tr><tr><td>3856</td><td>6072eb52-009f-44f7-b2c6-d4ad1ab5adcd</td><td>Simmons College/Beacon Press Race, Education, and Democracy: Another Kind of Public Education : Race, Schools, the Media, and Democratic Possibilities (Paperback)</td><td>In this fiercely intelligent yet accessible book, one of the nation's leading sociologists and experts on race calls for another kind of public education--one that opens up more… </td><td>2000000</td><td>Walmart</td><td>Public School,High School,Coming Of Age,Senior Year,Powerful Words,Young People,New Books,Schools,The Twenties</td><td>image</td><td>https://i.pinimg.com/originals/b4/0b/9d/b40b9d3fdb659f923472ac850353f376.jpg</td><td>/data/education</td><td>education</td></tr><tr><td>8407</td><td>93b5651e-40b8-4520-8bb7-89b11bd22438</td><td>MOTIVATION</td><td>null</td><td>6000</td><td>SAHYA</td><td>Better Life Quotes,Good Life Quotes,Wise Quotes,Motivational Quotes,Inspirational Quotes,Movie Quotes,Qoutes,Study Motivation Quotes,Study Quotes</td><td>multi-video(story page format)</td><td>Image src error.</td><td>/data/quotes</td><td>quotes</td></tr><tr><td>9744</td><td>210e753e-24a1-499a-95e5-2d8c8867ede5</td><td>null</td><td>null</td><td>null</td><td>null</td><td>null</td><td>multi-video(story page format)</td><td>Image src error.</td><td>/data/travel</td><td>travel</td></tr><tr><td>1170</td><td>fafb96e7-e2c6-436b-beac-caf5e3a1cbf5</td><td>Best shade makeup foundation for your skin match guide tutorial- beauty tutorial hacks</td><td>null</td><td>157000</td><td>miss coco</td><td>Eye Makeup Steps,Blue Eye Makeup,Skin Makeup,Simple Makeup,Natural Makeup,Concealer,Makeup Tips Foundation,Foundation Shade,Full Coverage Foundation</td><td>multi-video(story page format)</td><td>https://i.pinimg.com/videos/thumbnails/originals/92/6f/33/926f33779cb5fe0b76ff08e992e8e867.0000001.jpg</td><td>/data/beauty</td><td>beauty</td></tr><tr><td>7989</td><td>1cb89f3b-dd0c-4b64-aab3-7d5b83aede13</td><td>Breaking the Toxic Cycle of Trauma Bonding</td><td>Narcissists thrive on fights for a few reasons. For one, you're providing the narcissist with undivided attention, emotional capacity, and energy – all of which feeds their addi… </td><td>42000</td><td>Kim Saeed | Narcissistic Abuse Recovery Expert</td><td>Narcissistic People,Narcissistic Abuse Recovery,Narcissistic Behavior,Narcissistic Sociopath,Narcissistic Personality Disorder,Narcissistic Mother,Narcissist Cycle,Trauma,Ptsd</td><td>image</td><td>https://i.pinimg.com/originals/f8/c0/ea/f8c0ea6f3ecaffdc764bc6b9fc99137f.jpg</td><td>/data/quotes</td><td>quotes</td></tr><tr><td>10699</td><td>c21e3809-59d4-4980-a17d-f9be5f1e5d16</td><td>1967 Ford Mustang Hardtop - Fast In Pink</td><td>At last year's Mustang Club of America national show in Mustang, Oklahoma, I learned to never trust my first glance-or even the second. While walking the show l</td><td>248</td><td>Keitha Rankin</td><td>Mustang Rose,1967 Mustang,Mustang Cars,Mustang Fastback,Classic Mustang,Ford Classic Cars,Ford Mustangs,Playboy,Ayrton Senna</td><td>image</td><td>https://i.pinimg.com/originals/c7/c3/61/c7c3610ca42bcbcaadc276ef8cd85c65.jpg</td><td>/data/vehicles</td><td>vehicles</td></tr><tr><td>6011</td><td>82bd6b35-465b-4173-80a1-1b9b74290738</td><td>Our Family's Future Hill Country Home Inspiration: Modern Farmhouse Kitchens - HOUSE of HARPER</td><td>Our Family's Future Hill Country Home Inspiration: Modern Farmhouse Kitchens - HOUSE of HARPER #modernfarmhouse #modernfarmhousekitchen #kitchens</td><td>49000</td><td>HOUSE of HARPER</td><td>Kitchen Ikea,New Kitchen,Cheap Kitchen,Smart Kitchen,Kitchen Wood,Floors Kitchen,Kitchen White,Awesome Kitchen,Kitchen Small</td><td>image</td><td>https://i.pinimg.com/originals/61/9a/c6/619ac60829aeae7665f968e596879566.jpg</td><td>/data/home-decor</td><td>home-decor</td></tr><tr><td>7981</td><td>9f34995c-4e78-4638-bfd2-1fe267ab5dea</td><td>THINGS</td><td>null</td><td>2000</td><td>MONTANO DIANA ✿◕‿◕✿</td><td>Positive Affirmations Quotes,Affirmation Quotes,Wisdom Quotes,True Quotes,Words Quotes,Wise Words,Positive Quotes,Motivational Quotes,Wall Of Quotes</td><td>multi-video(story page format)</td><td>Image src error.</td><td>/data/quotes</td><td>quotes</td></tr><tr><td>9741</td><td>dc71aab4-380d-4b93-a3f4-897642338299</td><td>THE BIG WATER (GREEN)</td><td>This hat was made specifically for all of your aquatic adventures, hikes that might get extra sweaty, and killer trail runs. It features quick-drying fabric and breathable wide-… </td><td>222</td><td>Sonnies Outside | Outdoor Apparel + Outside Enthusiast</td><td>Mountain Climbing,Rock Climbing,Nature Adventure,Adventure Time,Granola Girl,Hiking Essentials,Green Hats,Outdoor Recreation,Trail Running</td><td>image</td><td>https://i.pinimg.com/originals/75/23/ac/7523acfef129610b0a888e59e0f29345.jpg</td><td>/data/travel</td><td>travel</td></tr><tr><td>3097</td><td>c6b2f900-b1d6-44d9-b719-9187a6a9f404</td><td>Pin on Frozen 2 Activities</td><td>Mar 20, 2020 - Learn how to fold and cut these coffee filter snowflakes. Take this winter craft to the next level by dyeing them using markers and water. Easy and fun!</td><td>6000</td><td>The Printables Fairy | Printables & Activities For Kids</td><td>Winter Activities For Kids,Winter Crafts For Kids,Christmas Activities,Winter Fun,Kids Printable Activities,Winter Preschool Crafts,Simple Crafts For Kids,At Home Crafts For Kids,Art Games For Kids</td><td>image</td><td>https://i.pinimg.com/originals/da/6c/1e/da6c1ea60fb485b023a4b86c8ea62040.jpg</td><td>/data/diy-and-crafts</td><td>diy-and-crafts</td></tr><tr><td>2210</td><td>993f0d01-4d87-40a1-aadc-d51c7cafc31b</td><td>Have Yourself A Merry Christmas: 75 Ho-Ho-Holiday Decor Ideas</td><td>In the spirit of Christmas, we would love to share with you some fabulous holiday decor ideas to leave you feeling inspired.</td><td>657000</td><td>One Kindesign</td><td>Christmas Fireplace,Christmas Mantels,Farmhouse Christmas Decor,Rustic Christmas,Winter Christmas,Christmas Crafts,Holiday Decor,Christmas Vacation,Fireplace Mantel Christmas Decorations</td><td>image</td><td>https://i.pinimg.com/originals/2f/56/92/2f569211961627c4a3bb6b0d3a7d9265.png</td><td>/data/christmas</td><td>christmas</td></tr><tr><td>6984</td><td>2ed17d3d-adfd-4f55-9af1-b97a34f4a039</td><td>Get The Perfect OOTD Look</td><td>Tired struggling to find the perfect outfit in the morning? Here are some amazing OOTD Ideas for men to flaunt. Stay Tunned!</td><td>723000</td><td>TheUnstitchd</td><td>Business Casual Men,Men Casual,Smart Casual,Casual Winter,Outfit Winter,Winter Style,Komplette Outfits,Casual Outfits,Dress Casual</td><td>image</td><td>https://i.pinimg.com/originals/84/7e/06/847e06d7b2885ddad8ad955f103c32ee.png</td><td>/data/mens-fashion</td><td>mens-fashion</td></tr><tr><td>1195</td><td>0634d842-6331-440b-8916-86526e13806b</td><td>6 Amazing Beauty Benefits of Apple Cider Vinegar</td><td>Apple cider vinegar helps to soothe sunburn as well as relieves pigment spots and other skin problems</td><td>338000</td><td>Beauty Epic</td><td>Beauty Care,Beauty Skin,Health And Beauty,Beauty Advice,Beauty Ideas,Diy Beauty,Beauty Guide,Beauty Habits,Healthy Beauty</td><td>image</td><td>https://i.pinimg.com/originals/5a/d0/ab/5ad0ab60a00a593a95c89d3c3897abd8.jpg</td><td>/data/beauty</td><td>beauty</td></tr><tr><td>7372</td><td>a26c1d96-72d5-43af-8221-496bb0e2c0a0</td><td>The Wilton Jacket in Navy Birdseye Wool</td><td>The Wilton Jacket in Navy Birdseye Wool from Taylor Stitch</td><td>5</td><td>Charlie Watters</td><td>Mens Outdoor Fashion,Older Mens Fashion,Mens Fashion Casual Shoes,Winter Fashion Outfits,Men Casual,Rugged Men's Fashion,Fashion Menswear,Man Fashion,Casual Winter</td><td>image</td><td>https://i.pinimg.com/originals/18/a4/40/18a440b1907a55aa19d67306dee36772.jpg</td><td>/data/mens-fashion</td><td>mens-fashion</td></tr><tr><td>3815</td><td>cb3d8579-7150-463d-906d-8a4329b36314</td><td>Phonics books for r-controlled vowels</td><td>These free printable phonetic books will help your child master those tricky r-controlled vowels!</td><td>219000</td><td>The Measured Mom | Structured literacy | Teaching Pre-K-3rd</td><td>Phonics Books,Phonics Reading,Teaching Phonics,Phonics Activities,Kindergarten Reading,Reading Activities,Teaching Reading,Guided Reading,Learning</td><td>image</td><td>https://i.pinimg.com/originals/f5/49/a5/f549a5ab217b067e33590b70b8837251.jpg</td><td>/data/education</td><td>education</td></tr><tr><td>10571</td><td>ea84197e-5935-4121-a358-0b6886b87538</td><td>shushpanzer_ru</td><td>shushpanzer_ru - the new blog in LiveJournal. There should be new interesting records soon.</td><td>272</td><td>David O'Connor</td><td>Army Vehicles,Armored Vehicles,Monster Car,Armored Truck,By Any Means Necessary,Expedition Vehicle,Futuristic Cars,Jeep Truck,Emergency Vehicles</td><td>image</td><td>https://i.pinimg.com/originals/1c/59/72/1c59725fc7946c7b146a81f7203d0536.jpg</td><td>/data/vehicles</td><td>vehicles</td></tr><tr><td>84</td><td>ee4ad9aa-1428-4f06-bed7-64b7541597d4</td><td>20+ Best Watercolor Flowers Tutorials & Videos</td><td>20+ best step by step easy watercolor flowers tutorials & videos on how to paint roses, peonies, hydrangeas, sunflowers, bouquets, & more!</td><td>603000</td><td>A Piece of Rainbow</td><td>Watercolor Paintings For Beginners,Watercolor Art Lessons,Watercolor Painting Tutorials,Watercolor Art Paintings,Floral Paintings,Watercolors,Watercolor Flowers Tutorial,Floral Watercolor,Step By Step Watercolor</td><td>image</td><td>https://i.pinimg.com/originals/09/88/c5/0988c5aad5639570c4920a4ed4ebbad4.jpg</td><td>/data/art</td><td>art</td></tr><tr><td>6237</td><td>0d3def33-b77d-4261-8df7-00d95ab34645</td><td>Farmhouse Friday – Baskets and Bins</td><td>Today for Farmhouse Friday, I picked a topic that's a borderline obsession with me - baskets and bins! I love buying them, upcycling them, and repurposing them, and I use them i… </td><td>85000</td><td>Knick of Time</td><td>Farmhouse Wall Decor,Rustic Wall Decor,Farmhouse Style,Farmhouse Furniture,Rustic Furniture,Furniture Plans,Cottage Farmhouse,Furniture Outlet,Discount Furniture</td><td>image</td><td>https://i.pinimg.com/originals/c0/b4/63/c0b4636ebdac6283b5942d66cfbe2f05.jpg</td><td>/data/home-decor</td><td>home-decor</td></tr><tr><td>10421</td><td>d9e4c12e-5512-4a8f-a1fc-a44ff7b0f90b</td><td>| Make: DIY Projects and Ideas for Makers</td><td>Mustang by fab4fun_be</td><td>400000</td><td>Make:</td><td>Custom Hot Wheels,Hot Wheels Cars,Custom Cars,Mad Max,Hot Rods,Combi Split,Death Race,Classic Toys,Post Apocalyptic</td><td>image</td><td>https://i.pinimg.com/originals/e9/6c/70/e96c70e581ee7b2223440836b83b7140.jpg</td><td>/data/vehicles</td><td>vehicles</td></tr><tr><td>9946</td><td>fd28bf6a-d4fe-4023-b429-d7060ae2b204</td><td>Perfect Scotland Itinerary</td><td>This is the PERFECT Scotland Itinerary #scotland #itinerary</td><td>19000</td><td>Wanderlust Crew</td><td>Europe Travel Tips,European Travel,Travel Guides,Places To Travel,Places To See,Travel Destinations,Traveling Europe,Travel Things,Travelling</td><td>image</td><td>https://i.pinimg.com/originals/64/94/28/649428e50cb668dbf6a868930d8f4f13.jpg</td><td>/data/travel</td><td>travel</td></tr><tr><td>2882</td><td>550e48b3-e95d-4fc4-8dad-d031145dd267</td><td>Name Snowman Preschool Craft and Free Printable</td><td>Preschool kids can practice their names while making a name snowman. Be sure to use the free printable as part of the snowman name craft.</td><td>80000</td><td>Fun-A-Day Preschool Activities</td><td>Preschool Christmas,Kids Christmas,Christmas Gifts,Christmas Activities For Preschoolers,Winter Preschool Crafts,Christmas Projects For Kids,Winter Activities,Christmas Ornaments,Snowman Crafts</td><td>image</td><td>https://i.pinimg.com/originals/fe/7f/03/fe7f03cc199a412c01f39f994084b55a.jpg</td><td>/data/diy-and-crafts</td><td>diy-and-crafts</td></tr><tr><td>8316</td><td>721edca0-c080-47eb-aaf5-9f4f45db2c30</td><td>Spirit Message Circle this Sunday 28th and every last Sunday of month in Cicero, IL</td><td>\"Religion is belief in someone else's experience. Spirituality is having your own experience.\" Deepak Chopra This is one of my core beliefs.</td><td>2000</td><td>Demeraki</td><td>The Words,Deepak Chopra,Spiritual Awakening,Awakening Quotes,Inner Peace,Quotations,Me Quotes,Irish Quotes,Hindu Quotes</td><td>image</td><td>https://i.pinimg.com/originals/f6/7c/3e/f67c3eb652488f06561f8e71a768173d.jpg</td><td>/data/quotes</td><td>quotes</td></tr><tr><td>10624</td><td>e31b313a-162c-4b1c-a2c2-741dedd4d37f</td><td>1964 Jaguar E-Type Series I 3.8-Litre Roadster</td><td>Gooding & Company is recognized the world over as a leading automotive auction house specializing in the finest antique, classic, sports and racing cars.</td><td>1</td><td>Aesop Socrates</td><td>British Sports Cars,Classic Sports Cars,Classic Cars,British Car,Classic Auto,Jaguar Xk,Jaguar E Type,Jaguar Cars,Sport Cars</td><td>image</td><td>https://i.pinimg.com/originals/62/cb/49/62cb49b0d55d2892ba4e5c8b15317048.jpg</td><td>/data/vehicles</td><td>vehicles</td></tr><tr><td>6533</td><td>3ce1d845-3ab3-4a74-9bd6-5bb0d3be380c</td><td>Neutral decor kitchen ideas open shelving and modern vintage farmhouse rustic kitchen renovation</td><td>null</td><td>41000</td><td>Indie.boho.nest-DIY Home office ideas DIY Decor Renovation ideas</td><td>Earthy Kitchen,Boho Kitchen,Home Decor Kitchen,Rustic Kitchen,Kitchen Design,Black Kitchen Decor,Vintage Kitchen Decor,Kitchen Styling,Kitchen Ideas</td><td>multi-video(story page format)</td><td>Image src error.</td><td>/data/home-decor</td><td>home-decor</td></tr><tr><td>8087</td><td>f4400f3c-457a-4056-972d-86af74c3333e</td><td>'Quote - You don't have to be perfect to be amazing' iPhone Case by HelenDesignXO</td><td>Think About Your Life Quotes | HubPages</td><td>1000</td><td>Vinyl Written</td><td>Motivacional Quotes,Quotable Quotes,Wisdom Quotes,Great Quotes,Words Quotes,Funny Quotes,Hard Life Quotes,Best Advice Quotes,Inspiring Quotes On Life</td><td>image</td><td>https://i.pinimg.com/originals/86/fd/d8/86fdd8e1df40d40f7b9319f63da5533d.jpg</td><td>/data/quotes</td><td>quotes</td></tr><tr><td>10786</td><td>45765013-22f3-488a-9d04-da490bcd61e5</td><td>This Gold Custom Porsche Is Sex On Wheels</td><td>Wow.</td><td>130</td><td>Trainman999</td><td>Porsche 356,Porsche 911 Singer,Porsche Autos,Porche 911,Porsche Carrera,Porsche Cars,Singer 911,Porsche Wheels,Porsche Classic</td><td>image</td><td>https://i.pinimg.com/originals/f4/72/d4/f472d495324a79616720ebe02cf2a6d4.png</td><td>/data/vehicles</td><td>vehicles</td></tr><tr><td>10898</td><td>baea0893-6a88-4d35-b2ca-92f049fa1bae</td><td>The Pagani Zonda - Super Car Center</td><td>The Pagani Zonda was first unveiled at the Geneva Motor Show in 1999 and was produced between 1999 and 2011. A number of different versions of the car have</td><td>27000</td><td>Supercar Center</td><td>Nissan Gt R,Nissan Gtr Nismo,Nissan Skyline R33,Gtr R35,Skyline Gtr,Fancy Cars,Cool Cars,Supercars,Sexy Autos</td><td>image</td><td>https://i.pinimg.com/originals/77/e6/52/77e6521fa1b9c4d9077c72d3ed4f78af.jpg</td><td>/data/vehicles</td><td>vehicles</td></tr><tr><td>4336</td><td>745fdb9a-b931-4ac3-b8e6-9ebd7f4cc2dc</td><td>Man Turns Hotel Room into Fairytale Surprise Proposal for His Girlfriend</td><td>Read Harry and Demi's marriage proposal story on howtheyasked.com – the only site that makes you cry (happy tears) daily.</td><td>9</td><td>Kelly Meade</td><td>Romantic Surprises For Him,Romantic Room Surprise,Romantic Birthday,Surprises For Her,Girlfriend Surprises,Girlfriend Proposal,Birthday Surprises For Him,Hotel Room Decoration,Romantic Room Decoration</td><td>image</td><td>https://i.pinimg.com/originals/20/a3/c9/20a3c965bdf480e5b75b81ab29323d67.jpg</td><td>/data/event-planning</td><td>event-planning</td></tr><tr><td>1160</td><td>58c893ae-f20a-4b7b-b39b-33517627da94</td><td>Thicker, Softer Hair with Rosemary, Lavender and Apple Cider Vinegar</td><td>I love plant folklore, and this is one of my favorite wisdoms: \"Keep rosemary at your garden gate and plant lavender for luck\". Rosemary protects the house from ill intent and p… </td><td>50000</td><td>Rebecca (Camp Wander)</td><td>Natural Hair Care,Natural Hair Styles,Diy Beauty,Beauty Hacks,Beauty Tips,Beauty Care,Vinegar Hair Rinse,Apple Cider Vinegar For Hair,Diy Hair Treatment</td><td>image</td><td>https://i.pinimg.com/originals/e8/cb/59/e8cb5921c2d0891d0a17e66faf112020.jpg</td><td>/data/beauty</td><td>beauty</td></tr><tr><td>9052</td><td>a2053881-2de6-4096-9799-2510ec2019a9</td><td>30+ Hot and Bright Sun Tattoo Ideas 2021 - Page 21 of 32 - hairstylesofwomens. com</td><td>If you are looking for a tattoo that improves your day, try a sun tattoo. After all, it is the pure source of life. How can you not feel inspired when it is a bright sun? Today,… </td><td>5</td><td>sav</td><td>Dainty Tattoos,Dope Tattoos,Pretty Tattoos,Body Art Tattoos,Sleeve Tattoos,Tatoos,Cute Little Tattoos,Tattoos Skull,Collar Tattoo</td><td>image</td><td>https://i.pinimg.com/originals/eb/3c/4e/eb3c4eeb7e050fedcaddaa9333ede491.jpg</td><td>/data/tattoos</td><td>tattoos</td></tr><tr><td>684</td><td>b0ad33e9-997a-4388-8c97-7f487f6438e1</td><td>Jellyfish Art Project for Kids</td><td>Watercolor & glue Jellyfish art project. Free step by step tutorial from TheCraftyClassroom.com Perfect for learning mixed media, texture, warm and cool colors, hue and more!</td><td>40000</td><td>The Crafty Classroom</td><td>Primary School Art,Elementary Art,Art School,Kids Watercolor,Watercolor Art Lessons,Art Lessons For Kids,Art For Kids,Kids Art Class,Kindergarten Art</td><td>image</td><td>https://i.pinimg.com/originals/44/08/5c/44085cffbf05ebe21043ce01bbe5dfbb.jpg</td><td>/data/art</td><td>art</td></tr><tr><td>9170</td><td>a7e9f25c-16b9-4c84-93ca-b46f991e2090</td><td>22 Ghost Tattoos That Are Seriously Cute (and Not at All Spooky)</td><td>Nothing shows dedication to Halloween like getting a tattoo to commemorate the holiday. If you want a tiny piece of ink, try one of these ghost designs.</td><td>5000000</td><td>POPSUGAR</td><td>Dope Tattoos,Mini Tattoos,Cute Tiny Tattoos,Pretty Tattoos,Body Art Tattoos,Small Tattoos,Tattoos For Guys,Tatoos,Funky Tattoos</td><td>image</td><td>https://i.pinimg.com/originals/f9/a6/e5/f9a6e5970b4e62915a0b773b63169959.jpg</td><td>/data/tattoos</td><td>tattoos</td></tr><tr><td>3737</td><td>51b1351b-e839-497a-a4e6-52a55af6c1a3</td><td>How to Scaffold Paragraph Writing for Special Education - You Aut-A Know</td><td>Moving from writing sentences to writing paragraphs is a big leap for many of our students. I've found that putting some simple scaffolds in place helps my students become more… </td><td>10000</td><td>You AUT-a Know</td><td>Writing Curriculum,Writing Lessons,Writing Resources,Teaching Writing,Writing Activities,Writing Skills,Kindergarten Writing,Writing Process,Homeschooling</td><td>image</td><td>https://i.pinimg.com/originals/c2/e5/4a/c2e54a9c862a2f9eb9b8dd6b8d0de3b2.jpg</td><td>/data/education</td><td>education</td></tr><tr><td>6378</td><td>c27331a2-2e3a-482c-861d-81b1f89217e5</td><td>Macrame Wall Hanger - H</td><td>This Boho wall hanging tapestry features a unique design that is a must-have in any home with a bohemian theme. Perfect for Home Decoration, Bohemian decoration, Kids Bedroom, S… </td><td>25</td><td>Plex Oasis</td><td>Decoration Photo,Deco Boheme,Boho Room,Boho Bedroom Decor,Bohemian Room Decor,Boho Style Decor,Bohemian Theme,Bedroom Table,Bohemian Style</td><td>image</td><td>https://i.pinimg.com/originals/37/0b/44/370b44c0bf3ee19a64709d71b509ab21.jpg</td><td>/data/home-decor</td><td>home-decor</td></tr><tr><td>5229</td><td>9e01fa38-d1d9-4dfa-8f07-1f36ff6fe0da</td><td>Moxie - A Revolution in Child Development</td><td>Parents: Meet Moxie! ▪️ Created by child development experts ▪️ Promotes emotion regulation ▪️ Helps develop social skills ▪️ Supports building confidence ▪️ Risk-free 30-day ho… </td><td>48</td><td>Embodied, Inc.</td><td>null</td><td>video</td><td>https://i.pinimg.com/videos/thumbnails/originals/e5/5b/94/e55b94ac2d32067a40aa2888deac3a39.0000001.jpg</td><td>/data/finance</td><td>finance</td></tr><tr><td>7528</td><td>fbe53c66-3442-4773-b19e-d3ec6f54dddf</td><td>null</td><td>null</td><td>null</td><td>null</td><td>null</td><td>multi-video(story page format)</td><td>Image src error.</td><td>/data/mens-fashion</td><td>mens-fashion</td></tr><tr><td>2863</td><td>9bf39437-42a6-4f02-99a0-9a0383d8cd70</td><td>25 Super Fun Summer Crafts for Kids - Of Life and Lisa</td><td>Keep the kids busy this summer with these easy diy crafts and projects. Creative and…</td><td>124000</td><td>Of Life & Lisa | Lifestyle Blog</td><td>Summer Crafts For Kids,Fun Crafts For Kids,Summer Kids,Toddler Crafts,Crafts To Do,Diy For Kids,Summer Snow,Diys For Summer,Craft Ideas For Girls</td><td>image</td><td>https://i.pinimg.com/originals/b3/bc/e2/b3bce2964e8c8975387b39660eed5f16.jpg</td><td>/data/diy-and-crafts</td><td>diy-and-crafts</td></tr><tr><td>5730</td><td>1e1f0c8b-9fcf-460b-9154-c775827206eb</td><td>Island Oasis Coupon Organizer</td><td>Description Coupon Organizer in a fun colorful fabric -island oasis, Great Size for the \"basic\" couponer - holds up to 500 coupons with ease, and is made long enough so that you… </td><td>0</td><td>Consuelo Aguirre</td><td>Grocery Items,Grocery Coupons,Care Organization,Coupon Organization,Extreme Couponing,Couponing 101,Life Binder,Save My Money,Love Coupons</td><td>image</td><td>https://i.pinimg.com/originals/65/bb/ea/65bbeaf458907bb079317d8303c4fa0e.jpg</td><td>/data/finance</td><td>finance</td></tr><tr><td>7528</td><td>fbe53c66-3442-4773-b19e-d3ec6f54dddf</td><td>null</td><td>null</td><td>null</td><td>null</td><td>null</td><td>multi-video(story page format)</td><td>Image src error.</td><td>/data/mens-fashion</td><td>mens-fashion</td></tr><tr><td>2863</td><td>9bf39437-42a6-4f02-99a0-9a0383d8cd70</td><td>25 Super Fun Summer Crafts for Kids - Of Life and Lisa</td><td>Keep the kids busy this summer with these easy diy crafts and projects. Creative and…</td><td>124000</td><td>Of Life & Lisa | Lifestyle Blog</td><td>Summer Crafts For Kids,Fun Crafts For Kids,Summer Kids,Toddler Crafts,Crafts To Do,Diy For Kids,Summer Snow,Diys For Summer,Craft Ideas For Girls</td><td>image</td><td>https://i.pinimg.com/originals/b3/bc/e2/b3bce2964e8c8975387b39660eed5f16.jpg</td><td>/data/diy-and-crafts</td><td>diy-and-crafts</td></tr><tr><td>5730</td><td>1e1f0c8b-9fcf-460b-9154-c775827206eb</td><td>Island Oasis Coupon Organizer</td><td>Description Coupon Organizer in a fun colorful fabric -island oasis, Great Size for the \"basic\" couponer - holds up to 500 coupons with ease, and is made long enough so that you… </td><td>0</td><td>Consuelo Aguirre</td><td>Grocery Items,Grocery Coupons,Care Organization,Coupon Organization,Extreme Couponing,Couponing 101,Life Binder,Save My Money,Love Coupons</td><td>image</td><td>https://i.pinimg.com/originals/65/bb/ea/65bbeaf458907bb079317d8303c4fa0e.jpg</td><td>/data/finance</td><td>finance</td></tr><tr><td>8304</td><td>5b6d0913-25e4-43ab-839d-85d5516f78a4</td><td>The #1 Reason You’re Not His Priority Anymore - Matthew Coast</td><td>#lovequotes #matchmaker #matchmadeinheaven #loveyourself #respectyourself</td><td>51000</td><td>Commitment Connection</td><td>Wise Quotes,Quotable Quotes,Words Quotes,Wise Words,Quotes To Live By,Great Quotes,Motivational Quotes,Inspirational Quotes,Funny Quotes</td><td>image</td><td>https://i.pinimg.com/originals/c6/64/ee/c664ee71524fb5a6e7b7b49233f93b43.png</td><td>/data/quotes</td><td>quotes</td></tr><tr><td>8731</td><td>ea760f71-febf-4023-b592-d17396659039</td><td>20 Koi Fish Tattoos For Lucky Men</td><td>Koi fish tattoos are a popular choice for men who want to make a statement, thanks to their rich symbolism and bold design.</td><td>211000</td><td>TheTrendSpotter</td><td>Dr Tattoo,Wörter Tattoos,Pisces Tattoos,Tatoo Art,Dream Tattoos,Dope Tattoos,Mini Tattoos,Finger Tattoos,Body Art Tattoos</td><td>image</td><td>https://i.pinimg.com/originals/8a/0c/0a/8a0c0a7b6236565c519acd41ad1a52c0.jpg</td><td>/data/tattoos</td><td>tattoos</td></tr><tr><td>1313</td><td>44662045-e891-4821-8a19-ebe7eedd371a</td><td>Liquid Lash Extensions Mascara</td><td>Instantly create the look of lash extensions with this award-winning, best-selling mascara that won't clump, flake or smudge. Available in 3 shades!</td><td>43000</td><td>Thrive Causemetics</td><td>null</td><td>video</td><td>https://i.pinimg.com/videos/thumbnails/originals/69/84/e2/6984e20f3e262098fa9c0614c3453254.0000001.jpg</td><td>/data/beauty</td><td>beauty</td></tr><tr><td>4315</td><td>21b59ba9-829d-4c33-8c27-4cd4c56d26b8</td><td>Podcasts for Teachers or Parents of Teenagers</td><td>Podcasts for Teachers or Parents of Teenagers: Teaching teens middle school and high school can feel joyful and rewarding most days, but can also frustrate you with one challeng… </td><td>25000</td><td>Math Giraffe</td><td>Middle School Classroom,High School Students,High School Teachers,Middle School Tips,High School Counseling,Ela Classroom,High School Science,Future Classroom,Google Classroom</td><td>image</td><td>https://i.pinimg.com/originals/50/19/31/501931a27ee4d076658980851b995b2c.jpg</td><td>/data/education</td><td>education</td></tr><tr><td>10794</td><td>c4bd2577-a7bb-4409-bb7a-17d5ed7e1cf1</td><td>TireBuyer</td><td>Nissan GT-R. Sick.</td><td>437</td><td>Ray Uyemura</td><td>Lowrider,Old Vintage Cars,Antique Cars,Austin Martin,Nissan Gtr Black,Jaguar,1959 Cadillac,Cadillac Ct6,Old School Cars</td><td>image</td><td>https://i.pinimg.com/originals/0d/29/9f/0d299f3df020395aa7ce8387f40fbeed.jpg</td><td>/data/vehicles</td><td>vehicles</td></tr><tr><td>5494</td><td>8fb2af68-543b-4639-8119-de33d28706ed</td><td>Dave Ramsey's 7 Baby Steps: What Are They And Will They Work For You</td><td>If you love budgeting, make sure to give Dave Ramsey's 7 Baby Steps a try. Follow these steps to begin your debt snowball, build an emergency fund, invest and reach riches. I ca… </td><td>26000</td><td>Living Low Key | Save Money, Make Money, & Frugal Living</td><td>Financial Peace,Financial Tips,Saving Money Quotes,Total Money Makeover,Budgeting Finances,Money Management,Wealth Management,Personal Finance,Making Ideas</td><td>image</td><td>https://i.pinimg.com/originals/1e/9d/90/1e9d906e4e150e3b95187f3b76ea7c71.png</td><td>/data/finance</td><td>finance</td></tr><tr><td>5069</td><td>b75b6f87-deb3-444f-b29e-ce9161b2df49</td><td>The Vault: Curated & Refined Wedding Inspiration</td><td>Sacramento California Wedding 2 Chic Events & Design Jodi Yorston Photography Wilson Vineyards Barn Miosa Couture Yellow Barn Vineyard Outdoor Candles DIY</td><td>6000000</td><td>Style Me Pretty</td><td>60th Anniversary Parties,Anniversary Decorations,Golden Anniversary,25th Wedding Anniversary,Anniversary Pictures,Anniversary Ideas,Birthday Decorations,Event Planning Design,Event Design</td><td>image</td><td>https://i.pinimg.com/originals/7e/45/90/7e45905fefa36347e83333fd6d091140.jpg</td><td>/data/event-planning</td><td>event-planning</td></tr><tr><td>2923</td><td>52fa3af5-24a4-4ccb-8f17-9c3eb12327ee</td><td>UFO Paper Plate Craft</td><td>A fun space activity for kids. Preshoolers and kindergartners will love making their own alien spacecraft!</td><td>192000</td><td>The Crafting Chicks</td><td>Paper Plate Crafts For Kids,Fun Crafts For Kids,Summer Crafts,Toddler Crafts,Art For Kids,Outer Space Crafts For Kids,Kid Crafts,Space Kids,Back To School Crafts For Kids</td><td>image</td><td>https://i.pinimg.com/originals/6f/e8/aa/6fe8aa405513c6d2f77b5f47d17cdce8.jpg</td><td>/data/diy-and-crafts</td><td>diy-and-crafts</td></tr><tr><td>3089</td><td>88f9227e-88d0-4b1c-b0be-bcfc3028b8e2</td><td>null</td><td>null</td><td>null</td><td>null</td><td>null</td><td>multi-video(story page format)</td><td>Image src error.</td><td>/data/diy-and-crafts</td><td>diy-and-crafts</td></tr><tr><td>6063</td><td>60693727-4927-4bd6-a8c5-096a392d63e6</td><td>41 Gorgeous Fall Decor Ideas For Your Home - Chaylor & Mads</td><td>Beautiful and easy ways to update every room in your home with fall decor. Plus, my favorite finds in fall decor for 2020!</td><td>92000</td><td>Kristen | Lifestyle, Mom Tips & Teacher Stuff Blog</td><td>Fall Home Decor,Autumn Home,Fall Decor Outdoor,Front Porch Fall Decor,Home Decor Ideas,Porch Ideas For Fall,Fall Outdoor Decorating,Decorating Ideas For Fall,Fall Front Doors</td><td>image</td><td>https://i.pinimg.com/originals/e5/ae/dc/e5aedc14ce557e3a69f672e0f8c88f6e.png</td><td>/data/home-decor</td><td>home-decor</td></tr><tr><td>3454</td><td>46bd3f86-b09d-4e29-9033-7ff2df595e51</td><td>What can you use to color resin?</td><td>HELPFUL RESOURCES – Check out my resin colorants resources page here with links to all the products mentioned in this article (and more). Let me know if you have any that you lo… </td><td>6000</td><td>Mixed Media Crafts</td><td>Epoxy Resin Art,Diy Resin Art,Diy Resin Crafts,Resin Molds,Ice Resin,Resin Pour,Diy Epoxy,Diy Resin Painting,Diy Resin Dice</td><td>image</td><td>https://i.pinimg.com/originals/d4/12/78/d4127833023ca32600571ddca16f1556.jpg</td><td>/data/diy-and-crafts</td><td>diy-and-crafts</td></tr><tr><td>7554</td><td>c6fa12f4-0d4a-4b07-a335-5bf9f37f8281</td><td>Craig Style</td><td>imgentleboss: “ - More about men’s fashion at @Gentleboss - GB’s Facebook - ”</td><td>940</td><td>iElylike ..✿◕‿◕✿ஐ✿◕‿◕✿</td><td>Mens Fashion Blog,Look Fashion,Autumn Fashion,Fashion News,Fashion Sale,80s Fashion,Paris Fashion,Runway Fashion,Fashion Trends</td><td>image</td><td>https://i.pinimg.com/originals/e7/6e/8e/e76e8ed6cc838b84a934c6948a5caff7.jpg</td><td>/data/mens-fashion</td><td>mens-fashion</td></tr><tr><td>6145</td><td>82e13a07-db99-43a3-b1c0-89a4b75821da</td><td>HOLIDAY MANTLE DECOR - @AMAZON & @TARGET FINDS</td><td>Holiday mantle decor, Christmas decor, metallic mercury glass style Christmas trees, eucalyptus vine, evergreen pine branches, white neutral holiday decor, cozy mantle for the h… </td><td>83000</td><td>Stylin by Aylin</td><td>Winter Home Decor,Christmas Living Room Decor,Living Room Decor Cozy,Christmas Decor,Cozy Fireplace,Rustic Fireplace Decor,Fireplace Decorations,Rustic Room,House Decorations</td><td>image</td><td>https://i.pinimg.com/originals/9d/82/1a/9d821a80acd8f90c16454e978bd9b115.jpg</td><td>/data/home-decor</td><td>home-decor</td></tr><tr><td>10625</td><td>d31885b7-742a-4e2a-bbb7-ac5f9d334340</td><td>Jaguar Type E</td><td>1937 Jaguar SS100 - 2 1/2 Litre Roadster, one of the most sought after pre-war sports cars</td><td>8000</td><td>hobbyDB</td><td>Jaguar Type E,Jaguar Xk,Jaguar Cars,Jaguar Roadster,Jaguar Sport,Retro Cars,Vintage Cars,Antique Cars,British Sports Cars</td><td>image</td><td>https://i.pinimg.com/originals/26/81/a7/2681a71bd0c8f7fd0ab79c455338a49a.jpg</td><td>/data/vehicles</td><td>vehicles</td></tr><tr><td>2959</td><td>439cac4b-18e8-4aaa-88c5-edb26a701111</td><td>The Cutest Toilet Paper Crafts</td><td>One thing I love about Crafts is how the evolve! These toilet paper rolls are adorable and modern. I love that something as simple as a recycled toilet paper roll can be taken t… </td><td>502000</td><td>CraftGossip.com</td><td>Toilet Paper Roll Crafts,Cardboard Crafts,Diy Paper,Paper Crafting,Toilet Paper Rolls,Cardboard Playhouse,Paper Art,Kids Crafts,Toddler Crafts</td><td>image</td><td>https://i.pinimg.com/originals/c6/cd/0d/c6cd0d04da9cfc11566cfd34eeb1f918.jpg</td><td>/data/diy-and-crafts</td><td>diy-and-crafts</td></tr><tr><td>9875</td><td>782dcbad-ff91-40a6-ba60-216efe29adb7</td><td>European Bucket List: 35 Things NOT To Miss When Traveling Europe</td><td>35 European bucket list destinations for any traveler heading to Europe. From Cinque Terre, Italy to Iceland - there are so many amazing sites to see in Europe.</td><td>28000</td><td>Nicki </td><td>Backpacking Europe,Europe Travel Guide,Travel Guides,Travel Packing,Traveling Europe,Travelling,Travel Backpack,Budget Travel,2 Week Europe Itinerary</td><td>image</td><td>https://i.pinimg.com/originals/71/04/1a/71041ad83ede43d9665741e719c58a86.jpg</td><td>/data/travel</td><td>travel</td></tr><tr><td>2418</td><td>da8745a6-5160-46c4-877d-181d50a729fd</td><td>100 DIY Christmas Centerpieces You'll Love To Decorate Your Home With For The Christmas Season - Hike n Dip</td><td>Here are the best DIY Christmas Centerpieces ideas perfect for your Christmas & holiday season home decor. From Christmas Vignettes to Table Centerpieces.</td><td>500000</td><td>HikenDip</td><td>Farmhouse Christmas Decor,Rustic Christmas,Christmas Time,Vintage Christmas,Xmas,Primitive Christmas Crafts,Christmas Vignette,Indoor Christmas Decorations,Diy Christmas Ornaments</td><td>image</td><td>https://i.pinimg.com/originals/aa/6d/0f/aa6d0f44d7c1c96b998cb9aa6c4446b8.png</td><td>/data/christmas</td><td>christmas</td></tr><tr><td>3156</td><td>fa6e31a4-18c2-4eca-a6d8-e903eee2c2a4</td><td>Handprint Reindeer Ornaments - Crafty Morning</td><td>This post may contain affiliate links, read our Disclosure Policy for more information. As an Amazon Associate I earn from qualifying purchases, thank you! Make some cute handpr… </td><td>892000</td><td>Michelle {CraftyMorning.com}</td><td>Christmas Gifts For Parents,Christmas Decorations For Kids,Christmas Crafts For Toddlers,Preschool Christmas,Christmas Crafts For Gifts,Christmas Activities,Toddler Crafts,Kids Christmas,Christmas Feeling</td><td>image</td><td>https://i.pinimg.com/originals/ff/fe/38/fffe384f3ec18a0d87cb2d80cc8c1499.jpg</td><td>/data/diy-and-crafts</td><td>diy-and-crafts</td></tr><tr><td>428</td><td>610b3f83-9fe0-469d-946c-d16b577fca71</td><td>Fashion Designer Isaac Mizrahi’s Updated 1930s New York City Apartment</td><td>Fashion designer Issac Mizrahi’s Greenwich Village home is an amalgamation of three apartments that was 20 years in the making</td><td>3000000</td><td>Architectural Digest</td><td>Modern Art,Contemporary Art,Contemporary Kitchens,Contemporary Bedroom,New York City Apartment,Manhattan Apartment,Art Moderne,Architectural Digest,Painting Inspiration</td><td>image</td><td>https://i.pinimg.com/originals/f4/6c/54/f46c546a2e480022a42d842b7dca157e.jpg</td><td>/data/art</td><td>art</td></tr><tr><td>7343</td><td>b8c63a95-6fe8-4d7f-9455-1eef3462fee0</td><td>This Fashion Rule Is Nonsense, And We Should All Forget About It</td><td>Black And Brown Outfits You Need To Try This Fall Season. The trick with black and brown outfits is to know how to combine colors, fabrics, and shapes to get a cohesive look. So… </td><td>1000000</td><td>Cultura Colectiva</td><td>Winter Outfits Men,Stylish Mens Outfits,Casual Outfits,Men Casual,Smart Casual,Outfits For Men,Fall Outfits,Mens Winter Boots,Business Casual Men</td><td>image</td><td>https://i.pinimg.com/originals/3e/49/09/3e4909c0ccc4dbba3cad83d97eab4a61.png</td><td>/data/mens-fashion</td><td>mens-fashion</td></tr><tr><td>2074</td><td>86ed09a7-842d-496d-9501-010c654eb340</td><td>35 Christmas Decorating Ideas We Bet You Haven't Thought Of</td><td>20 Christmas Decorating Ideas We Bet You Haven't Thought Of via @PureWow</td><td>868000</td><td>PureWow</td><td>Holiday Centerpieces,Xmas Decorations,Centerpiece Ideas,Table Centerpieces,Valentine Decorations,Wedding Centerpieces,Outdoor Decorations,Christmas Centerpieces With Candles,Christmas Dining Table Decorations</td><td>image</td><td>https://i.pinimg.com/originals/e9/b9/f0/e9b9f01cc3b2cf41948b45854335396c.jpg</td><td>/data/christmas</td><td>christmas</td></tr><tr><td>9979</td><td>2b2abc85-fc51-481f-8ae6-17681993da28</td><td>Paris in the Summer. 10 fun things to do in Paris in the Summertime • Petite in Paris</td><td>Are you traveling to Paris during the summer? Find out what to do in Paris, France during the summer. Fun summertime activities in Paris. Enjoy the incredible outdoors when trav… </td><td>3000</td><td>Petite in Paris</td><td>Torre Eiffel Paris,Tour Eiffel,Picnic In Paris,Hello France,Voyage Europe,Destination Voyage,Beautiful Places To Travel,Travel Aesthetic,Paris Travel</td><td>image</td><td>https://i.pinimg.com/originals/6c/4c/90/6c4c90bba27ebf8c8bfe4c1acfb9f07a.jpg</td><td>/data/travel</td><td>travel</td></tr><tr><td>10138</td><td>927c4658-cc3f-4b92-9b5c-70743d0c238d</td><td>14 Amazing Things To Do In Costa Rica | Volcanoes, Waterfalls, Wildlife And More</td><td>This Costa Rica itinerary is the ultimate guide to spending two weeks in Costa Rica. Find out about visiting La Fortuna, Arenal, Monteverde, Naranjo, Corcovado National Park, Or… </td><td>10000</td><td>Wanderlust Chloe ✈️ Travel guides, inspo and adventure travel ✈️</td><td>Costa Rica Travel,Rio Celeste Costa Rica,Dream Vacations,Vacation Spots,Vacation Travel,Travel Pictures,Travel Photos,Fortuna Costa Rica,Costa Rica Pictures</td><td>image</td><td>https://i.pinimg.com/originals/30/93/cb/3093cb01d9de2d125fda8ba5e3e41946.jpg</td><td>/data/travel</td><td>travel</td></tr><tr><td>9672</td><td>1a5050a4-ac82-472c-aeff-3457de8bbee9</td><td>Lake Moraine, Banff, Canada</td><td>On our Calgary to Vancouver road trip we got to spend time in Banff, Canada. We visited the stunning Lake Moraine as well as Lake Louise and plenty of other of Canada's natural… </td><td>7000</td><td>Travel Mad Mum</td><td>Beautiful Places To Travel,Cool Places To Visit,Beautiful Roads,Beautiful Scenery,Wonderful Places,Lac Moraine,Moraine Lake,Lac Louise,Natur Wallpaper</td><td>video</td><td>https://i.pinimg.com/videos/thumbnails/originals/57/9d/52/579d52242ae5609978c754d393e44e81.0000001.jpg</td><td>/data/travel</td><td>travel</td></tr><tr><td>8653</td><td>24b1343c-4d86-4705-8ec9-7f1f2df2d77e</td><td>Unique Women Tattoos Ideas 2020</td><td>We welcome you to our latest collection of Beautiful Tattoo Ideas For Women. Check out and get inspired by the most beautiful design for yourself.</td><td>21000</td><td>ALL FOR WOMAN</td><td>Small Back Tattoos,Small Girl Tattoos,Little Tattoos,Tattoo Girls,Mini Tattoos,Tattoo Small,Back Tattoo Women,Tattoo On Back,Girl Back Tattoos</td><td>image</td><td>https://i.pinimg.com/originals/fa/cf/7c/facf7cd752a4bc7c09faaa8925ab80b1.jpg</td><td>/data/tattoos</td><td>tattoos</td></tr><tr><td>8887</td><td>5df9f6e5-07f5-4ce8-a82e-96586bbc05d8</td><td>25 Ultra Sexy Back Tattoo Ideas For Girls</td><td>Tattoos are one of the most efficient ways through which one decides to express themselves…</td><td>4000</td><td>RapidLeaks</td><td>Dream Tattoos,Body Art Tattoos,New Tattoos,Small Tattoos,Cross Tattoos,Random Tattoos,Fashion Tattoos,Bird Tattoos,Fitness Tattoos</td><td>image</td><td>https://i.pinimg.com/originals/ab/8e/50/ab8e505b04d4abc8f23e273c15f8a65d.jpg</td><td>/data/tattoos</td><td>tattoos</td></tr><tr><td>7922</td><td>a584581c-1b38-4731-a1cc-f36115ecf229</td><td>45 Top Life Quotes School Did Not Teach You</td><td>summcoco gives you inspiration for the women fashion trends you want. Thinking about a new look or lifestyle? This is your ultimate resource to get the hottest trends. 45 Top Li… </td><td>306000</td><td>Sumcoco | Decor Ideas, Hairstyles, Nails Fashion Advice</td><td>Life Quotes Love,Inspirational Quotes About Love,Mood Quotes,Motivational Quotes,Tears Quotes,Quotes About Sadness,Deep Quotes About Life,Quotes Quotes,Quote Life</td><td>image</td><td>https://i.pinimg.com/originals/bb/c0/e6/bbc0e6a797079505f11ac12bcb0b8c66.jpg</td><td>/data/quotes</td><td>quotes</td></tr><tr><td>1014</td><td>9ac94307-bb27-410e-b554-0a0ab6c19847</td><td>Hairstyles & Beauty</td><td>Untitled</td><td>0</td><td>Grecia Perales</td><td>Hair Inspo,Hair Inspiration,Motivation Inspiration,Cl Rapper,Foto Glamour,Kreative Portraits,Classy Aesthetic,Pretty Hairstyles,Hair Looks</td><td>image</td><td>https://i.pinimg.com/originals/af/c4/59/afc459bd6e1fd8f9aef212504afebf3a.jpg</td><td>/data/beauty</td><td>beauty</td></tr><tr><td>4913</td><td>4d2d79c6-9ca8-46c9-a38e-931c5d967804</td><td>How to Work From Home as an Event Planner</td><td>Do you love planning parties? Do you want to work-at-home? This post covers everything you need to know about becoming a home-based event planner!</td><td>110000</td><td>The Work at Home Woman</td><td>Event Planning Tips,Event Planning Business,Party Planning,Business Ideas,Craft Business,Business Chic,Business Inspiration,Business Goals,Business Opportunities</td><td>image</td><td>https://i.pinimg.com/originals/4d/a3/a4/4da3a4730418239f1b43ce81fb032c15.jpg</td><td>/data/event-planning</td><td>event-planning</td></tr><tr><td>4137</td><td>bf275054-4464-448b-9143-1bf101aa366d</td><td>15 Essential Classroom Items For First Year Teachers / First Year Teacher Must Haves</td><td>15 Essential Classroom Items For First Year Teachers / First Year Teacher Must Haves</td><td>5000</td><td>Write Your Story | Budgeting, Healthy Lifestyle, Faith</td><td>1st Year Teachers,First Year Teaching,First Grade Teachers,Elementary Teacher,Montessori Elementary,Teaching Reading,History Teachers,High School Classroom,First Grade Classroom</td><td>image</td><td>https://i.pinimg.com/originals/4b/b9/a8/4bb9a85f609a8384ed9c9ab14e7bcea0.jpg</td><td>/data/education</td><td>education</td></tr><tr><td>7166</td><td>4a844b03-e161-47a1-904b-591eb5dc4fb1</td><td>The Killers - Mr. Brightside - Women's T-Shirt - Heather Dark Grey / S</td><td>Women's T-shirt. Design inspired by the rock band The Killers' hit \"Mr. Brightside\". One of the greatest song from the album Hot Fuss released in 2004. Soft and light, 100% cott… </td><td>27</td><td>Mala Rock | Rock T-shirts</td><td>Mr Brightside,Rock T Shirts,Greatest Songs,Timeless Classic,Rock Bands,Album,T Shirts For Women,Inspired,Hot</td><td>image</td><td>https://i.pinimg.com/originals/8c/42/39/8c42391d35fcad51a4a79f7cd81bf26d.jpg</td><td>/data/mens-fashion</td><td>mens-fashion</td></tr><tr><td>9546</td><td>efd5b2d6-2f69-40cd-bb59-41f18c089e52</td><td>20 Amazing Trips to Take in Your Twenties!</td><td>The best trips to take when you are young!</td><td>89000</td><td>The World Pursuit Travel Website</td><td>Fun Places To Go,Beautiful Places To Travel,Best Places To Travel,Travel Jobs,Holiday Places,Future Travel,Travel Around The World,Adventure Travel,Travel Photos</td><td>video</td><td>https://i.pinimg.com/videos/thumbnails/originals/81/97/c1/8197c1beef8bcb19bea5d8b422211f34.0000001.jpg</td><td>/data/travel</td><td>travel</td></tr><tr><td>2411</td><td>4e11801e-7a64-4f1e-90dd-e900677595c5</td><td>The Sweetest Gingerbread House Ornaments Kids Can Make</td><td>Transform mini terra cotta pots into the sweetest gingerbread house ornaments! Kids will love making this adorable Christmas craft to hang on the tree.</td><td>20000</td><td>Projects with Kids</td><td>Noel Christmas,Diy Christmas Ornaments,Homemade Christmas,Simple Christmas,Gingerbread Ornaments,Christmas Gingerbread,Gingerbread Houses,Preschool Christmas,Ornaments Ideas</td><td>image</td><td>https://i.pinimg.com/originals/13/28/09/1328097d7c290d1bf8642b01a6ba1c6c.jpg</td><td>/data/christmas</td><td>christmas</td></tr><tr><td>9590</td><td>b849e976-52f6-45d7-8b25-51559318f167</td><td>Top 20 Things To See And Do In Ireland</td><td>Best spots to see for travel through Ireland!</td><td>130000</td><td>Fun Life Crisis</td><td>Vacation Ideas,Vacation Spots,Emerald Isle,London England,Travel Guides,Travel Tips,Travel Hacks,Travel Packing,Places To Travel</td><td>image</td><td>https://i.pinimg.com/originals/c7/50/d3/c750d36524856873d64406652d69b4fb.png</td><td>/data/travel</td><td>travel</td></tr><tr><td>2698</td><td>73f16302-4871-486a-8836-947530526337</td><td>DIY Dollar Tree Valentine's Day Wreath</td><td>DIY Dollar Store Valentine’s Day Heart Wreath Decoration. There are so many great Valentine crafts at the Dollar Tree right now! During our last trip, we picked up a few supplie… </td><td>9000</td><td>South Lumina Style</td><td>Valentine Day Wreaths,Valentines Day Hearts,Valentines Day Decorations,Valentine Day Crafts,Holiday Crafts,Diy Christmas,Christmas Wreaths,Valentine Tree,Printable Valentine</td><td>image</td><td>https://i.pinimg.com/originals/dc/f6/8a/dcf68adcc63c339c24fa5664f1115994.png</td><td>/data/diy-and-crafts</td><td>diy-and-crafts</td></tr><tr><td>4508</td><td>9064f4a2-2753-476c-815e-db360f45a93e</td><td>Custom Event and Shop Neon Sign Lights - Event & Shop</td><td>Personalize your event or shop with a customized neon sign. Make a statement with your own custom vibes! This light is 32 -40 inches (80cm-100cm) if you need something bigger, p… </td><td>111</td><td>Life of Neon | Custom Neon Light Signs | Home Decor Wall Art</td><td>Our Wedding,Wedding Venues,Dream Wedding,Wedding Cakes,Church Wedding,Wedding Flowers,Lace Wedding,Wedding Rings,Wedding Dresses</td><td>image</td><td>https://i.pinimg.com/originals/e9/c0/7c/e9c07cf0cf16cab23764a36718ab76c1.jpg</td><td>/data/event-planning</td><td>event-planning</td></tr><tr><td>831</td><td>5e65914d-9f58-4ff1-9676-658e426e8ce5</td><td>creating mixed-media faces tutorial</td><td>Free quick inspirational video on creating a mixed media face with acrylic, collage, stenciling and simple techniques. Come on over to watch</td><td>27000</td><td>Shawn Petite</td><td>Collage Kunst,Paper Collage Art,Collage Art Mixed Media,Mixed Media Painting,Mixed Media Canvas,Canvas Collage,Art Collages,Wall Canvas,Canvas Art</td><td>video</td><td>https://i.pinimg.com/videos/thumbnails/originals/05/86/a4/0586a4116e1fc34efc25e064ccd123e8.0000001.jpg</td><td>/data/art</td><td>art</td></tr><tr><td>5076</td><td>fa3af29c-dc78-4eed-a4c5-52a407ea04c0</td><td>Quiz: Test Your Event IQ! - Pointers For Planners</td><td>So you're thinking of getting your event planner certification, but how much do you REALLY know about event planning? Event planners need to be knowledgeable and able to answer… </td><td>5000</td><td>QC Career School</td><td>Diy Wedding Food,Best Wedding Makeup,Wedding Events,Wedding Tips,Wedding Stuff,Weddings,Event Planning Business,Business Events,Wedding Makeup Tutorial</td><td>image</td><td>https://i.pinimg.com/originals/6f/19/bc/6f19bce24921bf843540fc04da9eb6bf.jpg</td><td>/data/event-planning</td><td>event-planning</td></tr><tr><td>10663</td><td>d5208c16-82ae-4fd1-87f0-36e5ef789412</td><td>21+ Classic Car Picture of the 1950s - Vintagetopia</td><td>There are a lot of options of places to stay so you probably only have to book the initial one so you know the best place to land from the airport</td><td>171000</td><td>vintagetopia</td><td>Old Classic Cars,Classic Trucks,Old Vintage Cars,Antique Cars,Vintage Trucks,Antique Trucks,Cadillac,Convertible,Mustang</td><td>image</td><td>https://i.pinimg.com/originals/e9/01/4d/e9014d537dd2b81c606e8466cef3904c.jpg</td><td>/data/vehicles</td><td>vehicles</td></tr><tr><td>5468</td><td>91ee49f6-0070-4270-ba19-fde88ba51c91</td><td>Budgets, Spouses & Making It Work! - Tshanina Peterson</td><td>Don't fight about budgets and money with your spouse! Here are a few tips that we've found that make it work in our marriage!</td><td>313</td><td>Annamarie Hilton</td><td>Ways To Save Money,Money Tips,Money Saving Tips,How To Make Money,Managing Money,Saving Time,College Fund,Scholarships For College,Education College</td><td>image</td><td>https://i.pinimg.com/originals/37/d5/82/37d58296bcef3471a633c76b89d8625e.jpg</td><td>/data/finance</td><td>finance</td></tr><tr><td>205</td><td>f4afd543-b9fe-44c3-8064-f2198faa1372</td><td>DIY Abstract Heart Painting and a Fun Paint Party</td><td>Use our easy step by step tutorial to create a DIY abstract heart painting on any canvas size. Lots of inspiration to help you choose colors.</td><td>410000</td><td>The Creativity Exchange</td><td>Painting & Drawing,Watercolor Paintings,Original Paintings,Owl Watercolor,Acrylic Paintings,Owl Art,Bird Art,Beginner Painting,Animal Paintings</td><td>image</td><td>https://i.pinimg.com/originals/33/85/f8/3385f82ee5e8ecdcccdf798bdcbee3d2.jpg</td><td>/data/art</td><td>art</td></tr><tr><td>7790</td><td>9cd89fb9-d1af-4e66-85ca-c9d656c918b4</td><td>50 Heart Touching Sad Quotes That Will Make You Cry</td><td>Are you looking for some heart touching sad quotes and sayings; Here we have collected for you 50 best heart touching sad quotes..</td><td>112</td><td>AnnaLee Kick</td><td>Crush Quotes For Girls,Sad Crush Quotes,Hurt Quotes,Love Me Quotes,Mood Quotes,Quotes To Live By,Life Quotes,Quotes Quotes,Sad Quotes That Make You Cry</td><td>image</td><td>https://i.pinimg.com/originals/0c/0f/40/0c0f408d96458080e0c82adb50be8e8f.jpg</td><td>/data/quotes</td><td>quotes</td></tr><tr><td>8606</td><td>71757040-bfc8-4631-9cac-22801e61d9e3</td><td>30+ Eagle Tattoos Ideas for Women</td><td>summcoco gives you inspiration for the women fashion trends you want. Thinking about a new look or lifestyle? This is your ultimate resource to get the hottest trends. 30+ Eagle… </td><td>306000</td><td>Sumcoco | Decor Ideas, Hairstyles, Nails Fashion Advice</td><td>White Bird Tattoos,Rose Tattoos,Flower Tattoos,Tattoo Black,Bird And Flower Tattoo,Tattoo Floral,Mini Tattoos,Flower Art,Girls With Sleeve Tattoos</td><td>image</td><td>https://i.pinimg.com/originals/8d/c6/ed/8dc6ed0b212393187a14c7d07a88060f.png</td><td>/data/tattoos</td><td>tattoos</td></tr><tr><td>9759</td><td>d105eb6e-0f9f-46e7-8d02-d24b62f6ae90</td><td>8 Best Greek Islands You Have To Visit - TheFab20s</td><td>Although you'd think Greek islands are fairly similar, you'd be completely wrong! Each island has it's own personality and appeal. Here are the 8 Best Greek Islands to visit, es… </td><td>42000</td><td>TheFab20s | Travel+Food+DIY+Listicles</td><td>Greek Islands To Visit,Best Greek Islands,Greece Islands,Cool Places To Visit,Places To Go,Best Places In Portugal,Copenhagen Travel,Paros Island,Santorini Island</td><td>image</td><td>https://i.pinimg.com/originals/06/1d/ce/061dce38929dec8e74844442116bea4a.jpg</td><td>/data/travel</td><td>travel</td></tr><tr><td>719</td><td>d7c53e34-9540-4f48-a31b-89b6ed1852bb</td><td>10 Art Sub Lessons that only need a Pencil</td><td>10 art sub lessons that only need a pencil. Cover lessons for art teachers. Make the perfect art sub lessson folder with this amazing resources.</td><td>25000</td><td>The Arty Teacher</td><td>Art Lessons For Kids,Art Lessons Elementary,Art For Kids,Art Sub Plans,Art Lesson Plans,Art Substitute Plans,High School Art,Middle School Art,Primary School Art</td><td>image</td><td>https://i.pinimg.com/originals/ee/a8/78/eea878911033897d981a69d9f6b2fb7c.png</td><td>/data/art</td><td>art</td></tr><tr><td>1704</td><td>5fbf9863-fb79-477c-a5b6-540c3020a55f</td><td>Christmas Trees From Pallet Wood | Holiday DIY</td><td>Christmas Trees From Pallet Wood | Holiday DIY: Deck the yard with some fun outdoor Christmas Trees! We made these merry and bright decorations from two old pallets we had lying… </td><td>3000000</td><td>Instructables</td><td>Pallet Wood Christmas Tree,Wooden Christmas Crafts,Diy Christmas Tree,Christmas Projects,Holiday Crafts,Wooden Xmas Trees,Different Christmas Trees,Pallet Tree,Christmas Kitchen</td><td>image</td><td>https://i.pinimg.com/originals/64/7b/ca/647bca35169b7c144604116c64bcba8a.png</td><td>/data/christmas</td><td>christmas</td></tr><tr><td>2482</td><td>08604f20-fa17-4b9a-9949-781717eca6cd</td><td>FORNT PORCH CHRISTMAS DECORATING IDEAS</td><td>Christmas decorating ideas for porches. Beautiful holiday decor ideas for front porches both small and large. Outdoor decorations like sleds, lanterns, Christmas trees, wreaths,… </td><td>46000</td><td>Life on Summerhill | Home, Holiday Decor & DIY Website</td><td>Diy Christmas Decorations For Home,Farmhouse Christmas Decor,Christmas Home,Christmas Holidays,Christmas Front Porches,How To Decorate For Christmas,Christmas Porch Ideas,Christmas Decorating Ideas,Large Outdoor Christmas Decorations</td><td>video</td><td>https://i.pinimg.com/videos/thumbnails/originals/40/83/f5/4083f5b4971bf235f89a4784ab87271e.0000001.jpg</td><td>/data/christmas</td><td>christmas</td></tr><tr><td>8930</td><td>a2999c28-f7b2-4577-af87-49d21d6d8a18</td><td>135 Sunflower Tattoo Ideas - [Best Rated Designs in 2021]</td><td>We have put together the Ultimative Sunflower Tattoo Collection in 2020. Check out our highest rated handpicked Sunflower designs here!</td><td>800000</td><td>Next Luxury</td><td>Sunflower Tattoo Sleeve,Sunflower Tattoo Shoulder,Sunflower Tattoo Small,Sunflower Tattoos,Sunflower Tattoo Design,Shoulder Tattoo,Sunflower Mandala Tattoo,Sunflower Tattoo Meaning,Form Tattoo</td><td>image</td><td>https://i.pinimg.com/originals/18/de/6c/18de6c81a8637e224c7d63dce1414ceb.jpg</td><td>/data/tattoos</td><td>tattoos</td></tr><tr><td>7294</td><td>9d8409ef-bea7-4133-a021-c58b9c042210</td><td>Foolproof Fall Fashion For Men You'll Love</td><td>Looking for the coolest fall fashion for men this season? Click to read this article on fall fashion for men to look sharp on LLEGANCE.</td><td>28000</td><td>LLEGANCE | Workwear Fashion Woman Advice For Driven Professionals</td><td>Fashion 90s,Autumn Fashion,Fashion Ideas,Trendy Fashion,Fashion Photo,Fashion Outfits,Fashion Trends,Urban Fashion Men,Men's Casual Fashion</td><td>image</td><td>https://i.pinimg.com/originals/4c/bf/2d/4cbf2d6e04d2502612169220553f4cef.jpg</td><td>/data/mens-fashion</td><td>mens-fashion</td></tr><tr><td>808</td><td>23f67e42-db9f-4aae-8b82-cbec64ad9f4d</td><td>Chalk Pastel Hot Chocolate Art Project</td><td>Kids will use chalk pastels and black paper to create this bold and bright hot chocolate art project! Easy to follow tutorial included.</td><td>20000</td><td>Projects with Kids</td><td>Hot Chocolate Art,Chocolate Crafts,Art Activities For Kids,Preschool Art,Preschool Winter,Christmas Activities,Winter Art Projects,Clay Art Projects,Chalk Pastel Art</td><td>image</td><td>https://i.pinimg.com/originals/5a/d3/82/5ad38202cf8acb022cb8f46ce2a78ad6.jpg</td><td>/data/art</td><td>art</td></tr><tr><td>771</td><td>a5021766-a8aa-4dc7-9857-4da6b8e3dc1a</td><td>African Sunset Shadow Tracing Art - Taming Little Monsters</td><td>Use your mini world figures to create this beautiful African sunset. Your kids will love learning about shadows, angles and distortion in this fun art and STEM activity for kids.</td><td>4000</td><td>Taming Little Monsters - Fun Activities for Kids</td><td>African Art Projects,Cool Art Projects,Projects For Kids,African Art For Kids,African Crafts Kids,Art Club Projects,Art Education Projects,Tracing Art,African Sunset</td><td>image</td><td>https://i.pinimg.com/originals/e3/aa/35/e3aa350f8f104d0e59f26d7f17ea7461.png</td><td>/data/art</td><td>art</td></tr><tr><td>7528</td><td>fbe53c66-3442-4773-b19e-d3ec6f54dddf</td><td>null</td><td>null</td><td>null</td><td>null</td><td>null</td><td>multi-video(story page format)</td><td>Image src error.</td><td>/data/mens-fashion</td><td>mens-fashion</td></tr><tr><td>2863</td><td>9bf39437-42a6-4f02-99a0-9a0383d8cd70</td><td>25 Super Fun Summer Crafts for Kids - Of Life and Lisa</td><td>Keep the kids busy this summer with these easy diy crafts and projects. Creative and…</td><td>124000</td><td>Of Life & Lisa | Lifestyle Blog</td><td>Summer Crafts For Kids,Fun Crafts For Kids,Summer Kids,Toddler Crafts,Crafts To Do,Diy For Kids,Summer Snow,Diys For Summer,Craft Ideas For Girls</td><td>image</td><td>https://i.pinimg.com/originals/b3/bc/e2/b3bce2964e8c8975387b39660eed5f16.jpg</td><td>/data/diy-and-crafts</td><td>diy-and-crafts</td></tr></tbody></table></div>"
      ]
     },
     "metadata": {
      "application/vnd.databricks.v1+output": {
       "addedWidgets": {},
       "aggData": [],
       "aggError": "",
       "aggOverflow": false,
       "aggSchema": [],
       "aggSeriesLimitReached": false,
       "aggType": "",
       "arguments": {},
       "columnCustomDisplayInfos": {},
       "data": [
        [
         8610,
         "1f1db6e4-45a4-46a8-a52b-38adea2646f7",
         "Sabrina Carpenter Got Her Very First Tattoo, and It's a Reference to Her \"Lucky\" Life",
         "The \"Work It\" star just got her first tiny tattoo by celebrity tattoo artist Dr. Woo, and the design is a reference to her \"lucky\"",
         5000000,
         "POPSUGAR",
         "Petite Tattoos,Dainty Tattoos,Cute Tattoos,Small Tattoos,Tatoos,Small Feminine Tattoos,Grace Tattoos,Hip Tattoo Small,Hidden Tattoos",
         "image",
         "https://i.pinimg.com/originals/5a/45/ad/5a45adc8361768eb312c4d16d4db45f9.jpg",
         "/data/tattoos",
         "tattoos"
        ],
        [
         9014,
         "45c2e92a-5daf-40f3-9732-771c186c0757",
         "75 More Small Tattoo Ideas from Playground Tattoo - Crestfox",
         "Hi everyone! My last small tattoo ideas post was really popular on Pinterest, so I decided to put together this post with even more tiny tattoo ideas. Just like the other post,… ",
         17000,
         "Sarah Wahl | Crestfox",
         "Little Tattoos,Mini Tattoos,Body Art Tattoos,Sleeve Tattoos,Tatoos,Flower Tattoos,White Tattoos,Arrow Tattoos,Word Tattoos",
         "image",
         "https://i.pinimg.com/originals/b5/72/b5/b572b5641d4efd2e9a13de2506b9e721.png",
         "/data/tattoos",
         "tattoos"
        ],
        [
         8433,
         "61ffdc64-3bfa-4c53-a9f0-9bc761514da5",
         "Relationship Rules",
         "Relationship Rules is a modern-age lifestyle/love blog that discusses everything from breakups to being amazing parents.",
         8,
         "Kim Hefner",
         "Now Quotes,Real Quotes,Words Quotes,Life Quotes,I Trust You Quotes,I Needed You Quotes,Sayings,The Lucky One Quotes,Losing Trust Quotes",
         "image",
         "https://i.pinimg.com/originals/da/d2/c4/dad2c43f1a4d7693a746758932139db0.webp",
         "/data/quotes",
         "quotes"
        ],
        [
         10567,
         "cf1e3bef-8a03-4b66-b19a-50d3c7d13f9a",
         "Yessir",
         null,
         233,
         "Louisiana_Redneck",
         "Dually Trucks,Lifted Chevy Trucks,Diesel Trucks,Pickup Trucks,Chevy Trucks Older,Old Ford Trucks,Truck Drivers,Jeep Pickup,Chevrolet Silverado",
         "multi-video(story page format)",
         "https://i.pinimg.com/videos/thumbnails/originals/d4/dd/de/d4ddde53e277c155dc72b336ec73a40e.0000001.jpg",
         "/data/vehicles",
         "vehicles"
        ],
        [
         6892,
         "ebf6b77f-0656-4297-92a4-f37f48f6cc44",
         "Giuseppe Leonardi (@giuse_leonardi) • Instagram photos and videos",
         "8 Followers, 11 Following, 0 Posts - See Instagram photos and videos from Giuseppe Leonardi (@giuse_leonardi)",
         19,
         "Roberto Rafael Ovalle Echeverria",
         "Der Gentleman,Gentleman Style,Lace Converse Shoes,Glitter Shoes,Swag Shoes,Fashion Shoes,Mens Fashion,Fashion Tips,Fashion Menswear",
         "image",
         "https://i.pinimg.com/originals/bb/18/6b/bb186bd58c4bc65b9036f874938a351b.jpg",
         "/data/mens-fashion",
         "mens-fashion"
        ],
        [
         2016,
         "ea82682c-5186-44fa-8b4d-9b4f6b74739e",
         "Christmas Home Tour",
         "Hi friends, It’s been a little while since I’ve published a blog post and a lot has happened in the last year for me and my family! My husband and I welcomed boy/girl twins into",
         12000,
         "Live Oak Nest",
         "French Country Christmas,Country Christmas Decorations,Farmhouse Christmas Decor,Xmas Decorations,Christmas Home,Christmas Ideas,Christmas Mantle Decorations,Cottage Christmas Decorating,Christmas Fireplace Mantels",
         "image",
         "https://i.pinimg.com/originals/a5/48/c6/a548c6175e16ff33dc25c983c8e3514c.jpg",
         "/data/christmas",
         "christmas"
        ],
        [
         1128,
         "c839f3ff-0e34-40be-9209-63f0b2c285fc",
         "8 innovative drugstore beauty products to try in 2018",
         "Celebrity beauty experts love these innovative drugstore beauty products.",
         426000,
         "TODAY Show",
         "Face Care,Skin Care,Facial Therapy,Facial Steamer,Spa Day At Home,Beauty Skin,Clean Beauty,Beauty Care,Natural Beauty",
         "image",
         "https://i.pinimg.com/originals/32/fc/92/32fc925c7fda3259e337c14aa8fdfc4d.jpg",
         "/data/beauty",
         "beauty"
        ],
        [
         9608,
         "7eb7a087-8889-4eae-9ad6-6d71ad7b09ad",
         "Highlights of Scandinavia: 10 Days Itinerary in Denmark, Sweden and Norway",
         "Follow our 10 days itinerary that takes you from Copenhagen to Oslo to Stockholm. From cosmopolitan Sweden to Denmark, the Wild West of Scandinavia to the fjords & valleys of No… ",
         78,
         "Anywhr",
         "Travel To Sweden,Denmark Travel,Norway Travel,Beautiful Places To Travel,Cool Places To Visit,Places To Go,Cruise Travel,Summer Travel,Sweden Holidays",
         "image",
         "https://i.pinimg.com/originals/d0/e1/c7/d0e1c775d25ba92489aa134628be7611.png",
         "/data/travel",
         "travel"
        ],
        [
         10678,
         "e1ca5651-2047-4711-9665-3fd853aac88b",
         "This Guy Transformed A 1961 VW Beetle Deluxe Into A Black Matte Roadster",
         "It should come as no surprise that people love the VW Beetle and many honor it by converting the car into an even cooler version, just like designer Danni Koldal did with his bl… ",
         2000000,
         "Bored Panda",
         "Custom Trucks,Custom Cars,Vw Coccinelle Cabriolet,Mclaren P1 Black,Bmw R65,Jetta Vw,Carros Vw,Vw Beetle Convertible,Kdf Wagen",
         "image",
         "https://i.pinimg.com/originals/42/3b/6a/423b6a354062b0ee9c844ee4854656a4.jpg",
         "/data/vehicles",
         "vehicles"
        ],
        [
         7954,
         "e99cc6c5-0f3d-401e-9d20-e0d625b30038",
         "150+ Best Love Quotes That'll Make Anyone Believe In Love",
         "Finding new, different ways to say, 'I love you' can be tough. Here are 150+ of the best love quotes for him or her to express what loving and being loved means.",
         942000,
         "YourTango",
         "Love Quotes For Him Cute,Life Quotes Love,Best Love Quotes,Cute Quotes,Quotes To Live By,Favorite Quotes,Top Quotes,Hope Love Quotes,Cowboy Love Quotes",
         "image",
         "https://i.pinimg.com/originals/79/44/28/7944280986ed62559c8b8d72b94083c6.jpg",
         "/data/quotes",
         "quotes"
        ],
        [
         2851,
         "f2c2e634-b770-4223-a05a-4994f59c4513",
         "DIY Puffy Paint Art",
         null,
         2000000,
         "Blossom",
         "Diy Crafts For Girls,Diy Crafts To Do,Diy Crafts Hacks,Diy Arts And Crafts,Cute Crafts,Toddler Crafts,Creative Crafts,Paper Crafts,Cool Crafts For Kids",
         "multi-video(story page format)",
         "https://i.pinimg.com/videos/thumbnails/originals/6c/82/c8/6c82c829071327c4edd932e1727997eb.0000001.jpg",
         "/data/diy-and-crafts",
         "diy-and-crafts"
        ],
        [
         918,
         "bbaeda98-41c0-4da9-9bb3-6fdafe3a4ced",
         "All Natural Homemade Mascara",
         "Homemade Bronzer",
         17000,
         "Ditch the Wheat",
         "Tips And Tricks,Make Beauty,Beauty Care,Diy Cosmetics Easy,Homemade Cosmetics,Natural Cosmetics,Nars Cosmetics,Homemade Bronzer,Homemade Mascara",
         "image",
         "https://i.pinimg.com/originals/b4/c3/ac/b4c3ace480ec096ca73083c77e7d2f06.jpg",
         "/data/beauty",
         "beauty"
        ],
        [
         820,
         "93334cf7-a34b-4c0f-a480-0d34b65d8379",
         "Illustrator Turns Strangers Into Manga-Like Characters, And The Result Is Pretty Awesome",
         "When most of us look at other people, we see, well, people. But when the artist behind Toonimated looks at people, all they see is cartoons.",
         2000000,
         "Bored Panda",
         "Cool Drawings,Drawing Sketches,Drawing Tips,Pencil Drawings,Drawing Ideas,Hipster Drawings,Flower Drawings,Drawing Hair,Dress Sketches",
         "image",
         "https://i.pinimg.com/originals/20/a5/cb/20a5cb74e24f462246293d2e702cbe61.jpg",
         "/data/art",
         "art"
        ],
        [
         9968,
         "30b881a8-9bf1-4a23-aa53-21ad9f910e60",
         "Venice, Italy Scenic Canal & Venetian Architecture Flyer | Zazzle.com",
         "#Venice Italy Scenic Canal & Venetian Architecture Flyer - #office #gifts #giftideas #business",
         1000000,
         "Zazzle ",
         "Italy Travel Tips,Travel Destinations,Budget Travel,Spain Travel,Budget Hotels,Travel Tourism,Cheap Travel,Amazing Destinations,Phuket",
         "image",
         "https://i.pinimg.com/originals/db/98/3f/db983f6dee558408fbd680fb0bb19c4d.jpg",
         "/data/travel",
         "travel"
        ],
        [
         7970,
         "a43c8e2a-2497-493b-be0c-9013920ae902",
         "Country Music - Latest News, Breaking Stories and Comment - Country Thang Daily",
         "I can be as stubborn as a mule, sweet as tea, angry as a hornet, or loyal like a soldier. It all depends on you. #countryquotes #countrygirls #muddygirls #countrylife #countryst… ",
         9000,
         "Country Thang Daily",
         "Life Quotes Love,Great Quotes,Quotes To Live By,Me Quotes,Funny Quotes,Inspirational Quotes,Humor Quotes,Baby Quotes,Motivational Quotes",
         "image",
         "https://i.pinimg.com/originals/a0/77/fb/a077fb2764eb46f9b3d450c36bbcf25a.jpg",
         "/data/quotes",
         "quotes"
        ],
        [
         8029,
         "76a96fdf-fd9d-41e6-89e4-faed2da2b672",
         "20 Sassy Quotes That Remind You To Live Unapologetically",
         "Sassy Quotes | Being You | Inspirational Quotes | #beinspired #beyourself #inspirationalquote | www.unsoshl.com",
         942000,
         "YourTango",
         "Sassy Quotes,Motivacional Quotes,Quotes Thoughts,Super Quotes,Sarcastic Quotes,Wisdom Quotes,True Quotes,Words Quotes,Best Quotes",
         "image",
         "https://i.pinimg.com/originals/b5/1f/04/b51f0416139da44edac61852a9c8a700.jpg",
         "/data/quotes",
         "quotes"
        ],
        [
         2823,
         "08cbe03b-5b4f-4c4d-85b6-ba4f8c3c9602",
         "Dollar Tree Christmas Village Hack - The Latina Next Door",
         "With this Dollar Tree Christmas Village Hack you can create your own high end Christmas Village without the huge expense, and it's so easy!",
         24000,
         "Yami @ The Latina Next Door | Blogger | DIY | Budget Friendly Home Decor | Recipes |  Latina",
         "Christmas Tree Village,Dollar Tree Christmas,Christmas Hacks,Diy Christmas Ornaments,Christmas Projects,Diy Christmas Gifts,Christmas Decorations Dollar Tree,Christmas Villages,Homemade Christmas",
         "image",
         "https://i.pinimg.com/originals/fb/37/55/fb375515aaebda118ab9c8c518fbcfc4.png",
         "/data/diy-and-crafts",
         "diy-and-crafts"
        ],
        [
         4546,
         "07058054-b6de-47b6-a990-1705906780fa",
         "Wedding Ideas - WeddingWire",
         "Get expert wedding planning advice and find the best ideas for wedding decorations, wedding flowers, wedding cakes, wedding songs, and more.",
         132000,
         "Project Wedding",
         "Perfect Wedding,Dream Wedding,Wedding Day,Wedding Reception,Wedding Photos,Wedding Stuff,Money Box Wedding,Wedding Orange,Wedding Pins",
         "image",
         "https://i.pinimg.com/originals/7b/b0/b2/7bb0b2ad559a3e9fdd461dc69a661ee3.jpg",
         "/data/event-planning",
         "event-planning"
        ],
        [
         5467,
         "cb4fdb00-6006-41bd-adce-9cdab8bc7d93",
         "ETF CHEATSHEET",
         "Are you bored living in poor mindset? You are on the right place! If you want to learn about investing in dividends and passive income, this is best page on pinterest for BEGGIN… ",
         98000,
         "GloryInvestingShow",
         "Financial Quotes,Financial Peace,Stock Market Investing,Investing In Stocks,Value Investing,Investing Money,Stocks For Beginners,Dividend Investing,Dividend Stocks",
         "image",
         "https://i.pinimg.com/originals/9d/41/09/9d4109bece52910d517ba30b21812b85.jpg",
         "/data/finance",
         "finance"
        ],
        [
         5671,
         "b6686182-8f93-46c3-94d5-2b91a6631926",
         null,
         null,
         null,
         null,
         null,
         "multi-video(story page format)",
         "Image src error.",
         "/data/finance",
         "finance"
        ],
        [
         3495,
         "c0378b53-c914-4a28-9b83-b4dab5c7116f",
         "School's Over : How to Have Freedom and Democracy in Education (Paperback)",
         "In School's Over: How to Have Freedom & Democracy in Education, Jerry Mintz outlines the components of successful democratic schools and how these schools change the lives of th… ",
         2000000,
         "Walmart",
         "Ken Robinson,Ny Times,Bestselling Author,Freedom,Outlines,Memories,Schools,Education,Globe",
         "image",
         "https://i.pinimg.com/originals/9a/98/99/9a9899d33bf4ba24b44c32d88c110ce9.jpg",
         "/data/education",
         "education"
        ],
        [
         6722,
         "21e44096-1aa4-44f8-a310-6c15c8afa432",
         "Simple Spring Decorating - Ella Claire",
         "Simple spring touches in the entryway are a sweet greeting to family and friends. Easy accents such as a wreath, pillows, vintage tackle basket, and floppy hat are so charming t… ",
         126000,
         "Kristen Whitby | Ella Claire & Co.",
         "Decor Room,Diy Bedroom Decor,Living Room Decor,Diy Home Decor,Simple Home Decoration,Decor Crafts,Living Rooms,Home Design,Interior Design",
         "image",
         "https://i.pinimg.com/originals/39/da/e5/39dae50b488b37f7b7dba73d7a5476dd.jpg",
         "/data/home-decor",
         "home-decor"
        ],
        [
         8601,
         "eeac79f4-89a3-413a-92e9-331f147c9c0f",
         "25 Tiny And Pretty Flower Tattoo Designs You Would Love - Women Fashion Lifestyle Blog Shinecoco.com",
         "Flower tattoo is always popular in the tattoo fashion world, and we love all these flower tattoo designs. No matter the flower design is large or small, no matter the tattoo is… ",
         101000,
         "Shinecoco",
         "Ankel Tattoos,Cute Ankle Tattoos,Ankle Tattoos For Women,Black Tattoos,Body Art Tattoos,Tattos,Dainty Tattoos For Women,Small Flower Tattoos For Women,Side Wrist Tattoos",
         "image",
         "https://i.pinimg.com/originals/69/d8/49/69d84989ca35345a97b6bdb2df917ea0.jpg",
         "/data/tattoos",
         "tattoos"
        ],
        [
         6641,
         "1232e344-ecee-482f-8fb7-4d101aca4c4e",
         "Traditional Black Sofa Table Transformation - Jessica Sara Morris",
         "Traditional Black Sofa Table Transformation. I found A Sofa Table On Marketplace for 45 dollars and transformed it into a pottery barn look alike",
         36000,
         "JESSICA SARA MORRIS | HOME DECOR + DIY ON A BUDGET",
         "Black Sofa Table,Black Entry Table,Black Sofa Decor,Black Sofa Living Room Decor,Black White Decor,Living Room Panelling,Black Wall Decor,Black Wall Mirror,Black And White Interior",
         "image",
         "https://i.pinimg.com/originals/f0/d3/36/f0d3363aeeb2899056b523eb2b111ac7.jpg",
         "/data/home-decor",
         "home-decor"
        ],
        [
         5261,
         "094e4217-e85a-47a8-bf59-024882a29f63",
         "15 Things I Don't Spend Money On",
         "Do you know you are spending WAY more money than you need to on general household costs? Here's 15 main things I do NOT spend money on and the best tips on how you can start doi… ",
         37000,
         "Free Printables, SVG's, Binders & Planners with Sarah Titus",
         "Best Money Saving Tips,Ways To Save Money,Money Tips,Saving Money,Budget Help,Budgeting Money,Financial Tips,Frugal Tips,Saving Ideas",
         "image",
         "https://i.pinimg.com/originals/10/1d/6d/101d6d1794fa058a0be4762bc504175d.jpg",
         "/data/finance",
         "finance"
        ],
        [
         6679,
         "8e9c334a-e744-49eb-9053-8865abcee07c",
         "50 top items in home decor | Home decorating ideas | Style Curator",
         "When decorating your home, you can reach a point where you wonder ‘what else can I use?’. You’ve maxed out the amount of photos you want to display and have more candles than yo… ",
         76000,
         "Style Curator | Gina Ciancio",
         "Room Interior,Interior Design Living Room,Living Room Designs,Lounge Room Designs,Lounge Ideas,Paint Colors For Living Room,Room Paint,Living Room Tv,Living Room Decor Ideas Apartment",
         "image",
         "https://i.pinimg.com/originals/67/29/c9/6729c9ad77a03655a899cfc73f194c14.jpg",
         "/data/home-decor",
         "home-decor"
        ],
        [
         4411,
         "af9021fc-29bd-49ab-941b-6f24f7832180",
         "Elegant Wedding Table Decor On A Thrift STore Budget",
         "This is a huge list of wedding table decor to shop for at the thrift store. Nothing beats wedding decor on a budget!",
         18000,
         "Small Stuff Counts",
         "Flower Table Decorations,Wedding Decorations On A Budget,Wedding Favors Cheap,Wedding Table Centerpieces,Budget Wedding,Wedding Ideas,Wedding Planning,Event Planning,Diy Wedding",
         "image",
         "https://i.pinimg.com/originals/9d/33/c3/9d33c3ffbf80d4ea4ad2e1fb6dc0329c.jpg",
         "/data/event-planning",
         "event-planning"
        ],
        [
         3866,
         "9aa2d5f3-b89b-442f-b876-10ddb7f4f45a",
         "Virtual Dissection and Science Labs for Homeschoolers",
         "Truth is, finding virtual dissection and labs isn't as hard as it used to be. We have a list of the best Virtual Dissection Labs for Homeschoolers!",
         83000,
         "3 Boys and a Dog",
         "Homeschool Science Curriculum,Homeschool High School,Teaching Science,Science Lessons,Science For Kids,Science Activities,Online Homeschooling,Science Labs,Catholic Homeschooling",
         "image",
         "https://i.pinimg.com/originals/8c/00/3e/8c003eaea3201e04f5fb5161108161af.jpg",
         "/data/education",
         "education"
        ],
        [
         3978,
         "0cf9170f-fca3-4c6d-a2f3-aefbd02b8fcc",
         "Do you hate taking Notes during online Lecture?|",
         null,
         6000,
         "Global Assignment Help Australia",
         "College Life Hacks,High School Hacks,Teen Life Hacks,High School Life,Life Hacks For School,School Study Tips,College Humor,Life Hacks Websites,Fun Websites",
         "multi-video(story page format)",
         "https://i.pinimg.com/videos/thumbnails/originals/57/f4/98/57f498cf8550c52f98658374e0a8ab58.0000001.jpg",
         "/data/education",
         "education"
        ],
        [
         8112,
         "0c9e083a-43f3-4f1f-a2ca-24bdc9baf4f9",
         "'I Love  You' Quotes: 22 Heartwarming Quotes To Help You Say 'I Love You’",
         "There are more ways to say I love you than those three little words. Here are some fantastic I love you quotes for everyone!",
         166000,
         "Women.com",
         "Love Quotes For Him Cute,Love Quotes For Him Boyfriend,Sweet Love Quotes,Girlfriend Quotes,Love Yourself Quotes,Love Is Sweet,So In Love,I Will Always Love You Quotes,My King Quotes",
         "image",
         "https://i.pinimg.com/originals/96/b6/6c/96b66c0222d3c197e0314c3b8d547254.jpg",
         "/data/quotes",
         "quotes"
        ],
        [
         99,
         "ccd0afd0-5a4a-470a-8891-4583ab3d8139",
         "Self-Taught Artist Makes Amazing Female Portraits Based On Doodles",
         "Liz Y Ahmet is a UK-based, self-taught artist who creates portraits of women from hundreds of scribbled lines. What looks chaotic and even a little bit messy emerges into perfec… ",
         2000000,
         "Bored Panda",
         "Self Portrait Drawing,Abstract Portrait Painting,Portrait Sketches,Art Drawings Sketches,Cool Art Drawings,Biro Portrait,Self Portrait Artists,Abstract Sketches,Portrait Paintings",
         "image",
         "https://i.pinimg.com/originals/ad/2c/7f/ad2c7f39306eda6da8675ea8f50e6233.jpg",
         "/data/art",
         "art"
        ],
        [
         7937,
         "9709b0bd-6ba2-4e83-98a3-1ffdbc4354bc",
         "inspirational quotes",
         "build that future inspirational quotes",
         2000,
         "Vinny and Charles Fine Jewellery",
         "Mantra Quotes,Motivacional Quotes,Quotes Thoughts,Words Quotes,Wise Words,Life Quotes,Habit Quotes,Drake Quotes,Lovers Quotes",
         "image",
         "https://i.pinimg.com/originals/94/eb/18/94eb18dda8057ab94ace6b424e94bc55.jpg",
         "/data/quotes",
         "quotes"
        ],
        [
         10010,
         "526bd12c-74e2-49fd-b366-b1f7574a0bfc",
         "10 Tips for Women Traveling Alone",
         "{10 Tips for Traveling Solo} What would you add to the list?",
         281000,
         "Peanut Blossom | Easy Recipes, Book Club, and Holiday Ideas",
         "Solo Travel Tips,Travel Packing,Travel Advice,Travel Stuff,Packing Tips,Travel Luggage,Luggage Packing,Traveling Tips,Travel Hacks",
         "image",
         "https://i.pinimg.com/originals/6f/e9/15/6fe9159acbcbf742c1cec7dfa8c34845.jpg",
         "/data/travel",
         "travel"
        ],
        [
         10774,
         "c6066abe-a261-49e0-92f7-0b1bf22d414c",
         "Buggy",
         "VW Beetle",
         6000,
         "JD Rucker",
         "Buggy,Fusca Cross,Wolkswagen Van,Combi Wv,Vw Beach,Vw Baja Bug,Kdf Wagen,E Motor,Offroader",
         "image",
         "https://i.pinimg.com/originals/d7/99/d6/d799d604673d0a1fa45066b1bb3263f0.jpg",
         "/data/vehicles",
         "vehicles"
        ],
        [
         6650,
         "c80068ea-9fa3-4896-af45-5636cd7d8705",
         "MULTIPLE Afrocentric Bathroom Shower Curtains - Pro Black Home Decorations / Decor - Head wrap",
         "Afrocentric Bathroom Shower Curtains / Home Decor These beautiful afrocentric shower curtains are approximately 59x70 inches and fits most typical bathroom showers. We have even… ",
         14000,
         "Ethnic Earring",
         "Black Shower Curtains,Bathroom Shower Curtains,Fabric Shower Curtains,Bathroom Showers,Bathroom Ideas,Bathrooms,African Shower Curtain,Casa Top,Shower Curtain Sizes",
         "image",
         "https://i.pinimg.com/originals/bf/08/e5/bf08e53ed06f48f2d05c9ae115e39ace.png",
         "/data/home-decor",
         "home-decor"
        ],
        [
         1230,
         "9cc76b52-d61e-48d0-8498-c51736117bf7",
         "Perfect Skin Care Hacks",
         "Do this glow up challenge and have a glow up of your life! Face, body, hair, and nails - here's how to glow up with beauty in 30 days or less.",
         53000,
         "The ShineSheets - Personal Development, Beauty, Mental Health",
         "Face Skin Care,Diy Skin Care,Skin Care Tips,Good Skin Tips,Face Care Tips,Clear Skin Tips,Beauty Tips For Glowing Skin,Beauty Skin,Face Beauty",
         "image",
         "https://i.pinimg.com/originals/8a/8a/c8/8a8ac81de60b1e099bdfd5b3a6f84649.jpg",
         "/data/beauty",
         "beauty"
        ],
        [
         8329,
         "6d5fcca0-699c-474f-b34e-13e560e7900f",
         "15 Inspirational quotes to start your day off feeling motivated and positive. Inspiring words can he",
         "Here are 15 inspirational quotes to start your day feeling motivated and positive. Inspiring words are a great tool to combat anxiety and fear. They can offer hope and spark you… ",
         19000,
         "Dream Dash Journal",
         "Motivacional Quotes,Life Quotes Love,Wisdom Quotes,Words Quotes,Wise Words,Funny Quotes,Day Off Quotes,Quotes Of Hope,Quotes About Fear",
         "image",
         "https://i.pinimg.com/originals/79/77/62/7977620a62cbaa59b3f02ebaf6092fec.jpg",
         "/data/quotes",
         "quotes"
        ],
        [
         4196,
         "a8fce1cc-94ce-4592-9fbd-f679f37e44ab",
         "How to Structure Learning Stations Online - Write on With Miss G",
         "creating online learning stations for small groups during distance learning",
         10000,
         "Write on with Miss G | English Teacher | Engaging ELA Lessons",
         "Teaching Technology,Medical Technology,Educational Technology,Technology Tools,Educational Leadership,Educational Toys,Google Classroom,Classroom Ideas,People Reading",
         "image",
         "https://i.pinimg.com/originals/46/01/f1/4601f15ffdcda22f92c9617c48ed5744.jpg",
         "/data/education",
         "education"
        ],
        [
         10385,
         "11089567-a8bd-427f-9f25-42a1b1515094",
         "Meet the Honda Kei, a simple and efficient autonomous vehicle for commuting in the urban future - Yanko Design",
         "If you know anything about Japanese cars, you've definitely heard about Kei car. It literally means \"light car\" and was a result of the spending capability of t",
         416000,
         "Yanko Design - Form Beyond Function",
         "Car Design Sketch,Car Sketch,Kei Car,Cab Over,Honda S,Smart Car,Futuristic Cars,Japanese Cars,Transportation Design",
         "image",
         "https://i.pinimg.com/originals/f4/9e/15/f49e1591c73b7ed70a5944c5b348df62.png",
         "/data/vehicles",
         "vehicles"
        ],
        [
         9106,
         "a4c5a298-f07f-4a76-bece-45219ef9ecac",
         "13 Inspiring Shakespeare Tattoos",
         "If you're a romantic bookworm looking to truly express your love for the Bard and his works, check out these Shakespeare tattoos and get inspired.",
         4000,
         "Books and Bao | Travel, Culture, Books",
         "Feminine Tattoo Sleeves,Feminine Tattoos,Unique Tattoos,Cute Tattoos,Leg Tattoos,Beautiful Tattoos,Body Art Tattoos,Small Tattoos,Sleeve Tattoos",
         "image",
         "https://i.pinimg.com/originals/01/63/eb/0163eb6fee8859189645e4d6d7432e70.jpg",
         "/data/tattoos",
         "tattoos"
        ],
        [
         6394,
         "41ceecc7-20db-490f-912e-22cb04141a88",
         "Easy Vase Filler DIY",
         null,
         17000,
         "Purposefully Emilie",
         "Diy Crafts For Home Decor,Fall Home Decor,Autumn Home,Diy Decorations For Home,Target Home Decor,Handmade Home Decor,Diy Wall Decor,Tray Decor,Cheap Home Decor",
         "multi-video(story page format)",
         "https://i.pinimg.com/videos/thumbnails/originals/bf/47/81/bf4781fbbb114d1305151c7f4dd13f70.0000001.jpg",
         "/data/home-decor",
         "home-decor"
        ],
        [
         7060,
         "86e2b4bb-a264-4dfb-bc38-9c537f43e27e",
         "Don’t Be That Guy: Avoiding Over-40 Style Pitfalls",
         "As men age, dressing stylishly gets increasingly treacherous—especially with fashion veering ever more casual. But giving up entirely is never a good look. Here’s help",
         194000,
         "The Wall Street Journal",
         "Fashion For Men Over 40,Mature Mens Fashion,Old Man Fashion,Stylish Mens Fashion,Fall Fashion,Fashion Ideas,Casual Clothes For Men Over 50,Stylish Men Over 50,Womens Fashion",
         "image",
         "https://i.pinimg.com/originals/f7/6c/87/f76c87c1b0e0bd84061c4f996b15bdea.jpg",
         "/data/mens-fashion",
         "mens-fashion"
        ],
        [
         7663,
         "5adc6dd8-7ca8-4bd8-9db5-f00eaa3ee7b5",
         "Amaya Itami of the Pain Clan(Naruto Fanfiction)(Garra love story) - The Forest Of Death",
         "THIS IS BEING REWRITTEN AND FIXED BECAUSE IM AWEFUL AND MESSED UP THE PLOT SO PEASE BARE WITH ME WHILE I FIX MY FUCK UP.",
         1,
         "Maddie Kay Russell",
         "Feeling Broken Quotes,Deep Thought Quotes,Quotes Deep Feelings,Feeling Alone Quotes,Hurt Feelings,New Quotes,Mood Quotes,Inspirational Quotes,Qoutes",
         "image",
         "https://i.pinimg.com/originals/78/93/51/789351e2db23b093dcc1164c120bf8fc.jpg",
         "/data/quotes",
         "quotes"
        ],
        [
         5535,
         "f829fb7a-c7b1-4a8d-8185-59ac61533ad4",
         "100 Easy Ways To Save Money Right Now",
         "Want to save more money this year, pay off your debts, and improve your finances? These 100 money saving tips are what you need to move your finances in the right direction. #mo… ",
         20000,
         "Savvy Personal Finance | Save Money, Make Money & Investing Tips",
         "Save Money On Groceries,Ways To Save Money,Money Tips,Money Budget,Mo Money,Money Hacks,Budgeting Finances,Budgeting Tips,Budgeting Worksheets",
         "image",
         "https://i.pinimg.com/originals/06/a8/cf/06a8cf91027ae640ed780badc8f6d96c.png",
         "/data/finance",
         "finance"
        ],
        [
         8555,
         "8fa3a9e0-36d8-4860-916a-da3765740f58",
         "41 Simple First Small Tattoo Ideas For Women",
         "Small tattoos are becoming increasingly popular and loved by women, and if this is going to be your first tattoo, then choosing a small tattoo may be the best option. Small tatt… ",
         47000,
         "IdeasDonuts",
         "Simple Shoulder Tattoo,Small Hand Tattoos,Shoulder Tattoos For Women,Wrist Tattoos For Women,Dainty Tattoos,Cool Small Tattoos,Small First Tattoos,Funny Small Tattoos,Tattoo Simple",
         "image",
         "https://i.pinimg.com/originals/02/b8/99/02b899adc21d68239f8be6d7f4e13435.jpg",
         "/data/tattoos",
         "tattoos"
        ],
        [
         8637,
         "e9ac5027-7491-477c-b0f4-cd042ec0c9de",
         "Night Rose - XS",
         "ULTRA REALISTIC TEMP TATS THAT LAST 3-7 DAYS YOUR KIT INCLUDES Designs Real Teal™ Shine Remover Instructions",
         27000,
         "Momentary Ink",
         "Boho Tattoos,Mini Tattoos,Cute Tattoos,Body Art Tattoos,Small Tattoos,Sleeve Tattoos,Tattoos To Draw,Medium Size Tattoos,Small Flower Tattoos",
         "image",
         "https://i.pinimg.com/originals/17/f2/b5/17f2b5dd3efdb988e0b9745ebf6bbfc1.jpg",
         "/data/tattoos",
         "tattoos"
        ],
        [
         3856,
         "6072eb52-009f-44f7-b2c6-d4ad1ab5adcd",
         "Simmons College/Beacon Press Race, Education, and Democracy: Another Kind of Public Education : Race, Schools, the Media, and Democratic Possibilities (Paperback)",
         "In this fiercely intelligent yet accessible book, one of the nation's leading sociologists and experts on race calls for another kind of public education--one that opens up more… ",
         2000000,
         "Walmart",
         "Public School,High School,Coming Of Age,Senior Year,Powerful Words,Young People,New Books,Schools,The Twenties",
         "image",
         "https://i.pinimg.com/originals/b4/0b/9d/b40b9d3fdb659f923472ac850353f376.jpg",
         "/data/education",
         "education"
        ],
        [
         8407,
         "93b5651e-40b8-4520-8bb7-89b11bd22438",
         "MOTIVATION",
         null,
         6000,
         "SAHYA",
         "Better Life Quotes,Good Life Quotes,Wise Quotes,Motivational Quotes,Inspirational Quotes,Movie Quotes,Qoutes,Study Motivation Quotes,Study Quotes",
         "multi-video(story page format)",
         "Image src error.",
         "/data/quotes",
         "quotes"
        ],
        [
         9744,
         "210e753e-24a1-499a-95e5-2d8c8867ede5",
         null,
         null,
         null,
         null,
         null,
         "multi-video(story page format)",
         "Image src error.",
         "/data/travel",
         "travel"
        ],
        [
         1170,
         "fafb96e7-e2c6-436b-beac-caf5e3a1cbf5",
         "Best shade makeup foundation for your skin match guide tutorial- beauty tutorial hacks",
         null,
         157000,
         "miss coco",
         "Eye Makeup Steps,Blue Eye Makeup,Skin Makeup,Simple Makeup,Natural Makeup,Concealer,Makeup Tips Foundation,Foundation Shade,Full Coverage Foundation",
         "multi-video(story page format)",
         "https://i.pinimg.com/videos/thumbnails/originals/92/6f/33/926f33779cb5fe0b76ff08e992e8e867.0000001.jpg",
         "/data/beauty",
         "beauty"
        ],
        [
         7989,
         "1cb89f3b-dd0c-4b64-aab3-7d5b83aede13",
         "Breaking the Toxic Cycle of Trauma Bonding",
         "Narcissists thrive on fights for a few reasons. For one, you're providing the narcissist with undivided attention, emotional capacity, and energy – all of which feeds their addi… ",
         42000,
         "Kim Saeed | Narcissistic Abuse Recovery Expert",
         "Narcissistic People,Narcissistic Abuse Recovery,Narcissistic Behavior,Narcissistic Sociopath,Narcissistic Personality Disorder,Narcissistic Mother,Narcissist Cycle,Trauma,Ptsd",
         "image",
         "https://i.pinimg.com/originals/f8/c0/ea/f8c0ea6f3ecaffdc764bc6b9fc99137f.jpg",
         "/data/quotes",
         "quotes"
        ],
        [
         10699,
         "c21e3809-59d4-4980-a17d-f9be5f1e5d16",
         "1967 Ford Mustang Hardtop - Fast In Pink",
         "At last year's Mustang Club of America national show in Mustang, Oklahoma, I learned to never trust my first glance-or even the second. While walking the show l",
         248,
         "Keitha Rankin",
         "Mustang Rose,1967 Mustang,Mustang Cars,Mustang Fastback,Classic Mustang,Ford Classic Cars,Ford Mustangs,Playboy,Ayrton Senna",
         "image",
         "https://i.pinimg.com/originals/c7/c3/61/c7c3610ca42bcbcaadc276ef8cd85c65.jpg",
         "/data/vehicles",
         "vehicles"
        ],
        [
         6011,
         "82bd6b35-465b-4173-80a1-1b9b74290738",
         "Our Family's Future Hill Country Home Inspiration: Modern Farmhouse Kitchens - HOUSE of HARPER",
         "Our Family's Future Hill Country Home Inspiration: Modern Farmhouse Kitchens - HOUSE of HARPER #modernfarmhouse #modernfarmhousekitchen #kitchens",
         49000,
         "HOUSE of HARPER",
         "Kitchen Ikea,New Kitchen,Cheap Kitchen,Smart Kitchen,Kitchen Wood,Floors Kitchen,Kitchen White,Awesome Kitchen,Kitchen Small",
         "image",
         "https://i.pinimg.com/originals/61/9a/c6/619ac60829aeae7665f968e596879566.jpg",
         "/data/home-decor",
         "home-decor"
        ],
        [
         7981,
         "9f34995c-4e78-4638-bfd2-1fe267ab5dea",
         "THINGS",
         null,
         2000,
         "MONTANO DIANA ✿◕‿◕✿",
         "Positive Affirmations Quotes,Affirmation Quotes,Wisdom Quotes,True Quotes,Words Quotes,Wise Words,Positive Quotes,Motivational Quotes,Wall Of Quotes",
         "multi-video(story page format)",
         "Image src error.",
         "/data/quotes",
         "quotes"
        ],
        [
         9741,
         "dc71aab4-380d-4b93-a3f4-897642338299",
         "THE BIG WATER (GREEN)",
         "This hat was made specifically for all of your aquatic adventures, hikes that might get extra sweaty, and killer trail runs. It features quick-drying fabric and breathable wide-… ",
         222,
         "Sonnies Outside | Outdoor Apparel + Outside Enthusiast",
         "Mountain Climbing,Rock Climbing,Nature Adventure,Adventure Time,Granola Girl,Hiking Essentials,Green Hats,Outdoor Recreation,Trail Running",
         "image",
         "https://i.pinimg.com/originals/75/23/ac/7523acfef129610b0a888e59e0f29345.jpg",
         "/data/travel",
         "travel"
        ],
        [
         3097,
         "c6b2f900-b1d6-44d9-b719-9187a6a9f404",
         "Pin on Frozen 2 Activities",
         "Mar 20, 2020 - Learn how to fold and cut these coffee filter snowflakes. Take this winter craft to the next level by dyeing them using markers and water. Easy and fun!",
         6000,
         "The Printables Fairy | Printables & Activities For Kids",
         "Winter Activities For Kids,Winter Crafts For Kids,Christmas Activities,Winter Fun,Kids Printable Activities,Winter Preschool Crafts,Simple Crafts For Kids,At Home Crafts For Kids,Art Games For Kids",
         "image",
         "https://i.pinimg.com/originals/da/6c/1e/da6c1ea60fb485b023a4b86c8ea62040.jpg",
         "/data/diy-and-crafts",
         "diy-and-crafts"
        ],
        [
         2210,
         "993f0d01-4d87-40a1-aadc-d51c7cafc31b",
         "Have Yourself A Merry Christmas: 75 Ho-Ho-Holiday Decor Ideas",
         "In the spirit of Christmas, we would love to share with you some fabulous holiday decor ideas to leave you feeling inspired.",
         657000,
         "One Kindesign",
         "Christmas Fireplace,Christmas Mantels,Farmhouse Christmas Decor,Rustic Christmas,Winter Christmas,Christmas Crafts,Holiday Decor,Christmas Vacation,Fireplace Mantel Christmas Decorations",
         "image",
         "https://i.pinimg.com/originals/2f/56/92/2f569211961627c4a3bb6b0d3a7d9265.png",
         "/data/christmas",
         "christmas"
        ],
        [
         6984,
         "2ed17d3d-adfd-4f55-9af1-b97a34f4a039",
         "Get The Perfect OOTD Look",
         "Tired struggling to find the perfect outfit in the morning? Here are some amazing OOTD Ideas for men to flaunt. Stay Tunned!",
         723000,
         "TheUnstitchd",
         "Business Casual Men,Men Casual,Smart Casual,Casual Winter,Outfit Winter,Winter Style,Komplette Outfits,Casual Outfits,Dress Casual",
         "image",
         "https://i.pinimg.com/originals/84/7e/06/847e06d7b2885ddad8ad955f103c32ee.png",
         "/data/mens-fashion",
         "mens-fashion"
        ],
        [
         1195,
         "0634d842-6331-440b-8916-86526e13806b",
         "6 Amazing Beauty Benefits of Apple Cider Vinegar",
         "Apple cider vinegar helps to soothe sunburn as well as relieves pigment spots and other skin problems",
         338000,
         "Beauty Epic",
         "Beauty Care,Beauty Skin,Health And Beauty,Beauty Advice,Beauty Ideas,Diy Beauty,Beauty Guide,Beauty Habits,Healthy Beauty",
         "image",
         "https://i.pinimg.com/originals/5a/d0/ab/5ad0ab60a00a593a95c89d3c3897abd8.jpg",
         "/data/beauty",
         "beauty"
        ],
        [
         7372,
         "a26c1d96-72d5-43af-8221-496bb0e2c0a0",
         "The Wilton Jacket in Navy Birdseye Wool",
         "The Wilton Jacket in Navy Birdseye Wool from Taylor Stitch",
         5,
         "Charlie Watters",
         "Mens Outdoor Fashion,Older Mens Fashion,Mens Fashion Casual Shoes,Winter Fashion Outfits,Men Casual,Rugged Men's Fashion,Fashion Menswear,Man Fashion,Casual Winter",
         "image",
         "https://i.pinimg.com/originals/18/a4/40/18a440b1907a55aa19d67306dee36772.jpg",
         "/data/mens-fashion",
         "mens-fashion"
        ],
        [
         3815,
         "cb3d8579-7150-463d-906d-8a4329b36314",
         "Phonics books for r-controlled vowels",
         "These free printable phonetic books will help your child master those tricky r-controlled vowels!",
         219000,
         "The Measured Mom | Structured literacy | Teaching Pre-K-3rd",
         "Phonics Books,Phonics Reading,Teaching Phonics,Phonics Activities,Kindergarten Reading,Reading Activities,Teaching Reading,Guided Reading,Learning",
         "image",
         "https://i.pinimg.com/originals/f5/49/a5/f549a5ab217b067e33590b70b8837251.jpg",
         "/data/education",
         "education"
        ],
        [
         10571,
         "ea84197e-5935-4121-a358-0b6886b87538",
         "shushpanzer_ru",
         "shushpanzer_ru - the new blog in LiveJournal. There should be new interesting records soon.",
         272,
         "David O'Connor",
         "Army Vehicles,Armored Vehicles,Monster Car,Armored Truck,By Any Means Necessary,Expedition Vehicle,Futuristic Cars,Jeep Truck,Emergency Vehicles",
         "image",
         "https://i.pinimg.com/originals/1c/59/72/1c59725fc7946c7b146a81f7203d0536.jpg",
         "/data/vehicles",
         "vehicles"
        ],
        [
         84,
         "ee4ad9aa-1428-4f06-bed7-64b7541597d4",
         "20+ Best Watercolor Flowers Tutorials & Videos",
         "20+ best step by step easy watercolor flowers tutorials & videos on how to paint roses, peonies, hydrangeas, sunflowers, bouquets, & more!",
         603000,
         "A Piece of Rainbow",
         "Watercolor Paintings For Beginners,Watercolor Art Lessons,Watercolor Painting Tutorials,Watercolor Art Paintings,Floral Paintings,Watercolors,Watercolor Flowers Tutorial,Floral Watercolor,Step By Step Watercolor",
         "image",
         "https://i.pinimg.com/originals/09/88/c5/0988c5aad5639570c4920a4ed4ebbad4.jpg",
         "/data/art",
         "art"
        ],
        [
         6237,
         "0d3def33-b77d-4261-8df7-00d95ab34645",
         "Farmhouse Friday – Baskets and Bins",
         "Today for Farmhouse Friday, I picked a topic that's a borderline obsession with me - baskets and bins! I love buying them, upcycling them, and repurposing them, and I use them i… ",
         85000,
         "Knick of Time",
         "Farmhouse Wall Decor,Rustic Wall Decor,Farmhouse Style,Farmhouse Furniture,Rustic Furniture,Furniture Plans,Cottage Farmhouse,Furniture Outlet,Discount Furniture",
         "image",
         "https://i.pinimg.com/originals/c0/b4/63/c0b4636ebdac6283b5942d66cfbe2f05.jpg",
         "/data/home-decor",
         "home-decor"
        ],
        [
         10421,
         "d9e4c12e-5512-4a8f-a1fc-a44ff7b0f90b",
         "| Make: DIY Projects and Ideas for Makers",
         "Mustang by fab4fun_be",
         400000,
         "Make:",
         "Custom Hot Wheels,Hot Wheels Cars,Custom Cars,Mad Max,Hot Rods,Combi Split,Death Race,Classic Toys,Post Apocalyptic",
         "image",
         "https://i.pinimg.com/originals/e9/6c/70/e96c70e581ee7b2223440836b83b7140.jpg",
         "/data/vehicles",
         "vehicles"
        ],
        [
         9946,
         "fd28bf6a-d4fe-4023-b429-d7060ae2b204",
         "Perfect Scotland Itinerary",
         "This is the PERFECT Scotland Itinerary #scotland #itinerary",
         19000,
         "Wanderlust Crew",
         "Europe Travel Tips,European Travel,Travel Guides,Places To Travel,Places To See,Travel Destinations,Traveling Europe,Travel Things,Travelling",
         "image",
         "https://i.pinimg.com/originals/64/94/28/649428e50cb668dbf6a868930d8f4f13.jpg",
         "/data/travel",
         "travel"
        ],
        [
         2882,
         "550e48b3-e95d-4fc4-8dad-d031145dd267",
         "Name Snowman Preschool Craft and Free Printable",
         "Preschool kids can practice their names while making a name snowman. Be sure to use the free printable as part of the snowman name craft.",
         80000,
         "Fun-A-Day Preschool Activities",
         "Preschool Christmas,Kids Christmas,Christmas Gifts,Christmas Activities For Preschoolers,Winter Preschool Crafts,Christmas Projects For Kids,Winter Activities,Christmas Ornaments,Snowman Crafts",
         "image",
         "https://i.pinimg.com/originals/fe/7f/03/fe7f03cc199a412c01f39f994084b55a.jpg",
         "/data/diy-and-crafts",
         "diy-and-crafts"
        ],
        [
         8316,
         "721edca0-c080-47eb-aaf5-9f4f45db2c30",
         "Spirit Message Circle this Sunday 28th and every last Sunday of month in Cicero, IL",
         "\"Religion is belief in someone else's experience. Spirituality is having your own experience.\" Deepak Chopra This is one of my core beliefs.",
         2000,
         "Demeraki",
         "The Words,Deepak Chopra,Spiritual Awakening,Awakening Quotes,Inner Peace,Quotations,Me Quotes,Irish Quotes,Hindu Quotes",
         "image",
         "https://i.pinimg.com/originals/f6/7c/3e/f67c3eb652488f06561f8e71a768173d.jpg",
         "/data/quotes",
         "quotes"
        ],
        [
         10624,
         "e31b313a-162c-4b1c-a2c2-741dedd4d37f",
         "1964 Jaguar E-Type Series I 3.8-Litre Roadster",
         "Gooding & Company is recognized the world over as a leading automotive auction house specializing in the finest antique, classic, sports and racing cars.",
         1,
         "Aesop Socrates",
         "British Sports Cars,Classic Sports Cars,Classic Cars,British Car,Classic Auto,Jaguar Xk,Jaguar E Type,Jaguar Cars,Sport Cars",
         "image",
         "https://i.pinimg.com/originals/62/cb/49/62cb49b0d55d2892ba4e5c8b15317048.jpg",
         "/data/vehicles",
         "vehicles"
        ],
        [
         6533,
         "3ce1d845-3ab3-4a74-9bd6-5bb0d3be380c",
         "Neutral decor kitchen ideas open shelving and modern vintage farmhouse rustic kitchen renovation",
         null,
         41000,
         "Indie.boho.nest-DIY Home office ideas DIY Decor Renovation ideas",
         "Earthy Kitchen,Boho Kitchen,Home Decor Kitchen,Rustic Kitchen,Kitchen Design,Black Kitchen Decor,Vintage Kitchen Decor,Kitchen Styling,Kitchen Ideas",
         "multi-video(story page format)",
         "Image src error.",
         "/data/home-decor",
         "home-decor"
        ],
        [
         8087,
         "f4400f3c-457a-4056-972d-86af74c3333e",
         "'Quote - You don't have to be perfect to be amazing' iPhone Case by HelenDesignXO",
         "Think About Your Life Quotes | HubPages",
         1000,
         "Vinyl Written",
         "Motivacional Quotes,Quotable Quotes,Wisdom Quotes,Great Quotes,Words Quotes,Funny Quotes,Hard Life Quotes,Best Advice Quotes,Inspiring Quotes On Life",
         "image",
         "https://i.pinimg.com/originals/86/fd/d8/86fdd8e1df40d40f7b9319f63da5533d.jpg",
         "/data/quotes",
         "quotes"
        ],
        [
         10786,
         "45765013-22f3-488a-9d04-da490bcd61e5",
         "This Gold Custom Porsche Is Sex On Wheels",
         "Wow.",
         130,
         "Trainman999",
         "Porsche 356,Porsche 911 Singer,Porsche Autos,Porche 911,Porsche Carrera,Porsche Cars,Singer 911,Porsche Wheels,Porsche Classic",
         "image",
         "https://i.pinimg.com/originals/f4/72/d4/f472d495324a79616720ebe02cf2a6d4.png",
         "/data/vehicles",
         "vehicles"
        ],
        [
         10898,
         "baea0893-6a88-4d35-b2ca-92f049fa1bae",
         "The Pagani Zonda - Super Car Center",
         "The Pagani Zonda was first unveiled at the Geneva Motor Show in 1999 and was produced between 1999 and 2011. A number of different versions of the car have",
         27000,
         "Supercar Center",
         "Nissan Gt R,Nissan Gtr Nismo,Nissan Skyline R33,Gtr R35,Skyline Gtr,Fancy Cars,Cool Cars,Supercars,Sexy Autos",
         "image",
         "https://i.pinimg.com/originals/77/e6/52/77e6521fa1b9c4d9077c72d3ed4f78af.jpg",
         "/data/vehicles",
         "vehicles"
        ],
        [
         4336,
         "745fdb9a-b931-4ac3-b8e6-9ebd7f4cc2dc",
         "Man Turns Hotel Room into Fairytale Surprise Proposal for His Girlfriend",
         "Read Harry and Demi's marriage proposal story on howtheyasked.com – the only site that makes you cry (happy tears) daily.",
         9,
         "Kelly Meade",
         "Romantic Surprises For Him,Romantic Room Surprise,Romantic Birthday,Surprises For Her,Girlfriend Surprises,Girlfriend Proposal,Birthday Surprises For Him,Hotel Room Decoration,Romantic Room Decoration",
         "image",
         "https://i.pinimg.com/originals/20/a3/c9/20a3c965bdf480e5b75b81ab29323d67.jpg",
         "/data/event-planning",
         "event-planning"
        ],
        [
         1160,
         "58c893ae-f20a-4b7b-b39b-33517627da94",
         "Thicker, Softer Hair with Rosemary, Lavender and Apple Cider Vinegar",
         "I love plant folklore, and this is one of my favorite wisdoms: \"Keep rosemary at your garden gate and plant lavender for luck\". Rosemary protects the house from ill intent and p… ",
         50000,
         "Rebecca (Camp Wander)",
         "Natural Hair Care,Natural Hair Styles,Diy Beauty,Beauty Hacks,Beauty Tips,Beauty Care,Vinegar Hair Rinse,Apple Cider Vinegar For Hair,Diy Hair Treatment",
         "image",
         "https://i.pinimg.com/originals/e8/cb/59/e8cb5921c2d0891d0a17e66faf112020.jpg",
         "/data/beauty",
         "beauty"
        ],
        [
         9052,
         "a2053881-2de6-4096-9799-2510ec2019a9",
         "30+ Hot and Bright Sun Tattoo Ideas 2021 - Page 21 of 32 - hairstylesofwomens. com",
         "If you are looking for a tattoo that improves your day, try a sun tattoo. After all, it is the pure source of life. How can you not feel inspired when it is a bright sun? Today,… ",
         5,
         "sav",
         "Dainty Tattoos,Dope Tattoos,Pretty Tattoos,Body Art Tattoos,Sleeve Tattoos,Tatoos,Cute Little Tattoos,Tattoos Skull,Collar Tattoo",
         "image",
         "https://i.pinimg.com/originals/eb/3c/4e/eb3c4eeb7e050fedcaddaa9333ede491.jpg",
         "/data/tattoos",
         "tattoos"
        ],
        [
         684,
         "b0ad33e9-997a-4388-8c97-7f487f6438e1",
         "Jellyfish Art Project for Kids",
         "Watercolor & glue Jellyfish art project. Free step by step tutorial from TheCraftyClassroom.com Perfect for learning mixed media, texture, warm and cool colors, hue and more!",
         40000,
         "The Crafty Classroom",
         "Primary School Art,Elementary Art,Art School,Kids Watercolor,Watercolor Art Lessons,Art Lessons For Kids,Art For Kids,Kids Art Class,Kindergarten Art",
         "image",
         "https://i.pinimg.com/originals/44/08/5c/44085cffbf05ebe21043ce01bbe5dfbb.jpg",
         "/data/art",
         "art"
        ],
        [
         9170,
         "a7e9f25c-16b9-4c84-93ca-b46f991e2090",
         "22 Ghost Tattoos That Are Seriously Cute (and Not at All Spooky)",
         "Nothing shows dedication to Halloween like getting a tattoo to commemorate the holiday. If you want a tiny piece of ink, try one of these ghost designs.",
         5000000,
         "POPSUGAR",
         "Dope Tattoos,Mini Tattoos,Cute Tiny Tattoos,Pretty Tattoos,Body Art Tattoos,Small Tattoos,Tattoos For Guys,Tatoos,Funky Tattoos",
         "image",
         "https://i.pinimg.com/originals/f9/a6/e5/f9a6e5970b4e62915a0b773b63169959.jpg",
         "/data/tattoos",
         "tattoos"
        ],
        [
         3737,
         "51b1351b-e839-497a-a4e6-52a55af6c1a3",
         "How to Scaffold Paragraph Writing for Special Education - You Aut-A Know",
         "Moving from writing sentences to writing paragraphs is a big leap for many of our students. I've found that putting some simple scaffolds in place helps my students become more… ",
         10000,
         "You AUT-a Know",
         "Writing Curriculum,Writing Lessons,Writing Resources,Teaching Writing,Writing Activities,Writing Skills,Kindergarten Writing,Writing Process,Homeschooling",
         "image",
         "https://i.pinimg.com/originals/c2/e5/4a/c2e54a9c862a2f9eb9b8dd6b8d0de3b2.jpg",
         "/data/education",
         "education"
        ],
        [
         6378,
         "c27331a2-2e3a-482c-861d-81b1f89217e5",
         "Macrame Wall Hanger - H",
         "This Boho wall hanging tapestry features a unique design that is a must-have in any home with a bohemian theme. Perfect for Home Decoration, Bohemian decoration, Kids Bedroom, S… ",
         25,
         "Plex Oasis",
         "Decoration Photo,Deco Boheme,Boho Room,Boho Bedroom Decor,Bohemian Room Decor,Boho Style Decor,Bohemian Theme,Bedroom Table,Bohemian Style",
         "image",
         "https://i.pinimg.com/originals/37/0b/44/370b44c0bf3ee19a64709d71b509ab21.jpg",
         "/data/home-decor",
         "home-decor"
        ],
        [
         5229,
         "9e01fa38-d1d9-4dfa-8f07-1f36ff6fe0da",
         "Moxie - A Revolution in Child Development",
         "Parents: Meet Moxie! ▪️ Created by child development experts ▪️ Promotes emotion regulation ▪️ Helps develop social skills ▪️ Supports building confidence ▪️ Risk-free 30-day ho… ",
         48,
         "Embodied, Inc.",
         null,
         "video",
         "https://i.pinimg.com/videos/thumbnails/originals/e5/5b/94/e55b94ac2d32067a40aa2888deac3a39.0000001.jpg",
         "/data/finance",
         "finance"
        ],
        [
         7528,
         "fbe53c66-3442-4773-b19e-d3ec6f54dddf",
         null,
         null,
         null,
         null,
         null,
         "multi-video(story page format)",
         "Image src error.",
         "/data/mens-fashion",
         "mens-fashion"
        ],
        [
         2863,
         "9bf39437-42a6-4f02-99a0-9a0383d8cd70",
         "25 Super Fun Summer Crafts for Kids - Of Life and Lisa",
         "Keep the kids busy this summer with these easy diy crafts and projects. Creative and…",
         124000,
         "Of Life & Lisa | Lifestyle Blog",
         "Summer Crafts For Kids,Fun Crafts For Kids,Summer Kids,Toddler Crafts,Crafts To Do,Diy For Kids,Summer Snow,Diys For Summer,Craft Ideas For Girls",
         "image",
         "https://i.pinimg.com/originals/b3/bc/e2/b3bce2964e8c8975387b39660eed5f16.jpg",
         "/data/diy-and-crafts",
         "diy-and-crafts"
        ],
        [
         5730,
         "1e1f0c8b-9fcf-460b-9154-c775827206eb",
         "Island Oasis Coupon Organizer",
         "Description Coupon Organizer in a fun colorful fabric -island oasis, Great Size for the \"basic\" couponer - holds up to 500 coupons with ease, and is made long enough so that you… ",
         0,
         "Consuelo Aguirre",
         "Grocery Items,Grocery Coupons,Care Organization,Coupon Organization,Extreme Couponing,Couponing 101,Life Binder,Save My Money,Love Coupons",
         "image",
         "https://i.pinimg.com/originals/65/bb/ea/65bbeaf458907bb079317d8303c4fa0e.jpg",
         "/data/finance",
         "finance"
        ],
        [
         7528,
         "fbe53c66-3442-4773-b19e-d3ec6f54dddf",
         null,
         null,
         null,
         null,
         null,
         "multi-video(story page format)",
         "Image src error.",
         "/data/mens-fashion",
         "mens-fashion"
        ],
        [
         2863,
         "9bf39437-42a6-4f02-99a0-9a0383d8cd70",
         "25 Super Fun Summer Crafts for Kids - Of Life and Lisa",
         "Keep the kids busy this summer with these easy diy crafts and projects. Creative and…",
         124000,
         "Of Life & Lisa | Lifestyle Blog",
         "Summer Crafts For Kids,Fun Crafts For Kids,Summer Kids,Toddler Crafts,Crafts To Do,Diy For Kids,Summer Snow,Diys For Summer,Craft Ideas For Girls",
         "image",
         "https://i.pinimg.com/originals/b3/bc/e2/b3bce2964e8c8975387b39660eed5f16.jpg",
         "/data/diy-and-crafts",
         "diy-and-crafts"
        ],
        [
         5730,
         "1e1f0c8b-9fcf-460b-9154-c775827206eb",
         "Island Oasis Coupon Organizer",
         "Description Coupon Organizer in a fun colorful fabric -island oasis, Great Size for the \"basic\" couponer - holds up to 500 coupons with ease, and is made long enough so that you… ",
         0,
         "Consuelo Aguirre",
         "Grocery Items,Grocery Coupons,Care Organization,Coupon Organization,Extreme Couponing,Couponing 101,Life Binder,Save My Money,Love Coupons",
         "image",
         "https://i.pinimg.com/originals/65/bb/ea/65bbeaf458907bb079317d8303c4fa0e.jpg",
         "/data/finance",
         "finance"
        ],
        [
         8304,
         "5b6d0913-25e4-43ab-839d-85d5516f78a4",
         "The #1 Reason You’re Not His Priority Anymore - Matthew Coast",
         "#lovequotes #matchmaker #matchmadeinheaven #loveyourself #respectyourself",
         51000,
         "Commitment Connection",
         "Wise Quotes,Quotable Quotes,Words Quotes,Wise Words,Quotes To Live By,Great Quotes,Motivational Quotes,Inspirational Quotes,Funny Quotes",
         "image",
         "https://i.pinimg.com/originals/c6/64/ee/c664ee71524fb5a6e7b7b49233f93b43.png",
         "/data/quotes",
         "quotes"
        ],
        [
         8731,
         "ea760f71-febf-4023-b592-d17396659039",
         "20 Koi Fish Tattoos For Lucky Men",
         "Koi fish tattoos are a popular choice for men who want to make a statement, thanks to their rich symbolism and bold design.",
         211000,
         "TheTrendSpotter",
         "Dr Tattoo,Wörter Tattoos,Pisces Tattoos,Tatoo Art,Dream Tattoos,Dope Tattoos,Mini Tattoos,Finger Tattoos,Body Art Tattoos",
         "image",
         "https://i.pinimg.com/originals/8a/0c/0a/8a0c0a7b6236565c519acd41ad1a52c0.jpg",
         "/data/tattoos",
         "tattoos"
        ],
        [
         1313,
         "44662045-e891-4821-8a19-ebe7eedd371a",
         "Liquid Lash Extensions Mascara",
         "Instantly create the look of lash extensions with this award-winning, best-selling mascara that won't clump, flake or smudge. Available in 3 shades!",
         43000,
         "Thrive Causemetics",
         null,
         "video",
         "https://i.pinimg.com/videos/thumbnails/originals/69/84/e2/6984e20f3e262098fa9c0614c3453254.0000001.jpg",
         "/data/beauty",
         "beauty"
        ],
        [
         4315,
         "21b59ba9-829d-4c33-8c27-4cd4c56d26b8",
         "Podcasts for Teachers or Parents of Teenagers",
         "Podcasts for Teachers or Parents of Teenagers: Teaching teens middle school and high school can feel joyful and rewarding most days, but can also frustrate you with one challeng… ",
         25000,
         "Math Giraffe",
         "Middle School Classroom,High School Students,High School Teachers,Middle School Tips,High School Counseling,Ela Classroom,High School Science,Future Classroom,Google Classroom",
         "image",
         "https://i.pinimg.com/originals/50/19/31/501931a27ee4d076658980851b995b2c.jpg",
         "/data/education",
         "education"
        ],
        [
         10794,
         "c4bd2577-a7bb-4409-bb7a-17d5ed7e1cf1",
         "TireBuyer",
         "Nissan GT-R. Sick.",
         437,
         "Ray Uyemura",
         "Lowrider,Old Vintage Cars,Antique Cars,Austin Martin,Nissan Gtr Black,Jaguar,1959 Cadillac,Cadillac Ct6,Old School Cars",
         "image",
         "https://i.pinimg.com/originals/0d/29/9f/0d299f3df020395aa7ce8387f40fbeed.jpg",
         "/data/vehicles",
         "vehicles"
        ],
        [
         5494,
         "8fb2af68-543b-4639-8119-de33d28706ed",
         "Dave Ramsey's 7 Baby Steps: What Are They And Will They Work For You",
         "If you love budgeting, make sure to give Dave Ramsey's 7 Baby Steps a try. Follow these steps to begin your debt snowball, build an emergency fund, invest and reach riches. I ca… ",
         26000,
         "Living Low Key | Save Money, Make Money, & Frugal Living",
         "Financial Peace,Financial Tips,Saving Money Quotes,Total Money Makeover,Budgeting Finances,Money Management,Wealth Management,Personal Finance,Making Ideas",
         "image",
         "https://i.pinimg.com/originals/1e/9d/90/1e9d906e4e150e3b95187f3b76ea7c71.png",
         "/data/finance",
         "finance"
        ],
        [
         5069,
         "b75b6f87-deb3-444f-b29e-ce9161b2df49",
         "The Vault: Curated & Refined Wedding Inspiration",
         "Sacramento California Wedding 2 Chic Events & Design Jodi Yorston Photography Wilson Vineyards Barn Miosa Couture Yellow Barn Vineyard Outdoor Candles DIY",
         6000000,
         "Style Me Pretty",
         "60th Anniversary Parties,Anniversary Decorations,Golden Anniversary,25th Wedding Anniversary,Anniversary Pictures,Anniversary Ideas,Birthday Decorations,Event Planning Design,Event Design",
         "image",
         "https://i.pinimg.com/originals/7e/45/90/7e45905fefa36347e83333fd6d091140.jpg",
         "/data/event-planning",
         "event-planning"
        ],
        [
         2923,
         "52fa3af5-24a4-4ccb-8f17-9c3eb12327ee",
         "UFO Paper Plate Craft",
         "A fun space activity for kids. Preshoolers and kindergartners will love making their own alien spacecraft!",
         192000,
         "The Crafting Chicks",
         "Paper Plate Crafts For Kids,Fun Crafts For Kids,Summer Crafts,Toddler Crafts,Art For Kids,Outer Space Crafts For Kids,Kid Crafts,Space Kids,Back To School Crafts For Kids",
         "image",
         "https://i.pinimg.com/originals/6f/e8/aa/6fe8aa405513c6d2f77b5f47d17cdce8.jpg",
         "/data/diy-and-crafts",
         "diy-and-crafts"
        ],
        [
         3089,
         "88f9227e-88d0-4b1c-b0be-bcfc3028b8e2",
         null,
         null,
         null,
         null,
         null,
         "multi-video(story page format)",
         "Image src error.",
         "/data/diy-and-crafts",
         "diy-and-crafts"
        ],
        [
         6063,
         "60693727-4927-4bd6-a8c5-096a392d63e6",
         "41 Gorgeous Fall Decor Ideas For Your Home - Chaylor & Mads",
         "Beautiful and easy ways to update every room in your home with fall decor. Plus, my favorite finds in fall decor for 2020!",
         92000,
         "Kristen | Lifestyle, Mom Tips & Teacher Stuff Blog",
         "Fall Home Decor,Autumn Home,Fall Decor Outdoor,Front Porch Fall Decor,Home Decor Ideas,Porch Ideas For Fall,Fall Outdoor Decorating,Decorating Ideas For Fall,Fall Front Doors",
         "image",
         "https://i.pinimg.com/originals/e5/ae/dc/e5aedc14ce557e3a69f672e0f8c88f6e.png",
         "/data/home-decor",
         "home-decor"
        ],
        [
         3454,
         "46bd3f86-b09d-4e29-9033-7ff2df595e51",
         "What can you use to color resin?",
         "HELPFUL RESOURCES – Check out my resin colorants resources page here with links to all the products mentioned in this article (and more). Let me know if you have any that you lo… ",
         6000,
         "Mixed Media Crafts",
         "Epoxy Resin Art,Diy Resin Art,Diy Resin Crafts,Resin Molds,Ice Resin,Resin Pour,Diy Epoxy,Diy Resin Painting,Diy Resin Dice",
         "image",
         "https://i.pinimg.com/originals/d4/12/78/d4127833023ca32600571ddca16f1556.jpg",
         "/data/diy-and-crafts",
         "diy-and-crafts"
        ],
        [
         7554,
         "c6fa12f4-0d4a-4b07-a335-5bf9f37f8281",
         "Craig Style",
         "imgentleboss: “ - More about men’s fashion at @Gentleboss - GB’s Facebook - ”",
         940,
         "iElylike ..✿◕‿◕✿ஐ✿◕‿◕✿",
         "Mens Fashion Blog,Look Fashion,Autumn Fashion,Fashion News,Fashion Sale,80s Fashion,Paris Fashion,Runway Fashion,Fashion Trends",
         "image",
         "https://i.pinimg.com/originals/e7/6e/8e/e76e8ed6cc838b84a934c6948a5caff7.jpg",
         "/data/mens-fashion",
         "mens-fashion"
        ],
        [
         6145,
         "82e13a07-db99-43a3-b1c0-89a4b75821da",
         "HOLIDAY MANTLE DECOR - @AMAZON & @TARGET FINDS",
         "Holiday mantle decor, Christmas decor, metallic mercury glass style Christmas trees, eucalyptus vine, evergreen pine branches, white neutral holiday decor, cozy mantle for the h… ",
         83000,
         "Stylin by Aylin",
         "Winter Home Decor,Christmas Living Room Decor,Living Room Decor Cozy,Christmas Decor,Cozy Fireplace,Rustic Fireplace Decor,Fireplace Decorations,Rustic Room,House Decorations",
         "image",
         "https://i.pinimg.com/originals/9d/82/1a/9d821a80acd8f90c16454e978bd9b115.jpg",
         "/data/home-decor",
         "home-decor"
        ],
        [
         10625,
         "d31885b7-742a-4e2a-bbb7-ac5f9d334340",
         "Jaguar Type E",
         "1937 Jaguar SS100 - 2 1/2 Litre Roadster, one of the most sought after pre-war sports cars",
         8000,
         "hobbyDB",
         "Jaguar Type E,Jaguar Xk,Jaguar Cars,Jaguar Roadster,Jaguar Sport,Retro Cars,Vintage Cars,Antique Cars,British Sports Cars",
         "image",
         "https://i.pinimg.com/originals/26/81/a7/2681a71bd0c8f7fd0ab79c455338a49a.jpg",
         "/data/vehicles",
         "vehicles"
        ],
        [
         2959,
         "439cac4b-18e8-4aaa-88c5-edb26a701111",
         "The Cutest Toilet Paper Crafts",
         "One thing I love about Crafts is how the evolve! These toilet paper rolls are adorable and modern. I love that something as simple as a recycled toilet paper roll can be taken t… ",
         502000,
         "CraftGossip.com",
         "Toilet Paper Roll Crafts,Cardboard Crafts,Diy Paper,Paper Crafting,Toilet Paper Rolls,Cardboard Playhouse,Paper Art,Kids Crafts,Toddler Crafts",
         "image",
         "https://i.pinimg.com/originals/c6/cd/0d/c6cd0d04da9cfc11566cfd34eeb1f918.jpg",
         "/data/diy-and-crafts",
         "diy-and-crafts"
        ],
        [
         9875,
         "782dcbad-ff91-40a6-ba60-216efe29adb7",
         "European Bucket List: 35 Things NOT To Miss When Traveling Europe",
         "35 European bucket list destinations for any traveler heading to Europe. From Cinque Terre, Italy to Iceland - there are so many amazing sites to see in Europe.",
         28000,
         "Nicki ",
         "Backpacking Europe,Europe Travel Guide,Travel Guides,Travel Packing,Traveling Europe,Travelling,Travel Backpack,Budget Travel,2 Week Europe Itinerary",
         "image",
         "https://i.pinimg.com/originals/71/04/1a/71041ad83ede43d9665741e719c58a86.jpg",
         "/data/travel",
         "travel"
        ],
        [
         2418,
         "da8745a6-5160-46c4-877d-181d50a729fd",
         "100 DIY Christmas Centerpieces You'll Love To Decorate Your Home With For The Christmas Season - Hike n Dip",
         "Here are the best DIY Christmas Centerpieces ideas perfect for your Christmas & holiday season home decor. From Christmas Vignettes to Table Centerpieces.",
         500000,
         "HikenDip",
         "Farmhouse Christmas Decor,Rustic Christmas,Christmas Time,Vintage Christmas,Xmas,Primitive Christmas Crafts,Christmas Vignette,Indoor Christmas Decorations,Diy Christmas Ornaments",
         "image",
         "https://i.pinimg.com/originals/aa/6d/0f/aa6d0f44d7c1c96b998cb9aa6c4446b8.png",
         "/data/christmas",
         "christmas"
        ],
        [
         3156,
         "fa6e31a4-18c2-4eca-a6d8-e903eee2c2a4",
         "Handprint Reindeer Ornaments - Crafty Morning",
         "This post may contain affiliate links, read our Disclosure Policy for more information. As an Amazon Associate I earn from qualifying purchases, thank you! Make some cute handpr… ",
         892000,
         "Michelle {CraftyMorning.com}",
         "Christmas Gifts For Parents,Christmas Decorations For Kids,Christmas Crafts For Toddlers,Preschool Christmas,Christmas Crafts For Gifts,Christmas Activities,Toddler Crafts,Kids Christmas,Christmas Feeling",
         "image",
         "https://i.pinimg.com/originals/ff/fe/38/fffe384f3ec18a0d87cb2d80cc8c1499.jpg",
         "/data/diy-and-crafts",
         "diy-and-crafts"
        ],
        [
         428,
         "610b3f83-9fe0-469d-946c-d16b577fca71",
         "Fashion Designer Isaac Mizrahi’s Updated 1930s New York City Apartment",
         "Fashion designer Issac Mizrahi’s Greenwich Village home is an amalgamation of three apartments that was 20 years in the making",
         3000000,
         "Architectural Digest",
         "Modern Art,Contemporary Art,Contemporary Kitchens,Contemporary Bedroom,New York City Apartment,Manhattan Apartment,Art Moderne,Architectural Digest,Painting Inspiration",
         "image",
         "https://i.pinimg.com/originals/f4/6c/54/f46c546a2e480022a42d842b7dca157e.jpg",
         "/data/art",
         "art"
        ],
        [
         7343,
         "b8c63a95-6fe8-4d7f-9455-1eef3462fee0",
         "This Fashion Rule Is Nonsense, And We Should All Forget About It",
         "Black And Brown Outfits You Need To Try This Fall Season. The trick with black and brown outfits is to know how to combine colors, fabrics, and shapes to get a cohesive look. So… ",
         1000000,
         "Cultura Colectiva",
         "Winter Outfits Men,Stylish Mens Outfits,Casual Outfits,Men Casual,Smart Casual,Outfits For Men,Fall Outfits,Mens Winter Boots,Business Casual Men",
         "image",
         "https://i.pinimg.com/originals/3e/49/09/3e4909c0ccc4dbba3cad83d97eab4a61.png",
         "/data/mens-fashion",
         "mens-fashion"
        ],
        [
         2074,
         "86ed09a7-842d-496d-9501-010c654eb340",
         "35 Christmas Decorating Ideas We Bet You Haven't Thought Of",
         "20 Christmas Decorating Ideas We Bet You Haven't Thought Of via @PureWow",
         868000,
         "PureWow",
         "Holiday Centerpieces,Xmas Decorations,Centerpiece Ideas,Table Centerpieces,Valentine Decorations,Wedding Centerpieces,Outdoor Decorations,Christmas Centerpieces With Candles,Christmas Dining Table Decorations",
         "image",
         "https://i.pinimg.com/originals/e9/b9/f0/e9b9f01cc3b2cf41948b45854335396c.jpg",
         "/data/christmas",
         "christmas"
        ],
        [
         9979,
         "2b2abc85-fc51-481f-8ae6-17681993da28",
         "Paris in the Summer. 10 fun things to do in Paris in the Summertime • Petite in Paris",
         "Are you traveling to Paris during the summer? Find out what to do in Paris, France during the summer. Fun summertime activities in Paris. Enjoy the incredible outdoors when trav… ",
         3000,
         "Petite in Paris",
         "Torre Eiffel Paris,Tour Eiffel,Picnic In Paris,Hello France,Voyage Europe,Destination Voyage,Beautiful Places To Travel,Travel Aesthetic,Paris Travel",
         "image",
         "https://i.pinimg.com/originals/6c/4c/90/6c4c90bba27ebf8c8bfe4c1acfb9f07a.jpg",
         "/data/travel",
         "travel"
        ],
        [
         10138,
         "927c4658-cc3f-4b92-9b5c-70743d0c238d",
         "14 Amazing Things To Do In Costa Rica | Volcanoes, Waterfalls, Wildlife And More",
         "This Costa Rica itinerary is the ultimate guide to spending two weeks in Costa Rica. Find out about visiting La Fortuna, Arenal, Monteverde, Naranjo, Corcovado National Park, Or… ",
         10000,
         "Wanderlust Chloe ✈️ Travel guides, inspo and adventure travel ✈️",
         "Costa Rica Travel,Rio Celeste Costa Rica,Dream Vacations,Vacation Spots,Vacation Travel,Travel Pictures,Travel Photos,Fortuna Costa Rica,Costa Rica Pictures",
         "image",
         "https://i.pinimg.com/originals/30/93/cb/3093cb01d9de2d125fda8ba5e3e41946.jpg",
         "/data/travel",
         "travel"
        ],
        [
         9672,
         "1a5050a4-ac82-472c-aeff-3457de8bbee9",
         "Lake Moraine, Banff, Canada",
         "On our Calgary to Vancouver road trip we got to spend time in Banff, Canada. We visited the stunning Lake Moraine as well as Lake Louise and plenty of other of Canada's natural… ",
         7000,
         "Travel Mad Mum",
         "Beautiful Places To Travel,Cool Places To Visit,Beautiful Roads,Beautiful Scenery,Wonderful Places,Lac Moraine,Moraine Lake,Lac Louise,Natur Wallpaper",
         "video",
         "https://i.pinimg.com/videos/thumbnails/originals/57/9d/52/579d52242ae5609978c754d393e44e81.0000001.jpg",
         "/data/travel",
         "travel"
        ],
        [
         8653,
         "24b1343c-4d86-4705-8ec9-7f1f2df2d77e",
         "Unique Women Tattoos Ideas 2020",
         "We welcome you to our latest collection of Beautiful Tattoo Ideas For Women. Check out and get inspired by the most beautiful design for yourself.",
         21000,
         "ALL FOR WOMAN",
         "Small Back Tattoos,Small Girl Tattoos,Little Tattoos,Tattoo Girls,Mini Tattoos,Tattoo Small,Back Tattoo Women,Tattoo On Back,Girl Back Tattoos",
         "image",
         "https://i.pinimg.com/originals/fa/cf/7c/facf7cd752a4bc7c09faaa8925ab80b1.jpg",
         "/data/tattoos",
         "tattoos"
        ],
        [
         8887,
         "5df9f6e5-07f5-4ce8-a82e-96586bbc05d8",
         "25 Ultra Sexy Back Tattoo Ideas For Girls",
         "Tattoos are one of the most efficient ways through which one decides to express themselves…",
         4000,
         "RapidLeaks",
         "Dream Tattoos,Body Art Tattoos,New Tattoos,Small Tattoos,Cross Tattoos,Random Tattoos,Fashion Tattoos,Bird Tattoos,Fitness Tattoos",
         "image",
         "https://i.pinimg.com/originals/ab/8e/50/ab8e505b04d4abc8f23e273c15f8a65d.jpg",
         "/data/tattoos",
         "tattoos"
        ],
        [
         7922,
         "a584581c-1b38-4731-a1cc-f36115ecf229",
         "45 Top Life Quotes School Did Not Teach You",
         "summcoco gives you inspiration for the women fashion trends you want. Thinking about a new look or lifestyle? This is your ultimate resource to get the hottest trends. 45 Top Li… ",
         306000,
         "Sumcoco | Decor Ideas, Hairstyles, Nails Fashion Advice",
         "Life Quotes Love,Inspirational Quotes About Love,Mood Quotes,Motivational Quotes,Tears Quotes,Quotes About Sadness,Deep Quotes About Life,Quotes Quotes,Quote Life",
         "image",
         "https://i.pinimg.com/originals/bb/c0/e6/bbc0e6a797079505f11ac12bcb0b8c66.jpg",
         "/data/quotes",
         "quotes"
        ],
        [
         1014,
         "9ac94307-bb27-410e-b554-0a0ab6c19847",
         "Hairstyles & Beauty",
         "Untitled",
         0,
         "Grecia Perales",
         "Hair Inspo,Hair Inspiration,Motivation Inspiration,Cl Rapper,Foto Glamour,Kreative Portraits,Classy Aesthetic,Pretty Hairstyles,Hair Looks",
         "image",
         "https://i.pinimg.com/originals/af/c4/59/afc459bd6e1fd8f9aef212504afebf3a.jpg",
         "/data/beauty",
         "beauty"
        ],
        [
         4913,
         "4d2d79c6-9ca8-46c9-a38e-931c5d967804",
         "How to Work From Home as an Event Planner",
         "Do you love planning parties? Do you want to work-at-home? This post covers everything you need to know about becoming a home-based event planner!",
         110000,
         "The Work at Home Woman",
         "Event Planning Tips,Event Planning Business,Party Planning,Business Ideas,Craft Business,Business Chic,Business Inspiration,Business Goals,Business Opportunities",
         "image",
         "https://i.pinimg.com/originals/4d/a3/a4/4da3a4730418239f1b43ce81fb032c15.jpg",
         "/data/event-planning",
         "event-planning"
        ],
        [
         4137,
         "bf275054-4464-448b-9143-1bf101aa366d",
         "15 Essential Classroom Items For First Year Teachers / First Year Teacher Must Haves",
         "15 Essential Classroom Items For First Year Teachers / First Year Teacher Must Haves",
         5000,
         "Write Your Story | Budgeting, Healthy Lifestyle, Faith",
         "1st Year Teachers,First Year Teaching,First Grade Teachers,Elementary Teacher,Montessori Elementary,Teaching Reading,History Teachers,High School Classroom,First Grade Classroom",
         "image",
         "https://i.pinimg.com/originals/4b/b9/a8/4bb9a85f609a8384ed9c9ab14e7bcea0.jpg",
         "/data/education",
         "education"
        ],
        [
         7166,
         "4a844b03-e161-47a1-904b-591eb5dc4fb1",
         "The Killers - Mr. Brightside - Women's T-Shirt - Heather Dark Grey / S",
         "Women's T-shirt. Design inspired by the rock band The Killers' hit \"Mr. Brightside\". One of the greatest song from the album Hot Fuss released in 2004. Soft and light, 100% cott… ",
         27,
         "Mala Rock | Rock T-shirts",
         "Mr Brightside,Rock T Shirts,Greatest Songs,Timeless Classic,Rock Bands,Album,T Shirts For Women,Inspired,Hot",
         "image",
         "https://i.pinimg.com/originals/8c/42/39/8c42391d35fcad51a4a79f7cd81bf26d.jpg",
         "/data/mens-fashion",
         "mens-fashion"
        ],
        [
         9546,
         "efd5b2d6-2f69-40cd-bb59-41f18c089e52",
         "20 Amazing Trips to Take in Your Twenties!",
         "The best trips to take when you are young!",
         89000,
         "The World Pursuit Travel Website",
         "Fun Places To Go,Beautiful Places To Travel,Best Places To Travel,Travel Jobs,Holiday Places,Future Travel,Travel Around The World,Adventure Travel,Travel Photos",
         "video",
         "https://i.pinimg.com/videos/thumbnails/originals/81/97/c1/8197c1beef8bcb19bea5d8b422211f34.0000001.jpg",
         "/data/travel",
         "travel"
        ],
        [
         2411,
         "4e11801e-7a64-4f1e-90dd-e900677595c5",
         "The Sweetest Gingerbread House Ornaments Kids Can Make",
         "Transform mini terra cotta pots into the sweetest gingerbread house ornaments! Kids will love making this adorable Christmas craft to hang on the tree.",
         20000,
         "Projects with Kids",
         "Noel Christmas,Diy Christmas Ornaments,Homemade Christmas,Simple Christmas,Gingerbread Ornaments,Christmas Gingerbread,Gingerbread Houses,Preschool Christmas,Ornaments Ideas",
         "image",
         "https://i.pinimg.com/originals/13/28/09/1328097d7c290d1bf8642b01a6ba1c6c.jpg",
         "/data/christmas",
         "christmas"
        ],
        [
         9590,
         "b849e976-52f6-45d7-8b25-51559318f167",
         "Top 20 Things To See And Do In Ireland",
         "Best spots to see for travel through Ireland!",
         130000,
         "Fun Life Crisis",
         "Vacation Ideas,Vacation Spots,Emerald Isle,London England,Travel Guides,Travel Tips,Travel Hacks,Travel Packing,Places To Travel",
         "image",
         "https://i.pinimg.com/originals/c7/50/d3/c750d36524856873d64406652d69b4fb.png",
         "/data/travel",
         "travel"
        ],
        [
         2698,
         "73f16302-4871-486a-8836-947530526337",
         "DIY Dollar Tree Valentine's Day Wreath",
         "DIY Dollar Store Valentine’s Day Heart Wreath Decoration. There are so many great Valentine crafts at the Dollar Tree right now! During our last trip, we picked up a few supplie… ",
         9000,
         "South Lumina Style",
         "Valentine Day Wreaths,Valentines Day Hearts,Valentines Day Decorations,Valentine Day Crafts,Holiday Crafts,Diy Christmas,Christmas Wreaths,Valentine Tree,Printable Valentine",
         "image",
         "https://i.pinimg.com/originals/dc/f6/8a/dcf68adcc63c339c24fa5664f1115994.png",
         "/data/diy-and-crafts",
         "diy-and-crafts"
        ],
        [
         4508,
         "9064f4a2-2753-476c-815e-db360f45a93e",
         "Custom Event and Shop Neon Sign Lights - Event & Shop",
         "Personalize your event or shop with a customized neon sign. Make a statement with your own custom vibes! This light is 32 -40 inches (80cm-100cm) if you need something bigger, p… ",
         111,
         "Life of Neon | Custom Neon Light Signs | Home Decor Wall Art",
         "Our Wedding,Wedding Venues,Dream Wedding,Wedding Cakes,Church Wedding,Wedding Flowers,Lace Wedding,Wedding Rings,Wedding Dresses",
         "image",
         "https://i.pinimg.com/originals/e9/c0/7c/e9c07cf0cf16cab23764a36718ab76c1.jpg",
         "/data/event-planning",
         "event-planning"
        ],
        [
         831,
         "5e65914d-9f58-4ff1-9676-658e426e8ce5",
         "creating mixed-media faces tutorial",
         "Free quick inspirational video on creating a mixed media face with acrylic, collage, stenciling and simple techniques. Come on over to watch",
         27000,
         "Shawn Petite",
         "Collage Kunst,Paper Collage Art,Collage Art Mixed Media,Mixed Media Painting,Mixed Media Canvas,Canvas Collage,Art Collages,Wall Canvas,Canvas Art",
         "video",
         "https://i.pinimg.com/videos/thumbnails/originals/05/86/a4/0586a4116e1fc34efc25e064ccd123e8.0000001.jpg",
         "/data/art",
         "art"
        ],
        [
         5076,
         "fa3af29c-dc78-4eed-a4c5-52a407ea04c0",
         "Quiz: Test Your Event IQ! - Pointers For Planners",
         "So you're thinking of getting your event planner certification, but how much do you REALLY know about event planning? Event planners need to be knowledgeable and able to answer… ",
         5000,
         "QC Career School",
         "Diy Wedding Food,Best Wedding Makeup,Wedding Events,Wedding Tips,Wedding Stuff,Weddings,Event Planning Business,Business Events,Wedding Makeup Tutorial",
         "image",
         "https://i.pinimg.com/originals/6f/19/bc/6f19bce24921bf843540fc04da9eb6bf.jpg",
         "/data/event-planning",
         "event-planning"
        ],
        [
         10663,
         "d5208c16-82ae-4fd1-87f0-36e5ef789412",
         "21+ Classic Car Picture of the 1950s - Vintagetopia",
         "There are a lot of options of places to stay so you probably only have to book the initial one so you know the best place to land from the airport",
         171000,
         "vintagetopia",
         "Old Classic Cars,Classic Trucks,Old Vintage Cars,Antique Cars,Vintage Trucks,Antique Trucks,Cadillac,Convertible,Mustang",
         "image",
         "https://i.pinimg.com/originals/e9/01/4d/e9014d537dd2b81c606e8466cef3904c.jpg",
         "/data/vehicles",
         "vehicles"
        ],
        [
         5468,
         "91ee49f6-0070-4270-ba19-fde88ba51c91",
         "Budgets, Spouses & Making It Work! - Tshanina Peterson",
         "Don't fight about budgets and money with your spouse! Here are a few tips that we've found that make it work in our marriage!",
         313,
         "Annamarie Hilton",
         "Ways To Save Money,Money Tips,Money Saving Tips,How To Make Money,Managing Money,Saving Time,College Fund,Scholarships For College,Education College",
         "image",
         "https://i.pinimg.com/originals/37/d5/82/37d58296bcef3471a633c76b89d8625e.jpg",
         "/data/finance",
         "finance"
        ],
        [
         205,
         "f4afd543-b9fe-44c3-8064-f2198faa1372",
         "DIY Abstract Heart Painting and a Fun Paint Party",
         "Use our easy step by step tutorial to create a DIY abstract heart painting on any canvas size. Lots of inspiration to help you choose colors.",
         410000,
         "The Creativity Exchange",
         "Painting & Drawing,Watercolor Paintings,Original Paintings,Owl Watercolor,Acrylic Paintings,Owl Art,Bird Art,Beginner Painting,Animal Paintings",
         "image",
         "https://i.pinimg.com/originals/33/85/f8/3385f82ee5e8ecdcccdf798bdcbee3d2.jpg",
         "/data/art",
         "art"
        ],
        [
         7790,
         "9cd89fb9-d1af-4e66-85ca-c9d656c918b4",
         "50 Heart Touching Sad Quotes That Will Make You Cry",
         "Are you looking for some heart touching sad quotes and sayings; Here we have collected for you 50 best heart touching sad quotes..",
         112,
         "AnnaLee Kick",
         "Crush Quotes For Girls,Sad Crush Quotes,Hurt Quotes,Love Me Quotes,Mood Quotes,Quotes To Live By,Life Quotes,Quotes Quotes,Sad Quotes That Make You Cry",
         "image",
         "https://i.pinimg.com/originals/0c/0f/40/0c0f408d96458080e0c82adb50be8e8f.jpg",
         "/data/quotes",
         "quotes"
        ],
        [
         8606,
         "71757040-bfc8-4631-9cac-22801e61d9e3",
         "30+ Eagle Tattoos Ideas for Women",
         "summcoco gives you inspiration for the women fashion trends you want. Thinking about a new look or lifestyle? This is your ultimate resource to get the hottest trends. 30+ Eagle… ",
         306000,
         "Sumcoco | Decor Ideas, Hairstyles, Nails Fashion Advice",
         "White Bird Tattoos,Rose Tattoos,Flower Tattoos,Tattoo Black,Bird And Flower Tattoo,Tattoo Floral,Mini Tattoos,Flower Art,Girls With Sleeve Tattoos",
         "image",
         "https://i.pinimg.com/originals/8d/c6/ed/8dc6ed0b212393187a14c7d07a88060f.png",
         "/data/tattoos",
         "tattoos"
        ],
        [
         9759,
         "d105eb6e-0f9f-46e7-8d02-d24b62f6ae90",
         "8 Best Greek Islands You Have To Visit - TheFab20s",
         "Although you'd think Greek islands are fairly similar, you'd be completely wrong! Each island has it's own personality and appeal. Here are the 8 Best Greek Islands to visit, es… ",
         42000,
         "TheFab20s | Travel+Food+DIY+Listicles",
         "Greek Islands To Visit,Best Greek Islands,Greece Islands,Cool Places To Visit,Places To Go,Best Places In Portugal,Copenhagen Travel,Paros Island,Santorini Island",
         "image",
         "https://i.pinimg.com/originals/06/1d/ce/061dce38929dec8e74844442116bea4a.jpg",
         "/data/travel",
         "travel"
        ],
        [
         719,
         "d7c53e34-9540-4f48-a31b-89b6ed1852bb",
         "10 Art Sub Lessons that only need a Pencil",
         "10 art sub lessons that only need a pencil. Cover lessons for art teachers. Make the perfect art sub lessson folder with this amazing resources.",
         25000,
         "The Arty Teacher",
         "Art Lessons For Kids,Art Lessons Elementary,Art For Kids,Art Sub Plans,Art Lesson Plans,Art Substitute Plans,High School Art,Middle School Art,Primary School Art",
         "image",
         "https://i.pinimg.com/originals/ee/a8/78/eea878911033897d981a69d9f6b2fb7c.png",
         "/data/art",
         "art"
        ],
        [
         1704,
         "5fbf9863-fb79-477c-a5b6-540c3020a55f",
         "Christmas Trees From Pallet Wood | Holiday DIY",
         "Christmas Trees From Pallet Wood | Holiday DIY: Deck the yard with some fun outdoor Christmas Trees! We made these merry and bright decorations from two old pallets we had lying… ",
         3000000,
         "Instructables",
         "Pallet Wood Christmas Tree,Wooden Christmas Crafts,Diy Christmas Tree,Christmas Projects,Holiday Crafts,Wooden Xmas Trees,Different Christmas Trees,Pallet Tree,Christmas Kitchen",
         "image",
         "https://i.pinimg.com/originals/64/7b/ca/647bca35169b7c144604116c64bcba8a.png",
         "/data/christmas",
         "christmas"
        ],
        [
         2482,
         "08604f20-fa17-4b9a-9949-781717eca6cd",
         "FORNT PORCH CHRISTMAS DECORATING IDEAS",
         "Christmas decorating ideas for porches. Beautiful holiday decor ideas for front porches both small and large. Outdoor decorations like sleds, lanterns, Christmas trees, wreaths,… ",
         46000,
         "Life on Summerhill | Home, Holiday Decor & DIY Website",
         "Diy Christmas Decorations For Home,Farmhouse Christmas Decor,Christmas Home,Christmas Holidays,Christmas Front Porches,How To Decorate For Christmas,Christmas Porch Ideas,Christmas Decorating Ideas,Large Outdoor Christmas Decorations",
         "video",
         "https://i.pinimg.com/videos/thumbnails/originals/40/83/f5/4083f5b4971bf235f89a4784ab87271e.0000001.jpg",
         "/data/christmas",
         "christmas"
        ],
        [
         8930,
         "a2999c28-f7b2-4577-af87-49d21d6d8a18",
         "135 Sunflower Tattoo Ideas - [Best Rated Designs in 2021]",
         "We have put together the Ultimative Sunflower Tattoo Collection in 2020. Check out our highest rated handpicked Sunflower designs here!",
         800000,
         "Next Luxury",
         "Sunflower Tattoo Sleeve,Sunflower Tattoo Shoulder,Sunflower Tattoo Small,Sunflower Tattoos,Sunflower Tattoo Design,Shoulder Tattoo,Sunflower Mandala Tattoo,Sunflower Tattoo Meaning,Form Tattoo",
         "image",
         "https://i.pinimg.com/originals/18/de/6c/18de6c81a8637e224c7d63dce1414ceb.jpg",
         "/data/tattoos",
         "tattoos"
        ],
        [
         7294,
         "9d8409ef-bea7-4133-a021-c58b9c042210",
         "Foolproof Fall Fashion For Men You'll Love",
         "Looking for the coolest fall fashion for men this season? Click to read this article on fall fashion for men to look sharp on LLEGANCE.",
         28000,
         "LLEGANCE | Workwear Fashion Woman Advice For Driven Professionals",
         "Fashion 90s,Autumn Fashion,Fashion Ideas,Trendy Fashion,Fashion Photo,Fashion Outfits,Fashion Trends,Urban Fashion Men,Men's Casual Fashion",
         "image",
         "https://i.pinimg.com/originals/4c/bf/2d/4cbf2d6e04d2502612169220553f4cef.jpg",
         "/data/mens-fashion",
         "mens-fashion"
        ],
        [
         808,
         "23f67e42-db9f-4aae-8b82-cbec64ad9f4d",
         "Chalk Pastel Hot Chocolate Art Project",
         "Kids will use chalk pastels and black paper to create this bold and bright hot chocolate art project! Easy to follow tutorial included.",
         20000,
         "Projects with Kids",
         "Hot Chocolate Art,Chocolate Crafts,Art Activities For Kids,Preschool Art,Preschool Winter,Christmas Activities,Winter Art Projects,Clay Art Projects,Chalk Pastel Art",
         "image",
         "https://i.pinimg.com/originals/5a/d3/82/5ad38202cf8acb022cb8f46ce2a78ad6.jpg",
         "/data/art",
         "art"
        ],
        [
         771,
         "a5021766-a8aa-4dc7-9857-4da6b8e3dc1a",
         "African Sunset Shadow Tracing Art - Taming Little Monsters",
         "Use your mini world figures to create this beautiful African sunset. Your kids will love learning about shadows, angles and distortion in this fun art and STEM activity for kids.",
         4000,
         "Taming Little Monsters - Fun Activities for Kids",
         "African Art Projects,Cool Art Projects,Projects For Kids,African Art For Kids,African Crafts Kids,Art Club Projects,Art Education Projects,Tracing Art,African Sunset",
         "image",
         "https://i.pinimg.com/originals/e3/aa/35/e3aa350f8f104d0e59f26d7f17ea7461.png",
         "/data/art",
         "art"
        ],
        [
         7528,
         "fbe53c66-3442-4773-b19e-d3ec6f54dddf",
         null,
         null,
         null,
         null,
         null,
         "multi-video(story page format)",
         "Image src error.",
         "/data/mens-fashion",
         "mens-fashion"
        ],
        [
         2863,
         "9bf39437-42a6-4f02-99a0-9a0383d8cd70",
         "25 Super Fun Summer Crafts for Kids - Of Life and Lisa",
         "Keep the kids busy this summer with these easy diy crafts and projects. Creative and…",
         124000,
         "Of Life & Lisa | Lifestyle Blog",
         "Summer Crafts For Kids,Fun Crafts For Kids,Summer Kids,Toddler Crafts,Crafts To Do,Diy For Kids,Summer Snow,Diys For Summer,Craft Ideas For Girls",
         "image",
         "https://i.pinimg.com/originals/b3/bc/e2/b3bce2964e8c8975387b39660eed5f16.jpg",
         "/data/diy-and-crafts",
         "diy-and-crafts"
        ]
       ],
       "datasetInfos": [],
       "dbfsResultPath": null,
       "isJsonSchema": true,
       "metadata": {},
       "overflow": false,
       "plotOptions": {
        "customPlotOptions": {},
        "displayType": "table",
        "pivotAggregation": null,
        "pivotColumns": null,
        "xColumns": null,
        "yColumns": null
       },
       "removedWidgets": [],
       "schema": [
        {
         "metadata": "{}",
         "name": "ind",
         "type": "\"integer\""
        },
        {
         "metadata": "{}",
         "name": "unique_id",
         "type": "\"string\""
        },
        {
         "metadata": "{}",
         "name": "title",
         "type": "\"string\""
        },
        {
         "metadata": "{}",
         "name": "description",
         "type": "\"string\""
        },
        {
         "metadata": "{}",
         "name": "follower_count",
         "type": "\"integer\""
        },
        {
         "metadata": "{}",
         "name": "poster_name",
         "type": "\"string\""
        },
        {
         "metadata": "{}",
         "name": "tag_list",
         "type": "\"string\""
        },
        {
         "metadata": "{}",
         "name": "is_image_or_video",
         "type": "\"string\""
        },
        {
         "metadata": "{}",
         "name": "image_src",
         "type": "\"string\""
        },
        {
         "metadata": "{}",
         "name": "save_location",
         "type": "\"string\""
        },
        {
         "metadata": "{}",
         "name": "category",
         "type": "\"string\""
        }
       ],
       "type": "table"
      }
     },
     "output_type": "display_data"
    }
   ],
   "source": [
    "# List of the common no relevant data strings in the pin dataframe\n",
    "value_to_replace = [\"No description available Story format\",\"User Info Error\", \"Image scr error.\", \"User Info Error\", \"N,o, ,T,a,g,s, ,A,v,a,i,l,a,b,l,e\", \"No Title Data Available\"]\n",
    "\n",
    "# The columns where the above strings appear\n",
    "replace_in_column = [\"description\", \"follower_count\", \"image_src\", \"poster_name\", \"tag_list\", \"title\"]\n",
    "\n",
    "# Replaces the no relevant data strings with the None type\n",
    "df_pin = df_pin.replace(value_to_replace, None, subset = replace_in_column)\n",
    "\n",
    "# Searches for (k, M) and replaces with (000, 000000) in the follower_count column\n",
    "df_pin = df_pin.withColumn(\"follower_count\", regexp_replace(\"follower_count\", \"M\", \"000000\"))\n",
    "df_pin = df_pin.withColumn(\"follower_count\", regexp_replace(\"follower_count\", \"k\", \"000\"))\n",
    "\n",
    "# Removes the string \"Local save in \" from the save_location column\n",
    "df_pin = df_pin.withColumn(\"save_location\", regexp_replace(\"save_location\", \"Local save in \", \"\"))\n",
    "\n",
    "# Cast follower_count column from string to integer\n",
    "df_pin = df_pin.withColumn(\"follower_count\", col(\"follower_count\").cast(\"int\"))\n",
    "\n",
    "# Reorder columns\n",
    "df_pin = df_pin.select(df_pin.ind, \"unique_id\", df_pin.title, df_pin.description, df_pin.follower_count, df_pin.poster_name, df_pin.tag_list, df_pin.is_image_or_video, df_pin.image_src, df_pin.save_location, df_pin.category)"
   ]
  },
  {
   "cell_type": "code",
   "execution_count": 0,
   "metadata": {
    "application/vnd.databricks.v1+cell": {
     "cellMetadata": {
      "byteLimit": 2048000,
      "rowLimit": 10000
     },
     "inputWidgets": {},
     "nuid": "b5d11ca8-c207-447c-9ea2-f9d0b2323036",
     "showTitle": false,
     "tableResultSettingsMap": {},
     "title": ""
    }
   },
   "outputs": [],
   "source": [
    "# Combines the latitube and longitude columns into column of arrays\n",
    "df_geo = df_geo.withColumn(\"coordinates\", array(\"latitude\", \"longitude\"))\n",
    "\n",
    "# Removes the now redundant latitude and longitude columns\n",
    "df_geo = df_geo.drop(\"latitude\", \"longitude\")\n",
    "\n",
    "# Reorder columns\n",
    "df_geo = df_geo.select(df_geo.ind, df_geo.country, df_geo.coordinates, df_geo.timestamp)"
   ]
  },
  {
   "cell_type": "code",
   "execution_count": 0,
   "metadata": {
    "application/vnd.databricks.v1+cell": {
     "cellMetadata": {
      "byteLimit": 2048000,
      "rowLimit": 10000
     },
     "inputWidgets": {},
     "nuid": "4f97dc3a-d8cc-400f-9a75-c00300b2b0c9",
     "showTitle": false,
     "tableResultSettingsMap": {},
     "title": ""
    }
   },
   "outputs": [],
   "source": [
    "# Combines the first_name and last_name columns into a single column\n",
    "df_user = df_user.withColumn(\"user_name\", concat(\"first_name\", lit(\" \"), \"last_name\"))\n",
    "\n",
    "# Removes the first_name and last_name columns\n",
    "df_user = df_user.drop(\"first_name\", \"last_name\")\n",
    "\n",
    "# Reorder columns\n",
    "df_user = df_user.select(df_user.ind, df_user.user_name, df_user.age, df_user.date_joined)"
   ]
  },
  {
   "cell_type": "code",
   "execution_count": 0,
   "metadata": {
    "application/vnd.databricks.v1+cell": {
     "cellMetadata": {
      "byteLimit": 2048000,
      "rowLimit": 10000
     },
     "inputWidgets": {},
     "nuid": "03875e2d-3462-4815-91a6-d68f768a3ff2",
     "showTitle": false,
     "tableResultSettingsMap": {},
     "title": ""
    }
   },
   "outputs": [
    {
     "output_type": "execute_result",
     "data": {
      "text/plain": [
       "True"
      ]
     },
     "execution_count": 122,
     "metadata": {},
     "output_type": "execute_result"
    }
   ],
   "source": [
    "# Save streamed dataframed in a delta table \n",
    "df_pin.writeStream\\\n",
    "  .format(\"delta\")\\\n",
    "  .outputMode(\"append\")\\\n",
    "  .option(\"checkpointLocation\", \"/tmp/kinesis/_checkpoints\")\\\n",
    "  .table(\"0affe94cc7d3_pin_table\")\n",
    "\n",
    "# Save streamed dataframed in a delta table\n",
    "df_geo.writeStream\\\n",
    "  .format(\"delta\")\\\n",
    "  .outputMode(\"append\")\\\n",
    "  .option(\"checkpointLocation\", \"/tmp/kinesis/_checkpoints\")\\\n",
    "  .table(\"0affe94cc7d3_geo_table\")\n",
    "\n",
    "# Save streamed dataframed in a delta table\n",
    "df_user.writeStream\\\n",
    "  .format(\"delta\")\\\n",
    "  .outputMode(\"append\")\\\n",
    "  .option(\"checkpointLocation\", \"/tmp/kinesis/_checkpoints\")\\\n",
    "  .table(\"0affe94cc7d3_user_table\")\n",
    "\n",
    "# Delete the temp checkpoint file\n",
    "dbutils.fs.rm(\"/tmp/kinesis/_checkpoints/\", True)"
   ]
  },
  {
   "cell_type": "code",
   "execution_count": 0,
   "metadata": {
    "application/vnd.databricks.v1+cell": {
     "cellMetadata": {
      "byteLimit": 2048000,
      "implicitDf": true,
      "rowLimit": 10000
     },
     "inputWidgets": {},
     "nuid": "a3499e1e-5df2-4684-86de-92c04f31b7df",
     "showTitle": false,
     "tableResultSettingsMap": {},
     "title": ""
    }
   },
   "outputs": [
    {
     "output_type": "display_data",
     "data": {
      "text/html": [
       "<style scoped>\n",
       "  .table-result-container {\n",
       "    max-height: 300px;\n",
       "    overflow: auto;\n",
       "  }\n",
       "  table, th, td {\n",
       "    border: 1px solid black;\n",
       "    border-collapse: collapse;\n",
       "  }\n",
       "  th, td {\n",
       "    padding: 5px;\n",
       "  }\n",
       "  th {\n",
       "    text-align: left;\n",
       "  }\n",
       "</style><div class='table-result-container'><table class='table-result'><thead style='background-color: white'><tr><th>ind</th><th>user_name</th><th>age</th><th>date_joined</th></tr></thead><tbody><tr><td>8610</td><td>Amy Brown</td><td>21</td><td>2015-11-08</td></tr><tr><td>9014</td><td>Luke Carter</td><td>37</td><td>2016-01-13</td></tr><tr><td>8433</td><td>Christopher Andrews</td><td>33</td><td>2016-08-31</td></tr><tr><td>10567</td><td>Brandon Valdez</td><td>22</td><td>2017-05-29</td></tr><tr><td>6892</td><td>Mark Adams</td><td>46</td><td>2015-11-19</td></tr><tr><td>2016</td><td>Lindsey Brown</td><td>21</td><td>2017-04-03</td></tr><tr><td>1128</td><td>Gregory Barnett</td><td>20</td><td>2016-03-29</td></tr><tr><td>9608</td><td>Melanie Stuart</td><td>49</td><td>2016-03-30</td></tr><tr><td>10678</td><td>Adam Acosta</td><td>20</td><td>2015-10-21</td></tr><tr><td>7954</td><td>Aaron Abbott</td><td>20</td><td>2015-10-23</td></tr><tr><td>2851</td><td>Abigail Adams</td><td>20</td><td>2015-10-25</td></tr><tr><td>918</td><td>James Chapman</td><td>34</td><td>2017-05-05</td></tr><tr><td>820</td><td>Adam Acosta</td><td>20</td><td>2015-10-21</td></tr><tr><td>9968</td><td>Kristie Anthony</td><td>54</td><td>2016-12-29</td></tr><tr><td>7970</td><td>Amber Bean</td><td>20</td><td>2016-07-01</td></tr><tr><td>8029</td><td>Aaron Abbott</td><td>20</td><td>2015-10-23</td></tr><tr><td>2823</td><td>April Anderson</td><td>21</td><td>2016-12-04</td></tr><tr><td>4546</td><td>James Dixon</td><td>26</td><td>2016-06-13</td></tr><tr><td>5467</td><td>Adam Cole</td><td>23</td><td>2015-11-15</td></tr><tr><td>5671</td><td>Abigail Ali</td><td>20</td><td>2015-10-24</td></tr><tr><td>3495</td><td>Alexandria Alvarado</td><td>20</td><td>2015-10-23</td></tr><tr><td>6722</td><td>Andrew Clements</td><td>27</td><td>2015-11-30</td></tr><tr><td>8601</td><td>Courtney Anderson</td><td>20</td><td>2015-12-07</td></tr><tr><td>6641</td><td>Adrienne Barrett</td><td>22</td><td>2015-11-04</td></tr><tr><td>5261</td><td>Destiny Parker</td><td>48</td><td>2017-01-18</td></tr><tr><td>6679</td><td>Barbara Brown</td><td>28</td><td>2016-05-13</td></tr><tr><td>4411</td><td>Denise Lyons</td><td>24</td><td>2016-04-02</td></tr><tr><td>3866</td><td>Jonathan Burch</td><td>22</td><td>2016-12-04</td></tr><tr><td>3978</td><td>Natasha Campbell</td><td>39</td><td>2016-01-26</td></tr><tr><td>8112</td><td>Andrew Alexander</td><td>20</td><td>2015-11-20</td></tr><tr><td>99</td><td>Adam Acosta</td><td>20</td><td>2015-10-21</td></tr><tr><td>7937</td><td>Lisa Gibson</td><td>37</td><td>2015-11-19</td></tr><tr><td>10010</td><td>Michael Leach</td><td>20</td><td>2017-09-14</td></tr><tr><td>10774</td><td>Monique Bullock</td><td>54</td><td>2017-01-01</td></tr><tr><td>6650</td><td>Alexandria Anderson</td><td>23</td><td>2015-10-31</td></tr><tr><td>1230</td><td>Gregory Cortez</td><td>27</td><td>2016-01-10</td></tr><tr><td>8329</td><td>James Goodwin</td><td>20</td><td>2016-01-24</td></tr><tr><td>4196</td><td>Anne Atkins</td><td>23</td><td>2016-04-01</td></tr><tr><td>10385</td><td>Aaron Bailey</td><td>20</td><td>2015-11-02</td></tr><tr><td>9106</td><td>Jeremy Hebert</td><td>47</td><td>2017-09-18</td></tr><tr><td>6394</td><td>Sara Reyes</td><td>40</td><td>2016-07-12</td></tr><tr><td>7060</td><td>Bradley Hill</td><td>49</td><td>2016-01-22</td></tr><tr><td>7663</td><td>Brian Gonzales</td><td>50</td><td>2017-07-23</td></tr><tr><td>5535</td><td>David Carter</td><td>30</td><td>2016-02-24</td></tr><tr><td>8555</td><td>Alexander Bailey</td><td>20</td><td>2015-10-30</td></tr><tr><td>8637</td><td>Michael Grant</td><td>28</td><td>2016-09-08</td></tr><tr><td>3856</td><td>Alexandria Alvarado</td><td>20</td><td>2015-10-23</td></tr><tr><td>8407</td><td>David Brooks</td><td>33</td><td>2015-11-14</td></tr><tr><td>9744</td><td>Abigail Ali</td><td>20</td><td>2015-10-24</td></tr><tr><td>1170</td><td>Stacey Stewart</td><td>24</td><td>2017-03-24</td></tr><tr><td>7989</td><td>Bradley Harris</td><td>27</td><td>2016-05-05</td></tr><tr><td>10699</td><td>Wendy Griffin</td><td>34</td><td>2017-06-13</td></tr><tr><td>6011</td><td>Emily Bailey</td><td>21</td><td>2016-02-24</td></tr><tr><td>7981</td><td>Marcus Sparks</td><td>34</td><td>2016-12-24</td></tr><tr><td>9741</td><td>Eric Freeman</td><td>47</td><td>2016-05-29</td></tr><tr><td>3097</td><td>Ashley Patel</td><td>37</td><td>2015-12-14</td></tr><tr><td>2210</td><td>Adrian Allen</td><td>21</td><td>2015-10-21</td></tr><tr><td>6984</td><td>Alejandra Acevedo</td><td>20</td><td>2015-11-24</td></tr><tr><td>1195</td><td>Christopher Craig</td><td>20</td><td>2016-06-24</td></tr><tr><td>7372</td><td>Michelle Miller</td><td>31</td><td>2015-10-21</td></tr><tr><td>3815</td><td>Angela Becker</td><td>26</td><td>2015-11-23</td></tr><tr><td>10571</td><td>Cheryl Matthews</td><td>42</td><td>2017-06-11</td></tr><tr><td>84</td><td>Anthony Adkins</td><td>21</td><td>2015-10-28</td></tr><tr><td>6237</td><td>Brian Brown</td><td>21</td><td>2015-12-01</td></tr><tr><td>10421</td><td>Christopher Swanson</td><td>55</td><td>2016-01-23</td></tr><tr><td>9946</td><td>Leslie Rodriguez</td><td>26</td><td>2016-04-13</td></tr><tr><td>2882</td><td>Allen Patterson</td><td>36</td><td>2016-01-25</td></tr><tr><td>8316</td><td>Jonathan Dixon</td><td>41</td><td>2016-03-24</td></tr><tr><td>10624</td><td>Gail Smith</td><td>33</td><td>2016-12-31</td></tr><tr><td>6533</td><td>Caleb Carpenter</td><td>29</td><td>2016-05-09</td></tr><tr><td>8087</td><td>Justin Ewing</td><td>56</td><td>2016-02-04</td></tr><tr><td>10786</td><td>Tyler Smith</td><td>57</td><td>2016-07-10</td></tr><tr><td>10898</td><td>Aaron Howard</td><td>45</td><td>2015-11-11</td></tr><tr><td>4336</td><td>Andrew Stephens</td><td>23</td><td>2016-05-13</td></tr><tr><td>1160</td><td>David Butler</td><td>35</td><td>2016-08-27</td></tr><tr><td>9052</td><td>Jason Flores</td><td>44</td><td>2016-01-14</td></tr><tr><td>684</td><td>Chad Beard</td><td>28</td><td>2016-01-09</td></tr><tr><td>9170</td><td>Amy Brown</td><td>21</td><td>2015-11-08</td></tr><tr><td>3737</td><td>Alex Banks</td><td>27</td><td>2015-12-13</td></tr><tr><td>6378</td><td>Heather Arellano</td><td>23</td><td>2016-01-02</td></tr></tbody></table></div>"
      ]
     },
     "metadata": {
      "application/vnd.databricks.v1+output": {
       "addedWidgets": {},
       "aggData": [],
       "aggError": "",
       "aggOverflow": false,
       "aggSchema": [],
       "aggSeriesLimitReached": false,
       "aggType": "",
       "arguments": {},
       "columnCustomDisplayInfos": {},
       "data": [
        [
         8610,
         "Amy Brown",
         21,
         "2015-11-08"
        ],
        [
         9014,
         "Luke Carter",
         37,
         "2016-01-13"
        ],
        [
         8433,
         "Christopher Andrews",
         33,
         "2016-08-31"
        ],
        [
         10567,
         "Brandon Valdez",
         22,
         "2017-05-29"
        ],
        [
         6892,
         "Mark Adams",
         46,
         "2015-11-19"
        ],
        [
         2016,
         "Lindsey Brown",
         21,
         "2017-04-03"
        ],
        [
         1128,
         "Gregory Barnett",
         20,
         "2016-03-29"
        ],
        [
         9608,
         "Melanie Stuart",
         49,
         "2016-03-30"
        ],
        [
         10678,
         "Adam Acosta",
         20,
         "2015-10-21"
        ],
        [
         7954,
         "Aaron Abbott",
         20,
         "2015-10-23"
        ],
        [
         2851,
         "Abigail Adams",
         20,
         "2015-10-25"
        ],
        [
         918,
         "James Chapman",
         34,
         "2017-05-05"
        ],
        [
         820,
         "Adam Acosta",
         20,
         "2015-10-21"
        ],
        [
         9968,
         "Kristie Anthony",
         54,
         "2016-12-29"
        ],
        [
         7970,
         "Amber Bean",
         20,
         "2016-07-01"
        ],
        [
         8029,
         "Aaron Abbott",
         20,
         "2015-10-23"
        ],
        [
         2823,
         "April Anderson",
         21,
         "2016-12-04"
        ],
        [
         4546,
         "James Dixon",
         26,
         "2016-06-13"
        ],
        [
         5467,
         "Adam Cole",
         23,
         "2015-11-15"
        ],
        [
         5671,
         "Abigail Ali",
         20,
         "2015-10-24"
        ],
        [
         3495,
         "Alexandria Alvarado",
         20,
         "2015-10-23"
        ],
        [
         6722,
         "Andrew Clements",
         27,
         "2015-11-30"
        ],
        [
         8601,
         "Courtney Anderson",
         20,
         "2015-12-07"
        ],
        [
         6641,
         "Adrienne Barrett",
         22,
         "2015-11-04"
        ],
        [
         5261,
         "Destiny Parker",
         48,
         "2017-01-18"
        ],
        [
         6679,
         "Barbara Brown",
         28,
         "2016-05-13"
        ],
        [
         4411,
         "Denise Lyons",
         24,
         "2016-04-02"
        ],
        [
         3866,
         "Jonathan Burch",
         22,
         "2016-12-04"
        ],
        [
         3978,
         "Natasha Campbell",
         39,
         "2016-01-26"
        ],
        [
         8112,
         "Andrew Alexander",
         20,
         "2015-11-20"
        ],
        [
         99,
         "Adam Acosta",
         20,
         "2015-10-21"
        ],
        [
         7937,
         "Lisa Gibson",
         37,
         "2015-11-19"
        ],
        [
         10010,
         "Michael Leach",
         20,
         "2017-09-14"
        ],
        [
         10774,
         "Monique Bullock",
         54,
         "2017-01-01"
        ],
        [
         6650,
         "Alexandria Anderson",
         23,
         "2015-10-31"
        ],
        [
         1230,
         "Gregory Cortez",
         27,
         "2016-01-10"
        ],
        [
         8329,
         "James Goodwin",
         20,
         "2016-01-24"
        ],
        [
         4196,
         "Anne Atkins",
         23,
         "2016-04-01"
        ],
        [
         10385,
         "Aaron Bailey",
         20,
         "2015-11-02"
        ],
        [
         9106,
         "Jeremy Hebert",
         47,
         "2017-09-18"
        ],
        [
         6394,
         "Sara Reyes",
         40,
         "2016-07-12"
        ],
        [
         7060,
         "Bradley Hill",
         49,
         "2016-01-22"
        ],
        [
         7663,
         "Brian Gonzales",
         50,
         "2017-07-23"
        ],
        [
         5535,
         "David Carter",
         30,
         "2016-02-24"
        ],
        [
         8555,
         "Alexander Bailey",
         20,
         "2015-10-30"
        ],
        [
         8637,
         "Michael Grant",
         28,
         "2016-09-08"
        ],
        [
         3856,
         "Alexandria Alvarado",
         20,
         "2015-10-23"
        ],
        [
         8407,
         "David Brooks",
         33,
         "2015-11-14"
        ],
        [
         9744,
         "Abigail Ali",
         20,
         "2015-10-24"
        ],
        [
         1170,
         "Stacey Stewart",
         24,
         "2017-03-24"
        ],
        [
         7989,
         "Bradley Harris",
         27,
         "2016-05-05"
        ],
        [
         10699,
         "Wendy Griffin",
         34,
         "2017-06-13"
        ],
        [
         6011,
         "Emily Bailey",
         21,
         "2016-02-24"
        ],
        [
         7981,
         "Marcus Sparks",
         34,
         "2016-12-24"
        ],
        [
         9741,
         "Eric Freeman",
         47,
         "2016-05-29"
        ],
        [
         3097,
         "Ashley Patel",
         37,
         "2015-12-14"
        ],
        [
         2210,
         "Adrian Allen",
         21,
         "2015-10-21"
        ],
        [
         6984,
         "Alejandra Acevedo",
         20,
         "2015-11-24"
        ],
        [
         1195,
         "Christopher Craig",
         20,
         "2016-06-24"
        ],
        [
         7372,
         "Michelle Miller",
         31,
         "2015-10-21"
        ],
        [
         3815,
         "Angela Becker",
         26,
         "2015-11-23"
        ],
        [
         10571,
         "Cheryl Matthews",
         42,
         "2017-06-11"
        ],
        [
         84,
         "Anthony Adkins",
         21,
         "2015-10-28"
        ],
        [
         6237,
         "Brian Brown",
         21,
         "2015-12-01"
        ],
        [
         10421,
         "Christopher Swanson",
         55,
         "2016-01-23"
        ],
        [
         9946,
         "Leslie Rodriguez",
         26,
         "2016-04-13"
        ],
        [
         2882,
         "Allen Patterson",
         36,
         "2016-01-25"
        ],
        [
         8316,
         "Jonathan Dixon",
         41,
         "2016-03-24"
        ],
        [
         10624,
         "Gail Smith",
         33,
         "2016-12-31"
        ],
        [
         6533,
         "Caleb Carpenter",
         29,
         "2016-05-09"
        ],
        [
         8087,
         "Justin Ewing",
         56,
         "2016-02-04"
        ],
        [
         10786,
         "Tyler Smith",
         57,
         "2016-07-10"
        ],
        [
         10898,
         "Aaron Howard",
         45,
         "2015-11-11"
        ],
        [
         4336,
         "Andrew Stephens",
         23,
         "2016-05-13"
        ],
        [
         1160,
         "David Butler",
         35,
         "2016-08-27"
        ],
        [
         9052,
         "Jason Flores",
         44,
         "2016-01-14"
        ],
        [
         684,
         "Chad Beard",
         28,
         "2016-01-09"
        ],
        [
         9170,
         "Amy Brown",
         21,
         "2015-11-08"
        ],
        [
         3737,
         "Alex Banks",
         27,
         "2015-12-13"
        ],
        [
         6378,
         "Heather Arellano",
         23,
         "2016-01-02"
        ]
       ],
       "datasetInfos": [],
       "dbfsResultPath": null,
       "isJsonSchema": true,
       "metadata": {
        "dataframeName": "_sqldf",
        "executionCount": 141
       },
       "overflow": false,
       "plotOptions": {
        "customPlotOptions": {},
        "displayType": "table",
        "pivotAggregation": null,
        "pivotColumns": null,
        "xColumns": null,
        "yColumns": null
       },
       "removedWidgets": [],
       "schema": [
        {
         "metadata": "{}",
         "name": "ind",
         "type": "\"integer\""
        },
        {
         "metadata": "{}",
         "name": "user_name",
         "type": "\"string\""
        },
        {
         "metadata": "{}",
         "name": "age",
         "type": "\"integer\""
        },
        {
         "metadata": "{}",
         "name": "date_joined",
         "type": "\"date\""
        }
       ],
       "type": "table"
      }
     },
     "output_type": "display_data"
    }
   ],
   "source": [
    "%sql\n",
    "-- Sanity check the delta table\n",
    "SELECT * FROM `0affe94cc7d3_user_table`"
   ]
  }
 ],
 "metadata": {
  "application/vnd.databricks.v1+notebook": {
   "dashboards": [],
   "environmentMetadata": {
    "base_environment": "",
    "client": "1"
   },
   "language": "python",
   "notebookMetadata": {
    "mostRecentlyExecutedCommandWithImplicitDF": {
     "commandId": 174872470064792,
     "dataframes": [
      "_sqldf"
     ]
    },
    "pythonIndentUnit": 2
   },
   "notebookName": "Pinterest Kinesis to Databricks",
   "widgets": {}
  },
  "language_info": {
   "name": "python"
  }
 },
 "nbformat": 4,
 "nbformat_minor": 0
}
